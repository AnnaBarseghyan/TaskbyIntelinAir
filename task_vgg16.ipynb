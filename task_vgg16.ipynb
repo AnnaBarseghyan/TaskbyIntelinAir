{
  "nbformat": 4,
  "nbformat_minor": 0,
  "metadata": {
    "colab": {
      "name": "task.ipynb",
      "provenance": [],
      "collapsed_sections": []
    },
    "kernelspec": {
      "name": "python3",
      "display_name": "Python 3"
    },
    "language_info": {
      "name": "python"
    },
    "accelerator": "GPU"
  },
  "cells": [
    {
      "cell_type": "code",
      "metadata": {
        "id": "s5b6qlD2QFTE",
        "colab": {
          "base_uri": "https://localhost:8080/",
          "height": 1000
        },
        "outputId": "4d5c7db5-cf0d-4e47-aba5-985bf6a39336"
      },
      "source": [
        "% pip install numpy>=1.18.0\n",
        "% pip install pandas==1.1.0\n",
        "% pip install opencv-python==4.4.0.46\n",
        "% pip install rasterio[s3]==1.1.8\n",
        "% pip install awscli\n",
        "% pip install geopandas"
      ],
      "execution_count": 1,
      "outputs": [
        {
          "output_type": "stream",
          "text": [
            "Collecting pandas==1.1.0\n",
            "\u001b[?25l  Downloading https://files.pythonhosted.org/packages/94/b1/f77f49cc7cc538b247f30c2ae7e3a50f29e44f0b1af32ff4869d7de3c762/pandas-1.1.0-cp37-cp37m-manylinux1_x86_64.whl (10.5MB)\n",
            "\u001b[K     |████████████████████████████████| 10.5MB 7.7MB/s \n",
            "\u001b[?25hRequirement already satisfied: python-dateutil>=2.7.3 in /usr/local/lib/python3.7/dist-packages (from pandas==1.1.0) (2.8.1)\n",
            "Requirement already satisfied: numpy>=1.15.4 in /usr/local/lib/python3.7/dist-packages (from pandas==1.1.0) (1.19.5)\n",
            "Requirement already satisfied: pytz>=2017.2 in /usr/local/lib/python3.7/dist-packages (from pandas==1.1.0) (2018.9)\n",
            "Requirement already satisfied: six>=1.5 in /usr/local/lib/python3.7/dist-packages (from python-dateutil>=2.7.3->pandas==1.1.0) (1.15.0)\n",
            "Installing collected packages: pandas\n",
            "  Found existing installation: pandas 1.1.5\n",
            "    Uninstalling pandas-1.1.5:\n",
            "      Successfully uninstalled pandas-1.1.5\n",
            "Successfully installed pandas-1.1.0\n"
          ],
          "name": "stdout"
        },
        {
          "output_type": "display_data",
          "data": {
            "application/vnd.colab-display-data+json": {
              "pip_warning": {
                "packages": [
                  "pandas"
                ]
              }
            }
          },
          "metadata": {
            "tags": []
          }
        },
        {
          "output_type": "stream",
          "text": [
            "Collecting opencv-python==4.4.0.46\n",
            "\u001b[?25l  Downloading https://files.pythonhosted.org/packages/1b/2d/62eba161d3d713e1720504de1c25d439b02c85159804d9ecead10be5d87e/opencv_python-4.4.0.46-cp37-cp37m-manylinux2014_x86_64.whl (49.5MB)\n",
            "\u001b[K     |████████████████████████████████| 49.5MB 63kB/s \n",
            "\u001b[?25hRequirement already satisfied: numpy>=1.14.5 in /usr/local/lib/python3.7/dist-packages (from opencv-python==4.4.0.46) (1.19.5)\n",
            "\u001b[31mERROR: albumentations 0.1.12 has requirement imgaug<0.2.7,>=0.2.5, but you'll have imgaug 0.2.9 which is incompatible.\u001b[0m\n",
            "Installing collected packages: opencv-python\n",
            "  Found existing installation: opencv-python 4.1.2.30\n",
            "    Uninstalling opencv-python-4.1.2.30:\n",
            "      Successfully uninstalled opencv-python-4.1.2.30\n",
            "Successfully installed opencv-python-4.4.0.46\n",
            "Collecting rasterio[s3]==1.1.8\n",
            "\u001b[?25l  Downloading https://files.pythonhosted.org/packages/09/5a/92fd30ae3addd07ae71d865665bebc29feed99dc48d86a58bcb38b03c5f1/rasterio-1.1.8-1-cp37-cp37m-manylinux1_x86_64.whl (18.3MB)\n",
            "\u001b[K     |████████████████████████████████| 18.3MB 173kB/s \n",
            "\u001b[?25hRequirement already satisfied: numpy in /usr/local/lib/python3.7/dist-packages (from rasterio[s3]==1.1.8) (1.19.5)\n",
            "Collecting click-plugins\n",
            "  Downloading https://files.pythonhosted.org/packages/e9/da/824b92d9942f4e472702488857914bdd50f73021efea15b4cad9aca8ecef/click_plugins-1.1.1-py2.py3-none-any.whl\n",
            "Requirement already satisfied: attrs in /usr/local/lib/python3.7/dist-packages (from rasterio[s3]==1.1.8) (20.3.0)\n",
            "Collecting cligj>=0.5\n",
            "  Downloading https://files.pythonhosted.org/packages/42/1e/947eadf10d6804bf276eb8a038bd5307996dceaaa41cfd21b7a15ec62f5d/cligj-0.7.1-py3-none-any.whl\n",
            "Requirement already satisfied: click<8,>=4.0 in /usr/local/lib/python3.7/dist-packages (from rasterio[s3]==1.1.8) (7.1.2)\n",
            "Collecting snuggs>=1.4.1\n",
            "  Downloading https://files.pythonhosted.org/packages/cc/0e/d27d6e806d6c0d1a2cfdc5d1f088e42339a0a54a09c3343f7f81ec8947ea/snuggs-1.4.7-py3-none-any.whl\n",
            "Collecting affine\n",
            "  Downloading https://files.pythonhosted.org/packages/ac/a6/1a39a1ede71210e3ddaf623982b06ecfc5c5c03741ae659073159184cd3e/affine-2.3.0-py2.py3-none-any.whl\n",
            "Collecting boto3>=1.2.4; extra == \"s3\"\n",
            "\u001b[?25l  Downloading https://files.pythonhosted.org/packages/62/b3/8c889dd3d5ae47a9c4468cc20ef980adc4a16f06f0937ab33f78b58b5eda/boto3-1.17.53-py2.py3-none-any.whl (131kB)\n",
            "\u001b[K     |████████████████████████████████| 133kB 57.6MB/s \n",
            "\u001b[?25hRequirement already satisfied: pyparsing>=2.1.6 in /usr/local/lib/python3.7/dist-packages (from snuggs>=1.4.1->rasterio[s3]==1.1.8) (2.4.7)\n",
            "Collecting s3transfer<0.4.0,>=0.3.0\n",
            "\u001b[?25l  Downloading https://files.pythonhosted.org/packages/00/89/0cb4e92c239e6425b9b0035227b8cdf9d3d098a5c9e95632c3815df63a09/s3transfer-0.3.7-py2.py3-none-any.whl (73kB)\n",
            "\u001b[K     |████████████████████████████████| 81kB 13.1MB/s \n",
            "\u001b[?25hCollecting jmespath<1.0.0,>=0.7.1\n",
            "  Downloading https://files.pythonhosted.org/packages/07/cb/5f001272b6faeb23c1c9e0acc04d48eaaf5c862c17709d20e3469c6e0139/jmespath-0.10.0-py2.py3-none-any.whl\n",
            "Collecting botocore<1.21.0,>=1.20.53\n",
            "\u001b[?25l  Downloading https://files.pythonhosted.org/packages/92/4e/232e261b739534e216f28d935a06c44840221c3476ebcdb411cd0fc2bf16/botocore-1.20.53-py2.py3-none-any.whl (7.4MB)\n",
            "\u001b[K     |████████████████████████████████| 7.4MB 55.4MB/s \n",
            "\u001b[?25hCollecting urllib3<1.27,>=1.25.4\n",
            "\u001b[?25l  Downloading https://files.pythonhosted.org/packages/09/c6/d3e3abe5b4f4f16cf0dfc9240ab7ce10c2baa0e268989a4e3ec19e90c84e/urllib3-1.26.4-py2.py3-none-any.whl (153kB)\n",
            "\u001b[K     |████████████████████████████████| 153kB 47.5MB/s \n",
            "\u001b[?25hRequirement already satisfied: python-dateutil<3.0.0,>=2.1 in /usr/local/lib/python3.7/dist-packages (from botocore<1.21.0,>=1.20.53->boto3>=1.2.4; extra == \"s3\"->rasterio[s3]==1.1.8) (2.8.1)\n",
            "Requirement already satisfied: six>=1.5 in /usr/local/lib/python3.7/dist-packages (from python-dateutil<3.0.0,>=2.1->botocore<1.21.0,>=1.20.53->boto3>=1.2.4; extra == \"s3\"->rasterio[s3]==1.1.8) (1.15.0)\n",
            "\u001b[31mERROR: requests 2.23.0 has requirement urllib3!=1.25.0,!=1.25.1,<1.26,>=1.21.1, but you'll have urllib3 1.26.4 which is incompatible.\u001b[0m\n",
            "\u001b[31mERROR: datascience 0.10.6 has requirement folium==0.2.1, but you'll have folium 0.8.3 which is incompatible.\u001b[0m\n",
            "Installing collected packages: click-plugins, cligj, snuggs, affine, urllib3, jmespath, botocore, s3transfer, boto3, rasterio\n",
            "  Found existing installation: urllib3 1.24.3\n",
            "    Uninstalling urllib3-1.24.3:\n",
            "      Successfully uninstalled urllib3-1.24.3\n",
            "Successfully installed affine-2.3.0 boto3-1.17.53 botocore-1.20.53 click-plugins-1.1.1 cligj-0.7.1 jmespath-0.10.0 rasterio-1.1.8 s3transfer-0.3.7 snuggs-1.4.7 urllib3-1.26.4\n",
            "Collecting awscli\n",
            "\u001b[?25l  Downloading https://files.pythonhosted.org/packages/47/8e/42bbf40ef57dc33003737c90addd63fda426b08b0995b2db4e23cdf0b21b/awscli-1.19.53-py2.py3-none-any.whl (3.6MB)\n",
            "\u001b[K     |████████████████████████████████| 3.6MB 8.5MB/s \n",
            "\u001b[?25hCollecting colorama<0.4.4,>=0.2.5\n",
            "  Downloading https://files.pythonhosted.org/packages/c9/dc/45cdef1b4d119eb96316b3117e6d5708a08029992b2fee2c143c7a0a5cc5/colorama-0.4.3-py2.py3-none-any.whl\n",
            "Requirement already satisfied: PyYAML<5.5,>=3.10 in /usr/local/lib/python3.7/dist-packages (from awscli) (3.13)\n",
            "Requirement already satisfied: botocore==1.20.53 in /usr/local/lib/python3.7/dist-packages (from awscli) (1.20.53)\n",
            "Collecting docutils<0.16,>=0.10\n",
            "\u001b[?25l  Downloading https://files.pythonhosted.org/packages/22/cd/a6aa959dca619918ccb55023b4cb151949c64d4d5d55b3f4ffd7eee0c6e8/docutils-0.15.2-py3-none-any.whl (547kB)\n",
            "\u001b[K     |████████████████████████████████| 552kB 58.1MB/s \n",
            "\u001b[?25hRequirement already satisfied: s3transfer<0.4.0,>=0.3.0 in /usr/local/lib/python3.7/dist-packages (from awscli) (0.3.7)\n",
            "Requirement already satisfied: rsa<4.8,>=3.1.2; python_version > \"2.7\" in /usr/local/lib/python3.7/dist-packages (from awscli) (4.7.2)\n",
            "Requirement already satisfied: jmespath<1.0.0,>=0.7.1 in /usr/local/lib/python3.7/dist-packages (from botocore==1.20.53->awscli) (0.10.0)\n",
            "Requirement already satisfied: python-dateutil<3.0.0,>=2.1 in /usr/local/lib/python3.7/dist-packages (from botocore==1.20.53->awscli) (2.8.1)\n",
            "Requirement already satisfied: urllib3<1.27,>=1.25.4 in /usr/local/lib/python3.7/dist-packages (from botocore==1.20.53->awscli) (1.26.4)\n",
            "Requirement already satisfied: pyasn1>=0.1.3 in /usr/local/lib/python3.7/dist-packages (from rsa<4.8,>=3.1.2; python_version > \"2.7\"->awscli) (0.4.8)\n",
            "Requirement already satisfied: six>=1.5 in /usr/local/lib/python3.7/dist-packages (from python-dateutil<3.0.0,>=2.1->botocore==1.20.53->awscli) (1.15.0)\n",
            "\u001b[31mERROR: datascience 0.10.6 has requirement folium==0.2.1, but you'll have folium 0.8.3 which is incompatible.\u001b[0m\n",
            "Installing collected packages: colorama, docutils, awscli\n",
            "  Found existing installation: docutils 0.17\n",
            "    Uninstalling docutils-0.17:\n",
            "      Successfully uninstalled docutils-0.17\n",
            "Successfully installed awscli-1.19.53 colorama-0.4.3 docutils-0.15.2\n",
            "Collecting geopandas\n",
            "\u001b[?25l  Downloading https://files.pythonhosted.org/packages/d7/bf/e9cefb69d39155d122b6ddca53893b61535fa6ffdad70bf5ef708977f53f/geopandas-0.9.0-py2.py3-none-any.whl (994kB)\n",
            "\u001b[K     |████████████████████████████████| 1.0MB 8.4MB/s \n",
            "\u001b[?25hCollecting fiona>=1.8\n",
            "\u001b[?25l  Downloading https://files.pythonhosted.org/packages/ea/2a/404b22883298a3efe9c6ef8d67acbf2c38443fa366ee9cd4cd34e17626ea/Fiona-1.8.19-cp37-cp37m-manylinux1_x86_64.whl (15.3MB)\n",
            "\u001b[K     |████████████████████████████████| 15.3MB 215kB/s \n",
            "\u001b[?25hRequirement already satisfied: shapely>=1.6 in /usr/local/lib/python3.7/dist-packages (from geopandas) (1.7.1)\n",
            "Collecting pyproj>=2.2.0\n",
            "\u001b[?25l  Downloading https://files.pythonhosted.org/packages/b1/72/d52e9ca81caef056062d71991b0e9b1d16af042245627c5d0e4916a36c4f/pyproj-3.0.1-cp37-cp37m-manylinux2010_x86_64.whl (6.5MB)\n",
            "\u001b[K     |████████████████████████████████| 6.5MB 56.6MB/s \n",
            "\u001b[?25hRequirement already satisfied: pandas>=0.24.0 in /usr/local/lib/python3.7/dist-packages (from geopandas) (1.1.0)\n",
            "Requirement already satisfied: cligj>=0.5 in /usr/local/lib/python3.7/dist-packages (from fiona>=1.8->geopandas) (0.7.1)\n",
            "Requirement already satisfied: click-plugins>=1.0 in /usr/local/lib/python3.7/dist-packages (from fiona>=1.8->geopandas) (1.1.1)\n",
            "Requirement already satisfied: six>=1.7 in /usr/local/lib/python3.7/dist-packages (from fiona>=1.8->geopandas) (1.15.0)\n",
            "Requirement already satisfied: attrs>=17 in /usr/local/lib/python3.7/dist-packages (from fiona>=1.8->geopandas) (20.3.0)\n",
            "Collecting munch\n",
            "  Downloading https://files.pythonhosted.org/packages/cc/ab/85d8da5c9a45e072301beb37ad7f833cd344e04c817d97e0cc75681d248f/munch-2.5.0-py2.py3-none-any.whl\n",
            "Requirement already satisfied: certifi in /usr/local/lib/python3.7/dist-packages (from fiona>=1.8->geopandas) (2020.12.5)\n",
            "Requirement already satisfied: click<8,>=4.0 in /usr/local/lib/python3.7/dist-packages (from fiona>=1.8->geopandas) (7.1.2)\n",
            "Requirement already satisfied: pytz>=2017.2 in /usr/local/lib/python3.7/dist-packages (from pandas>=0.24.0->geopandas) (2018.9)\n",
            "Requirement already satisfied: numpy>=1.15.4 in /usr/local/lib/python3.7/dist-packages (from pandas>=0.24.0->geopandas) (1.19.5)\n",
            "Requirement already satisfied: python-dateutil>=2.7.3 in /usr/local/lib/python3.7/dist-packages (from pandas>=0.24.0->geopandas) (2.8.1)\n",
            "Installing collected packages: munch, fiona, pyproj, geopandas\n",
            "Successfully installed fiona-1.8.19 geopandas-0.9.0 munch-2.5.0 pyproj-3.0.1\n"
          ],
          "name": "stdout"
        }
      ]
    },
    {
      "cell_type": "code",
      "metadata": {
        "id": "NETKse6vd1KQ"
      },
      "source": [
        "import os\n",
        "os.environ['AWS_NO_SIGN_REQUEST'] = 'YES'"
      ],
      "execution_count": 2,
      "outputs": []
    },
    {
      "cell_type": "code",
      "metadata": {
        "id": "IounsGxKQno3"
      },
      "source": [
        "import ast\n",
        "import itertools\n",
        "import math\n",
        "from collections.abc import Iterable\n",
        "from pathlib import Path\n",
        "from typing import Dict\n",
        "from typing import Tuple, List, Sequence\n",
        "from urllib.parse import urlparse\n",
        "\n",
        "import boto3\n",
        "import botocore\n",
        "import cv2\n",
        "import geopandas as gpd\n",
        "import numpy as np\n",
        "import pandas as pd\n",
        "import rasterio\n",
        "import rasterio.mask\n",
        "from rasterio.io import DatasetReader\n",
        "from tqdm import tqdm\n",
        "import matplotlib.pyplot as plt"
      ],
      "execution_count": 3,
      "outputs": []
    },
    {
      "cell_type": "markdown",
      "metadata": {
        "id": "xLi7cDup6su1"
      },
      "source": [
        "## Utility Functions & Classes"
      ]
    },
    {
      "cell_type": "code",
      "metadata": {
        "id": "-SVMSTSy6wL4"
      },
      "source": [
        "def read_image(image_path: str or Path) -> np.ndarray:\n",
        "    \"\"\"\n",
        "    Reads an image and returns it.\n",
        "    Args:\n",
        "        image_path: the path of the image\n",
        "    Returns:\n",
        "        array of image\n",
        "    \"\"\"\n",
        "    image_path = image_path if isinstance(image_path, str) else str(image_path)\n",
        "    image = cv2.imread(image_path, cv2.IMREAD_ANYCOLOR | cv2.IMREAD_ANYDEPTH)\n",
        "\n",
        "    if image is None:\n",
        "        raise ValueError(f'Failed to read image from {image_path} path.')\n",
        "\n",
        "    return image\n"
      ],
      "execution_count": 4,
      "outputs": []
    },
    {
      "cell_type": "code",
      "metadata": {
        "id": "gQW2snPc6wZN"
      },
      "source": [
        "def save_image(image: np.ndarray, image_path: str or Path, image_band: str = None) -> str:\n",
        "    \"\"\"\n",
        "    Saves image and returns True in case of successful saving.\n",
        "    Args:\n",
        "        image: the image array to save\n",
        "        image_path: the path of the image\n",
        "        image_band: the image band name, which will be used in case of various color conversions\n",
        "    Returns:\n",
        "        image_path if image is successfully saved\n",
        "    Raises:\n",
        "        ValueError if the image is not saved\n",
        "    \"\"\"\n",
        "    image_path = image_path if isinstance(image_path, str) else str(image_path)\n",
        "\n",
        "    if image_band == 'RGB':\n",
        "        image = cv2.cvtColor(image, cv2.COLOR_RGB2BGR)\n",
        "\n",
        "    try:\n",
        "        check = cv2.imwrite(image_path, image)\n",
        "    except Exception as e:\n",
        "        raise ValueError(f'Failed to save image in {image_path} path due to error:\\n {e}.')\n",
        "    else:\n",
        "        if check:\n",
        "            return image_path\n",
        "        else:\n",
        "            ValueError(f'Failed to save image in {image_path} path.')\n",
        "\n"
      ],
      "execution_count": 5,
      "outputs": []
    },
    {
      "cell_type": "code",
      "metadata": {
        "id": "CHd3UHf46wep"
      },
      "source": [
        "def crop_image(image: np.ndarray, crop_area: Tuple[int, int, int, int]) -> np.ndarray:\n",
        "    \"\"\"\n",
        "    Crops an are of image using its (top, left, bottom, right) coordinates.\n",
        "    Args:\n",
        "        image: 2D or 3D image, with shapes (H, W) or (H, W, C)\n",
        "        crop_area: (top, left, bottom, right) coordinates of area\n",
        "\n",
        "    Returns:\n",
        "        cropped image array\n",
        "    \"\"\"\n",
        "    top, left, bottom, right = crop_area\n",
        "    if image.ndim == 2:\n",
        "        return image[top:bottom, left:right]\n",
        "    elif image.ndim == 3:\n",
        "        return image[top:bottom, left:right, :]\n",
        "    else:\n",
        "        raise ValueError(f'The input image must be 2D or 3D, got: {image.shape}')\n"
      ],
      "execution_count": 6,
      "outputs": []
    },
    {
      "cell_type": "code",
      "metadata": {
        "id": "PxUiWbRY6whx"
      },
      "source": [
        "def resize_image(image: np.ndarray, size: Tuple[int, int], algorithm=cv2.INTER_CUBIC):\n",
        "    \"\"\"\n",
        "    Args:\n",
        "        image: the image to resize\n",
        "        size: the size of the new image - (H, W)\n",
        "        algorithm: the algorithm used for resizing the image\n",
        "\n",
        "                    Possible algorithms are:\n",
        "                      INTER_NEAREST      = 0 - nearest neighbor interpolation\n",
        "                      INTER_LINEAR       = 1 - bilinear interpolation\n",
        "                      INTER_CUBIC        = 2 - bicubic interpolation\n",
        "                      INTER_AREA         = 3 - resampling using pixel area relation\n",
        "                      INTER_LANCZOS4     = 4 - Lanczos interpolation over 8x8 neighborhood\n",
        "                      INTER_LINEAR_EXACT = 5 - Bit exact bilinear interpolation\n",
        "    Returns:\n",
        "        resized image array\n",
        "    \"\"\"\n",
        "    # if size is None or equal to current size then return the original image\n",
        "    if size is None or size == image.shape[:2]:\n",
        "        return image\n",
        "\n",
        "    # openCV takes fx=W and fy=H\n",
        "    resized = cv2.resize(image, tuple(reversed(size)), interpolation=algorithm)\n",
        "\n",
        "    # openCV losses single channel images 3rd dimension\n",
        "    if image.ndim == 3 and resized.ndim != 3:\n",
        "        resized = np.expand_dims(resized, axis=2)\n",
        "\n",
        "    return resized\n"
      ],
      "execution_count": 7,
      "outputs": []
    },
    {
      "cell_type": "code",
      "metadata": {
        "id": "5GA9hURB6wlP"
      },
      "source": [
        "class Slider:\n",
        "    \"\"\"Special class for sliding images, aka creatint tiles or patches.\"\"\"\n",
        "\n",
        "    def __init__(self,\n",
        "                 window: int or Tuple[int, int],\n",
        "                 stride: int or Tuple[int, int],\n",
        "                 scales: float or Iterable[float] = (1.0,), ):\n",
        "        \"\"\"\n",
        "        Args:\n",
        "            window: int or (int, int), (h, w) the window size,\n",
        "            stride: int or (int, int), (dh, dw) the strides,\n",
        "            scales: (float ...), the scales to resize the original image\n",
        "                    <1: downscale the original image\n",
        "                    >1: upscale\n",
        "        \"\"\"\n",
        "        if isinstance(window, int):\n",
        "            self.window = (window, window)\n",
        "        elif isinstance(window, tuple):\n",
        "            self.window = window\n",
        "        else:\n",
        "            raise TypeError(f'window must be tuple or int, got {type(window)}')\n",
        "\n",
        "        if isinstance(stride, int):\n",
        "            self.stride = (stride, stride)\n",
        "        elif isinstance(stride, tuple):\n",
        "            self.stride = stride\n",
        "        else:\n",
        "            raise TypeError(f'stride must be tuple or int, got: {type(stride)}')\n",
        "\n",
        "        if isinstance(scales, (float, int)):\n",
        "            self.scales = (scales,)\n",
        "        elif isinstance(scales, Iterable):\n",
        "            self.scales = scales\n",
        "        else:\n",
        "            raise TypeError(f'scales must be iterable or float or int, got: {type(scales)}')\n",
        "\n",
        "    def get_number_of_patches(self, input_h: int, input_w: int) -> int:\n",
        "        \"\"\"For given input sizes returns the possible number of sliding operations or the number of patches.\"\"\"\n",
        "        n_vertical = math.ceil((input_h - self.window[0]) / self.stride[0]) + 1\n",
        "        n_horizontal = math.ceil((input_w - self.window[1]) / self.stride[1]) + 1\n",
        "        n_scales = sum(1 for _ in self.scales)\n",
        "        return n_horizontal * n_vertical * n_scales\n",
        "\n",
        "    @staticmethod\n",
        "    def apply_scale(scale: float, h: int, w: int) -> Tuple[int, int]:\n",
        "        \"\"\"Applies scaling.\"\"\"\n",
        "        return int(h / scale), int(w / scale)\n",
        "\n",
        "    @staticmethod\n",
        "    def get_1d_offset(current_position: int, step: int, original_size: int) -> Tuple[int, int]:\n",
        "        \"\"\"Returns the 1d offset coordinates as a result of one step from given position.\n",
        "        If the potential window size exceed the original image size for instance,\n",
        "        window_h > image_h, window_h will thrink to image_h. \"\"\"\n",
        "        if current_position == 0 and step > original_size:\n",
        "            offset = (0, original_size)\n",
        "        elif current_position + step > original_size:\n",
        "            offset = (original_size - step, original_size)\n",
        "        else:\n",
        "            offset = (current_position, current_position + step)\n",
        "        return offset\n",
        "\n",
        "    def get_offsets(self, input_h: int, input_w: int) -> List[Tuple[int, int, int, int]]:\n",
        "        \"\"\"\n",
        "        Returns the offsets: (top, left, bottom, right) to get sub-images as a result of sliding.\n",
        "        Args:\n",
        "            input_h: input image height\n",
        "            input_w: input image width\n",
        "        Returns:\n",
        "            list of tuples where each tuple contains the patches or sub-images coordinates: (top, left, bottom, right)\n",
        "        \"\"\"\n",
        "        all_offsets = []\n",
        "        for s in self.scales:\n",
        "            window_h, window_w = self.apply_scale(s, *self.window)\n",
        "            stride_h, stride_w = self.apply_scale(s, *self.stride)\n",
        "            hs = [self.get_1d_offset(h, window_h, input_h) for h in range(0, input_h - window_h + stride_h, stride_h)]\n",
        "            ws = [self.get_1d_offset(w, window_w, input_w) for w in range(0, input_w - window_w + stride_w, stride_w)]\n",
        "            all_offsets += list(itertools.product(hs, ws))\n",
        "\n",
        "        return [(x[0][0], x[1][0], x[0][1], x[1][1]) for x in all_offsets]\n",
        "\n",
        "    def get_patch(self, image: np.ndarray, offset: Tuple[int, int, int, int]):\n",
        "        \"\"\"\n",
        "        Args:\n",
        "            image: original image to extract patch, which must have the shape H x W x C\n",
        "            offset: the tuples(top, left, bottom, right)\n",
        "        Returns:\n",
        "            image patch or sub-image window_h x window_h x C\n",
        "        \"\"\"\n",
        "        return resize_image(crop_image(image, offset), self.window, algorithm=cv2.INTER_CUBIC)\n",
        "\n",
        "    def get_patches(self, image: np.ndarray, offsets: List[Tuple[int, int, int, int]]):\n",
        "        \"\"\"\n",
        "        Args:\n",
        "            image: original image to extract patches, which must have the shape H x W x C\n",
        "            offsets: the list of tuples (top, left, bottom, right)\n",
        "        Returns:\n",
        "            image patches concatenated in one array with shape: N x window_h x window_h x C,\n",
        "            where N = len(offsets)\n",
        "        \"\"\"\n",
        "        return np.stack(tuple(self.get_patch(image, offset) for offset in offsets))\n",
        "\n",
        "    @staticmethod\n",
        "    def reconstruct(patches: Sequence[np.ndarray],\n",
        "                    offsets: List[Tuple[int, int, int, int]],\n",
        "                    output_shape: Tuple[int, int, int] or Tuple[int, int]):\n",
        "        \"\"\"\n",
        "        Recovers the image using its patches and their coordinates. Assumes that patches may\n",
        "        overlap. Overlapped patches are averaged.\n",
        "        Args:\n",
        "            patches: the list of image patches\n",
        "            offsets: the list of offsets (patch coordinates (top, left, bottom, right))\n",
        "            output_shape: the shape of the output image (H, W, C) or (H, W)\n",
        "        Returns:\n",
        "            the array of output image with shape = output shape\n",
        "        \"\"\"\n",
        "\n",
        "        if len(patches) != len(offsets):\n",
        "            raise ValueError('Number of patches must be equal to number of offsets.')\n",
        "\n",
        "        out_image, counter = np.zeros(output_shape), np.zeros(output_shape, dtype=np.float32)\n",
        "        for offset, patch in zip(offsets, patches):\n",
        "            top, left, bottom, right = offset\n",
        "            out_image[top:bottom, left:right] += patch\n",
        "            counter[top:bottom, left:right] += 1.\n",
        "\n",
        "        out_image /= counter\n",
        "        return out_image\n",
        "\n"
      ],
      "execution_count": 8,
      "outputs": []
    },
    {
      "cell_type": "markdown",
      "metadata": {
        "id": "5bkXSUj0RaA9"
      },
      "source": [
        "## Data Download"
      ]
    },
    {
      "cell_type": "code",
      "metadata": {
        "id": "4VcL7Y7L7acz"
      },
      "source": [
        "class FlightObject:\n",
        "    \"\"\"Special class for preparing data using flight id and field id.\"\"\"\n",
        "\n",
        "    BANDS = ('rgb', 'mask')\n",
        "\n",
        "    def __init__(self, flight_id: str, field_id: str, download_folder: str):\n",
        "        \"\"\"\n",
        "\n",
        "        Args:\n",
        "            flight_id: the unique id of the flight\n",
        "            field_id: the unique id of the field\n",
        "            download_folder: the folder path where the flight data is downloaded\n",
        "        \"\"\"\n",
        "        paths = self.get_image_paths_from_flight_code(flight_id, download_folder)\n",
        "        self._download_folder = download_folder\n",
        "        self._border_file_path = paths.pop('border_file_path')\n",
        "        self._image_paths = {k.replace('_path', ''): v for k, v in paths.items()}\n",
        "\n",
        "        self._flight_id = flight_id\n",
        "        self._field_id = field_id\n",
        "        self._output_depth = 'uint16'\n",
        "\n",
        "        self._base_name = f\"{self._field_id}_{self._flight_id}\"\n",
        "        self._crop_coordinates = None\n",
        "        self._mask = None\n",
        "\n",
        "    @staticmethod\n",
        "    def get_image_paths_from_flight_code(flight_code: str, download_folder: str) -> Dict[str, str]:\n",
        "        \"\"\"Returns r, g, b and boarder file paths based on flight code.\"\"\"\n",
        "        return {\n",
        "            'red_path': f'{download_folder}/{flight_code}/reflectance_red-red.tif',\n",
        "            'green_path': f'{download_folder}/{flight_code}/reflectance_green-green.tif',\n",
        "            'blue_path': f'{download_folder}/{flight_code}/reflectance_blue-blue.tif',\n",
        "            'border_file_path': f'{download_folder}/{flight_code}/boundary.zip'\n",
        "        }\n",
        "\n",
        "    @property\n",
        "    def image_paths(self) -> Dict[str, str]:\n",
        "        \"\"\"Returns images paths in S3.\"\"\"\n",
        "        return self._image_paths.copy()\n",
        "\n",
        "    @property\n",
        "    def border_file_path(self) -> str:\n",
        "        \"\"\"Returns images paths in S3.\"\"\"\n",
        "        return self._border_file_path\n",
        "\n",
        "    @staticmethod\n",
        "    def read_single_channel_raster_image(image_path: str,\n",
        "                                         get_dataset: bool, ) -> np.ndarray or Tuple[np.ndarray, DatasetReader]:\n",
        "        \"\"\"Reads single channel raster image\"\"\"\n",
        "        with rasterio.open(image_path) as src:\n",
        "            image = np.nan_to_num(np.squeeze(src.read()), nan=0, posinf=0, neginf=0).astype(np.uint16)\n",
        "        return (image, src) if get_dataset else image\n",
        "\n",
        "    @staticmethod\n",
        "    def get_border_mask(border_file_path, raster_dataset: DatasetReader) -> np.ndarray:\n",
        "        \"\"\"Returns boolean mask, where True means that pixel belongs to the field, aka inside the border geometry.\"\"\"\n",
        "        gdf = gpd.read_file(border_file_path)\n",
        "        if gdf.shape[0] != 1 or 'geometry' not in gdf.columns:\n",
        "            raise ValueError(f'Boundary file {border_file_path} is wrong.')\n",
        "\n",
        "        border_geometry = gdf.to_crs(crs=raster_dataset.crs)['geometry'].iloc[0]\n",
        "        mask, _, _ = rasterio.mask.raster_geometry_mask(raster_dataset, [border_geometry], crop=False, invert=True)\n",
        "        return mask\n",
        "\n",
        "    def get_mask(self) -> np.ndarray:\n",
        "        \"\"\"Returns boolean Border Mask.\"\"\"\n",
        "        red_image, red_raster_dataset = self.read_single_channel_raster_image(\n",
        "            self._image_paths['red'], True\n",
        "        )\n",
        "\n",
        "        border_mask = self.get_border_mask(self._border_file_path, red_raster_dataset)\n",
        "        border_mask = np.nan_to_num(border_mask, nan=0, posinf=0, neginf=0)\n",
        "\n",
        "        x_index, y_index = np.nonzero(border_mask)\n",
        "        self._crop_coordinates = (x_index.min(), y_index.min(), x_index.max(), y_index.max())\n",
        "        self._mask = crop_image(border_mask, self._crop_coordinates).astype(np.uint8)\n",
        "\n",
        "        return self._mask.copy()\n",
        "\n",
        "    def get_rgb(self) -> np.ndarray:\n",
        "        \"\"\"Returns RGB image as uint8 or unit16.\"\"\"\n",
        "        rgb_image = np.stack(\n",
        "            [\n",
        "                self.read_single_channel_raster_image(self._image_paths[c], False)\n",
        "                for c in ('red', 'green', 'blue')\n",
        "            ],\n",
        "            axis=2\n",
        "        )\n",
        "        return crop_image(rgb_image, self._crop_coordinates)\n",
        "\n",
        "    def get_images(self) -> Dict[str, np.ndarray]:\n",
        "        \"\"\"Returns all images.\"\"\"\n",
        "        mask = self.get_mask()\n",
        "        rgb = self.get_rgb()\n",
        "        rgb *= mask[..., np.newaxis]\n",
        "        return {'rgb': rgb, 'mask': mask}\n",
        "\n",
        "    def create_tiles(self, output_folder: Path, slider_config: Dict) -> List[str]:\n",
        "        \"\"\"\n",
        "        Scales images by given scale factor, creates patches and saves them in output folder.\n",
        "        Args:\n",
        "            output_folder: the folder where the patched images will be saved\n",
        "            slider_config: the config creating patches (tiles)\n",
        "        \"\"\"\n",
        "        factor = 2**14\n",
        "        rgb = self.get_images()['rgb']\n",
        "        rgb = np.clip((rgb / factor) * 255,0, 255)\n",
        "        slider = Slider(**slider_config)\n",
        "        offsets = slider.get_offsets(*rgb.shape[:2])\n",
        "\n",
        "        tile_paths = []\n",
        "        for i, offset in enumerate(offsets):\n",
        "            tile = slider.get_patch(rgb, offset)\n",
        "            band_image_name = f'{self._base_name}_rgb_{i}-patch.png'\n",
        "            check = np.all(tile == 0)\n",
        "            if check:\n",
        "                print(f'{self._flight_id}-{self._field_id}: patch_number={i} have been skipped.')\n",
        "            else:\n",
        "                output_path = output_folder.joinpath(band_image_name)\n",
        "                output_path.parent.mkdir(exist_ok=True, parents=True)\n",
        "                tile_paths.append(save_image(tile, output_path, image_band='rgb'))\n",
        "        print(f'{self._base_name}: n={len(tile_paths)} patches have been saved, original size={rgb.shape}.')\n",
        "        return tile_paths\n"
      ],
      "execution_count": 9,
      "outputs": []
    },
    {
      "cell_type": "code",
      "metadata": {
        "id": "FAPiak9C7ajS"
      },
      "source": [
        "class DatasetCreator:\n",
        "    \"\"\"Special Class for downloading images from S3 and splitting them into small tiles.\"\"\"\n",
        "\n",
        "    def __init__(self, s3_uri: str, download_folder: str, output_folder: str, tile_size: int = 512):\n",
        "        \"\"\"\n",
        "\n",
        "        Args:\n",
        "            s3_uri: the  S3 URI - path of the images in S3\n",
        "            download_folder: the folder to store raw images\n",
        "            output_folder: the folder to store tiles (aka, small images with equal sizes)\n",
        "            tile_size: the size of tiles, default: 512\n",
        "        \"\"\"\n",
        "\n",
        "        self.download_folder = Path(download_folder)\n",
        "        self.output_folder = Path(output_folder)\n",
        "\n",
        "        self.download_folder.mkdir(parents=True, exist_ok=True)\n",
        "        self.output_folder.mkdir(parents=True, exist_ok=True)\n",
        "\n",
        "        parsed_uri = urlparse(s3_uri, allow_fragments=False)\n",
        "        self.s3_uri = s3_uri\n",
        "        self.s3_bucket = parsed_uri.netloc\n",
        "        self.s3_folder = parsed_uri.path.lstrip('/')\n",
        "\n",
        "        self.tile_size = tile_size\n",
        "\n",
        "    @staticmethod\n",
        "    def download_s3_dir(bucket: str, folder_path: str, download_folder: Path):\n",
        "        \"\"\"Downloads s3 directory to download folder.\"\"\"\n",
        "        client = boto3.client('s3')\n",
        "        client.meta.events.register('choose-signer.s3.*', botocore.handlers.disable_signing)\n",
        "\n",
        "        # Handle missing / at end of prefix\n",
        "        if not folder_path.endswith('/'):\n",
        "            folder_path += '/'\n",
        "\n",
        "        paginator = client.get_paginator('list_objects_v2')\n",
        "        for result in paginator.paginate(Bucket=bucket, Prefix=folder_path):\n",
        "            # Download each file individually\n",
        "            for key in tqdm(result['Contents'], total=len(result['Contents'])):\n",
        "                # Calculate relative path\n",
        "                rel_path = key['Key'][len(folder_path):]\n",
        "                # Skip paths ending in /\n",
        "                if not key['Key'].endswith('/'):\n",
        "                    local_file_path = download_folder.joinpath(rel_path)\n",
        "                    local_file_path.parents[0].mkdir(parents=True, exist_ok=True)\n",
        "                    # Skip download if already downloaded\n",
        "                    if not local_file_path.exists():\n",
        "                        client.download_file(bucket, key['Key'], str(local_file_path))\n",
        "\n",
        "    def download_data(self):\n",
        "        \"\"\"Downloads data from S3.\"\"\"\n",
        "        self.download_s3_dir(self.s3_bucket, self.s3_folder, self.download_folder)\n",
        "        df = pd.read_csv(self.download_folder.joinpath('final_data.CSV'))\n",
        "        df['paths'] = df['paths'].apply(ast.literal_eval)\n",
        "        df['local_paths'] = df['paths'].apply(\n",
        "            lambda x: {k: v.replace(self.s3_uri, str(self.download_folder)) for k, v in x.items()}\n",
        "        )\n",
        "        return df\n",
        "\n",
        "    def create_tiles(self, df: pd.DataFrame) -> pd.DataFrame:\n",
        "        \"\"\"Creates tiles from downloaded images.\"\"\"\n",
        "        slider_config = {'window': self.tile_size, 'stride': self.tile_size, 'scales': (1,)}\n",
        "\n",
        "        final_df = []\n",
        "        for _, row in tqdm(df.iterrows(), total=len(df)):\n",
        "            flight_obj = FlightObject(row['flight_code'], row['field_token'], self.download_folder)\n",
        "            tiles_paths = flight_obj.create_tiles(self.output_folder, slider_config)\n",
        "            for i, tile_path in enumerate(tiles_paths):\n",
        "                final_df.append(\n",
        "                    {\n",
        "                        'flight_code': row['flight_code'],\n",
        "                        'field_token': row['field_token'],\n",
        "                        'class': row['ActualStatus'],\n",
        "                        'flight_date': row['flight_date'],\n",
        "                        'flight_number': row['flight_number'],\n",
        "                        'tile_number': i,\n",
        "                        'image_path': tile_path,\n",
        "                    }\n",
        "                )\n",
        "        final_df = pd.DataFrame(final_df)\n",
        "        final_df['class'] = final_df['class'].isin(('Planted', 'Emerged'))\n",
        "\n",
        "        return final_df\n",
        "\n",
        "    def prepare_data(self):\n",
        "        \"\"\"Downloads data, creates tiles and saves them in output folder.\"\"\"\n",
        "        df = self.download_data()\n",
        "        tiles_df = self.create_tiles(df)\n",
        "        tiles_df.to_csv(self.output_folder.joinpath('tiles.CSV'), index=False)\n",
        "        return tiles_df\n"
      ],
      "execution_count": 10,
      "outputs": []
    },
    {
      "cell_type": "code",
      "metadata": {
        "id": "SVfKtSYh7amX"
      },
      "source": [
        "S3_URI = 's3://intelinair-internship/field_state_classification/'\n",
        "DOWNLOAD_FOLDER = '/content/image_data'\n",
        "OUTPUT_FOLDER = '/content/final_image_data'\n",
        "TILE_SIZE = 224"
      ],
      "execution_count": 11,
      "outputs": []
    },
    {
      "cell_type": "code",
      "metadata": {
        "id": "Qih5aIwD7aqS"
      },
      "source": [
        "creator = DatasetCreator(S3_URI, DOWNLOAD_FOLDER, OUTPUT_FOLDER, tile_size=224)"
      ],
      "execution_count": 12,
      "outputs": []
    },
    {
      "cell_type": "code",
      "metadata": {
        "colab": {
          "base_uri": "https://localhost:8080/"
        },
        "id": "em3QNf1Y7as5",
        "outputId": "5b5d884c-7ac6-4093-afaa-6f59f8ff08d5"
      },
      "source": [
        "df = creator.prepare_data()"
      ],
      "execution_count": 13,
      "outputs": [
        {
          "output_type": "stream",
          "text": [
            "100%|██████████| 122/122 [03:37<00:00,  1.78s/it]\n",
            "  0%|          | 0/30 [00:00<?, ?it/s]"
          ],
          "name": "stderr"
        },
        {
          "output_type": "stream",
          "text": [
            "1TJZT39WQ-b7add13d-8802-46cb-8d3f-cb1ce7daf029: patch_number=0 have been skipped.\n",
            "1TJZT39WQ-b7add13d-8802-46cb-8d3f-cb1ce7daf029: patch_number=1 have been skipped.\n",
            "1TJZT39WQ-b7add13d-8802-46cb-8d3f-cb1ce7daf029: patch_number=2 have been skipped.\n",
            "1TJZT39WQ-b7add13d-8802-46cb-8d3f-cb1ce7daf029: patch_number=15 have been skipped.\n",
            "1TJZT39WQ-b7add13d-8802-46cb-8d3f-cb1ce7daf029: patch_number=16 have been skipped.\n",
            "1TJZT39WQ-b7add13d-8802-46cb-8d3f-cb1ce7daf029: patch_number=17 have been skipped.\n",
            "1TJZT39WQ-b7add13d-8802-46cb-8d3f-cb1ce7daf029: patch_number=18 have been skipped.\n",
            "1TJZT39WQ-b7add13d-8802-46cb-8d3f-cb1ce7daf029: patch_number=19 have been skipped.\n",
            "1TJZT39WQ-b7add13d-8802-46cb-8d3f-cb1ce7daf029: patch_number=34 have been skipped.\n",
            "1TJZT39WQ-b7add13d-8802-46cb-8d3f-cb1ce7daf029: patch_number=35 have been skipped.\n",
            "1TJZT39WQ-b7add13d-8802-46cb-8d3f-cb1ce7daf029: patch_number=36 have been skipped.\n",
            "1TJZT39WQ-b7add13d-8802-46cb-8d3f-cb1ce7daf029: patch_number=53 have been skipped.\n"
          ],
          "name": "stdout"
        },
        {
          "output_type": "stream",
          "text": [
            "\r  3%|▎         | 1/30 [00:10<04:53, 10.11s/it]"
          ],
          "name": "stderr"
        },
        {
          "output_type": "stream",
          "text": [
            "1TJZT39WQ-b7add13d-8802-46cb-8d3f-cb1ce7daf029: patch_number=270 have been skipped.\n",
            "1TJZT39WQ-b7add13d-8802-46cb-8d3f-cb1ce7daf029: patch_number=288 have been skipped.\n",
            "1TJZT39WQ-b7add13d-8802-46cb-8d3f-cb1ce7daf029: patch_number=289 have been skipped.\n",
            "1TJZT39WQ-b7add13d-8802-46cb-8d3f-cb1ce7daf029: patch_number=305 have been skipped.\n",
            "1TJZT39WQ-b7add13d-8802-46cb-8d3f-cb1ce7daf029: patch_number=306 have been skipped.\n",
            "1TJZT39WQ-b7add13d-8802-46cb-8d3f-cb1ce7daf029: patch_number=307 have been skipped.\n",
            "1TJZT39WQ-b7add13d-8802-46cb-8d3f-cb1ce7daf029: patch_number=308 have been skipped.\n",
            "1TJZT39WQ-b7add13d-8802-46cb-8d3f-cb1ce7daf029: patch_number=323 have been skipped.\n",
            "b7add13d-8802-46cb-8d3f-cb1ce7daf029_1TJZT39WQ: n=304 patches have been saved, original size=(3999, 4016, 3).\n"
          ],
          "name": "stdout"
        },
        {
          "output_type": "stream",
          "text": [
            "\r  7%|▋         | 2/30 [00:26<05:38, 12.11s/it]"
          ],
          "name": "stderr"
        },
        {
          "output_type": "stream",
          "text": [
            "2HHWV1DD4-7e227290-9936-483e-90de-949c80f984d7: patch_number=508 have been skipped.\n",
            "2HHWV1DD4-7e227290-9936-483e-90de-949c80f984d7: patch_number=509 have been skipped.\n",
            "2HHWV1DD4-7e227290-9936-483e-90de-949c80f984d7: patch_number=510 have been skipped.\n",
            "2HHWV1DD4-7e227290-9936-483e-90de-949c80f984d7: patch_number=511 have been skipped.\n",
            "2HHWV1DD4-7e227290-9936-483e-90de-949c80f984d7: patch_number=512 have been skipped.\n",
            "2HHWV1DD4-7e227290-9936-483e-90de-949c80f984d7: patch_number=513 have been skipped.\n",
            "2HHWV1DD4-7e227290-9936-483e-90de-949c80f984d7: patch_number=520 have been skipped.\n",
            "2HHWV1DD4-7e227290-9936-483e-90de-949c80f984d7: patch_number=521 have been skipped.\n",
            "2HHWV1DD4-7e227290-9936-483e-90de-949c80f984d7: patch_number=522 have been skipped.\n",
            "2HHWV1DD4-7e227290-9936-483e-90de-949c80f984d7: patch_number=523 have been skipped.\n",
            "2HHWV1DD4-7e227290-9936-483e-90de-949c80f984d7: patch_number=524 have been skipped.\n",
            "2HHWV1DD4-7e227290-9936-483e-90de-949c80f984d7: patch_number=525 have been skipped.\n",
            "2HHWV1DD4-7e227290-9936-483e-90de-949c80f984d7: patch_number=526 have been skipped.\n",
            "2HHWV1DD4-7e227290-9936-483e-90de-949c80f984d7: patch_number=527 have been skipped.\n",
            "2HHWV1DD4-7e227290-9936-483e-90de-949c80f984d7: patch_number=528 have been skipped.\n",
            "2HHWV1DD4-7e227290-9936-483e-90de-949c80f984d7: patch_number=532 have been skipped.\n",
            "2HHWV1DD4-7e227290-9936-483e-90de-949c80f984d7: patch_number=533 have been skipped.\n",
            "2HHWV1DD4-7e227290-9936-483e-90de-949c80f984d7: patch_number=534 have been skipped.\n",
            "2HHWV1DD4-7e227290-9936-483e-90de-949c80f984d7: patch_number=535 have been skipped.\n",
            "2HHWV1DD4-7e227290-9936-483e-90de-949c80f984d7: patch_number=536 have been skipped.\n",
            "2HHWV1DD4-7e227290-9936-483e-90de-949c80f984d7: patch_number=537 have been skipped.\n",
            "2HHWV1DD4-7e227290-9936-483e-90de-949c80f984d7: patch_number=538 have been skipped.\n",
            "2HHWV1DD4-7e227290-9936-483e-90de-949c80f984d7: patch_number=539 have been skipped.\n",
            "2HHWV1DD4-7e227290-9936-483e-90de-949c80f984d7: patch_number=540 have been skipped.\n",
            "2HHWV1DD4-7e227290-9936-483e-90de-949c80f984d7: patch_number=544 have been skipped.\n",
            "2HHWV1DD4-7e227290-9936-483e-90de-949c80f984d7: patch_number=545 have been skipped.\n",
            "2HHWV1DD4-7e227290-9936-483e-90de-949c80f984d7: patch_number=546 have been skipped.\n",
            "2HHWV1DD4-7e227290-9936-483e-90de-949c80f984d7: patch_number=547 have been skipped.\n",
            "2HHWV1DD4-7e227290-9936-483e-90de-949c80f984d7: patch_number=548 have been skipped.\n",
            "2HHWV1DD4-7e227290-9936-483e-90de-949c80f984d7: patch_number=549 have been skipped.\n",
            "2HHWV1DD4-7e227290-9936-483e-90de-949c80f984d7: patch_number=550 have been skipped.\n",
            "2HHWV1DD4-7e227290-9936-483e-90de-949c80f984d7: patch_number=551 have been skipped.\n",
            "7e227290-9936-483e-90de-949c80f984d7_2HHWV1DD4: n=520 patches have been saved, original size=(10086, 2669, 3).\n"
          ],
          "name": "stdout"
        },
        {
          "output_type": "stream",
          "text": [
            "\r 10%|█         | 3/30 [00:38<05:18, 11.81s/it]"
          ],
          "name": "stderr"
        },
        {
          "output_type": "stream",
          "text": [
            "3KR1212BR-7e227290-9936-483e-90de-949c80f984d7: patch_number=344 have been skipped.\n",
            "3KR1212BR-7e227290-9936-483e-90de-949c80f984d7: patch_number=345 have been skipped.\n",
            "3KR1212BR-7e227290-9936-483e-90de-949c80f984d7: patch_number=346 have been skipped.\n",
            "3KR1212BR-7e227290-9936-483e-90de-949c80f984d7: patch_number=347 have been skipped.\n",
            "3KR1212BR-7e227290-9936-483e-90de-949c80f984d7: patch_number=348 have been skipped.\n",
            "3KR1212BR-7e227290-9936-483e-90de-949c80f984d7: patch_number=349 have been skipped.\n",
            "3KR1212BR-7e227290-9936-483e-90de-949c80f984d7: patch_number=354 have been skipped.\n",
            "3KR1212BR-7e227290-9936-483e-90de-949c80f984d7: patch_number=355 have been skipped.\n",
            "3KR1212BR-7e227290-9936-483e-90de-949c80f984d7: patch_number=356 have been skipped.\n",
            "3KR1212BR-7e227290-9936-483e-90de-949c80f984d7: patch_number=357 have been skipped.\n",
            "3KR1212BR-7e227290-9936-483e-90de-949c80f984d7: patch_number=358 have been skipped.\n",
            "3KR1212BR-7e227290-9936-483e-90de-949c80f984d7: patch_number=359 have been skipped.\n",
            "7e227290-9936-483e-90de-949c80f984d7_3KR1212BR: n=348 patches have been saved, original size=(7980, 2116, 3).\n"
          ],
          "name": "stdout"
        },
        {
          "output_type": "stream",
          "text": [
            "\r 13%|█▎        | 4/30 [00:48<04:55, 11.37s/it]"
          ],
          "name": "stderr"
        },
        {
          "output_type": "stream",
          "text": [
            "42T73AQE8-7e227290-9936-483e-90de-949c80f984d7: patch_number=344 have been skipped.\n",
            "42T73AQE8-7e227290-9936-483e-90de-949c80f984d7: patch_number=345 have been skipped.\n",
            "42T73AQE8-7e227290-9936-483e-90de-949c80f984d7: patch_number=346 have been skipped.\n",
            "42T73AQE8-7e227290-9936-483e-90de-949c80f984d7: patch_number=347 have been skipped.\n",
            "42T73AQE8-7e227290-9936-483e-90de-949c80f984d7: patch_number=348 have been skipped.\n",
            "42T73AQE8-7e227290-9936-483e-90de-949c80f984d7: patch_number=349 have been skipped.\n",
            "42T73AQE8-7e227290-9936-483e-90de-949c80f984d7: patch_number=354 have been skipped.\n",
            "42T73AQE8-7e227290-9936-483e-90de-949c80f984d7: patch_number=355 have been skipped.\n",
            "42T73AQE8-7e227290-9936-483e-90de-949c80f984d7: patch_number=356 have been skipped.\n",
            "42T73AQE8-7e227290-9936-483e-90de-949c80f984d7: patch_number=357 have been skipped.\n",
            "42T73AQE8-7e227290-9936-483e-90de-949c80f984d7: patch_number=358 have been skipped.\n",
            "42T73AQE8-7e227290-9936-483e-90de-949c80f984d7: patch_number=359 have been skipped.\n",
            "7e227290-9936-483e-90de-949c80f984d7_42T73AQE8: n=348 patches have been saved, original size=(7980, 2116, 3).\n",
            "E83UE8JT4-b7add13d-8802-46cb-8d3f-cb1ce7daf029: patch_number=0 have been skipped.\n",
            "E83UE8JT4-b7add13d-8802-46cb-8d3f-cb1ce7daf029: patch_number=1 have been skipped.\n",
            "E83UE8JT4-b7add13d-8802-46cb-8d3f-cb1ce7daf029: patch_number=2 have been skipped.\n",
            "E83UE8JT4-b7add13d-8802-46cb-8d3f-cb1ce7daf029: patch_number=3 have been skipped.\n",
            "E83UE8JT4-b7add13d-8802-46cb-8d3f-cb1ce7daf029: patch_number=17 have been skipped.\n",
            "E83UE8JT4-b7add13d-8802-46cb-8d3f-cb1ce7daf029: patch_number=18 have been skipped.\n",
            "E83UE8JT4-b7add13d-8802-46cb-8d3f-cb1ce7daf029: patch_number=19 have been skipped.\n",
            "E83UE8JT4-b7add13d-8802-46cb-8d3f-cb1ce7daf029: patch_number=20 have been skipped.\n",
            "E83UE8JT4-b7add13d-8802-46cb-8d3f-cb1ce7daf029: patch_number=21 have been skipped.\n",
            "E83UE8JT4-b7add13d-8802-46cb-8d3f-cb1ce7daf029: patch_number=22 have been skipped.\n",
            "E83UE8JT4-b7add13d-8802-46cb-8d3f-cb1ce7daf029: patch_number=39 have been skipped.\n",
            "E83UE8JT4-b7add13d-8802-46cb-8d3f-cb1ce7daf029: patch_number=40 have been skipped.\n",
            "E83UE8JT4-b7add13d-8802-46cb-8d3f-cb1ce7daf029: patch_number=41 have been skipped.\n",
            "E83UE8JT4-b7add13d-8802-46cb-8d3f-cb1ce7daf029: patch_number=42 have been skipped.\n",
            "E83UE8JT4-b7add13d-8802-46cb-8d3f-cb1ce7daf029: patch_number=61 have been skipped.\n",
            "E83UE8JT4-b7add13d-8802-46cb-8d3f-cb1ce7daf029: patch_number=62 have been skipped.\n",
            "E83UE8JT4-b7add13d-8802-46cb-8d3f-cb1ce7daf029: patch_number=63 have been skipped.\n",
            "E83UE8JT4-b7add13d-8802-46cb-8d3f-cb1ce7daf029: patch_number=83 have been skipped.\n",
            "E83UE8JT4-b7add13d-8802-46cb-8d3f-cb1ce7daf029: patch_number=357 have been skipped.\n",
            "E83UE8JT4-b7add13d-8802-46cb-8d3f-cb1ce7daf029: patch_number=378 have been skipped.\n",
            "E83UE8JT4-b7add13d-8802-46cb-8d3f-cb1ce7daf029: patch_number=399 have been skipped.\n",
            "E83UE8JT4-b7add13d-8802-46cb-8d3f-cb1ce7daf029: patch_number=400 have been skipped.\n",
            "E83UE8JT4-b7add13d-8802-46cb-8d3f-cb1ce7daf029: patch_number=418 have been skipped.\n",
            "E83UE8JT4-b7add13d-8802-46cb-8d3f-cb1ce7daf029: patch_number=419 have been skipped.\n",
            "E83UE8JT4-b7add13d-8802-46cb-8d3f-cb1ce7daf029: patch_number=420 have been skipped.\n",
            "E83UE8JT4-b7add13d-8802-46cb-8d3f-cb1ce7daf029: patch_number=421 have been skipped.\n",
            "E83UE8JT4-b7add13d-8802-46cb-8d3f-cb1ce7daf029: patch_number=422 have been skipped.\n",
            "E83UE8JT4-b7add13d-8802-46cb-8d3f-cb1ce7daf029: patch_number=439 have been skipped.\n"
          ],
          "name": "stdout"
        },
        {
          "output_type": "stream",
          "text": [
            "\r 17%|█▋        | 5/30 [01:00<04:47, 11.52s/it]"
          ],
          "name": "stderr"
        },
        {
          "output_type": "stream",
          "text": [
            "E83UE8JT4-b7add13d-8802-46cb-8d3f-cb1ce7daf029: patch_number=440 have been skipped.\n",
            "E83UE8JT4-b7add13d-8802-46cb-8d3f-cb1ce7daf029: patch_number=441 have been skipped.\n",
            "E83UE8JT4-b7add13d-8802-46cb-8d3f-cb1ce7daf029: patch_number=442 have been skipped.\n",
            "E83UE8JT4-b7add13d-8802-46cb-8d3f-cb1ce7daf029: patch_number=443 have been skipped.\n",
            "E83UE8JT4-b7add13d-8802-46cb-8d3f-cb1ce7daf029: patch_number=460 have been skipped.\n",
            "E83UE8JT4-b7add13d-8802-46cb-8d3f-cb1ce7daf029: patch_number=461 have been skipped.\n",
            "b7add13d-8802-46cb-8d3f-cb1ce7daf029_E83UE8JT4: n=428 patches have been saved, original size=(4708, 4541, 3).\n"
          ],
          "name": "stdout"
        },
        {
          "output_type": "stream",
          "text": [
            "\r 20%|██        | 6/30 [01:10<04:30, 11.25s/it]"
          ],
          "name": "stderr"
        },
        {
          "output_type": "stream",
          "text": [
            "EB4KG2F6D-7e227290-9936-483e-90de-949c80f984d7: patch_number=344 have been skipped.\n",
            "EB4KG2F6D-7e227290-9936-483e-90de-949c80f984d7: patch_number=345 have been skipped.\n",
            "EB4KG2F6D-7e227290-9936-483e-90de-949c80f984d7: patch_number=346 have been skipped.\n",
            "EB4KG2F6D-7e227290-9936-483e-90de-949c80f984d7: patch_number=347 have been skipped.\n",
            "EB4KG2F6D-7e227290-9936-483e-90de-949c80f984d7: patch_number=348 have been skipped.\n",
            "EB4KG2F6D-7e227290-9936-483e-90de-949c80f984d7: patch_number=349 have been skipped.\n",
            "EB4KG2F6D-7e227290-9936-483e-90de-949c80f984d7: patch_number=354 have been skipped.\n",
            "EB4KG2F6D-7e227290-9936-483e-90de-949c80f984d7: patch_number=355 have been skipped.\n",
            "EB4KG2F6D-7e227290-9936-483e-90de-949c80f984d7: patch_number=356 have been skipped.\n",
            "EB4KG2F6D-7e227290-9936-483e-90de-949c80f984d7: patch_number=357 have been skipped.\n",
            "EB4KG2F6D-7e227290-9936-483e-90de-949c80f984d7: patch_number=358 have been skipped.\n",
            "EB4KG2F6D-7e227290-9936-483e-90de-949c80f984d7: patch_number=359 have been skipped.\n",
            "7e227290-9936-483e-90de-949c80f984d7_EB4KG2F6D: n=348 patches have been saved, original size=(7980, 2116, 3).\n",
            "EVTQTDFEJ-b7add13d-8802-46cb-8d3f-cb1ce7daf029: patch_number=0 have been skipped.\n",
            "EVTQTDFEJ-b7add13d-8802-46cb-8d3f-cb1ce7daf029: patch_number=1 have been skipped.\n",
            "EVTQTDFEJ-b7add13d-8802-46cb-8d3f-cb1ce7daf029: patch_number=2 have been skipped.\n",
            "EVTQTDFEJ-b7add13d-8802-46cb-8d3f-cb1ce7daf029: patch_number=16 have been skipped.\n",
            "EVTQTDFEJ-b7add13d-8802-46cb-8d3f-cb1ce7daf029: patch_number=17 have been skipped.\n",
            "EVTQTDFEJ-b7add13d-8802-46cb-8d3f-cb1ce7daf029: patch_number=18 have been skipped.\n",
            "EVTQTDFEJ-b7add13d-8802-46cb-8d3f-cb1ce7daf029: patch_number=19 have been skipped.\n",
            "EVTQTDFEJ-b7add13d-8802-46cb-8d3f-cb1ce7daf029: patch_number=20 have been skipped.\n",
            "EVTQTDFEJ-b7add13d-8802-46cb-8d3f-cb1ce7daf029: patch_number=21 have been skipped.\n",
            "EVTQTDFEJ-b7add13d-8802-46cb-8d3f-cb1ce7daf029: patch_number=37 have been skipped.\n",
            "EVTQTDFEJ-b7add13d-8802-46cb-8d3f-cb1ce7daf029: patch_number=38 have been skipped.\n",
            "EVTQTDFEJ-b7add13d-8802-46cb-8d3f-cb1ce7daf029: patch_number=39 have been skipped.\n",
            "EVTQTDFEJ-b7add13d-8802-46cb-8d3f-cb1ce7daf029: patch_number=40 have been skipped.\n",
            "EVTQTDFEJ-b7add13d-8802-46cb-8d3f-cb1ce7daf029: patch_number=58 have been skipped.\n",
            "EVTQTDFEJ-b7add13d-8802-46cb-8d3f-cb1ce7daf029: patch_number=59 have been skipped.\n"
          ],
          "name": "stdout"
        },
        {
          "output_type": "stream",
          "text": [
            "\r 23%|██▎       | 7/30 [01:21<04:12, 10.97s/it]"
          ],
          "name": "stderr"
        },
        {
          "output_type": "stream",
          "text": [
            "EVTQTDFEJ-b7add13d-8802-46cb-8d3f-cb1ce7daf029: patch_number=340 have been skipped.\n",
            "EVTQTDFEJ-b7add13d-8802-46cb-8d3f-cb1ce7daf029: patch_number=360 have been skipped.\n",
            "EVTQTDFEJ-b7add13d-8802-46cb-8d3f-cb1ce7daf029: patch_number=361 have been skipped.\n",
            "EVTQTDFEJ-b7add13d-8802-46cb-8d3f-cb1ce7daf029: patch_number=378 have been skipped.\n",
            "EVTQTDFEJ-b7add13d-8802-46cb-8d3f-cb1ce7daf029: patch_number=379 have been skipped.\n",
            "EVTQTDFEJ-b7add13d-8802-46cb-8d3f-cb1ce7daf029: patch_number=380 have been skipped.\n",
            "EVTQTDFEJ-b7add13d-8802-46cb-8d3f-cb1ce7daf029: patch_number=381 have been skipped.\n",
            "EVTQTDFEJ-b7add13d-8802-46cb-8d3f-cb1ce7daf029: patch_number=382 have been skipped.\n",
            "EVTQTDFEJ-b7add13d-8802-46cb-8d3f-cb1ce7daf029: patch_number=398 have been skipped.\n",
            "EVTQTDFEJ-b7add13d-8802-46cb-8d3f-cb1ce7daf029: patch_number=399 have been skipped.\n",
            "b7add13d-8802-46cb-8d3f-cb1ce7daf029_EVTQTDFEJ: n=375 patches have been saved, original size=(4451, 4291, 3).\n",
            "F98U2YA3K-b7add13d-8802-46cb-8d3f-cb1ce7daf029: patch_number=0 have been skipped.\n",
            "F98U2YA3K-b7add13d-8802-46cb-8d3f-cb1ce7daf029: patch_number=1 have been skipped.\n",
            "F98U2YA3K-b7add13d-8802-46cb-8d3f-cb1ce7daf029: patch_number=2 have been skipped.\n",
            "F98U2YA3K-b7add13d-8802-46cb-8d3f-cb1ce7daf029: patch_number=15 have been skipped.\n",
            "F98U2YA3K-b7add13d-8802-46cb-8d3f-cb1ce7daf029: patch_number=16 have been skipped.\n",
            "F98U2YA3K-b7add13d-8802-46cb-8d3f-cb1ce7daf029: patch_number=17 have been skipped.\n",
            "F98U2YA3K-b7add13d-8802-46cb-8d3f-cb1ce7daf029: patch_number=18 have been skipped.\n",
            "F98U2YA3K-b7add13d-8802-46cb-8d3f-cb1ce7daf029: patch_number=19 have been skipped.\n",
            "F98U2YA3K-b7add13d-8802-46cb-8d3f-cb1ce7daf029: patch_number=34 have been skipped.\n",
            "F98U2YA3K-b7add13d-8802-46cb-8d3f-cb1ce7daf029: patch_number=35 have been skipped.\n",
            "F98U2YA3K-b7add13d-8802-46cb-8d3f-cb1ce7daf029: patch_number=36 have been skipped.\n",
            "F98U2YA3K-b7add13d-8802-46cb-8d3f-cb1ce7daf029: patch_number=53 have been skipped.\n"
          ],
          "name": "stdout"
        },
        {
          "output_type": "stream",
          "text": [
            "\r 27%|██▋       | 8/30 [01:30<03:49, 10.45s/it]"
          ],
          "name": "stderr"
        },
        {
          "output_type": "stream",
          "text": [
            "F98U2YA3K-b7add13d-8802-46cb-8d3f-cb1ce7daf029: patch_number=270 have been skipped.\n",
            "F98U2YA3K-b7add13d-8802-46cb-8d3f-cb1ce7daf029: patch_number=288 have been skipped.\n",
            "F98U2YA3K-b7add13d-8802-46cb-8d3f-cb1ce7daf029: patch_number=289 have been skipped.\n",
            "F98U2YA3K-b7add13d-8802-46cb-8d3f-cb1ce7daf029: patch_number=305 have been skipped.\n",
            "F98U2YA3K-b7add13d-8802-46cb-8d3f-cb1ce7daf029: patch_number=306 have been skipped.\n",
            "F98U2YA3K-b7add13d-8802-46cb-8d3f-cb1ce7daf029: patch_number=307 have been skipped.\n",
            "F98U2YA3K-b7add13d-8802-46cb-8d3f-cb1ce7daf029: patch_number=308 have been skipped.\n",
            "F98U2YA3K-b7add13d-8802-46cb-8d3f-cb1ce7daf029: patch_number=323 have been skipped.\n",
            "b7add13d-8802-46cb-8d3f-cb1ce7daf029_F98U2YA3K: n=304 patches have been saved, original size=(3999, 4016, 3).\n",
            "FPG2L7UTK-b7add13d-8802-46cb-8d3f-cb1ce7daf029: patch_number=0 have been skipped.\n",
            "FPG2L7UTK-b7add13d-8802-46cb-8d3f-cb1ce7daf029: patch_number=1 have been skipped.\n",
            "FPG2L7UTK-b7add13d-8802-46cb-8d3f-cb1ce7daf029: patch_number=2 have been skipped.\n",
            "FPG2L7UTK-b7add13d-8802-46cb-8d3f-cb1ce7daf029: patch_number=15 have been skipped.\n",
            "FPG2L7UTK-b7add13d-8802-46cb-8d3f-cb1ce7daf029: patch_number=16 have been skipped.\n",
            "FPG2L7UTK-b7add13d-8802-46cb-8d3f-cb1ce7daf029: patch_number=17 have been skipped.\n",
            "FPG2L7UTK-b7add13d-8802-46cb-8d3f-cb1ce7daf029: patch_number=18 have been skipped.\n",
            "FPG2L7UTK-b7add13d-8802-46cb-8d3f-cb1ce7daf029: patch_number=19 have been skipped.\n",
            "FPG2L7UTK-b7add13d-8802-46cb-8d3f-cb1ce7daf029: patch_number=34 have been skipped.\n",
            "FPG2L7UTK-b7add13d-8802-46cb-8d3f-cb1ce7daf029: patch_number=35 have been skipped.\n",
            "FPG2L7UTK-b7add13d-8802-46cb-8d3f-cb1ce7daf029: patch_number=36 have been skipped.\n",
            "FPG2L7UTK-b7add13d-8802-46cb-8d3f-cb1ce7daf029: patch_number=53 have been skipped.\n"
          ],
          "name": "stdout"
        },
        {
          "output_type": "stream",
          "text": [
            "\r 30%|███       | 9/30 [01:39<03:29,  9.99s/it]"
          ],
          "name": "stderr"
        },
        {
          "output_type": "stream",
          "text": [
            "FPG2L7UTK-b7add13d-8802-46cb-8d3f-cb1ce7daf029: patch_number=270 have been skipped.\n",
            "FPG2L7UTK-b7add13d-8802-46cb-8d3f-cb1ce7daf029: patch_number=288 have been skipped.\n",
            "FPG2L7UTK-b7add13d-8802-46cb-8d3f-cb1ce7daf029: patch_number=289 have been skipped.\n",
            "FPG2L7UTK-b7add13d-8802-46cb-8d3f-cb1ce7daf029: patch_number=305 have been skipped.\n",
            "FPG2L7UTK-b7add13d-8802-46cb-8d3f-cb1ce7daf029: patch_number=306 have been skipped.\n",
            "FPG2L7UTK-b7add13d-8802-46cb-8d3f-cb1ce7daf029: patch_number=307 have been skipped.\n",
            "FPG2L7UTK-b7add13d-8802-46cb-8d3f-cb1ce7daf029: patch_number=308 have been skipped.\n",
            "FPG2L7UTK-b7add13d-8802-46cb-8d3f-cb1ce7daf029: patch_number=323 have been skipped.\n",
            "b7add13d-8802-46cb-8d3f-cb1ce7daf029_FPG2L7UTK: n=304 patches have been saved, original size=(3999, 4016, 3).\n"
          ],
          "name": "stdout"
        },
        {
          "output_type": "stream",
          "text": [
            "\r 33%|███▎      | 10/30 [01:49<03:22, 10.13s/it]"
          ],
          "name": "stderr"
        },
        {
          "output_type": "stream",
          "text": [
            "FVI8IQG1F-7e227290-9936-483e-90de-949c80f984d7: patch_number=344 have been skipped.\n",
            "FVI8IQG1F-7e227290-9936-483e-90de-949c80f984d7: patch_number=345 have been skipped.\n",
            "FVI8IQG1F-7e227290-9936-483e-90de-949c80f984d7: patch_number=346 have been skipped.\n",
            "FVI8IQG1F-7e227290-9936-483e-90de-949c80f984d7: patch_number=347 have been skipped.\n",
            "FVI8IQG1F-7e227290-9936-483e-90de-949c80f984d7: patch_number=348 have been skipped.\n",
            "FVI8IQG1F-7e227290-9936-483e-90de-949c80f984d7: patch_number=349 have been skipped.\n",
            "FVI8IQG1F-7e227290-9936-483e-90de-949c80f984d7: patch_number=354 have been skipped.\n",
            "FVI8IQG1F-7e227290-9936-483e-90de-949c80f984d7: patch_number=355 have been skipped.\n",
            "FVI8IQG1F-7e227290-9936-483e-90de-949c80f984d7: patch_number=356 have been skipped.\n",
            "FVI8IQG1F-7e227290-9936-483e-90de-949c80f984d7: patch_number=357 have been skipped.\n",
            "FVI8IQG1F-7e227290-9936-483e-90de-949c80f984d7: patch_number=358 have been skipped.\n",
            "FVI8IQG1F-7e227290-9936-483e-90de-949c80f984d7: patch_number=359 have been skipped.\n",
            "7e227290-9936-483e-90de-949c80f984d7_FVI8IQG1F: n=348 patches have been saved, original size=(7980, 2116, 3).\n",
            "FYXD9U983-b7add13d-8802-46cb-8d3f-cb1ce7daf029: patch_number=0 have been skipped.\n",
            "FYXD9U983-b7add13d-8802-46cb-8d3f-cb1ce7daf029: patch_number=1 have been skipped.\n",
            "FYXD9U983-b7add13d-8802-46cb-8d3f-cb1ce7daf029: patch_number=2 have been skipped.\n",
            "FYXD9U983-b7add13d-8802-46cb-8d3f-cb1ce7daf029: patch_number=15 have been skipped.\n",
            "FYXD9U983-b7add13d-8802-46cb-8d3f-cb1ce7daf029: patch_number=16 have been skipped.\n",
            "FYXD9U983-b7add13d-8802-46cb-8d3f-cb1ce7daf029: patch_number=17 have been skipped.\n",
            "FYXD9U983-b7add13d-8802-46cb-8d3f-cb1ce7daf029: patch_number=18 have been skipped.\n",
            "FYXD9U983-b7add13d-8802-46cb-8d3f-cb1ce7daf029: patch_number=19 have been skipped.\n",
            "FYXD9U983-b7add13d-8802-46cb-8d3f-cb1ce7daf029: patch_number=34 have been skipped.\n",
            "FYXD9U983-b7add13d-8802-46cb-8d3f-cb1ce7daf029: patch_number=35 have been skipped.\n",
            "FYXD9U983-b7add13d-8802-46cb-8d3f-cb1ce7daf029: patch_number=36 have been skipped.\n",
            "FYXD9U983-b7add13d-8802-46cb-8d3f-cb1ce7daf029: patch_number=53 have been skipped.\n"
          ],
          "name": "stdout"
        },
        {
          "output_type": "stream",
          "text": [
            "\r 37%|███▋      | 11/30 [01:58<03:07,  9.85s/it]"
          ],
          "name": "stderr"
        },
        {
          "output_type": "stream",
          "text": [
            "FYXD9U983-b7add13d-8802-46cb-8d3f-cb1ce7daf029: patch_number=270 have been skipped.\n",
            "FYXD9U983-b7add13d-8802-46cb-8d3f-cb1ce7daf029: patch_number=288 have been skipped.\n",
            "FYXD9U983-b7add13d-8802-46cb-8d3f-cb1ce7daf029: patch_number=289 have been skipped.\n",
            "FYXD9U983-b7add13d-8802-46cb-8d3f-cb1ce7daf029: patch_number=305 have been skipped.\n",
            "FYXD9U983-b7add13d-8802-46cb-8d3f-cb1ce7daf029: patch_number=306 have been skipped.\n",
            "FYXD9U983-b7add13d-8802-46cb-8d3f-cb1ce7daf029: patch_number=307 have been skipped.\n",
            "FYXD9U983-b7add13d-8802-46cb-8d3f-cb1ce7daf029: patch_number=308 have been skipped.\n",
            "FYXD9U983-b7add13d-8802-46cb-8d3f-cb1ce7daf029: patch_number=323 have been skipped.\n",
            "b7add13d-8802-46cb-8d3f-cb1ce7daf029_FYXD9U983: n=304 patches have been saved, original size=(3999, 4016, 3).\n"
          ],
          "name": "stdout"
        },
        {
          "output_type": "stream",
          "text": [
            "\r 40%|████      | 12/30 [02:14<03:28, 11.59s/it]"
          ],
          "name": "stderr"
        },
        {
          "output_type": "stream",
          "text": [
            "GP3VC3W6C-7e227290-9936-483e-90de-949c80f984d7: patch_number=508 have been skipped.\n",
            "GP3VC3W6C-7e227290-9936-483e-90de-949c80f984d7: patch_number=509 have been skipped.\n",
            "GP3VC3W6C-7e227290-9936-483e-90de-949c80f984d7: patch_number=510 have been skipped.\n",
            "GP3VC3W6C-7e227290-9936-483e-90de-949c80f984d7: patch_number=511 have been skipped.\n",
            "GP3VC3W6C-7e227290-9936-483e-90de-949c80f984d7: patch_number=512 have been skipped.\n",
            "GP3VC3W6C-7e227290-9936-483e-90de-949c80f984d7: patch_number=513 have been skipped.\n",
            "GP3VC3W6C-7e227290-9936-483e-90de-949c80f984d7: patch_number=514 have been skipped.\n",
            "GP3VC3W6C-7e227290-9936-483e-90de-949c80f984d7: patch_number=515 have been skipped.\n",
            "GP3VC3W6C-7e227290-9936-483e-90de-949c80f984d7: patch_number=516 have been skipped.\n",
            "GP3VC3W6C-7e227290-9936-483e-90de-949c80f984d7: patch_number=520 have been skipped.\n",
            "GP3VC3W6C-7e227290-9936-483e-90de-949c80f984d7: patch_number=521 have been skipped.\n",
            "GP3VC3W6C-7e227290-9936-483e-90de-949c80f984d7: patch_number=522 have been skipped.\n",
            "GP3VC3W6C-7e227290-9936-483e-90de-949c80f984d7: patch_number=523 have been skipped.\n",
            "GP3VC3W6C-7e227290-9936-483e-90de-949c80f984d7: patch_number=524 have been skipped.\n",
            "GP3VC3W6C-7e227290-9936-483e-90de-949c80f984d7: patch_number=525 have been skipped.\n",
            "GP3VC3W6C-7e227290-9936-483e-90de-949c80f984d7: patch_number=526 have been skipped.\n",
            "GP3VC3W6C-7e227290-9936-483e-90de-949c80f984d7: patch_number=527 have been skipped.\n",
            "GP3VC3W6C-7e227290-9936-483e-90de-949c80f984d7: patch_number=528 have been skipped.\n",
            "GP3VC3W6C-7e227290-9936-483e-90de-949c80f984d7: patch_number=532 have been skipped.\n",
            "GP3VC3W6C-7e227290-9936-483e-90de-949c80f984d7: patch_number=533 have been skipped.\n",
            "GP3VC3W6C-7e227290-9936-483e-90de-949c80f984d7: patch_number=534 have been skipped.\n",
            "GP3VC3W6C-7e227290-9936-483e-90de-949c80f984d7: patch_number=535 have been skipped.\n",
            "GP3VC3W6C-7e227290-9936-483e-90de-949c80f984d7: patch_number=536 have been skipped.\n",
            "GP3VC3W6C-7e227290-9936-483e-90de-949c80f984d7: patch_number=537 have been skipped.\n",
            "GP3VC3W6C-7e227290-9936-483e-90de-949c80f984d7: patch_number=538 have been skipped.\n",
            "GP3VC3W6C-7e227290-9936-483e-90de-949c80f984d7: patch_number=539 have been skipped.\n",
            "7e227290-9936-483e-90de-949c80f984d7_GP3VC3W6C: n=514 patches have been saved, original size=(9896, 2620, 3).\n"
          ],
          "name": "stdout"
        },
        {
          "output_type": "stream",
          "text": [
            "\r 43%|████▎     | 13/30 [02:24<03:09, 11.14s/it]"
          ],
          "name": "stderr"
        },
        {
          "output_type": "stream",
          "text": [
            "GU8YLRNEP-7e227290-9936-483e-90de-949c80f984d7: patch_number=344 have been skipped.\n",
            "GU8YLRNEP-7e227290-9936-483e-90de-949c80f984d7: patch_number=345 have been skipped.\n",
            "GU8YLRNEP-7e227290-9936-483e-90de-949c80f984d7: patch_number=346 have been skipped.\n",
            "GU8YLRNEP-7e227290-9936-483e-90de-949c80f984d7: patch_number=347 have been skipped.\n",
            "GU8YLRNEP-7e227290-9936-483e-90de-949c80f984d7: patch_number=348 have been skipped.\n",
            "GU8YLRNEP-7e227290-9936-483e-90de-949c80f984d7: patch_number=349 have been skipped.\n",
            "GU8YLRNEP-7e227290-9936-483e-90de-949c80f984d7: patch_number=354 have been skipped.\n",
            "GU8YLRNEP-7e227290-9936-483e-90de-949c80f984d7: patch_number=355 have been skipped.\n",
            "GU8YLRNEP-7e227290-9936-483e-90de-949c80f984d7: patch_number=356 have been skipped.\n",
            "GU8YLRNEP-7e227290-9936-483e-90de-949c80f984d7: patch_number=357 have been skipped.\n",
            "GU8YLRNEP-7e227290-9936-483e-90de-949c80f984d7: patch_number=358 have been skipped.\n",
            "GU8YLRNEP-7e227290-9936-483e-90de-949c80f984d7: patch_number=359 have been skipped.\n",
            "7e227290-9936-483e-90de-949c80f984d7_GU8YLRNEP: n=348 patches have been saved, original size=(7980, 2116, 3).\n",
            "GWWIAV2VV-b7add13d-8802-46cb-8d3f-cb1ce7daf029: patch_number=0 have been skipped.\n",
            "GWWIAV2VV-b7add13d-8802-46cb-8d3f-cb1ce7daf029: patch_number=1 have been skipped.\n",
            "GWWIAV2VV-b7add13d-8802-46cb-8d3f-cb1ce7daf029: patch_number=2 have been skipped.\n",
            "GWWIAV2VV-b7add13d-8802-46cb-8d3f-cb1ce7daf029: patch_number=15 have been skipped.\n",
            "GWWIAV2VV-b7add13d-8802-46cb-8d3f-cb1ce7daf029: patch_number=16 have been skipped.\n",
            "GWWIAV2VV-b7add13d-8802-46cb-8d3f-cb1ce7daf029: patch_number=17 have been skipped.\n",
            "GWWIAV2VV-b7add13d-8802-46cb-8d3f-cb1ce7daf029: patch_number=18 have been skipped.\n",
            "GWWIAV2VV-b7add13d-8802-46cb-8d3f-cb1ce7daf029: patch_number=19 have been skipped.\n",
            "GWWIAV2VV-b7add13d-8802-46cb-8d3f-cb1ce7daf029: patch_number=34 have been skipped.\n",
            "GWWIAV2VV-b7add13d-8802-46cb-8d3f-cb1ce7daf029: patch_number=35 have been skipped.\n",
            "GWWIAV2VV-b7add13d-8802-46cb-8d3f-cb1ce7daf029: patch_number=36 have been skipped.\n",
            "GWWIAV2VV-b7add13d-8802-46cb-8d3f-cb1ce7daf029: patch_number=53 have been skipped.\n"
          ],
          "name": "stdout"
        },
        {
          "output_type": "stream",
          "text": [
            "\r 47%|████▋     | 14/30 [02:33<02:48, 10.51s/it]"
          ],
          "name": "stderr"
        },
        {
          "output_type": "stream",
          "text": [
            "GWWIAV2VV-b7add13d-8802-46cb-8d3f-cb1ce7daf029: patch_number=270 have been skipped.\n",
            "GWWIAV2VV-b7add13d-8802-46cb-8d3f-cb1ce7daf029: patch_number=288 have been skipped.\n",
            "GWWIAV2VV-b7add13d-8802-46cb-8d3f-cb1ce7daf029: patch_number=289 have been skipped.\n",
            "GWWIAV2VV-b7add13d-8802-46cb-8d3f-cb1ce7daf029: patch_number=305 have been skipped.\n",
            "GWWIAV2VV-b7add13d-8802-46cb-8d3f-cb1ce7daf029: patch_number=306 have been skipped.\n",
            "GWWIAV2VV-b7add13d-8802-46cb-8d3f-cb1ce7daf029: patch_number=307 have been skipped.\n",
            "GWWIAV2VV-b7add13d-8802-46cb-8d3f-cb1ce7daf029: patch_number=308 have been skipped.\n",
            "GWWIAV2VV-b7add13d-8802-46cb-8d3f-cb1ce7daf029: patch_number=323 have been skipped.\n",
            "b7add13d-8802-46cb-8d3f-cb1ce7daf029_GWWIAV2VV: n=304 patches have been saved, original size=(3999, 4016, 3).\n"
          ],
          "name": "stdout"
        },
        {
          "output_type": "stream",
          "text": [
            "\r 50%|█████     | 15/30 [02:44<02:38, 10.60s/it]"
          ],
          "name": "stderr"
        },
        {
          "output_type": "stream",
          "text": [
            "J926FMUHU-7e227290-9936-483e-90de-949c80f984d7: patch_number=344 have been skipped.\n",
            "J926FMUHU-7e227290-9936-483e-90de-949c80f984d7: patch_number=345 have been skipped.\n",
            "J926FMUHU-7e227290-9936-483e-90de-949c80f984d7: patch_number=346 have been skipped.\n",
            "J926FMUHU-7e227290-9936-483e-90de-949c80f984d7: patch_number=347 have been skipped.\n",
            "J926FMUHU-7e227290-9936-483e-90de-949c80f984d7: patch_number=348 have been skipped.\n",
            "J926FMUHU-7e227290-9936-483e-90de-949c80f984d7: patch_number=349 have been skipped.\n",
            "J926FMUHU-7e227290-9936-483e-90de-949c80f984d7: patch_number=354 have been skipped.\n",
            "J926FMUHU-7e227290-9936-483e-90de-949c80f984d7: patch_number=355 have been skipped.\n",
            "J926FMUHU-7e227290-9936-483e-90de-949c80f984d7: patch_number=356 have been skipped.\n",
            "J926FMUHU-7e227290-9936-483e-90de-949c80f984d7: patch_number=357 have been skipped.\n",
            "J926FMUHU-7e227290-9936-483e-90de-949c80f984d7: patch_number=358 have been skipped.\n",
            "J926FMUHU-7e227290-9936-483e-90de-949c80f984d7: patch_number=359 have been skipped.\n",
            "7e227290-9936-483e-90de-949c80f984d7_J926FMUHU: n=348 patches have been saved, original size=(7980, 2116, 3).\n"
          ],
          "name": "stdout"
        },
        {
          "output_type": "stream",
          "text": [
            "\r 53%|█████▎    | 16/30 [02:54<02:27, 10.54s/it]"
          ],
          "name": "stderr"
        },
        {
          "output_type": "stream",
          "text": [
            "KQNQBAHEH-7e227290-9936-483e-90de-949c80f984d7: patch_number=344 have been skipped.\n",
            "KQNQBAHEH-7e227290-9936-483e-90de-949c80f984d7: patch_number=345 have been skipped.\n",
            "KQNQBAHEH-7e227290-9936-483e-90de-949c80f984d7: patch_number=346 have been skipped.\n",
            "KQNQBAHEH-7e227290-9936-483e-90de-949c80f984d7: patch_number=347 have been skipped.\n",
            "KQNQBAHEH-7e227290-9936-483e-90de-949c80f984d7: patch_number=348 have been skipped.\n",
            "KQNQBAHEH-7e227290-9936-483e-90de-949c80f984d7: patch_number=349 have been skipped.\n",
            "KQNQBAHEH-7e227290-9936-483e-90de-949c80f984d7: patch_number=354 have been skipped.\n",
            "KQNQBAHEH-7e227290-9936-483e-90de-949c80f984d7: patch_number=355 have been skipped.\n",
            "KQNQBAHEH-7e227290-9936-483e-90de-949c80f984d7: patch_number=356 have been skipped.\n",
            "KQNQBAHEH-7e227290-9936-483e-90de-949c80f984d7: patch_number=357 have been skipped.\n",
            "KQNQBAHEH-7e227290-9936-483e-90de-949c80f984d7: patch_number=358 have been skipped.\n",
            "KQNQBAHEH-7e227290-9936-483e-90de-949c80f984d7: patch_number=359 have been skipped.\n",
            "7e227290-9936-483e-90de-949c80f984d7_KQNQBAHEH: n=348 patches have been saved, original size=(7980, 2116, 3).\n",
            "KR4TV4KAT-b7add13d-8802-46cb-8d3f-cb1ce7daf029: patch_number=0 have been skipped.\n",
            "KR4TV4KAT-b7add13d-8802-46cb-8d3f-cb1ce7daf029: patch_number=1 have been skipped.\n",
            "KR4TV4KAT-b7add13d-8802-46cb-8d3f-cb1ce7daf029: patch_number=2 have been skipped.\n",
            "KR4TV4KAT-b7add13d-8802-46cb-8d3f-cb1ce7daf029: patch_number=15 have been skipped.\n",
            "KR4TV4KAT-b7add13d-8802-46cb-8d3f-cb1ce7daf029: patch_number=16 have been skipped.\n",
            "KR4TV4KAT-b7add13d-8802-46cb-8d3f-cb1ce7daf029: patch_number=17 have been skipped.\n",
            "KR4TV4KAT-b7add13d-8802-46cb-8d3f-cb1ce7daf029: patch_number=18 have been skipped.\n",
            "KR4TV4KAT-b7add13d-8802-46cb-8d3f-cb1ce7daf029: patch_number=19 have been skipped.\n",
            "KR4TV4KAT-b7add13d-8802-46cb-8d3f-cb1ce7daf029: patch_number=34 have been skipped.\n",
            "KR4TV4KAT-b7add13d-8802-46cb-8d3f-cb1ce7daf029: patch_number=35 have been skipped.\n",
            "KR4TV4KAT-b7add13d-8802-46cb-8d3f-cb1ce7daf029: patch_number=36 have been skipped.\n",
            "KR4TV4KAT-b7add13d-8802-46cb-8d3f-cb1ce7daf029: patch_number=53 have been skipped.\n"
          ],
          "name": "stdout"
        },
        {
          "output_type": "stream",
          "text": [
            "\r 57%|█████▋    | 17/30 [03:04<02:13, 10.31s/it]"
          ],
          "name": "stderr"
        },
        {
          "output_type": "stream",
          "text": [
            "KR4TV4KAT-b7add13d-8802-46cb-8d3f-cb1ce7daf029: patch_number=270 have been skipped.\n",
            "KR4TV4KAT-b7add13d-8802-46cb-8d3f-cb1ce7daf029: patch_number=288 have been skipped.\n",
            "KR4TV4KAT-b7add13d-8802-46cb-8d3f-cb1ce7daf029: patch_number=289 have been skipped.\n",
            "KR4TV4KAT-b7add13d-8802-46cb-8d3f-cb1ce7daf029: patch_number=305 have been skipped.\n",
            "KR4TV4KAT-b7add13d-8802-46cb-8d3f-cb1ce7daf029: patch_number=306 have been skipped.\n",
            "KR4TV4KAT-b7add13d-8802-46cb-8d3f-cb1ce7daf029: patch_number=307 have been skipped.\n",
            "KR4TV4KAT-b7add13d-8802-46cb-8d3f-cb1ce7daf029: patch_number=308 have been skipped.\n",
            "KR4TV4KAT-b7add13d-8802-46cb-8d3f-cb1ce7daf029: patch_number=323 have been skipped.\n",
            "b7add13d-8802-46cb-8d3f-cb1ce7daf029_KR4TV4KAT: n=304 patches have been saved, original size=(3999, 4016, 3).\n"
          ],
          "name": "stdout"
        },
        {
          "output_type": "stream",
          "text": [
            "\r 60%|██████    | 18/30 [03:12<01:53,  9.50s/it]"
          ],
          "name": "stderr"
        },
        {
          "output_type": "stream",
          "text": [
            "M1UED3JAF-7e227290-9936-483e-90de-949c80f984d7: patch_number=344 have been skipped.\n",
            "M1UED3JAF-7e227290-9936-483e-90de-949c80f984d7: patch_number=345 have been skipped.\n",
            "M1UED3JAF-7e227290-9936-483e-90de-949c80f984d7: patch_number=346 have been skipped.\n",
            "M1UED3JAF-7e227290-9936-483e-90de-949c80f984d7: patch_number=347 have been skipped.\n",
            "M1UED3JAF-7e227290-9936-483e-90de-949c80f984d7: patch_number=348 have been skipped.\n",
            "M1UED3JAF-7e227290-9936-483e-90de-949c80f984d7: patch_number=349 have been skipped.\n",
            "M1UED3JAF-7e227290-9936-483e-90de-949c80f984d7: patch_number=354 have been skipped.\n",
            "M1UED3JAF-7e227290-9936-483e-90de-949c80f984d7: patch_number=355 have been skipped.\n",
            "M1UED3JAF-7e227290-9936-483e-90de-949c80f984d7: patch_number=356 have been skipped.\n",
            "M1UED3JAF-7e227290-9936-483e-90de-949c80f984d7: patch_number=357 have been skipped.\n",
            "M1UED3JAF-7e227290-9936-483e-90de-949c80f984d7: patch_number=358 have been skipped.\n",
            "M1UED3JAF-7e227290-9936-483e-90de-949c80f984d7: patch_number=359 have been skipped.\n",
            "7e227290-9936-483e-90de-949c80f984d7_M1UED3JAF: n=348 patches have been saved, original size=(7980, 2116, 3).\n",
            "N7W26YIGK-b7add13d-8802-46cb-8d3f-cb1ce7daf029: patch_number=0 have been skipped.\n",
            "N7W26YIGK-b7add13d-8802-46cb-8d3f-cb1ce7daf029: patch_number=1 have been skipped.\n",
            "N7W26YIGK-b7add13d-8802-46cb-8d3f-cb1ce7daf029: patch_number=2 have been skipped.\n",
            "N7W26YIGK-b7add13d-8802-46cb-8d3f-cb1ce7daf029: patch_number=15 have been skipped.\n",
            "N7W26YIGK-b7add13d-8802-46cb-8d3f-cb1ce7daf029: patch_number=16 have been skipped.\n",
            "N7W26YIGK-b7add13d-8802-46cb-8d3f-cb1ce7daf029: patch_number=17 have been skipped.\n",
            "N7W26YIGK-b7add13d-8802-46cb-8d3f-cb1ce7daf029: patch_number=18 have been skipped.\n",
            "N7W26YIGK-b7add13d-8802-46cb-8d3f-cb1ce7daf029: patch_number=19 have been skipped.\n",
            "N7W26YIGK-b7add13d-8802-46cb-8d3f-cb1ce7daf029: patch_number=34 have been skipped.\n",
            "N7W26YIGK-b7add13d-8802-46cb-8d3f-cb1ce7daf029: patch_number=35 have been skipped.\n",
            "N7W26YIGK-b7add13d-8802-46cb-8d3f-cb1ce7daf029: patch_number=36 have been skipped.\n",
            "N7W26YIGK-b7add13d-8802-46cb-8d3f-cb1ce7daf029: patch_number=53 have been skipped.\n"
          ],
          "name": "stdout"
        },
        {
          "output_type": "stream",
          "text": [
            "\r 63%|██████▎   | 19/30 [03:21<01:42,  9.35s/it]"
          ],
          "name": "stderr"
        },
        {
          "output_type": "stream",
          "text": [
            "N7W26YIGK-b7add13d-8802-46cb-8d3f-cb1ce7daf029: patch_number=270 have been skipped.\n",
            "N7W26YIGK-b7add13d-8802-46cb-8d3f-cb1ce7daf029: patch_number=288 have been skipped.\n",
            "N7W26YIGK-b7add13d-8802-46cb-8d3f-cb1ce7daf029: patch_number=289 have been skipped.\n",
            "N7W26YIGK-b7add13d-8802-46cb-8d3f-cb1ce7daf029: patch_number=305 have been skipped.\n",
            "N7W26YIGK-b7add13d-8802-46cb-8d3f-cb1ce7daf029: patch_number=306 have been skipped.\n",
            "N7W26YIGK-b7add13d-8802-46cb-8d3f-cb1ce7daf029: patch_number=307 have been skipped.\n",
            "N7W26YIGK-b7add13d-8802-46cb-8d3f-cb1ce7daf029: patch_number=308 have been skipped.\n",
            "N7W26YIGK-b7add13d-8802-46cb-8d3f-cb1ce7daf029: patch_number=323 have been skipped.\n",
            "b7add13d-8802-46cb-8d3f-cb1ce7daf029_N7W26YIGK: n=304 patches have been saved, original size=(3999, 4016, 3).\n",
            "N9WCYFDNV-b7add13d-8802-46cb-8d3f-cb1ce7daf029: patch_number=0 have been skipped.\n",
            "N9WCYFDNV-b7add13d-8802-46cb-8d3f-cb1ce7daf029: patch_number=1 have been skipped.\n",
            "N9WCYFDNV-b7add13d-8802-46cb-8d3f-cb1ce7daf029: patch_number=2 have been skipped.\n",
            "N9WCYFDNV-b7add13d-8802-46cb-8d3f-cb1ce7daf029: patch_number=15 have been skipped.\n",
            "N9WCYFDNV-b7add13d-8802-46cb-8d3f-cb1ce7daf029: patch_number=16 have been skipped.\n",
            "N9WCYFDNV-b7add13d-8802-46cb-8d3f-cb1ce7daf029: patch_number=17 have been skipped.\n",
            "N9WCYFDNV-b7add13d-8802-46cb-8d3f-cb1ce7daf029: patch_number=18 have been skipped.\n",
            "N9WCYFDNV-b7add13d-8802-46cb-8d3f-cb1ce7daf029: patch_number=19 have been skipped.\n",
            "N9WCYFDNV-b7add13d-8802-46cb-8d3f-cb1ce7daf029: patch_number=34 have been skipped.\n",
            "N9WCYFDNV-b7add13d-8802-46cb-8d3f-cb1ce7daf029: patch_number=35 have been skipped.\n",
            "N9WCYFDNV-b7add13d-8802-46cb-8d3f-cb1ce7daf029: patch_number=36 have been skipped.\n",
            "N9WCYFDNV-b7add13d-8802-46cb-8d3f-cb1ce7daf029: patch_number=53 have been skipped.\n"
          ],
          "name": "stdout"
        },
        {
          "output_type": "stream",
          "text": [
            "\r 67%|██████▋   | 20/30 [03:30<01:32,  9.25s/it]"
          ],
          "name": "stderr"
        },
        {
          "output_type": "stream",
          "text": [
            "N9WCYFDNV-b7add13d-8802-46cb-8d3f-cb1ce7daf029: patch_number=270 have been skipped.\n",
            "N9WCYFDNV-b7add13d-8802-46cb-8d3f-cb1ce7daf029: patch_number=288 have been skipped.\n",
            "N9WCYFDNV-b7add13d-8802-46cb-8d3f-cb1ce7daf029: patch_number=289 have been skipped.\n",
            "N9WCYFDNV-b7add13d-8802-46cb-8d3f-cb1ce7daf029: patch_number=305 have been skipped.\n",
            "N9WCYFDNV-b7add13d-8802-46cb-8d3f-cb1ce7daf029: patch_number=306 have been skipped.\n",
            "N9WCYFDNV-b7add13d-8802-46cb-8d3f-cb1ce7daf029: patch_number=307 have been skipped.\n",
            "N9WCYFDNV-b7add13d-8802-46cb-8d3f-cb1ce7daf029: patch_number=308 have been skipped.\n",
            "N9WCYFDNV-b7add13d-8802-46cb-8d3f-cb1ce7daf029: patch_number=323 have been skipped.\n",
            "b7add13d-8802-46cb-8d3f-cb1ce7daf029_N9WCYFDNV: n=304 patches have been saved, original size=(3999, 4016, 3).\n"
          ],
          "name": "stdout"
        },
        {
          "output_type": "stream",
          "text": [
            "\r 70%|███████   | 21/30 [03:40<01:26,  9.64s/it]"
          ],
          "name": "stderr"
        },
        {
          "output_type": "stream",
          "text": [
            "NRI4TEP79-7e227290-9936-483e-90de-949c80f984d7: patch_number=344 have been skipped.\n",
            "NRI4TEP79-7e227290-9936-483e-90de-949c80f984d7: patch_number=345 have been skipped.\n",
            "NRI4TEP79-7e227290-9936-483e-90de-949c80f984d7: patch_number=346 have been skipped.\n",
            "NRI4TEP79-7e227290-9936-483e-90de-949c80f984d7: patch_number=347 have been skipped.\n",
            "NRI4TEP79-7e227290-9936-483e-90de-949c80f984d7: patch_number=348 have been skipped.\n",
            "NRI4TEP79-7e227290-9936-483e-90de-949c80f984d7: patch_number=349 have been skipped.\n",
            "NRI4TEP79-7e227290-9936-483e-90de-949c80f984d7: patch_number=354 have been skipped.\n",
            "NRI4TEP79-7e227290-9936-483e-90de-949c80f984d7: patch_number=355 have been skipped.\n",
            "NRI4TEP79-7e227290-9936-483e-90de-949c80f984d7: patch_number=356 have been skipped.\n",
            "NRI4TEP79-7e227290-9936-483e-90de-949c80f984d7: patch_number=357 have been skipped.\n",
            "NRI4TEP79-7e227290-9936-483e-90de-949c80f984d7: patch_number=358 have been skipped.\n",
            "NRI4TEP79-7e227290-9936-483e-90de-949c80f984d7: patch_number=359 have been skipped.\n",
            "7e227290-9936-483e-90de-949c80f984d7_NRI4TEP79: n=348 patches have been saved, original size=(7980, 2116, 3).\n"
          ],
          "name": "stdout"
        },
        {
          "output_type": "stream",
          "text": [
            "\r 73%|███████▎  | 22/30 [03:51<01:19,  9.99s/it]"
          ],
          "name": "stderr"
        },
        {
          "output_type": "stream",
          "text": [
            "P1VA9VFEP-7e227290-9936-483e-90de-949c80f984d7: patch_number=344 have been skipped.\n",
            "P1VA9VFEP-7e227290-9936-483e-90de-949c80f984d7: patch_number=345 have been skipped.\n",
            "P1VA9VFEP-7e227290-9936-483e-90de-949c80f984d7: patch_number=346 have been skipped.\n",
            "P1VA9VFEP-7e227290-9936-483e-90de-949c80f984d7: patch_number=347 have been skipped.\n",
            "P1VA9VFEP-7e227290-9936-483e-90de-949c80f984d7: patch_number=348 have been skipped.\n",
            "P1VA9VFEP-7e227290-9936-483e-90de-949c80f984d7: patch_number=349 have been skipped.\n",
            "P1VA9VFEP-7e227290-9936-483e-90de-949c80f984d7: patch_number=354 have been skipped.\n",
            "P1VA9VFEP-7e227290-9936-483e-90de-949c80f984d7: patch_number=355 have been skipped.\n",
            "P1VA9VFEP-7e227290-9936-483e-90de-949c80f984d7: patch_number=356 have been skipped.\n",
            "P1VA9VFEP-7e227290-9936-483e-90de-949c80f984d7: patch_number=357 have been skipped.\n",
            "P1VA9VFEP-7e227290-9936-483e-90de-949c80f984d7: patch_number=358 have been skipped.\n",
            "P1VA9VFEP-7e227290-9936-483e-90de-949c80f984d7: patch_number=359 have been skipped.\n",
            "7e227290-9936-483e-90de-949c80f984d7_P1VA9VFEP: n=348 patches have been saved, original size=(7980, 2116, 3).\n",
            "Q9ALKK7XZ-b7add13d-8802-46cb-8d3f-cb1ce7daf029: patch_number=0 have been skipped.\n",
            "Q9ALKK7XZ-b7add13d-8802-46cb-8d3f-cb1ce7daf029: patch_number=1 have been skipped.\n",
            "Q9ALKK7XZ-b7add13d-8802-46cb-8d3f-cb1ce7daf029: patch_number=2 have been skipped.\n",
            "Q9ALKK7XZ-b7add13d-8802-46cb-8d3f-cb1ce7daf029: patch_number=15 have been skipped.\n",
            "Q9ALKK7XZ-b7add13d-8802-46cb-8d3f-cb1ce7daf029: patch_number=16 have been skipped.\n",
            "Q9ALKK7XZ-b7add13d-8802-46cb-8d3f-cb1ce7daf029: patch_number=17 have been skipped.\n",
            "Q9ALKK7XZ-b7add13d-8802-46cb-8d3f-cb1ce7daf029: patch_number=18 have been skipped.\n",
            "Q9ALKK7XZ-b7add13d-8802-46cb-8d3f-cb1ce7daf029: patch_number=19 have been skipped.\n",
            "Q9ALKK7XZ-b7add13d-8802-46cb-8d3f-cb1ce7daf029: patch_number=34 have been skipped.\n",
            "Q9ALKK7XZ-b7add13d-8802-46cb-8d3f-cb1ce7daf029: patch_number=35 have been skipped.\n",
            "Q9ALKK7XZ-b7add13d-8802-46cb-8d3f-cb1ce7daf029: patch_number=36 have been skipped.\n",
            "Q9ALKK7XZ-b7add13d-8802-46cb-8d3f-cb1ce7daf029: patch_number=53 have been skipped.\n"
          ],
          "name": "stdout"
        },
        {
          "output_type": "stream",
          "text": [
            "\r 77%|███████▋  | 23/30 [04:00<01:08,  9.73s/it]"
          ],
          "name": "stderr"
        },
        {
          "output_type": "stream",
          "text": [
            "Q9ALKK7XZ-b7add13d-8802-46cb-8d3f-cb1ce7daf029: patch_number=270 have been skipped.\n",
            "Q9ALKK7XZ-b7add13d-8802-46cb-8d3f-cb1ce7daf029: patch_number=288 have been skipped.\n",
            "Q9ALKK7XZ-b7add13d-8802-46cb-8d3f-cb1ce7daf029: patch_number=289 have been skipped.\n",
            "Q9ALKK7XZ-b7add13d-8802-46cb-8d3f-cb1ce7daf029: patch_number=305 have been skipped.\n",
            "Q9ALKK7XZ-b7add13d-8802-46cb-8d3f-cb1ce7daf029: patch_number=306 have been skipped.\n",
            "Q9ALKK7XZ-b7add13d-8802-46cb-8d3f-cb1ce7daf029: patch_number=307 have been skipped.\n",
            "Q9ALKK7XZ-b7add13d-8802-46cb-8d3f-cb1ce7daf029: patch_number=308 have been skipped.\n",
            "Q9ALKK7XZ-b7add13d-8802-46cb-8d3f-cb1ce7daf029: patch_number=323 have been skipped.\n",
            "b7add13d-8802-46cb-8d3f-cb1ce7daf029_Q9ALKK7XZ: n=304 patches have been saved, original size=(3999, 4016, 3).\n",
            "UI4P3E22W-b7add13d-8802-46cb-8d3f-cb1ce7daf029: patch_number=0 have been skipped.\n",
            "UI4P3E22W-b7add13d-8802-46cb-8d3f-cb1ce7daf029: patch_number=1 have been skipped.\n",
            "UI4P3E22W-b7add13d-8802-46cb-8d3f-cb1ce7daf029: patch_number=2 have been skipped.\n",
            "UI4P3E22W-b7add13d-8802-46cb-8d3f-cb1ce7daf029: patch_number=15 have been skipped.\n",
            "UI4P3E22W-b7add13d-8802-46cb-8d3f-cb1ce7daf029: patch_number=16 have been skipped.\n",
            "UI4P3E22W-b7add13d-8802-46cb-8d3f-cb1ce7daf029: patch_number=17 have been skipped.\n",
            "UI4P3E22W-b7add13d-8802-46cb-8d3f-cb1ce7daf029: patch_number=18 have been skipped.\n",
            "UI4P3E22W-b7add13d-8802-46cb-8d3f-cb1ce7daf029: patch_number=19 have been skipped.\n",
            "UI4P3E22W-b7add13d-8802-46cb-8d3f-cb1ce7daf029: patch_number=34 have been skipped.\n",
            "UI4P3E22W-b7add13d-8802-46cb-8d3f-cb1ce7daf029: patch_number=35 have been skipped.\n",
            "UI4P3E22W-b7add13d-8802-46cb-8d3f-cb1ce7daf029: patch_number=36 have been skipped.\n",
            "UI4P3E22W-b7add13d-8802-46cb-8d3f-cb1ce7daf029: patch_number=53 have been skipped.\n"
          ],
          "name": "stdout"
        },
        {
          "output_type": "stream",
          "text": [
            "\r 80%|████████  | 24/30 [04:09<00:57,  9.50s/it]"
          ],
          "name": "stderr"
        },
        {
          "output_type": "stream",
          "text": [
            "UI4P3E22W-b7add13d-8802-46cb-8d3f-cb1ce7daf029: patch_number=270 have been skipped.\n",
            "UI4P3E22W-b7add13d-8802-46cb-8d3f-cb1ce7daf029: patch_number=288 have been skipped.\n",
            "UI4P3E22W-b7add13d-8802-46cb-8d3f-cb1ce7daf029: patch_number=289 have been skipped.\n",
            "UI4P3E22W-b7add13d-8802-46cb-8d3f-cb1ce7daf029: patch_number=305 have been skipped.\n",
            "UI4P3E22W-b7add13d-8802-46cb-8d3f-cb1ce7daf029: patch_number=306 have been skipped.\n",
            "UI4P3E22W-b7add13d-8802-46cb-8d3f-cb1ce7daf029: patch_number=307 have been skipped.\n",
            "UI4P3E22W-b7add13d-8802-46cb-8d3f-cb1ce7daf029: patch_number=308 have been skipped.\n",
            "UI4P3E22W-b7add13d-8802-46cb-8d3f-cb1ce7daf029: patch_number=323 have been skipped.\n",
            "b7add13d-8802-46cb-8d3f-cb1ce7daf029_UI4P3E22W: n=304 patches have been saved, original size=(3999, 4016, 3).\n"
          ],
          "name": "stdout"
        },
        {
          "output_type": "stream",
          "text": [
            "\r 83%|████████▎ | 25/30 [04:20<00:49,  9.87s/it]"
          ],
          "name": "stderr"
        },
        {
          "output_type": "stream",
          "text": [
            "VQY9V2E1Q-7e227290-9936-483e-90de-949c80f984d7: patch_number=344 have been skipped.\n",
            "VQY9V2E1Q-7e227290-9936-483e-90de-949c80f984d7: patch_number=345 have been skipped.\n",
            "VQY9V2E1Q-7e227290-9936-483e-90de-949c80f984d7: patch_number=346 have been skipped.\n",
            "VQY9V2E1Q-7e227290-9936-483e-90de-949c80f984d7: patch_number=347 have been skipped.\n",
            "VQY9V2E1Q-7e227290-9936-483e-90de-949c80f984d7: patch_number=348 have been skipped.\n",
            "VQY9V2E1Q-7e227290-9936-483e-90de-949c80f984d7: patch_number=349 have been skipped.\n",
            "VQY9V2E1Q-7e227290-9936-483e-90de-949c80f984d7: patch_number=354 have been skipped.\n",
            "VQY9V2E1Q-7e227290-9936-483e-90de-949c80f984d7: patch_number=355 have been skipped.\n",
            "VQY9V2E1Q-7e227290-9936-483e-90de-949c80f984d7: patch_number=356 have been skipped.\n",
            "VQY9V2E1Q-7e227290-9936-483e-90de-949c80f984d7: patch_number=357 have been skipped.\n",
            "VQY9V2E1Q-7e227290-9936-483e-90de-949c80f984d7: patch_number=358 have been skipped.\n",
            "VQY9V2E1Q-7e227290-9936-483e-90de-949c80f984d7: patch_number=359 have been skipped.\n",
            "7e227290-9936-483e-90de-949c80f984d7_VQY9V2E1Q: n=348 patches have been saved, original size=(7980, 2116, 3).\n"
          ],
          "name": "stdout"
        },
        {
          "output_type": "stream",
          "text": [
            "\r 87%|████████▋ | 26/30 [04:31<00:40, 10.06s/it]"
          ],
          "name": "stderr"
        },
        {
          "output_type": "stream",
          "text": [
            "VWYBY2FQY-7e227290-9936-483e-90de-949c80f984d7: patch_number=344 have been skipped.\n",
            "VWYBY2FQY-7e227290-9936-483e-90de-949c80f984d7: patch_number=345 have been skipped.\n",
            "VWYBY2FQY-7e227290-9936-483e-90de-949c80f984d7: patch_number=346 have been skipped.\n",
            "VWYBY2FQY-7e227290-9936-483e-90de-949c80f984d7: patch_number=347 have been skipped.\n",
            "VWYBY2FQY-7e227290-9936-483e-90de-949c80f984d7: patch_number=348 have been skipped.\n",
            "VWYBY2FQY-7e227290-9936-483e-90de-949c80f984d7: patch_number=349 have been skipped.\n",
            "VWYBY2FQY-7e227290-9936-483e-90de-949c80f984d7: patch_number=354 have been skipped.\n",
            "VWYBY2FQY-7e227290-9936-483e-90de-949c80f984d7: patch_number=355 have been skipped.\n",
            "VWYBY2FQY-7e227290-9936-483e-90de-949c80f984d7: patch_number=356 have been skipped.\n",
            "VWYBY2FQY-7e227290-9936-483e-90de-949c80f984d7: patch_number=357 have been skipped.\n",
            "VWYBY2FQY-7e227290-9936-483e-90de-949c80f984d7: patch_number=358 have been skipped.\n",
            "VWYBY2FQY-7e227290-9936-483e-90de-949c80f984d7: patch_number=359 have been skipped.\n",
            "7e227290-9936-483e-90de-949c80f984d7_VWYBY2FQY: n=348 patches have been saved, original size=(7980, 2116, 3).\n",
            "W7AADUXTW-b7add13d-8802-46cb-8d3f-cb1ce7daf029: patch_number=0 have been skipped.\n",
            "W7AADUXTW-b7add13d-8802-46cb-8d3f-cb1ce7daf029: patch_number=1 have been skipped.\n",
            "W7AADUXTW-b7add13d-8802-46cb-8d3f-cb1ce7daf029: patch_number=2 have been skipped.\n",
            "W7AADUXTW-b7add13d-8802-46cb-8d3f-cb1ce7daf029: patch_number=3 have been skipped.\n",
            "W7AADUXTW-b7add13d-8802-46cb-8d3f-cb1ce7daf029: patch_number=17 have been skipped.\n",
            "W7AADUXTW-b7add13d-8802-46cb-8d3f-cb1ce7daf029: patch_number=18 have been skipped.\n",
            "W7AADUXTW-b7add13d-8802-46cb-8d3f-cb1ce7daf029: patch_number=19 have been skipped.\n",
            "W7AADUXTW-b7add13d-8802-46cb-8d3f-cb1ce7daf029: patch_number=20 have been skipped.\n",
            "W7AADUXTW-b7add13d-8802-46cb-8d3f-cb1ce7daf029: patch_number=21 have been skipped.\n",
            "W7AADUXTW-b7add13d-8802-46cb-8d3f-cb1ce7daf029: patch_number=22 have been skipped.\n",
            "W7AADUXTW-b7add13d-8802-46cb-8d3f-cb1ce7daf029: patch_number=39 have been skipped.\n",
            "W7AADUXTW-b7add13d-8802-46cb-8d3f-cb1ce7daf029: patch_number=40 have been skipped.\n",
            "W7AADUXTW-b7add13d-8802-46cb-8d3f-cb1ce7daf029: patch_number=41 have been skipped.\n",
            "W7AADUXTW-b7add13d-8802-46cb-8d3f-cb1ce7daf029: patch_number=42 have been skipped.\n",
            "W7AADUXTW-b7add13d-8802-46cb-8d3f-cb1ce7daf029: patch_number=61 have been skipped.\n",
            "W7AADUXTW-b7add13d-8802-46cb-8d3f-cb1ce7daf029: patch_number=62 have been skipped.\n",
            "W7AADUXTW-b7add13d-8802-46cb-8d3f-cb1ce7daf029: patch_number=63 have been skipped.\n",
            "W7AADUXTW-b7add13d-8802-46cb-8d3f-cb1ce7daf029: patch_number=83 have been skipped.\n",
            "W7AADUXTW-b7add13d-8802-46cb-8d3f-cb1ce7daf029: patch_number=357 have been skipped.\n",
            "W7AADUXTW-b7add13d-8802-46cb-8d3f-cb1ce7daf029: patch_number=378 have been skipped.\n",
            "W7AADUXTW-b7add13d-8802-46cb-8d3f-cb1ce7daf029: patch_number=399 have been skipped.\n",
            "W7AADUXTW-b7add13d-8802-46cb-8d3f-cb1ce7daf029: patch_number=400 have been skipped.\n",
            "W7AADUXTW-b7add13d-8802-46cb-8d3f-cb1ce7daf029: patch_number=418 have been skipped.\n",
            "W7AADUXTW-b7add13d-8802-46cb-8d3f-cb1ce7daf029: patch_number=419 have been skipped.\n",
            "W7AADUXTW-b7add13d-8802-46cb-8d3f-cb1ce7daf029: patch_number=420 have been skipped.\n",
            "W7AADUXTW-b7add13d-8802-46cb-8d3f-cb1ce7daf029: patch_number=421 have been skipped.\n",
            "W7AADUXTW-b7add13d-8802-46cb-8d3f-cb1ce7daf029: patch_number=422 have been skipped.\n"
          ],
          "name": "stdout"
        },
        {
          "output_type": "stream",
          "text": [
            "\r 90%|█████████ | 27/30 [04:43<00:32, 10.74s/it]"
          ],
          "name": "stderr"
        },
        {
          "output_type": "stream",
          "text": [
            "W7AADUXTW-b7add13d-8802-46cb-8d3f-cb1ce7daf029: patch_number=439 have been skipped.\n",
            "W7AADUXTW-b7add13d-8802-46cb-8d3f-cb1ce7daf029: patch_number=440 have been skipped.\n",
            "W7AADUXTW-b7add13d-8802-46cb-8d3f-cb1ce7daf029: patch_number=441 have been skipped.\n",
            "W7AADUXTW-b7add13d-8802-46cb-8d3f-cb1ce7daf029: patch_number=442 have been skipped.\n",
            "W7AADUXTW-b7add13d-8802-46cb-8d3f-cb1ce7daf029: patch_number=443 have been skipped.\n",
            "W7AADUXTW-b7add13d-8802-46cb-8d3f-cb1ce7daf029: patch_number=460 have been skipped.\n",
            "W7AADUXTW-b7add13d-8802-46cb-8d3f-cb1ce7daf029: patch_number=461 have been skipped.\n",
            "b7add13d-8802-46cb-8d3f-cb1ce7daf029_W7AADUXTW: n=428 patches have been saved, original size=(4708, 4541, 3).\n",
            "YLTE7FRJW-b7add13d-8802-46cb-8d3f-cb1ce7daf029: patch_number=0 have been skipped.\n",
            "YLTE7FRJW-b7add13d-8802-46cb-8d3f-cb1ce7daf029: patch_number=1 have been skipped.\n",
            "YLTE7FRJW-b7add13d-8802-46cb-8d3f-cb1ce7daf029: patch_number=2 have been skipped.\n",
            "YLTE7FRJW-b7add13d-8802-46cb-8d3f-cb1ce7daf029: patch_number=15 have been skipped.\n",
            "YLTE7FRJW-b7add13d-8802-46cb-8d3f-cb1ce7daf029: patch_number=16 have been skipped.\n",
            "YLTE7FRJW-b7add13d-8802-46cb-8d3f-cb1ce7daf029: patch_number=17 have been skipped.\n",
            "YLTE7FRJW-b7add13d-8802-46cb-8d3f-cb1ce7daf029: patch_number=18 have been skipped.\n",
            "YLTE7FRJW-b7add13d-8802-46cb-8d3f-cb1ce7daf029: patch_number=19 have been skipped.\n",
            "YLTE7FRJW-b7add13d-8802-46cb-8d3f-cb1ce7daf029: patch_number=34 have been skipped.\n",
            "YLTE7FRJW-b7add13d-8802-46cb-8d3f-cb1ce7daf029: patch_number=35 have been skipped.\n",
            "YLTE7FRJW-b7add13d-8802-46cb-8d3f-cb1ce7daf029: patch_number=36 have been skipped.\n",
            "YLTE7FRJW-b7add13d-8802-46cb-8d3f-cb1ce7daf029: patch_number=53 have been skipped.\n"
          ],
          "name": "stdout"
        },
        {
          "output_type": "stream",
          "text": [
            "\r 93%|█████████▎| 28/30 [04:51<00:20, 10.08s/it]"
          ],
          "name": "stderr"
        },
        {
          "output_type": "stream",
          "text": [
            "YLTE7FRJW-b7add13d-8802-46cb-8d3f-cb1ce7daf029: patch_number=270 have been skipped.\n",
            "YLTE7FRJW-b7add13d-8802-46cb-8d3f-cb1ce7daf029: patch_number=288 have been skipped.\n",
            "YLTE7FRJW-b7add13d-8802-46cb-8d3f-cb1ce7daf029: patch_number=289 have been skipped.\n",
            "YLTE7FRJW-b7add13d-8802-46cb-8d3f-cb1ce7daf029: patch_number=305 have been skipped.\n",
            "YLTE7FRJW-b7add13d-8802-46cb-8d3f-cb1ce7daf029: patch_number=306 have been skipped.\n",
            "YLTE7FRJW-b7add13d-8802-46cb-8d3f-cb1ce7daf029: patch_number=307 have been skipped.\n",
            "YLTE7FRJW-b7add13d-8802-46cb-8d3f-cb1ce7daf029: patch_number=308 have been skipped.\n",
            "YLTE7FRJW-b7add13d-8802-46cb-8d3f-cb1ce7daf029: patch_number=323 have been skipped.\n",
            "b7add13d-8802-46cb-8d3f-cb1ce7daf029_YLTE7FRJW: n=304 patches have been saved, original size=(3999, 4016, 3).\n",
            "ZVDH6FY93-b7add13d-8802-46cb-8d3f-cb1ce7daf029: patch_number=0 have been skipped.\n",
            "ZVDH6FY93-b7add13d-8802-46cb-8d3f-cb1ce7daf029: patch_number=1 have been skipped.\n",
            "ZVDH6FY93-b7add13d-8802-46cb-8d3f-cb1ce7daf029: patch_number=2 have been skipped.\n",
            "ZVDH6FY93-b7add13d-8802-46cb-8d3f-cb1ce7daf029: patch_number=15 have been skipped.\n",
            "ZVDH6FY93-b7add13d-8802-46cb-8d3f-cb1ce7daf029: patch_number=16 have been skipped.\n",
            "ZVDH6FY93-b7add13d-8802-46cb-8d3f-cb1ce7daf029: patch_number=17 have been skipped.\n",
            "ZVDH6FY93-b7add13d-8802-46cb-8d3f-cb1ce7daf029: patch_number=18 have been skipped.\n",
            "ZVDH6FY93-b7add13d-8802-46cb-8d3f-cb1ce7daf029: patch_number=19 have been skipped.\n",
            "ZVDH6FY93-b7add13d-8802-46cb-8d3f-cb1ce7daf029: patch_number=34 have been skipped.\n",
            "ZVDH6FY93-b7add13d-8802-46cb-8d3f-cb1ce7daf029: patch_number=35 have been skipped.\n",
            "ZVDH6FY93-b7add13d-8802-46cb-8d3f-cb1ce7daf029: patch_number=36 have been skipped.\n",
            "ZVDH6FY93-b7add13d-8802-46cb-8d3f-cb1ce7daf029: patch_number=53 have been skipped.\n"
          ],
          "name": "stdout"
        },
        {
          "output_type": "stream",
          "text": [
            "\r 97%|█████████▋| 29/30 [05:00<00:09,  9.74s/it]"
          ],
          "name": "stderr"
        },
        {
          "output_type": "stream",
          "text": [
            "ZVDH6FY93-b7add13d-8802-46cb-8d3f-cb1ce7daf029: patch_number=270 have been skipped.\n",
            "ZVDH6FY93-b7add13d-8802-46cb-8d3f-cb1ce7daf029: patch_number=288 have been skipped.\n",
            "ZVDH6FY93-b7add13d-8802-46cb-8d3f-cb1ce7daf029: patch_number=289 have been skipped.\n",
            "ZVDH6FY93-b7add13d-8802-46cb-8d3f-cb1ce7daf029: patch_number=305 have been skipped.\n",
            "ZVDH6FY93-b7add13d-8802-46cb-8d3f-cb1ce7daf029: patch_number=306 have been skipped.\n",
            "ZVDH6FY93-b7add13d-8802-46cb-8d3f-cb1ce7daf029: patch_number=307 have been skipped.\n",
            "ZVDH6FY93-b7add13d-8802-46cb-8d3f-cb1ce7daf029: patch_number=308 have been skipped.\n",
            "ZVDH6FY93-b7add13d-8802-46cb-8d3f-cb1ce7daf029: patch_number=323 have been skipped.\n",
            "b7add13d-8802-46cb-8d3f-cb1ce7daf029_ZVDH6FY93: n=304 patches have been saved, original size=(3999, 4016, 3).\n"
          ],
          "name": "stdout"
        },
        {
          "output_type": "stream",
          "text": [
            "100%|██████████| 30/30 [05:11<00:00, 10.37s/it]"
          ],
          "name": "stderr"
        },
        {
          "output_type": "stream",
          "text": [
            "ZVFAN11AI-7e227290-9936-483e-90de-949c80f984d7: patch_number=344 have been skipped.\n",
            "ZVFAN11AI-7e227290-9936-483e-90de-949c80f984d7: patch_number=345 have been skipped.\n",
            "ZVFAN11AI-7e227290-9936-483e-90de-949c80f984d7: patch_number=346 have been skipped.\n",
            "ZVFAN11AI-7e227290-9936-483e-90de-949c80f984d7: patch_number=347 have been skipped.\n",
            "ZVFAN11AI-7e227290-9936-483e-90de-949c80f984d7: patch_number=348 have been skipped.\n",
            "ZVFAN11AI-7e227290-9936-483e-90de-949c80f984d7: patch_number=349 have been skipped.\n",
            "ZVFAN11AI-7e227290-9936-483e-90de-949c80f984d7: patch_number=354 have been skipped.\n",
            "ZVFAN11AI-7e227290-9936-483e-90de-949c80f984d7: patch_number=355 have been skipped.\n",
            "ZVFAN11AI-7e227290-9936-483e-90de-949c80f984d7: patch_number=356 have been skipped.\n",
            "ZVFAN11AI-7e227290-9936-483e-90de-949c80f984d7: patch_number=357 have been skipped.\n",
            "ZVFAN11AI-7e227290-9936-483e-90de-949c80f984d7: patch_number=358 have been skipped.\n",
            "ZVFAN11AI-7e227290-9936-483e-90de-949c80f984d7: patch_number=359 have been skipped.\n",
            "7e227290-9936-483e-90de-949c80f984d7_ZVFAN11AI: n=348 patches have been saved, original size=(7980, 2116, 3).\n"
          ],
          "name": "stdout"
        },
        {
          "output_type": "stream",
          "text": [
            "\n"
          ],
          "name": "stderr"
        }
      ]
    },
    {
      "cell_type": "code",
      "metadata": {
        "id": "ns9fK7qLkYoB"
      },
      "source": [
        "df.to_csv('image_data_224.csv')"
      ],
      "execution_count": 14,
      "outputs": []
    },
    {
      "cell_type": "code",
      "metadata": {
        "colab": {
          "base_uri": "https://localhost:8080/",
          "height": 17
        },
        "id": "PeCvb5ZhLQpD",
        "outputId": "0b79ae17-9b3f-4573-ba1c-a30601585805"
      },
      "source": [
        "from google.colab import files\n",
        "files.download(\"/content/image_data_224.csv\")"
      ],
      "execution_count": 15,
      "outputs": [
        {
          "output_type": "display_data",
          "data": {
            "application/javascript": [
              "\n",
              "    async function download(id, filename, size) {\n",
              "      if (!google.colab.kernel.accessAllowed) {\n",
              "        return;\n",
              "      }\n",
              "      const div = document.createElement('div');\n",
              "      const label = document.createElement('label');\n",
              "      label.textContent = `Downloading \"${filename}\": `;\n",
              "      div.appendChild(label);\n",
              "      const progress = document.createElement('progress');\n",
              "      progress.max = size;\n",
              "      div.appendChild(progress);\n",
              "      document.body.appendChild(div);\n",
              "\n",
              "      const buffers = [];\n",
              "      let downloaded = 0;\n",
              "\n",
              "      const channel = await google.colab.kernel.comms.open(id);\n",
              "      // Send a message to notify the kernel that we're ready.\n",
              "      channel.send({})\n",
              "\n",
              "      for await (const message of channel.messages) {\n",
              "        // Send a message to notify the kernel that we're ready.\n",
              "        channel.send({})\n",
              "        if (message.buffers) {\n",
              "          for (const buffer of message.buffers) {\n",
              "            buffers.push(buffer);\n",
              "            downloaded += buffer.byteLength;\n",
              "            progress.value = downloaded;\n",
              "          }\n",
              "        }\n",
              "      }\n",
              "      const blob = new Blob(buffers, {type: 'application/binary'});\n",
              "      const a = document.createElement('a');\n",
              "      a.href = window.URL.createObjectURL(blob);\n",
              "      a.download = filename;\n",
              "      div.appendChild(a);\n",
              "      a.click();\n",
              "      div.remove();\n",
              "    }\n",
              "  "
            ],
            "text/plain": [
              "<IPython.core.display.Javascript object>"
            ]
          },
          "metadata": {
            "tags": []
          }
        },
        {
          "output_type": "display_data",
          "data": {
            "application/javascript": [
              "download(\"download_0103576f-66f4-407a-9579-91f861bc46c1\", \"image_data_224.csv\", 1724926)"
            ],
            "text/plain": [
              "<IPython.core.display.Javascript object>"
            ]
          },
          "metadata": {
            "tags": []
          }
        }
      ]
    },
    {
      "cell_type": "code",
      "metadata": {
        "colab": {
          "base_uri": "https://localhost:8080/",
          "height": 204
        },
        "id": "TU9ZIo3ZlnRm",
        "outputId": "e2d34180-b5a1-4be9-e97c-76c3f5a344ff"
      },
      "source": [
        "df.head()"
      ],
      "execution_count": 50,
      "outputs": [
        {
          "output_type": "execute_result",
          "data": {
            "text/html": [
              "<div>\n",
              "<style scoped>\n",
              "    .dataframe tbody tr th:only-of-type {\n",
              "        vertical-align: middle;\n",
              "    }\n",
              "\n",
              "    .dataframe tbody tr th {\n",
              "        vertical-align: top;\n",
              "    }\n",
              "\n",
              "    .dataframe thead th {\n",
              "        text-align: right;\n",
              "    }\n",
              "</style>\n",
              "<table border=\"1\" class=\"dataframe\">\n",
              "  <thead>\n",
              "    <tr style=\"text-align: right;\">\n",
              "      <th></th>\n",
              "      <th>Unnamed: 0</th>\n",
              "      <th>flight_code</th>\n",
              "      <th>field_token</th>\n",
              "      <th>class</th>\n",
              "      <th>flight_date</th>\n",
              "      <th>flight_number</th>\n",
              "      <th>tile_number</th>\n",
              "      <th>image_path</th>\n",
              "    </tr>\n",
              "  </thead>\n",
              "  <tbody>\n",
              "    <tr>\n",
              "      <th>0</th>\n",
              "      <td>0</td>\n",
              "      <td>1TJZT39WQ</td>\n",
              "      <td>b7add13d-8802-46cb-8d3f-cb1ce7daf029</td>\n",
              "      <td>False</td>\n",
              "      <td>2020-07-11</td>\n",
              "      <td>9</td>\n",
              "      <td>0</td>\n",
              "      <td>/content/final_image_data/b7add13d-8802-46cb-8...</td>\n",
              "    </tr>\n",
              "    <tr>\n",
              "      <th>1</th>\n",
              "      <td>1</td>\n",
              "      <td>1TJZT39WQ</td>\n",
              "      <td>b7add13d-8802-46cb-8d3f-cb1ce7daf029</td>\n",
              "      <td>False</td>\n",
              "      <td>2020-07-11</td>\n",
              "      <td>9</td>\n",
              "      <td>1</td>\n",
              "      <td>/content/final_image_data/b7add13d-8802-46cb-8...</td>\n",
              "    </tr>\n",
              "    <tr>\n",
              "      <th>2</th>\n",
              "      <td>2</td>\n",
              "      <td>1TJZT39WQ</td>\n",
              "      <td>b7add13d-8802-46cb-8d3f-cb1ce7daf029</td>\n",
              "      <td>False</td>\n",
              "      <td>2020-07-11</td>\n",
              "      <td>9</td>\n",
              "      <td>2</td>\n",
              "      <td>/content/final_image_data/b7add13d-8802-46cb-8...</td>\n",
              "    </tr>\n",
              "    <tr>\n",
              "      <th>3</th>\n",
              "      <td>3</td>\n",
              "      <td>1TJZT39WQ</td>\n",
              "      <td>b7add13d-8802-46cb-8d3f-cb1ce7daf029</td>\n",
              "      <td>False</td>\n",
              "      <td>2020-07-11</td>\n",
              "      <td>9</td>\n",
              "      <td>3</td>\n",
              "      <td>/content/final_image_data/b7add13d-8802-46cb-8...</td>\n",
              "    </tr>\n",
              "    <tr>\n",
              "      <th>4</th>\n",
              "      <td>4</td>\n",
              "      <td>1TJZT39WQ</td>\n",
              "      <td>b7add13d-8802-46cb-8d3f-cb1ce7daf029</td>\n",
              "      <td>False</td>\n",
              "      <td>2020-07-11</td>\n",
              "      <td>9</td>\n",
              "      <td>4</td>\n",
              "      <td>/content/final_image_data/b7add13d-8802-46cb-8...</td>\n",
              "    </tr>\n",
              "  </tbody>\n",
              "</table>\n",
              "</div>"
            ],
            "text/plain": [
              "   Unnamed: 0  ...                                         image_path\n",
              "0           0  ...  /content/final_image_data/b7add13d-8802-46cb-8...\n",
              "1           1  ...  /content/final_image_data/b7add13d-8802-46cb-8...\n",
              "2           2  ...  /content/final_image_data/b7add13d-8802-46cb-8...\n",
              "3           3  ...  /content/final_image_data/b7add13d-8802-46cb-8...\n",
              "4           4  ...  /content/final_image_data/b7add13d-8802-46cb-8...\n",
              "\n",
              "[5 rows x 8 columns]"
            ]
          },
          "metadata": {
            "tags": []
          },
          "execution_count": 50
        }
      ]
    },
    {
      "cell_type": "code",
      "metadata": {
        "colab": {
          "base_uri": "https://localhost:8080/"
        },
        "id": "_QmXVWAEsiOc",
        "outputId": "937aff2e-80a2-4737-894a-e7790d66eff3"
      },
      "source": [
        "df.shape"
      ],
      "execution_count": 51,
      "outputs": [
        {
          "output_type": "execute_result",
          "data": {
            "text/plain": [
              "(10437, 8)"
            ]
          },
          "metadata": {
            "tags": []
          },
          "execution_count": 51
        }
      ]
    },
    {
      "cell_type": "code",
      "metadata": {
        "id": "pviF5nfqIXNY"
      },
      "source": [
        "import pandas as pd\n",
        "df=pd.read_csv(\"/content/image_data_224.csv\")"
      ],
      "execution_count": 49,
      "outputs": []
    },
    {
      "cell_type": "code",
      "metadata": {
        "id": "Ua9eikUG0Ce5"
      },
      "source": [
        "# from sklearn.utils import shuffle\n",
        "# flight_codes=list(set(df.flight_code))\n",
        "# flight_codes=shuffle(flight_codes, random_state=42)\n",
        "# train_ids = flight_codes[:20]\n",
        "# val_ids = flight_codes[20:25]\n",
        "# test_ids = flight_codes[25:]\n",
        "# train_data=df[df['flight_code'].isin(train_ids)]\n",
        "# val_data=df[df['flight_code'].isin(val_ids)]\n",
        "# test_data=df[df['flight_code'].isin(test_ids)]\n"
      ],
      "execution_count": null,
      "outputs": []
    },
    {
      "cell_type": "code",
      "metadata": {
        "id": "GCo2muh0ANS4"
      },
      "source": [
        "# from sklearn.model_selection import train_test_split\n",
        "# train_data, test_data, _, _,= train_test_split(df, df, test_size=0.15, random_state=42, shuffle=True)\n",
        "# train_data, val_data, _, _,= train_test_split(train_data, train_data, test_size=0.15, random_state=42, shuffle=True)\n"
      ],
      "execution_count": null,
      "outputs": []
    },
    {
      "cell_type": "code",
      "metadata": {
        "id": "ZdA_8PXcx8Nt"
      },
      "source": [
        "from sklearn.utils import shuffle\n",
        "false_ids = list(set(df[df['class'] == False]['flight_code']))\n",
        "false_ids = shuffle(false_ids, random_state=42)\n",
        "train_ids=false_ids[:13]\n",
        "val_ids=false_ids[13:16]\n",
        "test_ids=false_ids[16:]\n",
        "true_ids = list(set(df[df['class'] == True]['flight_code']))\n",
        "true_ids = shuffle(true_ids,random_state=42)\n",
        "train_ids = train_ids + true_ids[:7]\n",
        "val_ids= val_ids+true_ids[7:9]\n",
        "test_ids=test_ids + true_ids[9:]\n",
        "train_data=df[df['flight_code'].isin(train_ids)]\n",
        "val_data=df[df['flight_code'].isin(val_ids)]\n",
        "test_data=df[df['flight_code'].isin(test_ids)]"
      ],
      "execution_count": null,
      "outputs": []
    },
    {
      "cell_type": "code",
      "metadata": {
        "colab": {
          "base_uri": "https://localhost:8080/"
        },
        "id": "xbx6asSdAB5i",
        "outputId": "bd1b2910-f5af-410f-bb14-0c574ae60e73"
      },
      "source": [
        "false_ids, true_ids"
      ],
      "execution_count": null,
      "outputs": [
        {
          "output_type": "execute_result",
          "data": {
            "text/plain": [
              "(['NRI4TEP79',\n",
              "  'GU8YLRNEP',\n",
              "  'N9WCYFDNV',\n",
              "  'N7W26YIGK',\n",
              "  'KR4TV4KAT',\n",
              "  '2HHWV1DD4',\n",
              "  'FYXD9U983',\n",
              "  'ZVDH6FY93',\n",
              "  'P1VA9VFEP',\n",
              "  'M1UED3JAF',\n",
              "  'Q9ALKK7XZ',\n",
              "  '1TJZT39WQ',\n",
              "  'VQY9V2E1Q',\n",
              "  'EB4KG2F6D',\n",
              "  'W7AADUXTW',\n",
              "  'ZVFAN11AI',\n",
              "  'F98U2YA3K',\n",
              "  'FVI8IQG1F',\n",
              "  'VWYBY2FQY'],\n",
              " ['YLTE7FRJW',\n",
              "  'J926FMUHU',\n",
              "  'KQNQBAHEH',\n",
              "  'E83UE8JT4',\n",
              "  '3KR1212BR',\n",
              "  'FPG2L7UTK',\n",
              "  'UI4P3E22W',\n",
              "  '42T73AQE8',\n",
              "  'GP3VC3W6C',\n",
              "  'EVTQTDFEJ',\n",
              "  'GWWIAV2VV'])"
            ]
          },
          "metadata": {
            "tags": []
          },
          "execution_count": 5
        }
      ]
    },
    {
      "cell_type": "code",
      "metadata": {
        "id": "hg1-ItpQMbf3",
        "colab": {
          "base_uri": "https://localhost:8080/"
        },
        "outputId": "e93f99d1-6669-44c8-90c2-cd7d45b7f7da"
      },
      "source": [
        "print({'train_data' : len(train_data),  \n",
        "       'val_data' :   len(val_data),\n",
        "       'test_data' : len(test_data)})"
      ],
      "execution_count": null,
      "outputs": [
        {
          "output_type": "stream",
          "text": [
            "{'train_data': 6772, 'val_data': 1986, 'test_data': 1679}\n"
          ],
          "name": "stdout"
        }
      ]
    },
    {
      "cell_type": "code",
      "metadata": {
        "id": "fglfpNpQQJWp",
        "colab": {
          "base_uri": "https://localhost:8080/"
        },
        "outputId": "f7388181-9bc7-4dbb-806f-c12e7acd639b"
      },
      "source": [
        "\n",
        "print({'train_classes' : train_data['class'].mean()})\n",
        "print({'val_classes' : val_data['class'].mean()})\n",
        "print({'test_classes' : test_data['class'].mean()})"
      ],
      "execution_count": null,
      "outputs": [
        {
          "output_type": "stream",
          "text": [
            "{'train_classes': 0.3520378027170703}\n",
            "{'val_classes': 0.4340382678751259}\n",
            "{'test_classes': 0.4044073853484217}\n"
          ],
          "name": "stdout"
        }
      ]
    },
    {
      "cell_type": "markdown",
      "metadata": {
        "id": "3EdsxoPiGoQi"
      },
      "source": [
        "The data is saved in '/content/final_image_data/' folder. You can find there also the \"tiles.CSV\" file which is the same dataframe in CSV format\n",
        "Dataframe contains image paths which you should use during training and the label - 'class', which is a boolean column, so you have binary \n",
        "classfication problem."
      ]
    },
    {
      "cell_type": "code",
      "metadata": {
        "id": "iJFAGskMG5Mi"
      },
      "source": [
        "# equal observation for  two classes\n",
        "train_data1=train_data[train_data['class']==True] \n",
        "train_data2=train_data[train_data['class']==False].iloc[:train_data1.shape[0],:]\n",
        "train_data=pd.concat((train_data1, train_data2))"
      ],
      "execution_count": null,
      "outputs": []
    },
    {
      "cell_type": "code",
      "metadata": {
        "colab": {
          "base_uri": "https://localhost:8080/"
        },
        "id": "oI55tQu_3cyP",
        "outputId": "aa8f7615-8911-477d-ba19-1cb7d31b7622"
      },
      "source": [
        "train_data.shape"
      ],
      "execution_count": null,
      "outputs": [
        {
          "output_type": "execute_result",
          "data": {
            "text/plain": [
              "(4768, 8)"
            ]
          },
          "metadata": {
            "tags": []
          },
          "execution_count": 9
        }
      ]
    },
    {
      "cell_type": "code",
      "metadata": {
        "id": "cqUBAwTo1B8u"
      },
      "source": [
        "def input_creation(data):\n",
        "  \"\"\"function for reading images using images' patch from data frame` df  and combine them in an array.\"\"\"\n",
        "  X=[]\n",
        "  Y=[]\n",
        "  for i in range(len(data)):\n",
        "    sample_image = read_image(data['image_path'].iloc[i])\n",
        "    #sample_image = cv2.resize(sample_image, dsize=(512, 512), interpolation=cv2.INTER_CUBIC)\n",
        "    sample_label = data['class'].iloc[i]\n",
        "    X.append(sample_image)\n",
        "    Y.append(sample_label)\n",
        "\n",
        "  return np.array(X), np.array(Y)\n",
        "\n"
      ],
      "execution_count": 18,
      "outputs": []
    },
    {
      "cell_type": "code",
      "metadata": {
        "id": "wxmQMIWT64B_"
      },
      "source": [
        "X_train, y_train = input_creation(train_data)\n",
        "X_val, y_val = input_creation(val_data)\n",
        "X_test, y_test = input_creation(test_data)\n"
      ],
      "execution_count": null,
      "outputs": []
    },
    {
      "cell_type": "code",
      "metadata": {
        "colab": {
          "base_uri": "https://localhost:8080/"
        },
        "id": "ASkf7ZBA63v6",
        "outputId": "6c8fef53-07ad-41a5-c805-48c9a0dd92b4"
      },
      "source": [
        "X_train.shape, y_train.shape"
      ],
      "execution_count": null,
      "outputs": [
        {
          "output_type": "execute_result",
          "data": {
            "text/plain": [
              "((4768, 224, 224, 3), (4768,))"
            ]
          },
          "metadata": {
            "tags": []
          },
          "execution_count": 21
        }
      ]
    },
    {
      "cell_type": "code",
      "metadata": {
        "id": "Zo6xTuy9B4MB",
        "colab": {
          "base_uri": "https://localhost:8080/",
          "height": 255
        },
        "outputId": "5871bf4c-eebf-4534-f6b8-cdc349f4f49c"
      },
      "source": [
        "cols = 8\n",
        "rows = 2\n",
        "fig = plt.figure(figsize=(2 * cols - 1, 2.5 * rows - 1))\n",
        "for i in range(cols):\n",
        "    for j in range(rows):\n",
        "        random_index = np.random.randint(0, len(y_train))\n",
        "        ax = fig.add_subplot(rows, cols, i * rows + j + 1)\n",
        "        ax.grid('off')\n",
        "        ax.axis('off')\n",
        "        ax.imshow(X_train[random_index, :])\n",
        "        ax.set_title(y_train[random_index])\n",
        "plt.show()"
      ],
      "execution_count": null,
      "outputs": [
        {
          "output_type": "display_data",
          "data": {
            "image/png": "[encoded data removed]",
            "text/plain": [
              "<Figure size 1080x288 with 16 Axes>"
            ]
          },
          "metadata": {
            "tags": [],
            "needs_background": "light"
          }
        }
      ]
    },
    {
      "cell_type": "code",
      "metadata": {
        "id": "CsEKPy-wm051"
      },
      "source": [
        "# import skimage\n",
        "# from skimage.measure import block_reduce"
      ],
      "execution_count": null,
      "outputs": []
    },
    {
      "cell_type": "code",
      "metadata": {
        "id": "MLNIQzHM1Bbs"
      },
      "source": [
        "import tensorflow as tf\n",
        "from tensorflow import keras\n",
        "from keras.models import Sequential\n",
        "from keras.layers import Dense, Activation, Flatten, Dropout, BatchNormalization, Input"
      ],
      "execution_count": null,
      "outputs": []
    },
    {
      "cell_type": "code",
      "metadata": {
        "id": "fIWJgnysQ_oE"
      },
      "source": [
        "from keras.applications import vgg16\n",
        "vgg16_model = vgg16.VGG16(weights='imagenet', include_top=False, input_shape=(224,224,3))"
      ],
      "execution_count": null,
      "outputs": []
    },
    {
      "cell_type": "code",
      "metadata": {
        "id": "1Byg2n1nQ_wk",
        "colab": {
          "base_uri": "https://localhost:8080/"
        },
        "outputId": "bd098fec-b785-4e8c-c4ee-bf83f07bedc0"
      },
      "source": [
        "vgg16_model.summary()"
      ],
      "execution_count": null,
      "outputs": [
        {
          "output_type": "stream",
          "text": [
            "Model: \"vgg16\"\n",
            "_________________________________________________________________\n",
            "Layer (type)                 Output Shape              Param #   \n",
            "=================================================================\n",
            "input_8 (InputLayer)         [(None, 224, 224, 3)]     0         \n",
            "_________________________________________________________________\n",
            "block1_conv1 (Conv2D)        (None, 224, 224, 64)      1792      \n",
            "_________________________________________________________________\n",
            "block1_conv2 (Conv2D)        (None, 224, 224, 64)      36928     \n",
            "_________________________________________________________________\n",
            "block1_pool (MaxPooling2D)   (None, 112, 112, 64)      0         \n",
            "_________________________________________________________________\n",
            "block2_conv1 (Conv2D)        (None, 112, 112, 128)     73856     \n",
            "_________________________________________________________________\n",
            "block2_conv2 (Conv2D)        (None, 112, 112, 128)     147584    \n",
            "_________________________________________________________________\n",
            "block2_pool (MaxPooling2D)   (None, 56, 56, 128)       0         \n",
            "_________________________________________________________________\n",
            "block3_conv1 (Conv2D)        (None, 56, 56, 256)       295168    \n",
            "_________________________________________________________________\n",
            "block3_conv2 (Conv2D)        (None, 56, 56, 256)       590080    \n",
            "_________________________________________________________________\n",
            "block3_conv3 (Conv2D)        (None, 56, 56, 256)       590080    \n",
            "_________________________________________________________________\n",
            "block3_pool (MaxPooling2D)   (None, 28, 28, 256)       0         \n",
            "_________________________________________________________________\n",
            "block4_conv1 (Conv2D)        (None, 28, 28, 512)       1180160   \n",
            "_________________________________________________________________\n",
            "block4_conv2 (Conv2D)        (None, 28, 28, 512)       2359808   \n",
            "_________________________________________________________________\n",
            "block4_conv3 (Conv2D)        (None, 28, 28, 512)       2359808   \n",
            "_________________________________________________________________\n",
            "block4_pool (MaxPooling2D)   (None, 14, 14, 512)       0         \n",
            "_________________________________________________________________\n",
            "block5_conv1 (Conv2D)        (None, 14, 14, 512)       2359808   \n",
            "_________________________________________________________________\n",
            "block5_conv2 (Conv2D)        (None, 14, 14, 512)       2359808   \n",
            "_________________________________________________________________\n",
            "block5_conv3 (Conv2D)        (None, 14, 14, 512)       2359808   \n",
            "_________________________________________________________________\n",
            "block5_pool (MaxPooling2D)   (None, 7, 7, 512)         0         \n",
            "=================================================================\n",
            "Total params: 14,714,688\n",
            "Trainable params: 14,714,688\n",
            "Non-trainable params: 0\n",
            "_________________________________________________________________\n"
          ],
          "name": "stdout"
        }
      ]
    },
    {
      "cell_type": "code",
      "metadata": {
        "id": "eNuucSNeQ_4y"
      },
      "source": [
        "model=Sequential([Input(shape=(224,224,3)),\n",
        "                  keras.layers.experimental.preprocessing.Rescaling(scale= 1 / 255.0)\n",
        "])\n",
        "for layer in vgg16_model.layers:\n",
        "  layer.trainable=False\n",
        "  model.add(layer)"
      ],
      "execution_count": null,
      "outputs": []
    },
    {
      "cell_type": "code",
      "metadata": {
        "id": "WUL02vTkmDdt"
      },
      "source": [
        "model.add(Flatten())\n",
        "model.add(Dense(128, activation='relu'))\n",
        "model.add(BatchNormalization())\n",
        "model.add(Dropout(0.5))\n",
        "model.add(Dense(1, activation='sigmoid'))"
      ],
      "execution_count": null,
      "outputs": []
    },
    {
      "cell_type": "code",
      "metadata": {
        "colab": {
          "base_uri": "https://localhost:8080/"
        },
        "id": "7X29oOkPh6Q6",
        "outputId": "b2255481-8968-430e-ff2a-87e43e582093"
      },
      "source": [
        "model.summary()"
      ],
      "execution_count": null,
      "outputs": [
        {
          "output_type": "stream",
          "text": [
            "Model: \"sequential_4\"\n",
            "_________________________________________________________________\n",
            "Layer (type)                 Output Shape              Param #   \n",
            "=================================================================\n",
            "rescaling_4 (Rescaling)      (None, 224, 224, 3)       0         \n",
            "_________________________________________________________________\n",
            "input_8 (InputLayer)         multiple                  0         \n",
            "_________________________________________________________________\n",
            "block1_conv1 (Conv2D)        (None, 224, 224, 64)      1792      \n",
            "_________________________________________________________________\n",
            "block1_conv2 (Conv2D)        (None, 224, 224, 64)      36928     \n",
            "_________________________________________________________________\n",
            "block1_pool (MaxPooling2D)   (None, 112, 112, 64)      0         \n",
            "_________________________________________________________________\n",
            "block2_conv1 (Conv2D)        (None, 112, 112, 128)     73856     \n",
            "_________________________________________________________________\n",
            "block2_conv2 (Conv2D)        (None, 112, 112, 128)     147584    \n",
            "_________________________________________________________________\n",
            "block2_pool (MaxPooling2D)   (None, 56, 56, 128)       0         \n",
            "_________________________________________________________________\n",
            "block3_conv1 (Conv2D)        (None, 56, 56, 256)       295168    \n",
            "_________________________________________________________________\n",
            "block3_conv2 (Conv2D)        (None, 56, 56, 256)       590080    \n",
            "_________________________________________________________________\n",
            "block3_conv3 (Conv2D)        (None, 56, 56, 256)       590080    \n",
            "_________________________________________________________________\n",
            "block3_pool (MaxPooling2D)   (None, 28, 28, 256)       0         \n",
            "_________________________________________________________________\n",
            "block4_conv1 (Conv2D)        (None, 28, 28, 512)       1180160   \n",
            "_________________________________________________________________\n",
            "block4_conv2 (Conv2D)        (None, 28, 28, 512)       2359808   \n",
            "_________________________________________________________________\n",
            "block4_conv3 (Conv2D)        (None, 28, 28, 512)       2359808   \n",
            "_________________________________________________________________\n",
            "block4_pool (MaxPooling2D)   (None, 14, 14, 512)       0         \n",
            "_________________________________________________________________\n",
            "block5_conv1 (Conv2D)        (None, 14, 14, 512)       2359808   \n",
            "_________________________________________________________________\n",
            "block5_conv2 (Conv2D)        (None, 14, 14, 512)       2359808   \n",
            "_________________________________________________________________\n",
            "block5_conv3 (Conv2D)        (None, 14, 14, 512)       2359808   \n",
            "_________________________________________________________________\n",
            "block5_pool (MaxPooling2D)   (None, 7, 7, 512)         0         \n",
            "_________________________________________________________________\n",
            "flatten_4 (Flatten)          (None, 25088)             0         \n",
            "_________________________________________________________________\n",
            "dense_9 (Dense)              (None, 128)               3211392   \n",
            "_________________________________________________________________\n",
            "batch_normalization_4 (Batch (None, 128)               512       \n",
            "_________________________________________________________________\n",
            "dropout_5 (Dropout)          (None, 128)               0         \n",
            "_________________________________________________________________\n",
            "dense_10 (Dense)             (None, 1)                 129       \n",
            "=================================================================\n",
            "Total params: 17,926,721\n",
            "Trainable params: 3,211,777\n",
            "Non-trainable params: 14,714,944\n",
            "_________________________________________________________________\n"
          ],
          "name": "stdout"
        }
      ]
    },
    {
      "cell_type": "code",
      "metadata": {
        "id": "Zun7p_YS7rp-"
      },
      "source": [
        "opt = keras.optimizers.SGD(lr=0.001, momentum=0.9)"
      ],
      "execution_count": null,
      "outputs": []
    },
    {
      "cell_type": "code",
      "metadata": {
        "id": "Awaiv1fEnMaF"
      },
      "source": [
        "model.compile(loss='binary_crossentropy',\n",
        "              optimizer='adam',\n",
        "              metrics=['accuracy'])"
      ],
      "execution_count": null,
      "outputs": []
    },
    {
      "cell_type": "code",
      "metadata": {
        "colab": {
          "base_uri": "https://localhost:8080/"
        },
        "id": "pWR0RGw6mtNN",
        "outputId": "7c62c995-ce32-4309-c8cc-68752e4b10a2"
      },
      "source": [
        "callback = tf.keras.callbacks.EarlyStopping(monitor='val_accuracy',mode='auto', patience=3, restore_best_weights=True)\n",
        "epochs=100\n",
        "batch_size=32\n",
        "history=model.fit(X_train, y_train,\n",
        "              batch_size=batch_size,\n",
        "          validation_data=(X_val, y_val),\n",
        "          callbacks=[callback],\n",
        "          epochs=epochs)"
      ],
      "execution_count": null,
      "outputs": [
        {
          "output_type": "stream",
          "text": [
            "Epoch 1/100\n",
            "157/157 [==============================] - 51s 318ms/step - loss: 0.3736 - accuracy: 0.8281 - val_loss: 1.1287 - val_accuracy: 0.7833\n",
            "Epoch 2/100\n",
            "157/157 [==============================] - 49s 314ms/step - loss: 0.1974 - accuracy: 0.9191 - val_loss: 1.3345 - val_accuracy: 0.7851\n",
            "Epoch 3/100\n",
            "157/157 [==============================] - 49s 314ms/step - loss: 0.1495 - accuracy: 0.9449 - val_loss: 1.1167 - val_accuracy: 0.7948\n",
            "Epoch 4/100\n",
            "157/157 [==============================] - 49s 314ms/step - loss: 0.1349 - accuracy: 0.9485 - val_loss: 1.6264 - val_accuracy: 0.7827\n",
            "Epoch 5/100\n",
            "157/157 [==============================] - 49s 314ms/step - loss: 0.1245 - accuracy: 0.9524 - val_loss: 1.2452 - val_accuracy: 0.7954\n",
            "Epoch 6/100\n",
            "157/157 [==============================] - 49s 314ms/step - loss: 0.1097 - accuracy: 0.9578 - val_loss: 1.3899 - val_accuracy: 0.8015\n",
            "Epoch 7/100\n",
            "157/157 [==============================] - 49s 314ms/step - loss: 0.1056 - accuracy: 0.9570 - val_loss: 1.4207 - val_accuracy: 0.7863\n",
            "Epoch 8/100\n",
            "157/157 [==============================] - 49s 314ms/step - loss: 0.0894 - accuracy: 0.9672 - val_loss: 1.6906 - val_accuracy: 0.7960\n",
            "Epoch 9/100\n",
            "157/157 [==============================] - 49s 314ms/step - loss: 0.0897 - accuracy: 0.9651 - val_loss: 1.1226 - val_accuracy: 0.7918\n"
          ],
          "name": "stdout"
        }
      ]
    },
    {
      "cell_type": "code",
      "metadata": {
        "colab": {
          "base_uri": "https://localhost:8080/",
          "height": 295
        },
        "id": "5l76Z_3_nwOH",
        "outputId": "4abdfef5-075f-4b4e-ac48-09d5755c25be"
      },
      "source": [
        "plt.plot(history.history['accuracy'])\n",
        "plt.plot(history.history['val_accuracy'])\n",
        "plt.title('model accuracy')\n",
        "plt.ylabel('accuracy')\n",
        "plt.xlabel('epoch')\n",
        "plt.legend(['train', 'val'], loc='upper left')\n",
        "plt.show()"
      ],
      "execution_count": null,
      "outputs": [
        {
          "output_type": "display_data",
          "data": {
            "image/png": "[encoded data removed]",
            "text/plain": [
              "<Figure size 432x288 with 1 Axes>"
            ]
          },
          "metadata": {
            "tags": [],
            "needs_background": "light"
          }
        }
      ]
    },
    {
      "cell_type": "code",
      "metadata": {
        "colab": {
          "base_uri": "https://localhost:8080/",
          "height": 295
        },
        "id": "4qRUiv_QoAOT",
        "outputId": "b41d3285-505e-44ca-d171-bb35a743660a"
      },
      "source": [
        "plt.plot(history.history['loss'])\n",
        "plt.plot(history.history['val_loss'])\n",
        "plt.title('model loss')\n",
        "plt.ylabel('loss')\n",
        "plt.xlabel('epoch')\n",
        "plt.legend(['train', 'val'], loc='upper left')\n",
        "plt.show()"
      ],
      "execution_count": null,
      "outputs": [
        {
          "output_type": "display_data",
          "data": {
            "image/png": "[encoded data removed]",
            "text/plain": [
              "<Figure size 432x288 with 1 Axes>"
            ]
          },
          "metadata": {
            "tags": [],
            "needs_background": "light"
          }
        }
      ]
    },
    {
      "cell_type": "code",
      "metadata": {
        "colab": {
          "base_uri": "https://localhost:8080/"
        },
        "id": "CnJdFCZW9Ryd",
        "outputId": "11aeaa3a-d9ac-4a9d-b0e7-510e62da611b"
      },
      "source": [
        "model.evaluate(X_test, y_test)"
      ],
      "execution_count": null,
      "outputs": [
        {
          "output_type": "stream",
          "text": [
            "58/58 [==============================] - 14s 235ms/step - loss: 1.0269 - accuracy: 0.7198\n"
          ],
          "name": "stdout"
        },
        {
          "output_type": "execute_result",
          "data": {
            "text/plain": [
              "[1.0269443988800049, 0.7198275923728943]"
            ]
          },
          "metadata": {
            "tags": []
          },
          "execution_count": 127
        }
      ]
    },
    {
      "cell_type": "code",
      "metadata": {
        "colab": {
          "base_uri": "https://localhost:8080/"
        },
        "id": "i5CpoLT29YLN",
        "outputId": "7102df5a-d83e-486a-c1c7-6690314472b9"
      },
      "source": [
        "predictions=model.predict_classes(X_test)"
      ],
      "execution_count": null,
      "outputs": [
        {
          "output_type": "stream",
          "text": [
            "/usr/local/lib/python3.7/dist-packages/tensorflow/python/keras/engine/sequential.py:450: UserWarning: `model.predict_classes()` is deprecated and will be removed after 2021-01-01. Please use instead:* `np.argmax(model.predict(x), axis=-1)`,   if your model does multi-class classification   (e.g. if it uses a `softmax` last-layer activation).* `(model.predict(x) > 0.5).astype(\"int32\")`,   if your model does binary classification   (e.g. if it uses a `sigmoid` last-layer activation).\n",
            "  warnings.warn('`model.predict_classes()` is deprecated and '\n"
          ],
          "name": "stderr"
        }
      ]
    },
    {
      "cell_type": "code",
      "metadata": {
        "id": "aYyzZ6r0_8Zp"
      },
      "source": [
        "def plot_conf_matrix(cm, classes, normalize=True, title='confusion_matrix'):\n",
        "  plt.imshow(cm , interpolation='nearest')\n",
        "  plt.title(title)\n",
        "  plt.colorbar()\n",
        "  tick_marks=np.arange(len(classes))\n",
        "  plt.xticks(tick_marks, classes, rotation=25)\n",
        "  plt.yticks(tick_marks, classes)\n",
        "  if normalize:\n",
        "    cm=cm.astype('float32') / cm.sum(axis=1)[:, np.newaxis]\n",
        "  thresh = cm.max() / 2\n",
        "  for i, j in itertools.product(range(cm.shape[0]), range(cm.shape[1])):\n",
        "    plt.text(j, i, np.round(cm[i,j], 2))\n",
        "  plt.tight_layout()\n",
        "  plt.ylabel(\"True label\")\n",
        "  plt.xlabel(\"Predicted label\")\n"
      ],
      "execution_count": 19,
      "outputs": []
    },
    {
      "cell_type": "code",
      "metadata": {
        "id": "Gqebf5yYCA-g",
        "colab": {
          "base_uri": "https://localhost:8080/",
          "height": 311
        },
        "outputId": "1073ec24-0c71-4d9c-dcee-61ab3f0f0572"
      },
      "source": [
        "from sklearn.metrics import confusion_matrix\n",
        "cm=confusion_matrix(y_test, predictions)\n",
        "cm_class=['False', \"True\"]\n",
        "plot_conf_matrix(cm, cm_class, normalize=True)"
      ],
      "execution_count": null,
      "outputs": [
        {
          "output_type": "display_data",
          "data": {
            "image/png": "[encoded data removed]",
            "text/plain": [
              "<Figure size 432x288 with 2 Axes>"
            ]
          },
          "metadata": {
            "tags": [],
            "needs_background": "light"
          }
        }
      ]
    },
    {
      "cell_type": "code",
      "metadata": {
        "id": "J6rrz2Kf_Kg7"
      },
      "source": [
        "from sklearn.metrics import classification_report, f1_score, recall_score, precision_score, roc_auc_score, accuracy_score, roc_curve, auc\n",
        "def evaluation_matrics(y_test, predictions):\n",
        "  print({'accuracy for False class': accuracy_score(y_test[y_test==False], predictions[y_test==False].reshape(-1))})\n",
        "  print({'accuracy for True class': accuracy_score(y_test[y_test==True], predictions[y_test==True].reshape(-1))})\n",
        "  print({'accuracy ': accuracy_score(y_test, predictions.reshape(-1))})\n",
        "  # precision \n",
        "  precision = precision_score(y_test, predictions)\n",
        "  print('Precision: %f' % precision)\n",
        "  # recall:\n",
        "  recall = recall_score(y_test, predictions)\n",
        "  print('Recall: %f' % recall)\n",
        "  # f1 scorw:\n",
        "  f1 = f1_score(y_test, predictions)\n",
        "  print('F1 score: %f' % f1)"
      ],
      "execution_count": 20,
      "outputs": []
    },
    {
      "cell_type": "code",
      "metadata": {
        "colab": {
          "base_uri": "https://localhost:8080/"
        },
        "id": "MwSifoDLpLML",
        "outputId": "30582676-b38a-4aa5-a0fe-cb3ba3f5f8e0"
      },
      "source": [
        "evaluation_matrics(y_test, predictions)"
      ],
      "execution_count": null,
      "outputs": [
        {
          "output_type": "stream",
          "text": [
            "{'accuracy for False class': 0.6916666666666667}\n",
            "{'accuracy for True class': 0.759020618556701}\n",
            "{'accuracy ': 0.7198275862068966}\n",
            "Precision: 0.638829\n",
            "Recall: 0.759021\n",
            "F1 score: 0.693757\n"
          ],
          "name": "stdout"
        }
      ]
    },
    {
      "cell_type": "code",
      "metadata": {
        "colab": {
          "base_uri": "https://localhost:8080/"
        },
        "id": "PLqvIjEnqODo",
        "outputId": "c7271904-08af-4bd6-c740-af49e008f64f"
      },
      "source": [
        "print(classification_report(y_test, predictions))"
      ],
      "execution_count": null,
      "outputs": [
        {
          "output_type": "stream",
          "text": [
            "              precision    recall  f1-score   support\n",
            "\n",
            "       False       0.80      0.69      0.74      1080\n",
            "        True       0.64      0.76      0.69       776\n",
            "\n",
            "    accuracy                           0.72      1856\n",
            "   macro avg       0.72      0.73      0.72      1856\n",
            "weighted avg       0.73      0.72      0.72      1856\n",
            "\n"
          ],
          "name": "stdout"
        }
      ]
    },
    {
      "cell_type": "code",
      "metadata": {
        "colab": {
          "base_uri": "https://localhost:8080/"
        },
        "id": "RgdN3gl9otEp",
        "outputId": "14e77bf7-e2d0-4dff-c6cb-53c8952aa92f"
      },
      "source": [
        "prediction_proba=model.predict_proba(X_test)"
      ],
      "execution_count": null,
      "outputs": [
        {
          "output_type": "stream",
          "text": [
            "/usr/local/lib/python3.7/dist-packages/tensorflow/python/keras/engine/sequential.py:425: UserWarning: `model.predict_proba()` is deprecated and will be removed after 2021-01-01. Please use `model.predict()` instead.\n",
            "  warnings.warn('`model.predict_proba()` is deprecated and '\n"
          ],
          "name": "stderr"
        }
      ]
    },
    {
      "cell_type": "code",
      "metadata": {
        "colab": {
          "base_uri": "https://localhost:8080/",
          "height": 295
        },
        "id": "74TsAeamrNbu",
        "outputId": "9814145f-c24e-4ba6-f269-ee7cf2bcb219"
      },
      "source": [
        "fpr, tpr, threshold = roc_curve(y_test, prediction_proba.reshape(-1))\n",
        "roc_auc = auc(fpr, tpr)\n",
        "\n",
        "# method I: plt\n",
        "import matplotlib.pyplot as plt\n",
        "plt.title('Receiver Operating Characteristic')\n",
        "plt.plot(fpr, tpr, 'orange', label = 'AUC = %0.2f' % roc_auc)\n",
        "plt.legend(loc = 'lower right')\n",
        "plt.plot([0, 1], [0, 1],'r--')\n",
        "plt.xlim([0, 1])\n",
        "plt.ylim([0, 1])\n",
        "plt.ylabel('True Positive Rate')\n",
        "plt.xlabel('False Positive Rate')\n",
        "plt.show()\n"
      ],
      "execution_count": null,
      "outputs": [
        {
          "output_type": "display_data",
          "data": {
            "image/png": "[encoded data removed]",
            "text/plain": [
              "<Figure size 432x288 with 1 Axes>"
            ]
          },
          "metadata": {
            "tags": [],
            "needs_background": "light"
          }
        }
      ]
    },
    {
      "cell_type": "code",
      "metadata": {
        "id": "MZ1CIxi6qOQK"
      },
      "source": [
        "####There is an overfiting problem"
      ],
      "execution_count": null,
      "outputs": []
    },
    {
      "cell_type": "code",
      "metadata": {
        "id": "4owUFr8kuKwb"
      },
      "source": [
        "## use data augmentation"
      ],
      "execution_count": null,
      "outputs": []
    },
    {
      "cell_type": "code",
      "metadata": {
        "id": "Btaaa7eKvHCb"
      },
      "source": [
        "from keras.applications import vgg16\n",
        "vgg16_model = vgg16.VGG16(weights='imagenet', include_top=False, input_shape=(224,224,3), pooling='max')"
      ],
      "execution_count": null,
      "outputs": []
    },
    {
      "cell_type": "code",
      "metadata": {
        "id": "rCxquhant01d"
      },
      "source": [
        "from tensorflow.keras import layers\n",
        "data_augmentation = tf.keras.Sequential([Input(shape=(224,224,3)),\n",
        "  layers.experimental.preprocessing.Rescaling(scale= 1 / 255.0),\n",
        "  layers.experimental.preprocessing.RandomFlip(\"horizontal_and_vertical\"),\n",
        "  layers.experimental.preprocessing.RandomRotation(0.3),\n",
        "  layers.experimental.preprocessing.RandomZoom(.3, .3)\n",
        "])"
      ],
      "execution_count": null,
      "outputs": []
    },
    {
      "cell_type": "code",
      "metadata": {
        "id": "vMREtZiWt04B"
      },
      "source": [
        "model1=Sequential()\n",
        "model1.add(data_augmentation)\n",
        "for layer in vgg16_model.layers:\n",
        "  layer.trainable=False\n",
        "  model1.add(layer)"
      ],
      "execution_count": null,
      "outputs": []
    },
    {
      "cell_type": "code",
      "metadata": {
        "id": "l-y96GgUumNu"
      },
      "source": [
        "model1.add(Flatten())\n",
        "model1.add(Dense(128, activation='relu'))\n",
        "model1.add(BatchNormalization())\n",
        "model1.add(Dropout(0.5))\n",
        "model1.add(Dense(1, activation='sigmoid'))"
      ],
      "execution_count": null,
      "outputs": []
    },
    {
      "cell_type": "code",
      "metadata": {
        "id": "crVQr1dUumQ0"
      },
      "source": [
        "opt = keras.optimizers.SGD(lr=0.01, momentum=0.99)"
      ],
      "execution_count": null,
      "outputs": []
    },
    {
      "cell_type": "code",
      "metadata": {
        "id": "wxdKL3dcumTK"
      },
      "source": [
        "model1.compile(loss='binary_crossentropy',\n",
        "              optimizer=opt,\n",
        "              metrics=['accuracy'])"
      ],
      "execution_count": null,
      "outputs": []
    },
    {
      "cell_type": "code",
      "metadata": {
        "colab": {
          "base_uri": "https://localhost:8080/"
        },
        "id": "RBOvHqqzumXO",
        "outputId": "d26b03cc-87fc-4693-add3-74ed6898b013"
      },
      "source": [
        "callback = tf.keras.callbacks.EarlyStopping(monitor='val_accuracy',mode='auto', patience=5, restore_best_weights=True)\n",
        "epochs=100\n",
        "batch_size=32\n",
        "history=model1.fit(X_train, y_train,\n",
        "              batch_size=batch_size,\n",
        "          validation_data=(X_val, y_val),\n",
        "          callbacks=[callback],\n",
        "          epochs=epochs)"
      ],
      "execution_count": null,
      "outputs": [
        {
          "output_type": "stream",
          "text": [
            "Epoch 1/100\n",
            "157/157 [==============================] - 51s 323ms/step - loss: 1891.6464 - accuracy: 0.7623 - val_loss: 1354.7040 - val_accuracy: 0.6429\n",
            "Epoch 2/100\n",
            "157/157 [==============================] - 50s 321ms/step - loss: 665.1332 - accuracy: 0.7747 - val_loss: 654.8057 - val_accuracy: 0.7282\n",
            "Epoch 3/100\n",
            "157/157 [==============================] - 50s 321ms/step - loss: 332.5193 - accuracy: 0.7797 - val_loss: 584.6420 - val_accuracy: 0.6544\n",
            "Epoch 4/100\n",
            "157/157 [==============================] - 50s 321ms/step - loss: 155.0982 - accuracy: 0.7755 - val_loss: 95.8758 - val_accuracy: 0.7306\n",
            "Epoch 5/100\n",
            "157/157 [==============================] - 50s 320ms/step - loss: 56.7643 - accuracy: 0.7613 - val_loss: 51.7074 - val_accuracy: 0.7452\n",
            "Epoch 6/100\n",
            "157/157 [==============================] - 50s 320ms/step - loss: 18.8582 - accuracy: 0.7717 - val_loss: 28.4102 - val_accuracy: 0.6967\n",
            "Epoch 7/100\n",
            "157/157 [==============================] - 50s 320ms/step - loss: 11.6224 - accuracy: 0.7843 - val_loss: 22.0046 - val_accuracy: 0.7391\n",
            "Epoch 8/100\n",
            "157/157 [==============================] - 50s 320ms/step - loss: 5.9482 - accuracy: 0.7763 - val_loss: 6.7991 - val_accuracy: 0.7421\n",
            "Epoch 9/100\n",
            "157/157 [==============================] - 50s 320ms/step - loss: 2.1041 - accuracy: 0.7895 - val_loss: 4.1100 - val_accuracy: 0.7839\n",
            "Epoch 10/100\n",
            "157/157 [==============================] - 50s 321ms/step - loss: 1.3859 - accuracy: 0.7647 - val_loss: 1.2204 - val_accuracy: 0.7052\n",
            "Epoch 11/100\n",
            "157/157 [==============================] - 50s 321ms/step - loss: 0.6113 - accuracy: 0.7885 - val_loss: 1.4464 - val_accuracy: 0.7355\n",
            "Epoch 12/100\n",
            "157/157 [==============================] - 50s 321ms/step - loss: 0.5783 - accuracy: 0.7928 - val_loss: 0.8166 - val_accuracy: 0.7427\n",
            "Epoch 13/100\n",
            "157/157 [==============================] - 50s 321ms/step - loss: 0.3923 - accuracy: 0.8262 - val_loss: 0.7341 - val_accuracy: 0.7379\n",
            "Epoch 14/100\n",
            "157/157 [==============================] - 50s 321ms/step - loss: 0.3842 - accuracy: 0.8262 - val_loss: 0.5733 - val_accuracy: 0.7845\n",
            "Epoch 15/100\n",
            "157/157 [==============================] - 50s 320ms/step - loss: 0.3740 - accuracy: 0.8326 - val_loss: 0.7443 - val_accuracy: 0.7797\n",
            "Epoch 16/100\n",
            "157/157 [==============================] - 50s 320ms/step - loss: 0.3832 - accuracy: 0.8220 - val_loss: 0.6690 - val_accuracy: 0.7464\n",
            "Epoch 17/100\n",
            "157/157 [==============================] - 50s 321ms/step - loss: 0.3642 - accuracy: 0.8288 - val_loss: 0.7594 - val_accuracy: 0.7797\n",
            "Epoch 18/100\n",
            "157/157 [==============================] - 50s 320ms/step - loss: 0.3673 - accuracy: 0.8262 - val_loss: 0.7016 - val_accuracy: 0.7579\n",
            "Epoch 19/100\n",
            "157/157 [==============================] - 50s 321ms/step - loss: 0.3571 - accuracy: 0.8354 - val_loss: 0.7055 - val_accuracy: 0.7785\n"
          ],
          "name": "stdout"
        }
      ]
    },
    {
      "cell_type": "code",
      "metadata": {
        "colab": {
          "base_uri": "https://localhost:8080/"
        },
        "id": "s_DCCXJ85HZ6",
        "outputId": "053962a4-771d-4a41-fa7a-2d6ac5551401"
      },
      "source": [
        "model1.evaluate(X_train, y_train)\n",
        "model1.evaluate(X_val, y_val)"
      ],
      "execution_count": null,
      "outputs": [
        {
          "output_type": "stream",
          "text": [
            "157/157 [==============================] - 37s 235ms/step - loss: 0.2995 - accuracy: 0.8662\n",
            "52/52 [==============================] - 12s 236ms/step - loss: 0.5733 - accuracy: 0.7845\n"
          ],
          "name": "stdout"
        },
        {
          "output_type": "execute_result",
          "data": {
            "text/plain": [
              "[0.5732706189155579, 0.7845036387443542]"
            ]
          },
          "metadata": {
            "tags": []
          },
          "execution_count": 219
        }
      ]
    },
    {
      "cell_type": "code",
      "metadata": {
        "colab": {
          "base_uri": "https://localhost:8080/"
        },
        "id": "IVHPWngFumZH",
        "outputId": "e9f4c7ad-5913-4a0b-b9f9-fdaf2a3d13c6"
      },
      "source": [
        "model1.evaluate(X_test, y_test)"
      ],
      "execution_count": null,
      "outputs": [
        {
          "output_type": "stream",
          "text": [
            "58/58 [==============================] - 14s 235ms/step - loss: 0.5323 - accuracy: 0.7328\n"
          ],
          "name": "stdout"
        },
        {
          "output_type": "execute_result",
          "data": {
            "text/plain": [
              "[0.532258927822113, 0.732758641242981]"
            ]
          },
          "metadata": {
            "tags": []
          },
          "execution_count": 220
        }
      ]
    },
    {
      "cell_type": "code",
      "metadata": {
        "colab": {
          "base_uri": "https://localhost:8080/",
          "height": 295
        },
        "id": "9oIIbcBwumfd",
        "outputId": "20f9b9cf-7f16-4840-9a8a-44cfc2945223"
      },
      "source": [
        "plt.plot(history.history['loss'])\n",
        "plt.plot(history.history['val_loss'])\n",
        "plt.title('model loss')\n",
        "plt.ylabel('loss')\n",
        "plt.xlabel('epoch')\n",
        "plt.legend(['train', 'val'], loc='upper left')\n",
        "plt.show()"
      ],
      "execution_count": null,
      "outputs": [
        {
          "output_type": "display_data",
          "data": {
            "image/png": "[encoded data removed]",
            "text/plain": [
              "<Figure size 432x288 with 1 Axes>"
            ]
          },
          "metadata": {
            "tags": [],
            "needs_background": "light"
          }
        }
      ]
    },
    {
      "cell_type": "code",
      "metadata": {
        "colab": {
          "base_uri": "https://localhost:8080/",
          "height": 295
        },
        "id": "ITpgxuvUt06g",
        "outputId": "fb074cbe-22ad-487c-9095-a032d8e1cec3"
      },
      "source": [
        "plt.plot(history.history['accuracy'])\n",
        "plt.plot(history.history['val_accuracy'])\n",
        "plt.title('model accuracy')\n",
        "plt.ylabel('accuracy')\n",
        "plt.xlabel('epoch')\n",
        "plt.legend(['train', 'val'], loc='upper left')\n",
        "plt.show()"
      ],
      "execution_count": null,
      "outputs": [
        {
          "output_type": "display_data",
          "data": {
            "image/png": "[encoded data removed]",
            "text/plain": [
              "<Figure size 432x288 with 1 Axes>"
            ]
          },
          "metadata": {
            "tags": [],
            "needs_background": "light"
          }
        }
      ]
    },
    {
      "cell_type": "code",
      "metadata": {
        "colab": {
          "base_uri": "https://localhost:8080/"
        },
        "id": "TGuadHhM6Qki",
        "outputId": "00cce665-b237-41b7-c86f-e6b5eae8914a"
      },
      "source": [
        "y_pred=model1.predict_classes(X_test)"
      ],
      "execution_count": null,
      "outputs": [
        {
          "output_type": "stream",
          "text": [
            "/usr/local/lib/python3.7/dist-packages/tensorflow/python/keras/engine/sequential.py:450: UserWarning: `model.predict_classes()` is deprecated and will be removed after 2021-01-01. Please use instead:* `np.argmax(model.predict(x), axis=-1)`,   if your model does multi-class classification   (e.g. if it uses a `softmax` last-layer activation).* `(model.predict(x) > 0.5).astype(\"int32\")`,   if your model does binary classification   (e.g. if it uses a `sigmoid` last-layer activation).\n",
            "  warnings.warn('`model.predict_classes()` is deprecated and '\n"
          ],
          "name": "stderr"
        }
      ]
    },
    {
      "cell_type": "code",
      "metadata": {
        "colab": {
          "base_uri": "https://localhost:8080/",
          "height": 311
        },
        "id": "VJKcSHYa3m5S",
        "outputId": "6dacae4e-0772-4a9d-ef97-e0ae0489ef5e"
      },
      "source": [
        "from sklearn.metrics import confusion_matrix\n",
        "cm=confusion_matrix(y_test, y_pred)\n",
        "cm_class=['False', \"True\"]\n",
        "plot_conf_matrix(cm, cm_class, normalize=True)"
      ],
      "execution_count": null,
      "outputs": [
        {
          "output_type": "display_data",
          "data": {
            "image/png": "[encoded data removed]",
            "text/plain": [
              "<Figure size 432x288 with 2 Axes>"
            ]
          },
          "metadata": {
            "tags": [],
            "needs_background": "light"
          }
        }
      ]
    },
    {
      "cell_type": "code",
      "metadata": {
        "colab": {
          "base_uri": "https://localhost:8080/"
        },
        "id": "LhPuaJeY3nBR",
        "outputId": "ec1baaa5-7580-4756-dd1c-ceb5a8ac3e09"
      },
      "source": [
        "evaluation_matrics(y_test, y_pred)"
      ],
      "execution_count": null,
      "outputs": [
        {
          "output_type": "stream",
          "text": [
            "{'accuracy for False class': 0.799074074074074}\n",
            "{'accuracy for True class': 0.6404639175257731}\n",
            "{'accuracy ': 0.7327586206896551}\n",
            "Precision: 0.696078\n",
            "Recall: 0.640464\n",
            "F1 score: 0.667114\n"
          ],
          "name": "stdout"
        }
      ]
    },
    {
      "cell_type": "code",
      "metadata": {
        "colab": {
          "base_uri": "https://localhost:8080/"
        },
        "id": "FUhiSxEz3nIZ",
        "outputId": "443e3185-0e21-44a7-eeba-98186e903a51"
      },
      "source": [
        "print(classification_report(y_test, y_pred))"
      ],
      "execution_count": null,
      "outputs": [
        {
          "output_type": "stream",
          "text": [
            "              precision    recall  f1-score   support\n",
            "\n",
            "       False       0.76      0.80      0.78      1080\n",
            "        True       0.70      0.64      0.67       776\n",
            "\n",
            "    accuracy                           0.73      1856\n",
            "   macro avg       0.73      0.72      0.72      1856\n",
            "weighted avg       0.73      0.73      0.73      1856\n",
            "\n"
          ],
          "name": "stdout"
        }
      ]
    },
    {
      "cell_type": "code",
      "metadata": {
        "colab": {
          "base_uri": "https://localhost:8080/"
        },
        "id": "XXZSU2Wv7U9Z",
        "outputId": "55b5dc1f-3d2c-4539-b0f5-74d9652b6b23"
      },
      "source": [
        "y_pred_proba=model1.predict_proba(X_test)"
      ],
      "execution_count": null,
      "outputs": [
        {
          "output_type": "stream",
          "text": [
            "/usr/local/lib/python3.7/dist-packages/tensorflow/python/keras/engine/sequential.py:425: UserWarning: `model.predict_proba()` is deprecated and will be removed after 2021-01-01. Please use `model.predict()` instead.\n",
            "  warnings.warn('`model.predict_proba()` is deprecated and '\n"
          ],
          "name": "stderr"
        }
      ]
    },
    {
      "cell_type": "code",
      "metadata": {
        "colab": {
          "base_uri": "https://localhost:8080/",
          "height": 295
        },
        "id": "gYqF8DJQ3nRF",
        "outputId": "6523d0b1-1e45-49a5-8ec1-38528d2255d7"
      },
      "source": [
        "fpr, tpr, threshold = roc_curve(y_test, y_pred_proba.reshape(-1))\n",
        "roc_auc = auc(fpr, tpr)\n",
        "\n",
        "# method I: plt\n",
        "import matplotlib.pyplot as plt\n",
        "plt.title('Receiver Operating Characteristic')\n",
        "plt.plot(fpr, tpr, 'orange', label = 'AUC = %0.2f' % roc_auc)\n",
        "plt.legend(loc = 'lower right')\n",
        "plt.plot([0, 1], [0, 1],'r--')\n",
        "plt.xlim([0, 1])\n",
        "plt.ylim([0, 1])\n",
        "plt.ylabel('True Positive Rate')\n",
        "plt.xlabel('False Positive Rate')\n",
        "plt.show()"
      ],
      "execution_count": null,
      "outputs": [
        {
          "output_type": "display_data",
          "data": {
            "image/png": "[encoded data removed]",
            "text/plain": [
              "<Figure size 432x288 with 1 Axes>"
            ]
          },
          "metadata": {
            "tags": [],
            "needs_background": "light"
          }
        }
      ]
    },
    {
      "cell_type": "code",
      "metadata": {
        "id": "GoPG9q6DCFOJ"
      },
      "source": [
        "from keras.models import load_model\n",
        "\n",
        "model1.save('my_model.h5')  # creates a HDF5 file 'my_model.h5'"
      ],
      "execution_count": null,
      "outputs": []
    },
    {
      "cell_type": "code",
      "metadata": {
        "id": "21seQI9EE0hv"
      },
      "source": [
        "# model_new = load_model('my_model.h5')"
      ],
      "execution_count": null,
      "outputs": []
    },
    {
      "cell_type": "code",
      "metadata": {
        "id": "JHR8dG0DiFdd"
      },
      "source": [
        ""
      ],
      "execution_count": null,
      "outputs": []
    },
    {
      "cell_type": "code",
      "metadata": {
        "id": "DuLW5br7h_S4"
      },
      "source": [
        "from sklearn.utils import shuffle\n",
        "false_ids = list(set(df[df['class'] == False]['flight_code']))\n",
        "false_ids = shuffle(false_ids, random_state=42)\n",
        "train_ids=false_ids[:16]\n",
        "test_ids=false_ids[16:]\n",
        "true_ids = list(set(df[df['class'] == True]['flight_code']))\n",
        "true_ids = shuffle(true_ids,random_state=42)\n",
        "train_ids = train_ids + true_ids[:9]\n",
        "test_ids=test_ids + true_ids[9:]\n",
        "train_data=df[df['flight_code'].isin(train_ids)]\n",
        "test_data=df[df['flight_code'].isin(test_ids)]"
      ],
      "execution_count": 52,
      "outputs": []
    },
    {
      "cell_type": "code",
      "metadata": {
        "colab": {
          "base_uri": "https://localhost:8080/"
        },
        "id": "ceIGNTvKx9HW",
        "outputId": "3207d03c-47ab-4279-c3f7-1368de964040"
      },
      "source": [
        "np.unique(train_data['flight_code'])"
      ],
      "execution_count": 53,
      "outputs": [
        {
          "output_type": "execute_result",
          "data": {
            "text/plain": [
              "array(['2HHWV1DD4', '3KR1212BR', '42T73AQE8', 'EVTQTDFEJ', 'F98U2YA3K',\n",
              "       'FPG2L7UTK', 'FVI8IQG1F', 'FYXD9U983', 'GP3VC3W6C', 'GU8YLRNEP',\n",
              "       'J926FMUHU', 'KQNQBAHEH', 'KR4TV4KAT', 'M1UED3JAF', 'N7W26YIGK',\n",
              "       'N9WCYFDNV', 'NRI4TEP79', 'P1VA9VFEP', 'UI4P3E22W', 'VQY9V2E1Q',\n",
              "       'VWYBY2FQY', 'W7AADUXTW', 'YLTE7FRJW', 'ZVDH6FY93', 'ZVFAN11AI'],\n",
              "      dtype=object)"
            ]
          },
          "metadata": {
            "tags": []
          },
          "execution_count": 53
        }
      ]
    },
    {
      "cell_type": "code",
      "metadata": {
        "colab": {
          "base_uri": "https://localhost:8080/"
        },
        "id": "ShVJCZJxyHRH",
        "outputId": "c6ce6e68-568e-4dc3-ea29-e0fab5572e45"
      },
      "source": [
        "np.unique(test_data['flight_code'])"
      ],
      "execution_count": 54,
      "outputs": [
        {
          "output_type": "execute_result",
          "data": {
            "text/plain": [
              "array(['1TJZT39WQ', 'E83UE8JT4', 'EB4KG2F6D', 'GWWIAV2VV', 'Q9ALKK7XZ'],\n",
              "      dtype=object)"
            ]
          },
          "metadata": {
            "tags": []
          },
          "execution_count": 54
        }
      ]
    },
    {
      "cell_type": "code",
      "metadata": {
        "colab": {
          "base_uri": "https://localhost:8080/"
        },
        "id": "ceUUPTIkh_Xl",
        "outputId": "bb3d24f0-2943-46e3-d909-a57734113552"
      },
      "source": [
        "print({'train_data' : len(train_data),  \n",
        "       'test_data' : len(test_data)})"
      ],
      "execution_count": 55,
      "outputs": [
        {
          "output_type": "stream",
          "text": [
            "{'train_data': 8749, 'test_data': 1688}\n"
          ],
          "name": "stdout"
        }
      ]
    },
    {
      "cell_type": "code",
      "metadata": {
        "colab": {
          "base_uri": "https://localhost:8080/"
        },
        "id": "q_riC4wBh_b5",
        "outputId": "d7c2bb16-d911-4383-fb74-e99ecf3b05a9"
      },
      "source": [
        "print({'train_classes' : train_data['class'].mean()})\n",
        "print({'test_classes' : test_data['class'].mean()})"
      ],
      "execution_count": 56,
      "outputs": [
        {
          "output_type": "stream",
          "text": [
            "{'train_classes': 0.3649559949708538}\n",
            "{'test_classes': 0.43364928909952605}\n"
          ],
          "name": "stdout"
        }
      ]
    },
    {
      "cell_type": "code",
      "metadata": {
        "id": "MLsDMWLojglx"
      },
      "source": [
        "##balanced training set\n",
        "train_data1=train_data[train_data['class']==True] \n",
        "train_data2=train_data[train_data['class']==False].iloc[:train_data1.shape[0],:]\n",
        "train_data=pd.concat((train_data1, train_data2))"
      ],
      "execution_count": 57,
      "outputs": []
    },
    {
      "cell_type": "code",
      "metadata": {
        "colab": {
          "base_uri": "https://localhost:8080/"
        },
        "id": "AxPwrg8jjgqA",
        "outputId": "f5a8b1b6-98b0-4657-fb09-6e1db2639c50"
      },
      "source": [
        "train_data.shape"
      ],
      "execution_count": 90,
      "outputs": [
        {
          "output_type": "execute_result",
          "data": {
            "text/plain": [
              "(6386, 8)"
            ]
          },
          "metadata": {
            "tags": []
          },
          "execution_count": 90
        }
      ]
    },
    {
      "cell_type": "code",
      "metadata": {
        "id": "jbvTaSuJh_gp"
      },
      "source": [
        "X_train, y_train = input_creation(train_data)\n",
        "X_test, y_test = input_creation(test_data)"
      ],
      "execution_count": 59,
      "outputs": []
    },
    {
      "cell_type": "code",
      "metadata": {
        "colab": {
          "base_uri": "https://localhost:8080/"
        },
        "id": "EnnG1AP9lNxg",
        "outputId": "0cc2fee6-8e7f-4b99-c22c-5ae7daa4d49d"
      },
      "source": [
        "X_train.shape"
      ],
      "execution_count": 91,
      "outputs": [
        {
          "output_type": "execute_result",
          "data": {
            "text/plain": [
              "(6386, 224, 224, 3)"
            ]
          },
          "metadata": {
            "tags": []
          },
          "execution_count": 91
        }
      ]
    },
    {
      "cell_type": "code",
      "metadata": {
        "id": "LFfGkMz2H6iS"
      },
      "source": [
        "from keras.applications import vgg16\n",
        "VGG_model = vgg16.VGG16(weights='imagenet', include_top=False, input_shape=(224,224,3), pooling='max')"
      ],
      "execution_count": 61,
      "outputs": []
    },
    {
      "cell_type": "code",
      "metadata": {
        "id": "_261bz3-H6lX"
      },
      "source": [
        "for layer in VGG_model.layers:\n",
        "  layer.trainable=False"
      ],
      "execution_count": 62,
      "outputs": []
    },
    {
      "cell_type": "code",
      "metadata": {
        "colab": {
          "base_uri": "https://localhost:8080/"
        },
        "id": "Vc8EEQXkH6oE",
        "outputId": "ca124483-9ee8-479e-c867-292fd702b3aa"
      },
      "source": [
        "VGG_model.summary()"
      ],
      "execution_count": 63,
      "outputs": [
        {
          "output_type": "stream",
          "text": [
            "Model: \"vgg16\"\n",
            "_________________________________________________________________\n",
            "Layer (type)                 Output Shape              Param #   \n",
            "=================================================================\n",
            "input_2 (InputLayer)         [(None, 224, 224, 3)]     0         \n",
            "_________________________________________________________________\n",
            "block1_conv1 (Conv2D)        (None, 224, 224, 64)      1792      \n",
            "_________________________________________________________________\n",
            "block1_conv2 (Conv2D)        (None, 224, 224, 64)      36928     \n",
            "_________________________________________________________________\n",
            "block1_pool (MaxPooling2D)   (None, 112, 112, 64)      0         \n",
            "_________________________________________________________________\n",
            "block2_conv1 (Conv2D)        (None, 112, 112, 128)     73856     \n",
            "_________________________________________________________________\n",
            "block2_conv2 (Conv2D)        (None, 112, 112, 128)     147584    \n",
            "_________________________________________________________________\n",
            "block2_pool (MaxPooling2D)   (None, 56, 56, 128)       0         \n",
            "_________________________________________________________________\n",
            "block3_conv1 (Conv2D)        (None, 56, 56, 256)       295168    \n",
            "_________________________________________________________________\n",
            "block3_conv2 (Conv2D)        (None, 56, 56, 256)       590080    \n",
            "_________________________________________________________________\n",
            "block3_conv3 (Conv2D)        (None, 56, 56, 256)       590080    \n",
            "_________________________________________________________________\n",
            "block3_pool (MaxPooling2D)   (None, 28, 28, 256)       0         \n",
            "_________________________________________________________________\n",
            "block4_conv1 (Conv2D)        (None, 28, 28, 512)       1180160   \n",
            "_________________________________________________________________\n",
            "block4_conv2 (Conv2D)        (None, 28, 28, 512)       2359808   \n",
            "_________________________________________________________________\n",
            "block4_conv3 (Conv2D)        (None, 28, 28, 512)       2359808   \n",
            "_________________________________________________________________\n",
            "block4_pool (MaxPooling2D)   (None, 14, 14, 512)       0         \n",
            "_________________________________________________________________\n",
            "block5_conv1 (Conv2D)        (None, 14, 14, 512)       2359808   \n",
            "_________________________________________________________________\n",
            "block5_conv2 (Conv2D)        (None, 14, 14, 512)       2359808   \n",
            "_________________________________________________________________\n",
            "block5_conv3 (Conv2D)        (None, 14, 14, 512)       2359808   \n",
            "_________________________________________________________________\n",
            "block5_pool (MaxPooling2D)   (None, 7, 7, 512)         0         \n",
            "_________________________________________________________________\n",
            "global_max_pooling2d_1 (Glob (None, 512)               0         \n",
            "=================================================================\n",
            "Total params: 14,714,688\n",
            "Trainable params: 0\n",
            "Non-trainable params: 14,714,688\n",
            "_________________________________________________________________\n"
          ],
          "name": "stdout"
        }
      ]
    },
    {
      "cell_type": "code",
      "metadata": {
        "id": "tuFTfH1GH6rR"
      },
      "source": [
        "feature_ectractor=VGG_model.predict(X_train)\n",
        "# features=feature_ectractor.reshape(feature_ectractor.shape[0], -1)"
      ],
      "execution_count": 98,
      "outputs": []
    },
    {
      "cell_type": "code",
      "metadata": {
        "colab": {
          "base_uri": "https://localhost:8080/"
        },
        "id": "FXfH6-s00_eA",
        "outputId": "e2de3833-fed5-4045-be80-95a6f1460246"
      },
      "source": [
        "feature_ectractor.shape"
      ],
      "execution_count": 100,
      "outputs": [
        {
          "output_type": "execute_result",
          "data": {
            "text/plain": [
              "(6386, 512)"
            ]
          },
          "metadata": {
            "tags": []
          },
          "execution_count": 100
        }
      ]
    },
    {
      "cell_type": "code",
      "metadata": {
        "colab": {
          "base_uri": "https://localhost:8080/"
        },
        "id": "XTntMyJgCiPw",
        "outputId": "116baf49-8719-4aa3-808b-1ef42e388f6f"
      },
      "source": [
        "feature_ectractor.max(), feature_ectractor.min()"
      ],
      "execution_count": 104,
      "outputs": [
        {
          "output_type": "execute_result",
          "data": {
            "text/plain": [
              "(241.17049, 0.0)"
            ]
          },
          "metadata": {
            "tags": []
          },
          "execution_count": 104
        }
      ]
    },
    {
      "cell_type": "code",
      "metadata": {
        "id": "PQSEZL5112rb"
      },
      "source": [
        "features=np.where(feature_ectractor==0,  0.0001, feature_ectractor)\n",
        "features.min(), features.max()"
      ],
      "execution_count": 107,
      "outputs": []
    },
    {
      "cell_type": "code",
      "metadata": {
        "id": "MixsI0nN2F0H"
      },
      "source": [
        "features=np.log(features)"
      ],
      "execution_count": 109,
      "outputs": []
    },
    {
      "cell_type": "code",
      "metadata": {
        "id": "wuW-vf7Zp_jg"
      },
      "source": [
        "from sklearn.preprocessing import StandardScaler\n",
        "# define scaler\n",
        "scaler = StandardScaler()\n",
        "# fit and transform data\n",
        "scaler.fit(features)\n",
        "Xtrain=scaler.transform(features)\n"
      ],
      "execution_count": 115,
      "outputs": []
    },
    {
      "cell_type": "code",
      "metadata": {
        "colab": {
          "base_uri": "https://localhost:8080/"
        },
        "id": "JYYLOiB5yjZ_",
        "outputId": "e51b5b96-b410-4c5a-cc6c-5392d0f8f972"
      },
      "source": [
        "Xtrain.min(), Xtrain.max()"
      ],
      "execution_count": 116,
      "outputs": [
        {
          "output_type": "execute_result",
          "data": {
            "text/plain": [
              "(-21.249409, 20.906996)"
            ]
          },
          "metadata": {
            "tags": []
          },
          "execution_count": 116
        }
      ]
    },
    {
      "cell_type": "code",
      "metadata": {
        "id": "xoqICWrNmvSW"
      },
      "source": [
        "from datetime import datetime\n",
        "from sklearn.model_selection import RandomizedSearchCV, GridSearchCV\n",
        "from sklearn.metrics import roc_auc_score\n",
        "from sklearn.model_selection import StratifiedKFold\n",
        "from xgboost import XGBClassifier"
      ],
      "execution_count": 70,
      "outputs": []
    },
    {
      "cell_type": "code",
      "metadata": {
        "id": "9F2OkEgqWI6Z"
      },
      "source": [
        "params = {\n",
        "        'min_child_weight': [1, 5, 10],\n",
        "        'gamma': [0.5, 1, 1.5, 2, 5],\n",
        "        'subsample': [0.6, 0.8, 1.0],\n",
        "        'colsample_bytree': [0.6, 0.8, 1.0],\n",
        "        'max_depth': [3, 4, 5]\n",
        "        }"
      ],
      "execution_count": 36,
      "outputs": []
    },
    {
      "cell_type": "code",
      "metadata": {
        "id": "ch7PFDWVWI9B",
        "colab": {
          "base_uri": "https://localhost:8080/"
        },
        "outputId": "777da60a-c76c-404a-9239-373a82b5a449"
      },
      "source": [
        "xgb = XGBClassifier(learning_rate=0.01, n_estimators=600)\n",
        "param_comb = 10\n",
        "\n",
        "\n",
        "random_search = RandomizedSearchCV(xgb, param_distributions=params, n_iter=param_comb, scoring='roc_auc',  cv=3, verbose=3, random_state=1001)\n",
        "\n",
        "random_search.fit(Xtrain, y_train)\n"
      ],
      "execution_count": 37,
      "outputs": [
        {
          "output_type": "stream",
          "text": [
            "Fitting 3 folds for each of 10 candidates, totalling 30 fits\n",
            "[CV] subsample=1.0, min_child_weight=5, max_depth=3, gamma=5, colsample_bytree=1.0 \n"
          ],
          "name": "stdout"
        },
        {
          "output_type": "stream",
          "text": [
            "[Parallel(n_jobs=1)]: Using backend SequentialBackend with 1 concurrent workers.\n"
          ],
          "name": "stderr"
        },
        {
          "output_type": "stream",
          "text": [
            "[CV]  subsample=1.0, min_child_weight=5, max_depth=3, gamma=5, colsample_bytree=1.0, score=0.704, total=  41.6s\n",
            "[CV] subsample=1.0, min_child_weight=5, max_depth=3, gamma=5, colsample_bytree=1.0 \n"
          ],
          "name": "stdout"
        },
        {
          "output_type": "stream",
          "text": [
            "[Parallel(n_jobs=1)]: Done   1 out of   1 | elapsed:   41.6s remaining:    0.0s\n"
          ],
          "name": "stderr"
        },
        {
          "output_type": "stream",
          "text": [
            "[CV]  subsample=1.0, min_child_weight=5, max_depth=3, gamma=5, colsample_bytree=1.0, score=0.908, total=  40.6s\n",
            "[CV] subsample=1.0, min_child_weight=5, max_depth=3, gamma=5, colsample_bytree=1.0 \n"
          ],
          "name": "stdout"
        },
        {
          "output_type": "stream",
          "text": [
            "[Parallel(n_jobs=1)]: Done   2 out of   2 | elapsed:  1.4min remaining:    0.0s\n"
          ],
          "name": "stderr"
        },
        {
          "output_type": "stream",
          "text": [
            "[CV]  subsample=1.0, min_child_weight=5, max_depth=3, gamma=5, colsample_bytree=1.0, score=0.974, total=  40.8s\n",
            "[CV] subsample=0.6, min_child_weight=1, max_depth=5, gamma=1.5, colsample_bytree=0.8 \n",
            "[CV]  subsample=0.6, min_child_weight=1, max_depth=5, gamma=1.5, colsample_bytree=0.8, score=0.703, total=  57.4s\n",
            "[CV] subsample=0.6, min_child_weight=1, max_depth=5, gamma=1.5, colsample_bytree=0.8 \n",
            "[CV]  subsample=0.6, min_child_weight=1, max_depth=5, gamma=1.5, colsample_bytree=0.8, score=0.924, total=  57.6s\n",
            "[CV] subsample=0.6, min_child_weight=1, max_depth=5, gamma=1.5, colsample_bytree=0.8 \n",
            "[CV]  subsample=0.6, min_child_weight=1, max_depth=5, gamma=1.5, colsample_bytree=0.8, score=0.977, total=  58.6s\n",
            "[CV] subsample=0.8, min_child_weight=5, max_depth=5, gamma=1, colsample_bytree=0.8 \n",
            "[CV]  subsample=0.8, min_child_weight=5, max_depth=5, gamma=1, colsample_bytree=0.8, score=0.696, total=  51.1s\n",
            "[CV] subsample=0.8, min_child_weight=5, max_depth=5, gamma=1, colsample_bytree=0.8 \n",
            "[CV]  subsample=0.8, min_child_weight=5, max_depth=5, gamma=1, colsample_bytree=0.8, score=0.921, total=  53.9s\n",
            "[CV] subsample=0.8, min_child_weight=5, max_depth=5, gamma=1, colsample_bytree=0.8 \n",
            "[CV]  subsample=0.8, min_child_weight=5, max_depth=5, gamma=1, colsample_bytree=0.8, score=0.974, total=  54.5s\n",
            "[CV] subsample=1.0, min_child_weight=5, max_depth=5, gamma=5, colsample_bytree=0.6 \n",
            "[CV]  subsample=1.0, min_child_weight=5, max_depth=5, gamma=5, colsample_bytree=0.6, score=0.709, total=  39.9s\n",
            "[CV] subsample=1.0, min_child_weight=5, max_depth=5, gamma=5, colsample_bytree=0.6 \n",
            "[CV]  subsample=1.0, min_child_weight=5, max_depth=5, gamma=5, colsample_bytree=0.6, score=0.919, total=  41.1s\n",
            "[CV] subsample=1.0, min_child_weight=5, max_depth=5, gamma=5, colsample_bytree=0.6 \n",
            "[CV]  subsample=1.0, min_child_weight=5, max_depth=5, gamma=5, colsample_bytree=0.6, score=0.973, total=  41.9s\n",
            "[CV] subsample=0.8, min_child_weight=1, max_depth=4, gamma=1, colsample_bytree=1.0 \n",
            "[CV]  subsample=0.8, min_child_weight=1, max_depth=4, gamma=1, colsample_bytree=1.0, score=0.708, total=  57.1s\n",
            "[CV] subsample=0.8, min_child_weight=1, max_depth=4, gamma=1, colsample_bytree=1.0 \n",
            "[CV]  subsample=0.8, min_child_weight=1, max_depth=4, gamma=1, colsample_bytree=1.0, score=0.921, total=  56.8s\n",
            "[CV] subsample=0.8, min_child_weight=1, max_depth=4, gamma=1, colsample_bytree=1.0 \n",
            "[CV]  subsample=0.8, min_child_weight=1, max_depth=4, gamma=1, colsample_bytree=1.0, score=0.976, total=  57.0s\n",
            "[CV] subsample=1.0, min_child_weight=10, max_depth=4, gamma=1.5, colsample_bytree=0.6 \n",
            "[CV]  subsample=1.0, min_child_weight=10, max_depth=4, gamma=1.5, colsample_bytree=0.6, score=0.702, total=  31.4s\n",
            "[CV] subsample=1.0, min_child_weight=10, max_depth=4, gamma=1.5, colsample_bytree=0.6 \n",
            "[CV]  subsample=1.0, min_child_weight=10, max_depth=4, gamma=1.5, colsample_bytree=0.6, score=0.919, total=  32.6s\n",
            "[CV] subsample=1.0, min_child_weight=10, max_depth=4, gamma=1.5, colsample_bytree=0.6 \n",
            "[CV]  subsample=1.0, min_child_weight=10, max_depth=4, gamma=1.5, colsample_bytree=0.6, score=0.974, total=  33.1s\n",
            "[CV] subsample=1.0, min_child_weight=1, max_depth=5, gamma=5, colsample_bytree=0.6 \n",
            "[CV]  subsample=1.0, min_child_weight=1, max_depth=5, gamma=5, colsample_bytree=0.6, score=0.717, total=  44.4s\n",
            "[CV] subsample=1.0, min_child_weight=1, max_depth=5, gamma=5, colsample_bytree=0.6 \n",
            "[CV]  subsample=1.0, min_child_weight=1, max_depth=5, gamma=5, colsample_bytree=0.6, score=0.918, total=  43.0s\n",
            "[CV] subsample=1.0, min_child_weight=1, max_depth=5, gamma=5, colsample_bytree=0.6 \n",
            "[CV]  subsample=1.0, min_child_weight=1, max_depth=5, gamma=5, colsample_bytree=0.6, score=0.975, total=  44.6s\n",
            "[CV] subsample=0.8, min_child_weight=1, max_depth=3, gamma=2, colsample_bytree=0.8 \n",
            "[CV]  subsample=0.8, min_child_weight=1, max_depth=3, gamma=2, colsample_bytree=0.8, score=0.707, total=  36.3s\n",
            "[CV] subsample=0.8, min_child_weight=1, max_depth=3, gamma=2, colsample_bytree=0.8 \n",
            "[CV]  subsample=0.8, min_child_weight=1, max_depth=3, gamma=2, colsample_bytree=0.8, score=0.916, total=  35.8s\n",
            "[CV] subsample=0.8, min_child_weight=1, max_depth=3, gamma=2, colsample_bytree=0.8 \n",
            "[CV]  subsample=0.8, min_child_weight=1, max_depth=3, gamma=2, colsample_bytree=0.8, score=0.974, total=  35.6s\n",
            "[CV] subsample=0.8, min_child_weight=1, max_depth=5, gamma=0.5, colsample_bytree=0.6 \n",
            "[CV]  subsample=0.8, min_child_weight=1, max_depth=5, gamma=0.5, colsample_bytree=0.6, score=0.712, total=  43.9s\n",
            "[CV] subsample=0.8, min_child_weight=1, max_depth=5, gamma=0.5, colsample_bytree=0.6 \n",
            "[CV]  subsample=0.8, min_child_weight=1, max_depth=5, gamma=0.5, colsample_bytree=0.6, score=0.924, total=  44.1s\n",
            "[CV] subsample=0.8, min_child_weight=1, max_depth=5, gamma=0.5, colsample_bytree=0.6 \n",
            "[CV]  subsample=0.8, min_child_weight=1, max_depth=5, gamma=0.5, colsample_bytree=0.6, score=0.976, total=  44.9s\n",
            "[CV] subsample=0.8, min_child_weight=1, max_depth=4, gamma=1.5, colsample_bytree=0.6 \n",
            "[CV]  subsample=0.8, min_child_weight=1, max_depth=4, gamma=1.5, colsample_bytree=0.6, score=0.705, total=  36.4s\n",
            "[CV] subsample=0.8, min_child_weight=1, max_depth=4, gamma=1.5, colsample_bytree=0.6 \n",
            "[CV]  subsample=0.8, min_child_weight=1, max_depth=4, gamma=1.5, colsample_bytree=0.6, score=0.923, total=  36.3s\n",
            "[CV] subsample=0.8, min_child_weight=1, max_depth=4, gamma=1.5, colsample_bytree=0.6 \n",
            "[CV]  subsample=0.8, min_child_weight=1, max_depth=4, gamma=1.5, colsample_bytree=0.6, score=0.976, total=  36.6s\n"
          ],
          "name": "stdout"
        },
        {
          "output_type": "stream",
          "text": [
            "[Parallel(n_jobs=1)]: Done  30 out of  30 | elapsed: 22.1min finished\n"
          ],
          "name": "stderr"
        },
        {
          "output_type": "execute_result",
          "data": {
            "text/plain": [
              "RandomizedSearchCV(cv=3, error_score=nan,\n",
              "                   estimator=XGBClassifier(base_score=0.5, booster='gbtree',\n",
              "                                           colsample_bylevel=1,\n",
              "                                           colsample_bynode=1,\n",
              "                                           colsample_bytree=1, gamma=0,\n",
              "                                           learning_rate=0.01, max_delta_step=0,\n",
              "                                           max_depth=3, min_child_weight=1,\n",
              "                                           missing=None, n_estimators=600,\n",
              "                                           n_jobs=1, nthread=None,\n",
              "                                           objective='binary:logistic',\n",
              "                                           random_state=0, reg_alpha=0,\n",
              "                                           reg_lambda=1, s...ht=1,\n",
              "                                           seed=None, silent=None, subsample=1,\n",
              "                                           verbosity=1),\n",
              "                   iid='deprecated', n_iter=10, n_jobs=None,\n",
              "                   param_distributions={'colsample_bytree': [0.6, 0.8, 1.0],\n",
              "                                        'gamma': [0.5, 1, 1.5, 2, 5],\n",
              "                                        'max_depth': [3, 4, 5],\n",
              "                                        'min_child_weight': [1, 5, 10],\n",
              "                                        'subsample': [0.6, 0.8, 1.0]},\n",
              "                   pre_dispatch='2*n_jobs', random_state=1001, refit=True,\n",
              "                   return_train_score=False, scoring='roc_auc', verbose=3)"
            ]
          },
          "metadata": {
            "tags": []
          },
          "execution_count": 37
        }
      ]
    },
    {
      "cell_type": "code",
      "metadata": {
        "colab": {
          "base_uri": "https://localhost:8080/"
        },
        "id": "We30ckL_rn4F",
        "outputId": "7a22d09e-4c66-45ef-fe3d-319231884367"
      },
      "source": [
        "random_search.best_params_"
      ],
      "execution_count": 38,
      "outputs": [
        {
          "output_type": "execute_result",
          "data": {
            "text/plain": [
              "{'colsample_bytree': 0.6,\n",
              " 'gamma': 0.5,\n",
              " 'max_depth': 5,\n",
              " 'min_child_weight': 1,\n",
              " 'subsample': 0.8}"
            ]
          },
          "metadata": {
            "tags": []
          },
          "execution_count": 38
        }
      ]
    },
    {
      "cell_type": "code",
      "metadata": {
        "id": "EsY4lwVonYzb"
      },
      "source": [
        "xgb = XGBClassifier(learning_rate=0.01, n_estimators=600, min_child_weight=1, max_depth=5, gamma=0.5, colsample_bytree=0.6, subsample=0.8)"
      ],
      "execution_count": 117,
      "outputs": []
    },
    {
      "cell_type": "code",
      "metadata": {
        "colab": {
          "base_uri": "https://localhost:8080/"
        },
        "id": "YUM9KQ2JWJAD",
        "outputId": "4925736d-802f-45f8-bebc-832d19741b49"
      },
      "source": [
        "xgb.fit(Xtrain, y_train)"
      ],
      "execution_count": 118,
      "outputs": [
        {
          "output_type": "execute_result",
          "data": {
            "text/plain": [
              "XGBClassifier(base_score=0.5, booster='gbtree', colsample_bylevel=1,\n",
              "              colsample_bynode=1, colsample_bytree=0.6, gamma=0.5,\n",
              "              learning_rate=0.01, max_delta_step=0, max_depth=5,\n",
              "              min_child_weight=1, missing=None, n_estimators=600, n_jobs=1,\n",
              "              nthread=None, objective='binary:logistic', random_state=0,\n",
              "              reg_alpha=0, reg_lambda=1, scale_pos_weight=1, seed=None,\n",
              "              silent=None, subsample=0.8, verbosity=1)"
            ]
          },
          "metadata": {
            "tags": []
          },
          "execution_count": 118
        }
      ]
    },
    {
      "cell_type": "code",
      "metadata": {
        "id": "ZCeNpZLv7v8G"
      },
      "source": [
        "feature_ectractor_test=VGG_model.predict(X_test)\n",
        "# features_test=feature_ectractor_test.reshape(feature_ectractor_test.shape[0], -1)\n",
        "features_test=np.where(feature_ectractor_test==0,  0.0001, feature_ectractor_test)\n",
        "features_test=np.log(features_test)\n",
        "Xtest=scaler.transform(features_test)"
      ],
      "execution_count": 119,
      "outputs": []
    },
    {
      "cell_type": "code",
      "metadata": {
        "colab": {
          "base_uri": "https://localhost:8080/"
        },
        "id": "PTWRtleCziFz",
        "outputId": "b0a2260b-8882-4fa6-fc84-f9227b5c95a1"
      },
      "source": [
        "Xtest.min(), Xtest.max()"
      ],
      "execution_count": 156,
      "outputs": [
        {
          "output_type": "execute_result",
          "data": {
            "text/plain": [
              "(-21.249409, 19.776712)"
            ]
          },
          "metadata": {
            "tags": []
          },
          "execution_count": 156
        }
      ]
    },
    {
      "cell_type": "code",
      "metadata": {
        "id": "gJTdFYrx3FGw"
      },
      "source": [
        "y_pred=xgb.predict(Xtest)\n",
        "y_pred_train=xgb.predict(Xtrain)"
      ],
      "execution_count": 169,
      "outputs": []
    },
    {
      "cell_type": "code",
      "metadata": {
        "colab": {
          "base_uri": "https://localhost:8080/"
        },
        "id": "R0kl6Vad3iPk",
        "outputId": "9cb769d2-7ae1-45f8-d003-4fe56277798e"
      },
      "source": [
        "print({\"train accuracy\" : accuracy_score(y_train, y_pred_train)})\n",
        "print({'test accuracy': accuracy_score(y_test, y_pred)})\n"
      ],
      "execution_count": 158,
      "outputs": [
        {
          "output_type": "stream",
          "text": [
            "{'train accuracy': 0.999217037269026}\n",
            "{'test accuracy': 0.9869668246445498}\n"
          ],
          "name": "stdout"
        }
      ]
    },
    {
      "cell_type": "code",
      "metadata": {
        "id": "aRKH4lSDH6tt"
      },
      "source": [
        "y_pred_proba=xgb.predict_proba(Xtest).T[1]"
      ],
      "execution_count": 159,
      "outputs": []
    },
    {
      "cell_type": "code",
      "metadata": {
        "colab": {
          "base_uri": "https://localhost:8080/",
          "height": 295
        },
        "id": "PdoibqxdFLo7",
        "outputId": "a88d4ffd-1bf2-4638-e003-50cdf0f02ae4"
      },
      "source": [
        "fpr, tpr, threshold = roc_curve(y_test, y_pred_proba)\n",
        "roc_auc = auc(fpr, tpr)\n",
        "\n",
        "# method I: plt\n",
        "import matplotlib.pyplot as plt\n",
        "plt.title('Receiver Operating Characteristic')\n",
        "plt.plot(fpr, tpr, 'orange', label = 'AUC = %0.2f' % roc_auc)\n",
        "plt.legend(loc = 'lower right')\n",
        "plt.plot([0, 1], [0, 1],'r--')\n",
        "plt.xlim([0, 1])\n",
        "plt.ylim([0, 1])\n",
        "plt.ylabel('True Positive Rate')\n",
        "plt.xlabel('False Positive Rate')\n",
        "plt.show()"
      ],
      "execution_count": 160,
      "outputs": [
        {
          "output_type": "display_data",
          "data": {
            "image/png": "[encoded data removed]",
            "text/plain": [
              "<Figure size 432x288 with 1 Axes>"
            ]
          },
          "metadata": {
            "tags": [],
            "needs_background": "light"
          }
        }
      ]
    },
    {
      "cell_type": "code",
      "metadata": {
        "id": "COx7eKH-FLtW"
      },
      "source": [
        "acc=0\n",
        "treshold=0\n",
        "for i in range(1, 100, 1):\n",
        "  y_pred=np.where(y_pred_proba > i/100, 1, 0)\n",
        "  score=accuracy_score(y_test, y_pred)\n",
        "  if score > acc:\n",
        "    acc=score\n",
        "    treshold=i\n"
      ],
      "execution_count": 163,
      "outputs": []
    },
    {
      "cell_type": "code",
      "metadata": {
        "colab": {
          "base_uri": "https://localhost:8080/"
        },
        "id": "9cWKtSnqFLwt",
        "outputId": "222357dc-592e-4112-f354-7acb8dbc1faf"
      },
      "source": [
        "treshold, acc"
      ],
      "execution_count": 164,
      "outputs": [
        {
          "output_type": "execute_result",
          "data": {
            "text/plain": [
              "(45, 0.9875592417061612)"
            ]
          },
          "metadata": {
            "tags": []
          },
          "execution_count": 164
        }
      ]
    },
    {
      "cell_type": "code",
      "metadata": {
        "id": "UQumI8-tFL0u",
        "colab": {
          "base_uri": "https://localhost:8080/"
        },
        "outputId": "804fddc1-543f-464a-97ab-22801b7a7737"
      },
      "source": [
        "y_pred_new=np.where(y_pred_proba > 0.45, 1, 0)\n",
        "accuracy_score(y_test, y_pred_new)"
      ],
      "execution_count": 165,
      "outputs": [
        {
          "output_type": "execute_result",
          "data": {
            "text/plain": [
              "0.9875592417061612"
            ]
          },
          "metadata": {
            "tags": []
          },
          "execution_count": 165
        }
      ]
    },
    {
      "cell_type": "code",
      "metadata": {
        "colab": {
          "base_uri": "https://localhost:8080/",
          "height": 311
        },
        "id": "BVTy4EZ-7wCV",
        "outputId": "cf8916b1-4ba6-4ccf-b0f2-2b47fec060d0"
      },
      "source": [
        "from sklearn.metrics import confusion_matrix\n",
        "cm=confusion_matrix(y_test, y_pred)\n",
        "cm_class=['False', \"True\"]\n",
        "plot_conf_matrix(cm, cm_class, normalize=True)"
      ],
      "execution_count": 161,
      "outputs": [
        {
          "output_type": "display_data",
          "data": {
            "image/png": "[encoded data removed]",
            "text/plain": [
              "<Figure size 432x288 with 2 Axes>"
            ]
          },
          "metadata": {
            "tags": [],
            "needs_background": "light"
          }
        }
      ]
    },
    {
      "cell_type": "code",
      "metadata": {
        "colab": {
          "base_uri": "https://localhost:8080/"
        },
        "id": "vj4Dy1gbFL5t",
        "outputId": "59043938-469a-4f19-e427-1316282c2a19"
      },
      "source": [
        "evaluation_matrics(y_test, y_pred)"
      ],
      "execution_count": 162,
      "outputs": [
        {
          "output_type": "stream",
          "text": [
            "{'accuracy for False class': 0.99581589958159}\n",
            "{'accuracy for True class': 0.9754098360655737}\n",
            "{'accuracy ': 0.9869668246445498}\n",
            "Precision: 0.994429\n",
            "Recall: 0.975410\n",
            "F1 score: 0.984828\n"
          ],
          "name": "stdout"
        }
      ]
    },
    {
      "cell_type": "code",
      "metadata": {
        "colab": {
          "base_uri": "https://localhost:8080/"
        },
        "id": "0OzK_t9e0Flk",
        "outputId": "e433b782-0113-4204-89b3-46a2415a9461"
      },
      "source": [
        "evaluation_matrics(y_train, y_train_pred)"
      ],
      "execution_count": 166,
      "outputs": [
        {
          "output_type": "stream",
          "text": [
            "{'accuracy for False class': 0.9965549639837143}\n",
            "{'accuracy for True class': 0.9996868149076104}\n",
            "{'accuracy ': 0.9981208894456624}\n",
            "Precision: 0.996566\n",
            "Recall: 0.999687\n",
            "F1 score: 0.998124\n"
          ],
          "name": "stdout"
        }
      ]
    },
    {
      "cell_type": "code",
      "metadata": {
        "colab": {
          "base_uri": "https://localhost:8080/"
        },
        "id": "ICDGbukL0NQt",
        "outputId": "e37957e2-30eb-4ae5-f3b6-b98ea4fa289a"
      },
      "source": [
        "print(classification_report(y_test, y_pred))"
      ],
      "execution_count": 170,
      "outputs": [
        {
          "output_type": "stream",
          "text": [
            "              precision    recall  f1-score   support\n",
            "\n",
            "       False       0.98      1.00      0.99       956\n",
            "        True       0.99      0.98      0.98       732\n",
            "\n",
            "    accuracy                           0.99      1688\n",
            "   macro avg       0.99      0.99      0.99      1688\n",
            "weighted avg       0.99      0.99      0.99      1688\n",
            "\n"
          ],
          "name": "stdout"
        }
      ]
    },
    {
      "cell_type": "code",
      "metadata": {
        "id": "-IlYLkQE0NUs"
      },
      "source": [
        ""
      ],
      "execution_count": null,
      "outputs": []
    },
    {
      "cell_type": "code",
      "metadata": {
        "id": "etnyokmbme3l"
      },
      "source": [
        "X__train_new=[]\n",
        "for i in range(len(X_train)):\n",
        "  downsample = 4\n",
        "  # change to 0-1\n",
        "  ds_array = X_train[i]/255\n",
        "  r = skimage.measure.block_reduce(ds_array[:, :, 0],\n",
        "                                  (downsample, downsample),\n",
        "                                  np.mean)\n",
        "  g = skimage.measure.block_reduce(ds_array[:, :, 1],\n",
        "                                  (downsample, downsample),\n",
        "                                  np.mean)\n",
        "  b = skimage.measure.block_reduce(ds_array[:, :, 2],\n",
        "                                  (downsample, downsample),\n",
        "                                  np.mean)\n",
        "  ds_array = np.stack((r, g, b), axis=-1)\n",
        "  X__train_new.append(ds_array)"
      ],
      "execution_count": null,
      "outputs": []
    },
    {
      "cell_type": "code",
      "metadata": {
        "id": "Yo39sv70t09G"
      },
      "source": [
        ""
      ],
      "execution_count": null,
      "outputs": []
    },
    {
      "cell_type": "code",
      "metadata": {
        "id": "NZhpc0McrrPw"
      },
      "source": [
        "X__val_new=[]\n",
        "for i in range(len(X_val)):\n",
        "  downsample = 4\n",
        "  # change to 0-1\n",
        "  ds_array = X_val[i]/255\n",
        "  r = skimage.measure.block_reduce(ds_array[:, :, 0],\n",
        "                                  (downsample, downsample),\n",
        "                                  np.mean)\n",
        "  g = skimage.measure.block_reduce(ds_array[:, :, 1],\n",
        "                                  (downsample, downsample),\n",
        "                                  np.mean)\n",
        "  b = skimage.measure.block_reduce(ds_array[:, :, 2],\n",
        "                                  (downsample, downsample),\n",
        "                                  np.mean)\n",
        "  ds_array = np.stack((r, g, b), axis=-1)\n",
        "  X__val_new.append(ds_array)"
      ],
      "execution_count": null,
      "outputs": []
    },
    {
      "cell_type": "code",
      "metadata": {
        "id": "Z7YBig82rrT9"
      },
      "source": [
        "X__test_new=[]\n",
        "for i in range(len(X_test)):\n",
        "  downsample = 4\n",
        "  # change to 0-1\n",
        "  ds_array = X_test[i]/255\n",
        "  r = skimage.measure.block_reduce(ds_array[:, :, 0],\n",
        "                                  (downsample, downsample),\n",
        "                                  np.mean)\n",
        "  g = skimage.measure.block_reduce(ds_array[:, :, 1],\n",
        "                                  (downsample, downsample),\n",
        "                                  np.mean)\n",
        "  b = skimage.measure.block_reduce(ds_array[:, :, 2],\n",
        "                                  (downsample, downsample),\n",
        "                                  np.mean)\n",
        "  ds_array = np.stack((r, g, b), axis=-1)\n",
        "  X__test_new.append(ds_array)"
      ],
      "execution_count": null,
      "outputs": []
    },
    {
      "cell_type": "code",
      "metadata": {
        "id": "pQBDM63xr2rk"
      },
      "source": [
        "X__train_new=np.array(X__train_new)\n",
        "X__val_new=np.array(X__val_new)\n",
        "X__test_new=np.array(X__test_new)"
      ],
      "execution_count": null,
      "outputs": []
    },
    {
      "cell_type": "code",
      "metadata": {
        "colab": {
          "base_uri": "https://localhost:8080/"
        },
        "id": "MxpJW1kEr6K6",
        "outputId": "ff8bf65f-577f-4826-8137-4869d720db4a"
      },
      "source": [
        "X__train_new.shape, X__val_new.shape, X__test_new.shape"
      ],
      "execution_count": null,
      "outputs": [
        {
          "output_type": "execute_result",
          "data": {
            "text/plain": [
              "((6854, 56, 56, 3), (1895, 56, 56, 3), (1688, 56, 56, 3))"
            ]
          },
          "metadata": {
            "tags": []
          },
          "execution_count": 32
        }
      ]
    },
    {
      "cell_type": "code",
      "metadata": {
        "colab": {
          "base_uri": "https://localhost:8080/",
          "height": 284
        },
        "id": "lCqic0bjnZH0",
        "outputId": "da69c3f9-b252-480f-dc33-17aaf3546181"
      },
      "source": [
        "plt.imshow(ds_array)"
      ],
      "execution_count": null,
      "outputs": [
        {
          "output_type": "execute_result",
          "data": {
            "text/plain": [
              "<matplotlib.image.AxesImage at 0x7fee2c05ff90>"
            ]
          },
          "metadata": {
            "tags": []
          },
          "execution_count": 73
        },
        {
          "output_type": "display_data",
          "data": {
            "image/png": "[encoded data removed]",
            "text/plain": [
              "<Figure size 432x288 with 1 Axes>"
            ]
          },
          "metadata": {
            "tags": [],
            "needs_background": "light"
          }
        }
      ]
    },
    {
      "cell_type": "code",
      "metadata": {
        "colab": {
          "base_uri": "https://localhost:8080/"
        },
        "id": "8tR0sL1i4ARc",
        "outputId": "699e94d5-8efc-4dcf-89f0-673d45961280"
      },
      "source": [
        "X_train.min(), X_train.max()"
      ],
      "execution_count": null,
      "outputs": [
        {
          "output_type": "execute_result",
          "data": {
            "text/plain": [
              "(0, 255)"
            ]
          },
          "metadata": {
            "tags": []
          },
          "execution_count": 78
        }
      ]
    },
    {
      "cell_type": "code",
      "metadata": {
        "colab": {
          "base_uri": "https://localhost:8080/"
        },
        "id": "pGM8wD8LsNNU",
        "outputId": "4a90f812-b08c-419f-8e0a-6b8d8bcb5e2c"
      },
      "source": [
        "X__train_new.min(), X__train_new.max()"
      ],
      "execution_count": null,
      "outputs": [
        {
          "output_type": "execute_result",
          "data": {
            "text/plain": [
              "(0.0, 1.0)"
            ]
          },
          "metadata": {
            "tags": []
          },
          "execution_count": 34
        }
      ]
    },
    {
      "cell_type": "code",
      "metadata": {
        "id": "P5gzNAnOT568"
      },
      "source": [
        "from keras import Input \n",
        "from keras.layers import Lambda"
      ],
      "execution_count": null,
      "outputs": []
    },
    {
      "cell_type": "code",
      "metadata": {
        "id": "1A-W8OqYTNbO"
      },
      "source": [
        "# sequence = [\n",
        "#     Input(shape=(512,512,3)),\n",
        "#     Lambda(lambda x: x/255.0),\n",
        "# ]"
      ],
      "execution_count": null,
      "outputs": []
    },
    {
      "cell_type": "code",
      "metadata": {
        "colab": {
          "base_uri": "https://localhost:8080/",
          "height": 163
        },
        "id": "J3dZpy0_ptRr",
        "outputId": "7879e781-5f28-4152-c45f-52e47cf33fe8"
      },
      "source": [
        "X_new.max()"
      ],
      "execution_count": null,
      "outputs": [
        {
          "output_type": "error",
          "ename": "NameError",
          "evalue": "ignored",
          "traceback": [
            "\u001b[0;31m---------------------------------------------------------------------------\u001b[0m",
            "\u001b[0;31mNameError\u001b[0m                                 Traceback (most recent call last)",
            "\u001b[0;32m<ipython-input-84-7b9d0f6aac9d>\u001b[0m in \u001b[0;36m<module>\u001b[0;34m()\u001b[0m\n\u001b[0;32m----> 1\u001b[0;31m \u001b[0mX_new\u001b[0m\u001b[0;34m.\u001b[0m\u001b[0mmax\u001b[0m\u001b[0;34m(\u001b[0m\u001b[0;34m)\u001b[0m\u001b[0;34m\u001b[0m\u001b[0;34m\u001b[0m\u001b[0m\n\u001b[0m",
            "\u001b[0;31mNameError\u001b[0m: name 'X_new' is not defined"
          ]
        }
      ]
    },
    {
      "cell_type": "code",
      "metadata": {
        "id": "lxWBY4AYAHJd"
      },
      "source": [
        "from tensorflow.keras import layers\n",
        "data_augmentation = tf.keras.Sequential([Input(shape=(112,112,3)),\n",
        "  # layers.experimental.preprocessing.Rescaling(scale= 1 / 255.0),\n",
        "  layers.experimental.preprocessing.RandomFlip(\"horizontal_and_vertical\"),\n",
        "  layers.experimental.preprocessing.RandomRotation(0.3),\n",
        "  layers.experimental.preprocessing.RandomZoom(.5, .2)\n",
        "])"
      ],
      "execution_count": null,
      "outputs": []
    },
    {
      "cell_type": "code",
      "metadata": {
        "id": "0FT50-ggoxY2"
      },
      "source": [
        "# for layer in vgg16_model.layers[:19]:\n",
        "#   layer.trainable=False"
      ],
      "execution_count": null,
      "outputs": []
    },
    {
      "cell_type": "code",
      "metadata": {
        "id": "dqOJFiiSpQZl"
      },
      "source": [
        "# from keras.models import Model\n",
        "# X=vgg16_model.layers[-2].output\n",
        "# predictions=Dense(1, activation='sigmoid')(X)\n",
        "# model_final = Model(inputs=vgg16_model.input, outputs=predictions)"
      ],
      "execution_count": null,
      "outputs": []
    },
    {
      "cell_type": "code",
      "metadata": {
        "id": "zWr8AzZOp-Hk"
      },
      "source": [
        "# from keras import optimizers\n",
        "# model_final.compile(loss='categorical_crossentropy',\n",
        "#               optimizer=optimizers.SGD(lr=0.001, momentum=0.9),\n",
        "#               metrics=['accuracy'])"
      ],
      "execution_count": null,
      "outputs": []
    },
    {
      "cell_type": "code",
      "metadata": {
        "colab": {
          "base_uri": "https://localhost:8080/"
        },
        "id": "6RsKYH7GssM9",
        "outputId": "4a35b471-f65a-4b85-e7be-f00358b18bbf"
      },
      "source": [
        "model.summary()"
      ],
      "execution_count": null,
      "outputs": [
        {
          "output_type": "stream",
          "text": [
            "Model: \"sequential_5\"\n",
            "_________________________________________________________________\n",
            "Layer (type)                 Output Shape              Param #   \n",
            "=================================================================\n",
            "rescaling_1 (Rescaling)      (None, 224, 224, 3)       0         \n",
            "_________________________________________________________________\n",
            "input_3 (InputLayer)         multiple                  0         \n",
            "_________________________________________________________________\n",
            "block1_conv1 (Conv2D)        (None, 224, 224, 64)      1792      \n",
            "_________________________________________________________________\n",
            "block1_conv2 (Conv2D)        (None, 224, 224, 64)      36928     \n",
            "_________________________________________________________________\n",
            "block1_pool (MaxPooling2D)   (None, 112, 112, 64)      0         \n",
            "_________________________________________________________________\n",
            "block2_conv1 (Conv2D)        (None, 112, 112, 128)     73856     \n",
            "_________________________________________________________________\n",
            "block2_conv2 (Conv2D)        (None, 112, 112, 128)     147584    \n",
            "_________________________________________________________________\n",
            "block2_pool (MaxPooling2D)   (None, 56, 56, 128)       0         \n",
            "_________________________________________________________________\n",
            "block3_conv1 (Conv2D)        (None, 56, 56, 256)       295168    \n",
            "_________________________________________________________________\n",
            "block3_conv2 (Conv2D)        (None, 56, 56, 256)       590080    \n",
            "_________________________________________________________________\n",
            "block3_conv3 (Conv2D)        (None, 56, 56, 256)       590080    \n",
            "_________________________________________________________________\n",
            "block3_pool (MaxPooling2D)   (None, 28, 28, 256)       0         \n",
            "_________________________________________________________________\n",
            "block4_conv1 (Conv2D)        (None, 28, 28, 512)       1180160   \n",
            "_________________________________________________________________\n",
            "block4_conv2 (Conv2D)        (None, 28, 28, 512)       2359808   \n",
            "_________________________________________________________________\n",
            "block4_conv3 (Conv2D)        (None, 28, 28, 512)       2359808   \n",
            "_________________________________________________________________\n",
            "block4_pool (MaxPooling2D)   (None, 14, 14, 512)       0         \n",
            "_________________________________________________________________\n",
            "block5_conv1 (Conv2D)        (None, 14, 14, 512)       2359808   \n",
            "_________________________________________________________________\n",
            "block5_conv2 (Conv2D)        (None, 14, 14, 512)       2359808   \n",
            "_________________________________________________________________\n",
            "block5_conv3 (Conv2D)        (None, 14, 14, 512)       2359808   \n",
            "_________________________________________________________________\n",
            "block5_pool (MaxPooling2D)   (None, 7, 7, 512)         0         \n",
            "_________________________________________________________________\n",
            "flatten_4 (Flatten)          (None, 25088)             0         \n",
            "_________________________________________________________________\n",
            "dense_10 (Dense)             (None, 128)               3211392   \n",
            "_________________________________________________________________\n",
            "batch_normalization_5 (Batch (None, 128)               512       \n",
            "_________________________________________________________________\n",
            "dropout_5 (Dropout)          (None, 128)               0         \n",
            "_________________________________________________________________\n",
            "dense_11 (Dense)             (None, 1)                 129       \n",
            "=================================================================\n",
            "Total params: 17,926,721\n",
            "Trainable params: 3,211,777\n",
            "Non-trainable params: 14,714,944\n",
            "_________________________________________________________________\n"
          ],
          "name": "stdout"
        }
      ]
    },
    {
      "cell_type": "code",
      "metadata": {
        "colab": {
          "base_uri": "https://localhost:8080/"
        },
        "id": "_Qt__aktmDid",
        "outputId": "2e6d0f1c-a30b-47e9-ac3b-794b4db494f0"
      },
      "source": [
        "model.evaluate(X_test, y_test)"
      ],
      "execution_count": null,
      "outputs": [
        {
          "output_type": "stream",
          "text": [
            "53/53 [==============================] - 11s 214ms/step - loss: 0.7081 - accuracy: 0.7364\n"
          ],
          "name": "stdout"
        },
        {
          "output_type": "execute_result",
          "data": {
            "text/plain": [
              "[0.7081223726272583, 0.7363743782043457]"
            ]
          },
          "metadata": {
            "tags": []
          },
          "execution_count": 96
        }
      ]
    },
    {
      "cell_type": "code",
      "metadata": {
        "colab": {
          "base_uri": "https://localhost:8080/"
        },
        "id": "Lq6m9zZQnLfb",
        "outputId": "0f40cf2c-6038-459b-84d0-bd4c3a5ef85e"
      },
      "source": [
        "\n",
        "model.evaluate(X_val, y_val)"
      ],
      "execution_count": null,
      "outputs": [
        {
          "output_type": "stream",
          "text": [
            "53/53 [==============================] - 6s 122ms/step - loss: 0.2688 - accuracy: 0.8508\n"
          ],
          "name": "stdout"
        },
        {
          "output_type": "execute_result",
          "data": {
            "text/plain": [
              "[0.2688111662864685, 0.8508254885673523]"
            ]
          },
          "metadata": {
            "tags": []
          },
          "execution_count": 147
        }
      ]
    },
    {
      "cell_type": "code",
      "metadata": {
        "colab": {
          "base_uri": "https://localhost:8080/"
        },
        "id": "j1DFNfFKmDk1",
        "outputId": "9f3d3389-50b8-421a-e47f-0dc2fd42809e"
      },
      "source": [
        "np.mean(y_test)"
      ],
      "execution_count": null,
      "outputs": [
        {
          "output_type": "execute_result",
          "data": {
            "text/plain": [
              "0.14615384615384616"
            ]
          },
          "metadata": {
            "tags": []
          },
          "execution_count": 67
        }
      ]
    },
    {
      "cell_type": "code",
      "metadata": {
        "id": "R1mRVj37mx0p"
      },
      "source": [
        "feature_ectractor=vgg16_model.predict(X_train)\n",
        "features=feature_ectractor.reshape(feature_ectractor.shape[0], -1)"
      ],
      "execution_count": null,
      "outputs": []
    },
    {
      "cell_type": "code",
      "metadata": {
        "colab": {
          "base_uri": "https://localhost:8080/"
        },
        "id": "RUXPgf_CpD2X",
        "outputId": "9b7c95c0-61ba-476d-d00e-1d6589dafd61"
      },
      "source": [
        "features.shape"
      ],
      "execution_count": null,
      "outputs": [
        {
          "output_type": "execute_result",
          "data": {
            "text/plain": [
              "(7141, 512)"
            ]
          },
          "metadata": {
            "tags": []
          },
          "execution_count": 45
        }
      ]
    },
    {
      "cell_type": "code",
      "metadata": {
        "id": "3t4J5Y1GpgFr"
      },
      "source": [
        "feature_ectractor_test=vgg16_model.predict(X_test)\n",
        "features_test=feature_ectractor_test.reshape(feature_ectractor_test.shape[0], -1)"
      ],
      "execution_count": null,
      "outputs": []
    },
    {
      "cell_type": "code",
      "metadata": {
        "colab": {
          "base_uri": "https://localhost:8080/"
        },
        "id": "3S0B_4Z8rRyS",
        "outputId": "412c4b68-193d-4d84-d4fb-db56eb4fb909"
      },
      "source": [
        "feature_ectractor_test.shape"
      ],
      "execution_count": null,
      "outputs": [
        {
          "output_type": "execute_result",
          "data": {
            "text/plain": [
              "(1688, 512)"
            ]
          },
          "metadata": {
            "tags": []
          },
          "execution_count": 65
        }
      ]
    },
    {
      "cell_type": "code",
      "metadata": {
        "id": "sAR4n5rcnEn9"
      },
      "source": [
        "from sklearn.ensemble import RandomForestClassifier\n",
        "RF_model=RandomForestClassifier(n_estimators=50)"
      ],
      "execution_count": null,
      "outputs": []
    },
    {
      "cell_type": "code",
      "metadata": {
        "colab": {
          "base_uri": "https://localhost:8080/"
        },
        "id": "gtlA4BZxndoJ",
        "outputId": "c2530718-8a40-45fd-afb7-eb891e6a74b0"
      },
      "source": [
        "RF_model.fit(features, y_train)"
      ],
      "execution_count": null,
      "outputs": [
        {
          "output_type": "execute_result",
          "data": {
            "text/plain": [
              "RandomForestClassifier(bootstrap=True, ccp_alpha=0.0, class_weight=None,\n",
              "                       criterion='gini', max_depth=None, max_features='auto',\n",
              "                       max_leaf_nodes=None, max_samples=None,\n",
              "                       min_impurity_decrease=0.0, min_impurity_split=None,\n",
              "                       min_samples_leaf=1, min_samples_split=2,\n",
              "                       min_weight_fraction_leaf=0.0, n_estimators=50,\n",
              "                       n_jobs=None, oob_score=False, random_state=None,\n",
              "                       verbose=0, warm_start=False)"
            ]
          },
          "metadata": {
            "tags": []
          },
          "execution_count": 47
        }
      ]
    },
    {
      "cell_type": "code",
      "metadata": {
        "id": "eHUh15_epr8e"
      },
      "source": [
        "prediction=RF_model.predict(features_test)"
      ],
      "execution_count": null,
      "outputs": []
    },
    {
      "cell_type": "code",
      "metadata": {
        "id": "4ch3An7Grfm7"
      },
      "source": [
        "prediction_train=RF_model.predict(features)"
      ],
      "execution_count": null,
      "outputs": []
    },
    {
      "cell_type": "code",
      "metadata": {
        "colab": {
          "base_uri": "https://localhost:8080/"
        },
        "id": "NksJgqtGrFLq",
        "outputId": "31d87884-0001-43b3-a939-f64ed50119f2"
      },
      "source": [
        "features_test.shape"
      ],
      "execution_count": null,
      "outputs": [
        {
          "output_type": "execute_result",
          "data": {
            "text/plain": [
              "(1688, 512)"
            ]
          },
          "metadata": {
            "tags": []
          },
          "execution_count": 67
        }
      ]
    },
    {
      "cell_type": "code",
      "metadata": {
        "colab": {
          "base_uri": "https://localhost:8080/"
        },
        "id": "OZA27R45nEsS",
        "outputId": "2dd58b4b-1311-4ec8-ff63-a5517a931bed"
      },
      "source": [
        "prediction.shape, y_test.shape"
      ],
      "execution_count": null,
      "outputs": [
        {
          "output_type": "execute_result",
          "data": {
            "text/plain": [
              "((1688,), (1688,))"
            ]
          },
          "metadata": {
            "tags": []
          },
          "execution_count": 68
        }
      ]
    },
    {
      "cell_type": "code",
      "metadata": {
        "colab": {
          "base_uri": "https://localhost:8080/"
        },
        "id": "YAYV27-pmx3k",
        "outputId": "e57f9f8c-48f5-4613-e72b-ceb6eeec51ac"
      },
      "source": [
        "from sklearn.metrics import accuracy_score\n",
        "accuracy_score(y_test, prediction)"
      ],
      "execution_count": null,
      "outputs": [
        {
          "output_type": "execute_result",
          "data": {
            "text/plain": [
              "0.7215639810426541"
            ]
          },
          "metadata": {
            "tags": []
          },
          "execution_count": 69
        }
      ]
    },
    {
      "cell_type": "code",
      "metadata": {
        "colab": {
          "base_uri": "https://localhost:8080/"
        },
        "id": "9wDGjF12rkz2",
        "outputId": "1b758119-e0fd-4a9a-f636-5226c828403a"
      },
      "source": [
        "accuracy_score(y_train, prediction_train)"
      ],
      "execution_count": null,
      "outputs": [
        {
          "output_type": "execute_result",
          "data": {
            "text/plain": [
              "1.0"
            ]
          },
          "metadata": {
            "tags": []
          },
          "execution_count": 71
        }
      ]
    },
    {
      "cell_type": "markdown",
      "metadata": {
        "id": "dvQaexZSJrI-"
      },
      "source": [
        "## Problem"
      ]
    },
    {
      "cell_type": "markdown",
      "metadata": {
        "id": "iLIpFzKjJ9N2"
      },
      "source": [
        "  1. Understand the code above. Read about tiff files, OpenCV, Raterio and etc. \n",
        "  \n",
        "  https://automating-gis-processes.github.io/site/notebooks/Raster/reading-raster.html#\n",
        "\n",
        "  2. Build a neural network which will classfiy given images. Report f1, recall, precision and accuracy metrics on validation data (20% of the given data). \n",
        "\n",
        "  3. Try different architectures:\n",
        "    \n",
        "    **Anna** - vgg13, vgg16, MobileNet V2\n",
        "    \n",
        "    **Marine** - resnet18, resnet34, MobileNet V2\n",
        "\n",
        "  4. Try to solve the same problem in pytorch as well."
      ]
    },
    {
      "cell_type": "code",
      "metadata": {
        "id": "PGSZfIwaLxfn"
      },
      "source": [
        ""
      ],
      "execution_count": null,
      "outputs": []
    }
  ]
}