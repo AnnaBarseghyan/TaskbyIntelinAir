{
  "nbformat": 4,
  "nbformat_minor": 0,
  "metadata": {
    "accelerator": "GPU",
    "colab": {
      "name": "task_vgg16_final-1.ipynb",
      "provenance": [],
      "collapsed_sections": []
    },
    "kernelspec": {
      "display_name": "Python 3",
      "language": "python",
      "name": "python3"
    },
    "language_info": {
      "codemirror_mode": {
        "name": "ipython",
        "version": 3
      },
      "file_extension": ".py",
      "mimetype": "text/x-python",
      "name": "python",
      "nbconvert_exporter": "python",
      "pygments_lexer": "ipython3",
      "version": "3.8.5"
    }
  },
  "cells": [
    {
      "cell_type": "code",
      "metadata": {
        "colab": {
          "base_uri": "https://localhost:8080/",
          "height": 1000
        },
        "id": "s5b6qlD2QFTE",
        "outputId": "7fb64901-c79b-46aa-828b-7b1651684867"
      },
      "source": [
        "% pip install numpy>=1.18.0\n",
        "% pip install pandas==1.1.0\n",
        "% pip install opencv-python==4.4.0.46\n",
        "% pip install rasterio[s3]==1.1.8\n",
        "% pip install awscli\n",
        "% pip install geopandas"
      ],
      "execution_count": null,
      "outputs": [
        {
          "output_type": "stream",
          "text": [
            "Collecting pandas==1.1.0\n",
            "\u001b[?25l  Downloading https://files.pythonhosted.org/packages/94/b1/f77f49cc7cc538b247f30c2ae7e3a50f29e44f0b1af32ff4869d7de3c762/pandas-1.1.0-cp37-cp37m-manylinux1_x86_64.whl (10.5MB)\n",
            "\u001b[K     |████████████████████████████████| 10.5MB 20.6MB/s \n",
            "\u001b[?25hRequirement already satisfied: python-dateutil>=2.7.3 in /usr/local/lib/python3.7/dist-packages (from pandas==1.1.0) (2.8.1)\n",
            "Requirement already satisfied: numpy>=1.15.4 in /usr/local/lib/python3.7/dist-packages (from pandas==1.1.0) (1.19.5)\n",
            "Requirement already satisfied: pytz>=2017.2 in /usr/local/lib/python3.7/dist-packages (from pandas==1.1.0) (2018.9)\n",
            "Requirement already satisfied: six>=1.5 in /usr/local/lib/python3.7/dist-packages (from python-dateutil>=2.7.3->pandas==1.1.0) (1.15.0)\n",
            "Installing collected packages: pandas\n",
            "  Found existing installation: pandas 1.1.5\n",
            "    Uninstalling pandas-1.1.5:\n",
            "      Successfully uninstalled pandas-1.1.5\n",
            "Successfully installed pandas-1.1.0\n"
          ],
          "name": "stdout"
        },
        {
          "output_type": "display_data",
          "data": {
            "application/vnd.colab-display-data+json": {
              "pip_warning": {
                "packages": [
                  "pandas"
                ]
              }
            }
          },
          "metadata": {
            "tags": []
          }
        },
        {
          "output_type": "stream",
          "text": [
            "Collecting opencv-python==4.4.0.46\n",
            "\u001b[?25l  Downloading https://files.pythonhosted.org/packages/1b/2d/62eba161d3d713e1720504de1c25d439b02c85159804d9ecead10be5d87e/opencv_python-4.4.0.46-cp37-cp37m-manylinux2014_x86_64.whl (49.5MB)\n",
            "\u001b[K     |████████████████████████████████| 49.5MB 62kB/s \n",
            "\u001b[?25hRequirement already satisfied: numpy>=1.14.5 in /usr/local/lib/python3.7/dist-packages (from opencv-python==4.4.0.46) (1.19.5)\n",
            "\u001b[31mERROR: albumentations 0.1.12 has requirement imgaug<0.2.7,>=0.2.5, but you'll have imgaug 0.2.9 which is incompatible.\u001b[0m\n",
            "Installing collected packages: opencv-python\n",
            "  Found existing installation: opencv-python 4.1.2.30\n",
            "    Uninstalling opencv-python-4.1.2.30:\n",
            "      Successfully uninstalled opencv-python-4.1.2.30\n",
            "Successfully installed opencv-python-4.4.0.46\n",
            "Collecting rasterio[s3]==1.1.8\n",
            "\u001b[?25l  Downloading https://files.pythonhosted.org/packages/09/5a/92fd30ae3addd07ae71d865665bebc29feed99dc48d86a58bcb38b03c5f1/rasterio-1.1.8-1-cp37-cp37m-manylinux1_x86_64.whl (18.3MB)\n",
            "\u001b[K     |████████████████████████████████| 18.3MB 1.2MB/s \n",
            "\u001b[?25hRequirement already satisfied: numpy in /usr/local/lib/python3.7/dist-packages (from rasterio[s3]==1.1.8) (1.19.5)\n",
            "Collecting click-plugins\n",
            "  Downloading https://files.pythonhosted.org/packages/e9/da/824b92d9942f4e472702488857914bdd50f73021efea15b4cad9aca8ecef/click_plugins-1.1.1-py2.py3-none-any.whl\n",
            "Collecting cligj>=0.5\n",
            "  Downloading https://files.pythonhosted.org/packages/42/1e/947eadf10d6804bf276eb8a038bd5307996dceaaa41cfd21b7a15ec62f5d/cligj-0.7.1-py3-none-any.whl\n",
            "Requirement already satisfied: click<8,>=4.0 in /usr/local/lib/python3.7/dist-packages (from rasterio[s3]==1.1.8) (7.1.2)\n",
            "Collecting snuggs>=1.4.1\n",
            "  Downloading https://files.pythonhosted.org/packages/cc/0e/d27d6e806d6c0d1a2cfdc5d1f088e42339a0a54a09c3343f7f81ec8947ea/snuggs-1.4.7-py3-none-any.whl\n",
            "Collecting affine\n",
            "  Downloading https://files.pythonhosted.org/packages/ac/a6/1a39a1ede71210e3ddaf623982b06ecfc5c5c03741ae659073159184cd3e/affine-2.3.0-py2.py3-none-any.whl\n",
            "Requirement already satisfied: attrs in /usr/local/lib/python3.7/dist-packages (from rasterio[s3]==1.1.8) (20.3.0)\n",
            "Collecting boto3>=1.2.4; extra == \"s3\"\n",
            "\u001b[?25l  Downloading https://files.pythonhosted.org/packages/d2/8f/42959300c543b4d34bc9f9b54954471a33384c181084ed84f070763d7f37/boto3-1.17.62-py2.py3-none-any.whl (131kB)\n",
            "\u001b[K     |████████████████████████████████| 133kB 55.1MB/s \n",
            "\u001b[?25hRequirement already satisfied: pyparsing>=2.1.6 in /usr/local/lib/python3.7/dist-packages (from snuggs>=1.4.1->rasterio[s3]==1.1.8) (2.4.7)\n",
            "Collecting jmespath<1.0.0,>=0.7.1\n",
            "  Downloading https://files.pythonhosted.org/packages/07/cb/5f001272b6faeb23c1c9e0acc04d48eaaf5c862c17709d20e3469c6e0139/jmespath-0.10.0-py2.py3-none-any.whl\n",
            "Collecting s3transfer<0.5.0,>=0.4.0\n",
            "\u001b[?25l  Downloading https://files.pythonhosted.org/packages/63/d0/693477c688348654ddc21dcdce0817653a294aa43f41771084c25e7ff9c7/s3transfer-0.4.2-py2.py3-none-any.whl (79kB)\n",
            "\u001b[K     |████████████████████████████████| 81kB 11.5MB/s \n",
            "\u001b[?25hCollecting botocore<1.21.0,>=1.20.62\n",
            "\u001b[?25l  Downloading https://files.pythonhosted.org/packages/bd/60/ba830f93176fdc23166043298173ee2aecd5cf150f1ede51d6506f021deb/botocore-1.20.62-py2.py3-none-any.whl (7.5MB)\n",
            "\u001b[K     |████████████████████████████████| 7.5MB 35.8MB/s \n",
            "\u001b[?25hRequirement already satisfied: python-dateutil<3.0.0,>=2.1 in /usr/local/lib/python3.7/dist-packages (from botocore<1.21.0,>=1.20.62->boto3>=1.2.4; extra == \"s3\"->rasterio[s3]==1.1.8) (2.8.1)\n",
            "Collecting urllib3<1.27,>=1.25.4\n",
            "\u001b[?25l  Downloading https://files.pythonhosted.org/packages/09/c6/d3e3abe5b4f4f16cf0dfc9240ab7ce10c2baa0e268989a4e3ec19e90c84e/urllib3-1.26.4-py2.py3-none-any.whl (153kB)\n",
            "\u001b[K     |████████████████████████████████| 153kB 54.6MB/s \n",
            "\u001b[?25hRequirement already satisfied: six>=1.5 in /usr/local/lib/python3.7/dist-packages (from python-dateutil<3.0.0,>=2.1->botocore<1.21.0,>=1.20.62->boto3>=1.2.4; extra == \"s3\"->rasterio[s3]==1.1.8) (1.15.0)\n",
            "\u001b[31mERROR: requests 2.23.0 has requirement urllib3!=1.25.0,!=1.25.1,<1.26,>=1.21.1, but you'll have urllib3 1.26.4 which is incompatible.\u001b[0m\n",
            "\u001b[31mERROR: datascience 0.10.6 has requirement folium==0.2.1, but you'll have folium 0.8.3 which is incompatible.\u001b[0m\n",
            "Installing collected packages: click-plugins, cligj, snuggs, affine, jmespath, urllib3, botocore, s3transfer, boto3, rasterio\n",
            "  Found existing installation: urllib3 1.24.3\n",
            "    Uninstalling urllib3-1.24.3:\n",
            "      Successfully uninstalled urllib3-1.24.3\n",
            "Successfully installed affine-2.3.0 boto3-1.17.62 botocore-1.20.62 click-plugins-1.1.1 cligj-0.7.1 jmespath-0.10.0 rasterio-1.1.8 s3transfer-0.4.2 snuggs-1.4.7 urllib3-1.26.4\n",
            "Collecting awscli\n",
            "\u001b[?25l  Downloading https://files.pythonhosted.org/packages/1b/53/00130abd1b67ee22e2e236caa30799098d7ec47231e2fcb29d79eb77234e/awscli-1.19.62-py2.py3-none-any.whl (3.6MB)\n",
            "\u001b[K     |████████████████████████████████| 3.6MB 20.2MB/s \n",
            "\u001b[?25hRequirement already satisfied: rsa<4.8,>=3.1.2; python_version > \"2.7\" in /usr/local/lib/python3.7/dist-packages (from awscli) (4.7.2)\n",
            "Collecting docutils<0.16,>=0.10\n",
            "\u001b[?25l  Downloading https://files.pythonhosted.org/packages/22/cd/a6aa959dca619918ccb55023b4cb151949c64d4d5d55b3f4ffd7eee0c6e8/docutils-0.15.2-py3-none-any.whl (547kB)\n",
            "\u001b[K     |████████████████████████████████| 552kB 49.3MB/s \n",
            "\u001b[?25hCollecting colorama<0.4.4,>=0.2.5\n",
            "  Downloading https://files.pythonhosted.org/packages/c9/dc/45cdef1b4d119eb96316b3117e6d5708a08029992b2fee2c143c7a0a5cc5/colorama-0.4.3-py2.py3-none-any.whl\n",
            "Requirement already satisfied: s3transfer<0.5.0,>=0.4.0 in /usr/local/lib/python3.7/dist-packages (from awscli) (0.4.2)\n",
            "Requirement already satisfied: botocore==1.20.62 in /usr/local/lib/python3.7/dist-packages (from awscli) (1.20.62)\n",
            "Requirement already satisfied: PyYAML<5.5,>=3.10 in /usr/local/lib/python3.7/dist-packages (from awscli) (3.13)\n",
            "Requirement already satisfied: pyasn1>=0.1.3 in /usr/local/lib/python3.7/dist-packages (from rsa<4.8,>=3.1.2; python_version > \"2.7\"->awscli) (0.4.8)\n",
            "Requirement already satisfied: urllib3<1.27,>=1.25.4 in /usr/local/lib/python3.7/dist-packages (from botocore==1.20.62->awscli) (1.26.4)\n",
            "Requirement already satisfied: python-dateutil<3.0.0,>=2.1 in /usr/local/lib/python3.7/dist-packages (from botocore==1.20.62->awscli) (2.8.1)\n",
            "Requirement already satisfied: jmespath<1.0.0,>=0.7.1 in /usr/local/lib/python3.7/dist-packages (from botocore==1.20.62->awscli) (0.10.0)\n",
            "Requirement already satisfied: six>=1.5 in /usr/local/lib/python3.7/dist-packages (from python-dateutil<3.0.0,>=2.1->botocore==1.20.62->awscli) (1.15.0)\n",
            "\u001b[31mERROR: datascience 0.10.6 has requirement folium==0.2.1, but you'll have folium 0.8.3 which is incompatible.\u001b[0m\n",
            "Installing collected packages: docutils, colorama, awscli\n",
            "  Found existing installation: docutils 0.17\n",
            "    Uninstalling docutils-0.17:\n",
            "      Successfully uninstalled docutils-0.17\n",
            "Successfully installed awscli-1.19.62 colorama-0.4.3 docutils-0.15.2\n",
            "Collecting geopandas\n",
            "\u001b[?25l  Downloading https://files.pythonhosted.org/packages/d7/bf/e9cefb69d39155d122b6ddca53893b61535fa6ffdad70bf5ef708977f53f/geopandas-0.9.0-py2.py3-none-any.whl (994kB)\n",
            "\u001b[K     |████████████████████████████████| 1.0MB 19.3MB/s \n",
            "\u001b[?25hRequirement already satisfied: shapely>=1.6 in /usr/local/lib/python3.7/dist-packages (from geopandas) (1.7.1)\n",
            "Collecting pyproj>=2.2.0\n",
            "\u001b[?25l  Downloading https://files.pythonhosted.org/packages/b1/72/d52e9ca81caef056062d71991b0e9b1d16af042245627c5d0e4916a36c4f/pyproj-3.0.1-cp37-cp37m-manylinux2010_x86_64.whl (6.5MB)\n",
            "\u001b[K     |████████████████████████████████| 6.5MB 37.1MB/s \n",
            "\u001b[?25hRequirement already satisfied: pandas>=0.24.0 in /usr/local/lib/python3.7/dist-packages (from geopandas) (1.1.0)\n",
            "Collecting fiona>=1.8\n",
            "\u001b[?25l  Downloading https://files.pythonhosted.org/packages/ea/2a/404b22883298a3efe9c6ef8d67acbf2c38443fa366ee9cd4cd34e17626ea/Fiona-1.8.19-cp37-cp37m-manylinux1_x86_64.whl (15.3MB)\n",
            "\u001b[K     |████████████████████████████████| 15.3MB 216kB/s \n",
            "\u001b[?25hRequirement already satisfied: certifi in /usr/local/lib/python3.7/dist-packages (from pyproj>=2.2.0->geopandas) (2020.12.5)\n",
            "Requirement already satisfied: python-dateutil>=2.7.3 in /usr/local/lib/python3.7/dist-packages (from pandas>=0.24.0->geopandas) (2.8.1)\n",
            "Requirement already satisfied: numpy>=1.15.4 in /usr/local/lib/python3.7/dist-packages (from pandas>=0.24.0->geopandas) (1.19.5)\n",
            "Requirement already satisfied: pytz>=2017.2 in /usr/local/lib/python3.7/dist-packages (from pandas>=0.24.0->geopandas) (2018.9)\n",
            "Collecting munch\n",
            "  Downloading https://files.pythonhosted.org/packages/cc/ab/85d8da5c9a45e072301beb37ad7f833cd344e04c817d97e0cc75681d248f/munch-2.5.0-py2.py3-none-any.whl\n",
            "Requirement already satisfied: attrs>=17 in /usr/local/lib/python3.7/dist-packages (from fiona>=1.8->geopandas) (20.3.0)\n",
            "Requirement already satisfied: click-plugins>=1.0 in /usr/local/lib/python3.7/dist-packages (from fiona>=1.8->geopandas) (1.1.1)\n",
            "Requirement already satisfied: cligj>=0.5 in /usr/local/lib/python3.7/dist-packages (from fiona>=1.8->geopandas) (0.7.1)\n",
            "Requirement already satisfied: six>=1.7 in /usr/local/lib/python3.7/dist-packages (from fiona>=1.8->geopandas) (1.15.0)\n",
            "Requirement already satisfied: click<8,>=4.0 in /usr/local/lib/python3.7/dist-packages (from fiona>=1.8->geopandas) (7.1.2)\n",
            "Installing collected packages: pyproj, munch, fiona, geopandas\n",
            "Successfully installed fiona-1.8.19 geopandas-0.9.0 munch-2.5.0 pyproj-3.0.1\n"
          ],
          "name": "stdout"
        }
      ]
    },
    {
      "cell_type": "code",
      "metadata": {
        "id": "NETKse6vd1KQ"
      },
      "source": [
        "import os\n",
        "os.environ['AWS_NO_SIGN_REQUEST'] = 'YES'"
      ],
      "execution_count": null,
      "outputs": []
    },
    {
      "cell_type": "code",
      "metadata": {
        "id": "IounsGxKQno3"
      },
      "source": [
        "import ast\n",
        "import itertools\n",
        "import math\n",
        "from collections.abc import Iterable\n",
        "from pathlib import Path\n",
        "from typing import Dict\n",
        "from typing import Tuple, List, Sequence\n",
        "from urllib.parse import urlparse\n",
        "\n",
        "import boto3\n",
        "import botocore\n",
        "import cv2\n",
        "import geopandas as gpd\n",
        "import numpy as np\n",
        "import pandas as pd\n",
        "import rasterio\n",
        "import rasterio.mask\n",
        "from rasterio.io import DatasetReader\n",
        "from tqdm import tqdm\n",
        "import matplotlib.pyplot as plt"
      ],
      "execution_count": null,
      "outputs": []
    },
    {
      "cell_type": "markdown",
      "metadata": {
        "id": "xLi7cDup6su1"
      },
      "source": [
        "## Utility Functions & Classes"
      ]
    },
    {
      "cell_type": "code",
      "metadata": {
        "id": "-SVMSTSy6wL4"
      },
      "source": [
        "def read_image(image_path: str or Path) -> np.ndarray:\n",
        "    \"\"\"\n",
        "    Reads an image and returns it.\n",
        "    Args:\n",
        "        image_path: the path of the image\n",
        "    Returns:\n",
        "        array of image\n",
        "    \"\"\"\n",
        "    image_path = image_path if isinstance(image_path, str) else str(image_path)\n",
        "    image = cv2.imread(image_path, cv2.IMREAD_ANYCOLOR | cv2.IMREAD_ANYDEPTH)\n",
        "\n",
        "    if image is None:\n",
        "        raise ValueError(f'Failed to read image from {image_path} path.')\n",
        "\n",
        "    return image\n"
      ],
      "execution_count": null,
      "outputs": []
    },
    {
      "cell_type": "code",
      "metadata": {
        "id": "gQW2snPc6wZN"
      },
      "source": [
        "def save_image(image: np.ndarray, image_path: str or Path, image_band: str = None) -> str:\n",
        "    \"\"\"\n",
        "    Saves image and returns True in case of successful saving.\n",
        "    Args:\n",
        "        image: the image array to save\n",
        "        image_path: the path of the image\n",
        "        image_band: the image band name, which will be used in case of various color conversions\n",
        "    Returns:\n",
        "        image_path if image is successfully saved\n",
        "    Raises:\n",
        "        ValueError if the image is not saved\n",
        "    \"\"\"\n",
        "    image_path = image_path if isinstance(image_path, str) else str(image_path)\n",
        "\n",
        "    if image_band == 'RGB':\n",
        "        image = cv2.cvtColor(image, cv2.COLOR_RGB2BGR)\n",
        "\n",
        "    try:\n",
        "        check = cv2.imwrite(image_path, image)\n",
        "    except Exception as e:\n",
        "        raise ValueError(f'Failed to save image in {image_path} path due to error:\\n {e}.')\n",
        "    else:\n",
        "        if check:\n",
        "            return image_path\n",
        "        else:\n",
        "            ValueError(f'Failed to save image in {image_path} path.')\n",
        "\n"
      ],
      "execution_count": null,
      "outputs": []
    },
    {
      "cell_type": "code",
      "metadata": {
        "id": "CHd3UHf46wep"
      },
      "source": [
        "def crop_image(image: np.ndarray, crop_area: Tuple[int, int, int, int]) -> np.ndarray:\n",
        "    \"\"\"\n",
        "    Crops an are of image using its (top, left, bottom, right) coordinates.\n",
        "    Args:\n",
        "        image: 2D or 3D image, with shapes (H, W) or (H, W, C)\n",
        "        crop_area: (top, left, bottom, right) coordinates of area\n",
        "\n",
        "    Returns:\n",
        "        cropped image array\n",
        "    \"\"\"\n",
        "    top, left, bottom, right = crop_area\n",
        "    if image.ndim == 2:\n",
        "        return image[top:bottom, left:right]\n",
        "    elif image.ndim == 3:\n",
        "        return image[top:bottom, left:right, :]\n",
        "    else:\n",
        "        raise ValueError(f'The input image must be 2D or 3D, got: {image.shape}')\n"
      ],
      "execution_count": null,
      "outputs": []
    },
    {
      "cell_type": "code",
      "metadata": {
        "id": "PxUiWbRY6whx"
      },
      "source": [
        "def resize_image(image: np.ndarray, size: Tuple[int, int], algorithm=cv2.INTER_CUBIC):\n",
        "    \"\"\"\n",
        "    Args:\n",
        "        image: the image to resize\n",
        "        size: the size of the new image - (H, W)\n",
        "        algorithm: the algorithm used for resizing the image\n",
        "\n",
        "                    Possible algorithms are:\n",
        "                      INTER_NEAREST      = 0 - nearest neighbor interpolation\n",
        "                      INTER_LINEAR       = 1 - bilinear interpolation\n",
        "                      INTER_CUBIC        = 2 - bicubic interpolation\n",
        "                      INTER_AREA         = 3 - resampling using pixel area relation\n",
        "                      INTER_LANCZOS4     = 4 - Lanczos interpolation over 8x8 neighborhood\n",
        "                      INTER_LINEAR_EXACT = 5 - Bit exact bilinear interpolation\n",
        "    Returns:\n",
        "        resized image array\n",
        "    \"\"\"\n",
        "    # if size is None or equal to current size then return the original image\n",
        "    if size is None or size == image.shape[:2]:\n",
        "        return image\n",
        "\n",
        "    # openCV takes fx=W and fy=H\n",
        "    resized = cv2.resize(image, tuple(reversed(size)), interpolation=algorithm)\n",
        "\n",
        "    # openCV losses single channel images 3rd dimension\n",
        "    if image.ndim == 3 and resized.ndim != 3:\n",
        "        resized = np.expand_dims(resized, axis=2)\n",
        "\n",
        "    return resized\n"
      ],
      "execution_count": null,
      "outputs": []
    },
    {
      "cell_type": "code",
      "metadata": {
        "id": "5GA9hURB6wlP"
      },
      "source": [
        "class Slider:\n",
        "    \"\"\"Special class for sliding images, aka creatint tiles or patches.\"\"\"\n",
        "\n",
        "    def __init__(self,\n",
        "                 window: int or Tuple[int, int],\n",
        "                 stride: int or Tuple[int, int],\n",
        "                 scales: float or Iterable[float] = (1.0,), ):\n",
        "        \"\"\"\n",
        "        Args:\n",
        "            window: int or (int, int), (h, w) the window size,\n",
        "            stride: int or (int, int), (dh, dw) the strides,\n",
        "            scales: (float ...), the scales to resize the original image\n",
        "                    <1: downscale the original image\n",
        "                    >1: upscale\n",
        "        \"\"\"\n",
        "        if isinstance(window, int):\n",
        "            self.window = (window, window)\n",
        "        elif isinstance(window, tuple):\n",
        "            self.window = window\n",
        "        else:\n",
        "            raise TypeError(f'window must be tuple or int, got {type(window)}')\n",
        "\n",
        "        if isinstance(stride, int):\n",
        "            self.stride = (stride, stride)\n",
        "        elif isinstance(stride, tuple):\n",
        "            self.stride = stride\n",
        "        else:\n",
        "            raise TypeError(f'stride must be tuple or int, got: {type(stride)}')\n",
        "\n",
        "        if isinstance(scales, (float, int)):\n",
        "            self.scales = (scales,)\n",
        "        elif isinstance(scales, Iterable):\n",
        "            self.scales = scales\n",
        "        else:\n",
        "            raise TypeError(f'scales must be iterable or float or int, got: {type(scales)}')\n",
        "\n",
        "    def get_number_of_patches(self, input_h: int, input_w: int) -> int:\n",
        "        \"\"\"For given input sizes returns the possible number of sliding operations or the number of patches.\"\"\"\n",
        "        n_vertical = math.ceil((input_h - self.window[0]) / self.stride[0]) + 1\n",
        "        n_horizontal = math.ceil((input_w - self.window[1]) / self.stride[1]) + 1\n",
        "        n_scales = sum(1 for _ in self.scales)\n",
        "        return n_horizontal * n_vertical * n_scales\n",
        "\n",
        "    @staticmethod\n",
        "    def apply_scale(scale: float, h: int, w: int) -> Tuple[int, int]:\n",
        "        \"\"\"Applies scaling.\"\"\"\n",
        "        return int(h / scale), int(w / scale)\n",
        "\n",
        "    @staticmethod\n",
        "    def get_1d_offset(current_position: int, step: int, original_size: int) -> Tuple[int, int]:\n",
        "        \"\"\"Returns the 1d offset coordinates as a result of one step from given position.\n",
        "        If the potential window size exceed the original image size for instance,\n",
        "        window_h > image_h, window_h will thrink to image_h. \"\"\"\n",
        "        if current_position == 0 and step > original_size:\n",
        "            offset = (0, original_size)\n",
        "        elif current_position + step > original_size:\n",
        "            offset = (original_size - step, original_size)\n",
        "        else:\n",
        "            offset = (current_position, current_position + step)\n",
        "        return offset\n",
        "\n",
        "    def get_offsets(self, input_h: int, input_w: int) -> List[Tuple[int, int, int, int]]:\n",
        "        \"\"\"\n",
        "        Returns the offsets: (top, left, bottom, right) to get sub-images as a result of sliding.\n",
        "        Args:\n",
        "            input_h: input image height\n",
        "            input_w: input image width\n",
        "        Returns:\n",
        "            list of tuples where each tuple contains the patches or sub-images coordinates: (top, left, bottom, right)\n",
        "        \"\"\"\n",
        "        all_offsets = []\n",
        "        for s in self.scales:\n",
        "            window_h, window_w = self.apply_scale(s, *self.window)\n",
        "            stride_h, stride_w = self.apply_scale(s, *self.stride)\n",
        "            hs = [self.get_1d_offset(h, window_h, input_h) for h in range(0, input_h - window_h + stride_h, stride_h)]\n",
        "            ws = [self.get_1d_offset(w, window_w, input_w) for w in range(0, input_w - window_w + stride_w, stride_w)]\n",
        "            all_offsets += list(itertools.product(hs, ws))\n",
        "\n",
        "        return [(x[0][0], x[1][0], x[0][1], x[1][1]) for x in all_offsets]\n",
        "\n",
        "    def get_patch(self, image: np.ndarray, offset: Tuple[int, int, int, int]):\n",
        "        \"\"\"\n",
        "        Args:\n",
        "            image: original image to extract patch, which must have the shape H x W x C\n",
        "            offset: the tuples(top, left, bottom, right)\n",
        "        Returns:\n",
        "            image patch or sub-image window_h x window_h x C\n",
        "        \"\"\"\n",
        "        return resize_image(crop_image(image, offset), self.window, algorithm=cv2.INTER_CUBIC)\n",
        "\n",
        "    def get_patches(self, image: np.ndarray, offsets: List[Tuple[int, int, int, int]]):\n",
        "        \"\"\"\n",
        "        Args:\n",
        "            image: original image to extract patches, which must have the shape H x W x C\n",
        "            offsets: the list of tuples (top, left, bottom, right)\n",
        "        Returns:\n",
        "            image patches concatenated in one array with shape: N x window_h x window_h x C,\n",
        "            where N = len(offsets)\n",
        "        \"\"\"\n",
        "        return np.stack(tuple(self.get_patch(image, offset) for offset in offsets))\n",
        "\n",
        "    @staticmethod\n",
        "    def reconstruct(patches: Sequence[np.ndarray],\n",
        "                    offsets: List[Tuple[int, int, int, int]],\n",
        "                    output_shape: Tuple[int, int, int] or Tuple[int, int]):\n",
        "        \"\"\"\n",
        "        Recovers the image using its patches and their coordinates. Assumes that patches may\n",
        "        overlap. Overlapped patches are averaged.\n",
        "        Args:\n",
        "            patches: the list of image patches\n",
        "            offsets: the list of offsets (patch coordinates (top, left, bottom, right))\n",
        "            output_shape: the shape of the output image (H, W, C) or (H, W)\n",
        "        Returns:\n",
        "            the array of output image with shape = output shape\n",
        "        \"\"\"\n",
        "\n",
        "        if len(patches) != len(offsets):\n",
        "            raise ValueError('Number of patches must be equal to number of offsets.')\n",
        "\n",
        "        out_image, counter = np.zeros(output_shape), np.zeros(output_shape, dtype=np.float32)\n",
        "        for offset, patch in zip(offsets, patches):\n",
        "            top, left, bottom, right = offset\n",
        "            out_image[top:bottom, left:right] += patch\n",
        "            counter[top:bottom, left:right] += 1.\n",
        "\n",
        "        out_image /= counter\n",
        "        return out_image\n",
        "\n"
      ],
      "execution_count": null,
      "outputs": []
    },
    {
      "cell_type": "markdown",
      "metadata": {
        "id": "5bkXSUj0RaA9"
      },
      "source": [
        "## Data Download"
      ]
    },
    {
      "cell_type": "code",
      "metadata": {
        "id": "4VcL7Y7L7acz"
      },
      "source": [
        "class FlightObject:\n",
        "    \"\"\"Special class for preparing data using flight id and field id.\"\"\"\n",
        "\n",
        "    BANDS = ('rgb', 'mask')\n",
        "\n",
        "    def __init__(self, flight_id: str, field_id: str, download_folder: str):\n",
        "        \"\"\"\n",
        "\n",
        "        Args:\n",
        "            flight_id: the unique id of the flight\n",
        "            field_id: the unique id of the field\n",
        "            download_folder: the folder path where the flight data is downloaded\n",
        "        \"\"\"\n",
        "        paths = self.get_image_paths_from_flight_code(flight_id, download_folder)\n",
        "        self._download_folder = download_folder\n",
        "        self._border_file_path = paths.pop('border_file_path')\n",
        "        self._image_paths = {k.replace('_path', ''): v for k, v in paths.items()}\n",
        "\n",
        "        self._flight_id = flight_id\n",
        "        self._field_id = field_id\n",
        "        self._output_depth = 'uint16'\n",
        "\n",
        "        self._base_name = f\"{self._field_id}_{self._flight_id}\"\n",
        "        self._crop_coordinates = None\n",
        "        self._mask = None\n",
        "\n",
        "    @staticmethod\n",
        "    def get_image_paths_from_flight_code(flight_code: str, download_folder: str) -> Dict[str, str]:\n",
        "        \"\"\"Returns r, g, b and boarder file paths based on flight code.\"\"\"\n",
        "        return {\n",
        "            'red_path': f'{download_folder}/{flight_code}/reflectance_red-red.tif',\n",
        "            'green_path': f'{download_folder}/{flight_code}/reflectance_green-green.tif',\n",
        "            'blue_path': f'{download_folder}/{flight_code}/reflectance_blue-blue.tif',\n",
        "            'border_file_path': f'{download_folder}/{flight_code}/boundary.zip'\n",
        "        }\n",
        "\n",
        "    @property\n",
        "    def image_paths(self) -> Dict[str, str]:\n",
        "        \"\"\"Returns images paths in S3.\"\"\"\n",
        "        return self._image_paths.copy()\n",
        "\n",
        "    @property\n",
        "    def border_file_path(self) -> str:\n",
        "        \"\"\"Returns images paths in S3.\"\"\"\n",
        "        return self._border_file_path\n",
        "\n",
        "    @staticmethod\n",
        "    def read_single_channel_raster_image(image_path: str,\n",
        "                                         get_dataset: bool, ) -> np.ndarray or Tuple[np.ndarray, DatasetReader]:\n",
        "        \"\"\"Reads single channel raster image\"\"\"\n",
        "        with rasterio.open(image_path) as src:\n",
        "            image = np.nan_to_num(np.squeeze(src.read()), nan=0, posinf=0, neginf=0).astype(np.uint16)\n",
        "        return (image, src) if get_dataset else image\n",
        "\n",
        "    @staticmethod\n",
        "    def get_border_mask(border_file_path, raster_dataset: DatasetReader) -> np.ndarray:\n",
        "        \"\"\"Returns boolean mask, where True means that pixel belongs to the field, aka inside the border geometry.\"\"\"\n",
        "        gdf = gpd.read_file(border_file_path)\n",
        "        if gdf.shape[0] != 1 or 'geometry' not in gdf.columns:\n",
        "            raise ValueError(f'Boundary file {border_file_path} is wrong.')\n",
        "\n",
        "        border_geometry = gdf.to_crs(crs=raster_dataset.crs)['geometry'].iloc[0]\n",
        "        mask, _, _ = rasterio.mask.raster_geometry_mask(raster_dataset, [border_geometry], crop=False, invert=True)\n",
        "        return mask\n",
        "\n",
        "    def get_mask(self) -> np.ndarray:\n",
        "        \"\"\"Returns boolean Border Mask.\"\"\"\n",
        "        red_image, red_raster_dataset = self.read_single_channel_raster_image(\n",
        "            self._image_paths['red'], True\n",
        "        )\n",
        "\n",
        "        border_mask = self.get_border_mask(self._border_file_path, red_raster_dataset)\n",
        "        border_mask = np.nan_to_num(border_mask, nan=0, posinf=0, neginf=0)\n",
        "\n",
        "        x_index, y_index = np.nonzero(border_mask)\n",
        "        self._crop_coordinates = (x_index.min(), y_index.min(), x_index.max(), y_index.max())\n",
        "        self._mask = crop_image(border_mask, self._crop_coordinates).astype(np.uint8)\n",
        "\n",
        "        return self._mask.copy()\n",
        "\n",
        "    def get_rgb(self) -> np.ndarray:\n",
        "        \"\"\"Returns RGB image as uint8 or unit16.\"\"\"\n",
        "        rgb_image = np.stack(\n",
        "            [\n",
        "                self.read_single_channel_raster_image(self._image_paths[c], False)\n",
        "                for c in ('red', 'green', 'blue')\n",
        "            ],\n",
        "            axis=2\n",
        "        )\n",
        "        return crop_image(rgb_image, self._crop_coordinates)\n",
        "\n",
        "    def get_images(self) -> Dict[str, np.ndarray]:\n",
        "        \"\"\"Returns all images.\"\"\"\n",
        "        mask = self.get_mask()\n",
        "        rgb = self.get_rgb()\n",
        "        rgb *= mask[..., np.newaxis]\n",
        "        return {'rgb': rgb, 'mask': mask}\n",
        "\n",
        "    def create_tiles(self, output_folder: Path, slider_config: Dict) -> List[str]:\n",
        "        \"\"\"\n",
        "        Scales images by given scale factor, creates patches and saves them in output folder.\n",
        "        Args:\n",
        "            output_folder: the folder where the patched images will be saved\n",
        "            slider_config: the config creating patches (tiles)\n",
        "        \"\"\"\n",
        "        factor = 2**14\n",
        "        rgb = self.get_images()['rgb']\n",
        "        rgb = np.clip((rgb / factor) * 255,0, 255)\n",
        "        slider = Slider(**slider_config)\n",
        "        offsets = slider.get_offsets(*rgb.shape[:2])\n",
        "\n",
        "        tile_paths = []\n",
        "        for i, offset in enumerate(offsets):\n",
        "            tile = slider.get_patch(rgb, offset)\n",
        "            band_image_name = f'{self._base_name}_rgb_{i}-patch.png'\n",
        "            check = np.all(tile == 0)\n",
        "            if check:\n",
        "                print(f'{self._flight_id}-{self._field_id}: patch_number={i} have been skipped.')\n",
        "            else:\n",
        "                output_path = output_folder.joinpath(band_image_name)\n",
        "                output_path.parent.mkdir(exist_ok=True, parents=True)\n",
        "                tile_paths.append(save_image(tile, output_path, image_band='rgb'))\n",
        "        print(f'{self._base_name}: n={len(tile_paths)} patches have been saved, original size={rgb.shape}.')\n",
        "        return tile_paths\n"
      ],
      "execution_count": null,
      "outputs": []
    },
    {
      "cell_type": "code",
      "metadata": {
        "id": "FAPiak9C7ajS"
      },
      "source": [
        "class DatasetCreator:\n",
        "    \"\"\"Special Class for downloading images from S3 and splitting them into small tiles.\"\"\"\n",
        "\n",
        "    def __init__(self, s3_uri: str, download_folder: str, output_folder: str, tile_size: int = 512):\n",
        "        \"\"\"\n",
        "\n",
        "        Args:\n",
        "            s3_uri: the  S3 URI - path of the images in S3\n",
        "            download_folder: the folder to store raw images\n",
        "            output_folder: the folder to store tiles (aka, small images with equal sizes)\n",
        "            tile_size: the size of tiles, default: 512\n",
        "        \"\"\"\n",
        "\n",
        "        self.download_folder = Path(download_folder)\n",
        "        self.output_folder = Path(output_folder)\n",
        "\n",
        "        self.download_folder.mkdir(parents=True, exist_ok=True)\n",
        "        self.output_folder.mkdir(parents=True, exist_ok=True)\n",
        "\n",
        "        parsed_uri = urlparse(s3_uri, allow_fragments=False)\n",
        "        self.s3_uri = s3_uri\n",
        "        self.s3_bucket = parsed_uri.netloc\n",
        "        self.s3_folder = parsed_uri.path.lstrip('/')\n",
        "\n",
        "        self.tile_size = tile_size\n",
        "\n",
        "    @staticmethod\n",
        "    def download_s3_dir(bucket: str, folder_path: str, download_folder: Path):\n",
        "        \"\"\"Downloads s3 directory to download folder.\"\"\"\n",
        "        client = boto3.client('s3')\n",
        "        client.meta.events.register('choose-signer.s3.*', botocore.handlers.disable_signing)\n",
        "\n",
        "        # Handle missing / at end of prefix\n",
        "        if not folder_path.endswith('/'):\n",
        "            folder_path += '/'\n",
        "\n",
        "        paginator = client.get_paginator('list_objects_v2')\n",
        "        for result in paginator.paginate(Bucket=bucket, Prefix=folder_path):\n",
        "            # Download each file individually\n",
        "            for key in tqdm(result['Contents'], total=len(result['Contents'])):\n",
        "                # Calculate relative path\n",
        "                rel_path = key['Key'][len(folder_path):]\n",
        "                # Skip paths ending in /\n",
        "                if not key['Key'].endswith('/'):\n",
        "                    local_file_path = download_folder.joinpath(rel_path)\n",
        "                    local_file_path.parents[0].mkdir(parents=True, exist_ok=True)\n",
        "                    # Skip download if already downloaded\n",
        "                    if not local_file_path.exists():\n",
        "                        client.download_file(bucket, key['Key'], str(local_file_path))\n",
        "\n",
        "    def download_data(self):\n",
        "        \"\"\"Downloads data from S3.\"\"\"\n",
        "        self.download_s3_dir(self.s3_bucket, self.s3_folder, self.download_folder)\n",
        "        df = pd.read_csv(self.download_folder.joinpath('final_data.CSV'))\n",
        "        df['paths'] = df['paths'].apply(ast.literal_eval)\n",
        "        df['local_paths'] = df['paths'].apply(\n",
        "            lambda x: {k: v.replace(self.s3_uri, str(self.download_folder)) for k, v in x.items()}\n",
        "        )\n",
        "        return df\n",
        "\n",
        "    def create_tiles(self, df: pd.DataFrame) -> pd.DataFrame:\n",
        "        \"\"\"Creates tiles from downloaded images.\"\"\"\n",
        "        slider_config = {'window': self.tile_size, 'stride': self.tile_size, 'scales': (1,)}\n",
        "\n",
        "        final_df = []\n",
        "        for _, row in tqdm(df.iterrows(), total=len(df)):\n",
        "            flight_obj = FlightObject(row['flight_code'], row['field_token'], self.download_folder)\n",
        "            tiles_paths = flight_obj.create_tiles(self.output_folder, slider_config)\n",
        "            for i, tile_path in enumerate(tiles_paths):\n",
        "                final_df.append(\n",
        "                    {\n",
        "                        'flight_code': row['flight_code'],\n",
        "                        'field_token': row['field_token'],\n",
        "                        'class': row['ActualStatus'],\n",
        "                        'flight_date': row['flight_date'],\n",
        "                        'flight_number': row['flight_number'],\n",
        "                        'tile_number': i,\n",
        "                        'image_path': tile_path,\n",
        "                    }\n",
        "                )\n",
        "        final_df = pd.DataFrame(final_df)\n",
        "        final_df['class'] = final_df['class'].isin(('Planted', 'Emerged'))\n",
        "\n",
        "        return final_df\n",
        "\n",
        "    def prepare_data(self):\n",
        "        \"\"\"Downloads data, creates tiles and saves them in output folder.\"\"\"\n",
        "        df = self.download_data()\n",
        "        tiles_df = self.create_tiles(df)\n",
        "        tiles_df.to_csv(self.output_folder.joinpath('tiles.CSV'), index=False)\n",
        "        return tiles_df\n"
      ],
      "execution_count": null,
      "outputs": []
    },
    {
      "cell_type": "code",
      "metadata": {
        "id": "SVfKtSYh7amX"
      },
      "source": [
        "S3_URI = 's3://intelinair-internship/field_state_classification/'\n",
        "DOWNLOAD_FOLDER = '/content/image_data'\n",
        "OUTPUT_FOLDER = '/content/final_image_data'\n",
        "TILE_SIZE = 224"
      ],
      "execution_count": null,
      "outputs": []
    },
    {
      "cell_type": "code",
      "metadata": {
        "id": "Qih5aIwD7aqS"
      },
      "source": [
        "creator = DatasetCreator(S3_URI, DOWNLOAD_FOLDER, OUTPUT_FOLDER, tile_size=224)"
      ],
      "execution_count": null,
      "outputs": []
    },
    {
      "cell_type": "code",
      "metadata": {
        "colab": {
          "base_uri": "https://localhost:8080/"
        },
        "id": "em3QNf1Y7as5",
        "outputId": "2f855414-94e9-46d5-c1fc-68e9e748ca02"
      },
      "source": [
        "df = creator.prepare_data()"
      ],
      "execution_count": null,
      "outputs": [
        {
          "output_type": "stream",
          "text": [
            "100%|██████████| 122/122 [03:40<00:00,  1.81s/it]\n",
            "  0%|          | 0/30 [00:00<?, ?it/s]"
          ],
          "name": "stderr"
        },
        {
          "output_type": "stream",
          "text": [
            "1TJZT39WQ-b7add13d-8802-46cb-8d3f-cb1ce7daf029: patch_number=0 have been skipped.\n",
            "1TJZT39WQ-b7add13d-8802-46cb-8d3f-cb1ce7daf029: patch_number=1 have been skipped.\n",
            "1TJZT39WQ-b7add13d-8802-46cb-8d3f-cb1ce7daf029: patch_number=2 have been skipped.\n",
            "1TJZT39WQ-b7add13d-8802-46cb-8d3f-cb1ce7daf029: patch_number=15 have been skipped.\n",
            "1TJZT39WQ-b7add13d-8802-46cb-8d3f-cb1ce7daf029: patch_number=16 have been skipped.\n",
            "1TJZT39WQ-b7add13d-8802-46cb-8d3f-cb1ce7daf029: patch_number=17 have been skipped.\n",
            "1TJZT39WQ-b7add13d-8802-46cb-8d3f-cb1ce7daf029: patch_number=18 have been skipped.\n",
            "1TJZT39WQ-b7add13d-8802-46cb-8d3f-cb1ce7daf029: patch_number=19 have been skipped.\n",
            "1TJZT39WQ-b7add13d-8802-46cb-8d3f-cb1ce7daf029: patch_number=34 have been skipped.\n",
            "1TJZT39WQ-b7add13d-8802-46cb-8d3f-cb1ce7daf029: patch_number=35 have been skipped.\n",
            "1TJZT39WQ-b7add13d-8802-46cb-8d3f-cb1ce7daf029: patch_number=36 have been skipped.\n",
            "1TJZT39WQ-b7add13d-8802-46cb-8d3f-cb1ce7daf029: patch_number=53 have been skipped.\n"
          ],
          "name": "stdout"
        },
        {
          "output_type": "stream",
          "text": [
            "\r  3%|▎         | 1/30 [00:10<04:51, 10.05s/it]"
          ],
          "name": "stderr"
        },
        {
          "output_type": "stream",
          "text": [
            "1TJZT39WQ-b7add13d-8802-46cb-8d3f-cb1ce7daf029: patch_number=270 have been skipped.\n",
            "1TJZT39WQ-b7add13d-8802-46cb-8d3f-cb1ce7daf029: patch_number=288 have been skipped.\n",
            "1TJZT39WQ-b7add13d-8802-46cb-8d3f-cb1ce7daf029: patch_number=289 have been skipped.\n",
            "1TJZT39WQ-b7add13d-8802-46cb-8d3f-cb1ce7daf029: patch_number=305 have been skipped.\n",
            "1TJZT39WQ-b7add13d-8802-46cb-8d3f-cb1ce7daf029: patch_number=306 have been skipped.\n",
            "1TJZT39WQ-b7add13d-8802-46cb-8d3f-cb1ce7daf029: patch_number=307 have been skipped.\n",
            "1TJZT39WQ-b7add13d-8802-46cb-8d3f-cb1ce7daf029: patch_number=308 have been skipped.\n",
            "1TJZT39WQ-b7add13d-8802-46cb-8d3f-cb1ce7daf029: patch_number=323 have been skipped.\n",
            "b7add13d-8802-46cb-8d3f-cb1ce7daf029_1TJZT39WQ: n=304 patches have been saved, original size=(3999, 4016, 3).\n"
          ],
          "name": "stdout"
        },
        {
          "output_type": "stream",
          "text": [
            "\r  7%|▋         | 2/30 [00:26<05:38, 12.09s/it]"
          ],
          "name": "stderr"
        },
        {
          "output_type": "stream",
          "text": [
            "2HHWV1DD4-7e227290-9936-483e-90de-949c80f984d7: patch_number=508 have been skipped.\n",
            "2HHWV1DD4-7e227290-9936-483e-90de-949c80f984d7: patch_number=509 have been skipped.\n",
            "2HHWV1DD4-7e227290-9936-483e-90de-949c80f984d7: patch_number=510 have been skipped.\n",
            "2HHWV1DD4-7e227290-9936-483e-90de-949c80f984d7: patch_number=511 have been skipped.\n",
            "2HHWV1DD4-7e227290-9936-483e-90de-949c80f984d7: patch_number=512 have been skipped.\n",
            "2HHWV1DD4-7e227290-9936-483e-90de-949c80f984d7: patch_number=513 have been skipped.\n",
            "2HHWV1DD4-7e227290-9936-483e-90de-949c80f984d7: patch_number=520 have been skipped.\n",
            "2HHWV1DD4-7e227290-9936-483e-90de-949c80f984d7: patch_number=521 have been skipped.\n",
            "2HHWV1DD4-7e227290-9936-483e-90de-949c80f984d7: patch_number=522 have been skipped.\n",
            "2HHWV1DD4-7e227290-9936-483e-90de-949c80f984d7: patch_number=523 have been skipped.\n",
            "2HHWV1DD4-7e227290-9936-483e-90de-949c80f984d7: patch_number=524 have been skipped.\n",
            "2HHWV1DD4-7e227290-9936-483e-90de-949c80f984d7: patch_number=525 have been skipped.\n",
            "2HHWV1DD4-7e227290-9936-483e-90de-949c80f984d7: patch_number=526 have been skipped.\n",
            "2HHWV1DD4-7e227290-9936-483e-90de-949c80f984d7: patch_number=527 have been skipped.\n",
            "2HHWV1DD4-7e227290-9936-483e-90de-949c80f984d7: patch_number=528 have been skipped.\n",
            "2HHWV1DD4-7e227290-9936-483e-90de-949c80f984d7: patch_number=532 have been skipped.\n",
            "2HHWV1DD4-7e227290-9936-483e-90de-949c80f984d7: patch_number=533 have been skipped.\n",
            "2HHWV1DD4-7e227290-9936-483e-90de-949c80f984d7: patch_number=534 have been skipped.\n",
            "2HHWV1DD4-7e227290-9936-483e-90de-949c80f984d7: patch_number=535 have been skipped.\n",
            "2HHWV1DD4-7e227290-9936-483e-90de-949c80f984d7: patch_number=536 have been skipped.\n",
            "2HHWV1DD4-7e227290-9936-483e-90de-949c80f984d7: patch_number=537 have been skipped.\n",
            "2HHWV1DD4-7e227290-9936-483e-90de-949c80f984d7: patch_number=538 have been skipped.\n",
            "2HHWV1DD4-7e227290-9936-483e-90de-949c80f984d7: patch_number=539 have been skipped.\n",
            "2HHWV1DD4-7e227290-9936-483e-90de-949c80f984d7: patch_number=540 have been skipped.\n",
            "2HHWV1DD4-7e227290-9936-483e-90de-949c80f984d7: patch_number=544 have been skipped.\n",
            "2HHWV1DD4-7e227290-9936-483e-90de-949c80f984d7: patch_number=545 have been skipped.\n",
            "2HHWV1DD4-7e227290-9936-483e-90de-949c80f984d7: patch_number=546 have been skipped.\n",
            "2HHWV1DD4-7e227290-9936-483e-90de-949c80f984d7: patch_number=547 have been skipped.\n",
            "2HHWV1DD4-7e227290-9936-483e-90de-949c80f984d7: patch_number=548 have been skipped.\n",
            "2HHWV1DD4-7e227290-9936-483e-90de-949c80f984d7: patch_number=549 have been skipped.\n",
            "2HHWV1DD4-7e227290-9936-483e-90de-949c80f984d7: patch_number=550 have been skipped.\n",
            "2HHWV1DD4-7e227290-9936-483e-90de-949c80f984d7: patch_number=551 have been skipped.\n",
            "7e227290-9936-483e-90de-949c80f984d7_2HHWV1DD4: n=520 patches have been saved, original size=(10086, 2669, 3).\n"
          ],
          "name": "stdout"
        },
        {
          "output_type": "stream",
          "text": [
            "\r 10%|█         | 3/30 [00:38<05:18, 11.81s/it]"
          ],
          "name": "stderr"
        },
        {
          "output_type": "stream",
          "text": [
            "3KR1212BR-7e227290-9936-483e-90de-949c80f984d7: patch_number=344 have been skipped.\n",
            "3KR1212BR-7e227290-9936-483e-90de-949c80f984d7: patch_number=345 have been skipped.\n",
            "3KR1212BR-7e227290-9936-483e-90de-949c80f984d7: patch_number=346 have been skipped.\n",
            "3KR1212BR-7e227290-9936-483e-90de-949c80f984d7: patch_number=347 have been skipped.\n",
            "3KR1212BR-7e227290-9936-483e-90de-949c80f984d7: patch_number=348 have been skipped.\n",
            "3KR1212BR-7e227290-9936-483e-90de-949c80f984d7: patch_number=349 have been skipped.\n",
            "3KR1212BR-7e227290-9936-483e-90de-949c80f984d7: patch_number=354 have been skipped.\n",
            "3KR1212BR-7e227290-9936-483e-90de-949c80f984d7: patch_number=355 have been skipped.\n",
            "3KR1212BR-7e227290-9936-483e-90de-949c80f984d7: patch_number=356 have been skipped.\n",
            "3KR1212BR-7e227290-9936-483e-90de-949c80f984d7: patch_number=357 have been skipped.\n",
            "3KR1212BR-7e227290-9936-483e-90de-949c80f984d7: patch_number=358 have been skipped.\n",
            "3KR1212BR-7e227290-9936-483e-90de-949c80f984d7: patch_number=359 have been skipped.\n",
            "7e227290-9936-483e-90de-949c80f984d7_3KR1212BR: n=348 patches have been saved, original size=(7980, 2116, 3).\n"
          ],
          "name": "stdout"
        },
        {
          "output_type": "stream",
          "text": [
            "\r 13%|█▎        | 4/30 [00:48<04:56, 11.41s/it]"
          ],
          "name": "stderr"
        },
        {
          "output_type": "stream",
          "text": [
            "42T73AQE8-7e227290-9936-483e-90de-949c80f984d7: patch_number=344 have been skipped.\n",
            "42T73AQE8-7e227290-9936-483e-90de-949c80f984d7: patch_number=345 have been skipped.\n",
            "42T73AQE8-7e227290-9936-483e-90de-949c80f984d7: patch_number=346 have been skipped.\n",
            "42T73AQE8-7e227290-9936-483e-90de-949c80f984d7: patch_number=347 have been skipped.\n",
            "42T73AQE8-7e227290-9936-483e-90de-949c80f984d7: patch_number=348 have been skipped.\n",
            "42T73AQE8-7e227290-9936-483e-90de-949c80f984d7: patch_number=349 have been skipped.\n",
            "42T73AQE8-7e227290-9936-483e-90de-949c80f984d7: patch_number=354 have been skipped.\n",
            "42T73AQE8-7e227290-9936-483e-90de-949c80f984d7: patch_number=355 have been skipped.\n",
            "42T73AQE8-7e227290-9936-483e-90de-949c80f984d7: patch_number=356 have been skipped.\n",
            "42T73AQE8-7e227290-9936-483e-90de-949c80f984d7: patch_number=357 have been skipped.\n",
            "42T73AQE8-7e227290-9936-483e-90de-949c80f984d7: patch_number=358 have been skipped.\n",
            "42T73AQE8-7e227290-9936-483e-90de-949c80f984d7: patch_number=359 have been skipped.\n",
            "7e227290-9936-483e-90de-949c80f984d7_42T73AQE8: n=348 patches have been saved, original size=(7980, 2116, 3).\n",
            "E83UE8JT4-b7add13d-8802-46cb-8d3f-cb1ce7daf029: patch_number=0 have been skipped.\n",
            "E83UE8JT4-b7add13d-8802-46cb-8d3f-cb1ce7daf029: patch_number=1 have been skipped.\n",
            "E83UE8JT4-b7add13d-8802-46cb-8d3f-cb1ce7daf029: patch_number=2 have been skipped.\n",
            "E83UE8JT4-b7add13d-8802-46cb-8d3f-cb1ce7daf029: patch_number=3 have been skipped.\n",
            "E83UE8JT4-b7add13d-8802-46cb-8d3f-cb1ce7daf029: patch_number=17 have been skipped.\n",
            "E83UE8JT4-b7add13d-8802-46cb-8d3f-cb1ce7daf029: patch_number=18 have been skipped.\n",
            "E83UE8JT4-b7add13d-8802-46cb-8d3f-cb1ce7daf029: patch_number=19 have been skipped.\n",
            "E83UE8JT4-b7add13d-8802-46cb-8d3f-cb1ce7daf029: patch_number=20 have been skipped.\n",
            "E83UE8JT4-b7add13d-8802-46cb-8d3f-cb1ce7daf029: patch_number=21 have been skipped.\n",
            "E83UE8JT4-b7add13d-8802-46cb-8d3f-cb1ce7daf029: patch_number=22 have been skipped.\n",
            "E83UE8JT4-b7add13d-8802-46cb-8d3f-cb1ce7daf029: patch_number=39 have been skipped.\n",
            "E83UE8JT4-b7add13d-8802-46cb-8d3f-cb1ce7daf029: patch_number=40 have been skipped.\n",
            "E83UE8JT4-b7add13d-8802-46cb-8d3f-cb1ce7daf029: patch_number=41 have been skipped.\n",
            "E83UE8JT4-b7add13d-8802-46cb-8d3f-cb1ce7daf029: patch_number=42 have been skipped.\n",
            "E83UE8JT4-b7add13d-8802-46cb-8d3f-cb1ce7daf029: patch_number=61 have been skipped.\n",
            "E83UE8JT4-b7add13d-8802-46cb-8d3f-cb1ce7daf029: patch_number=62 have been skipped.\n",
            "E83UE8JT4-b7add13d-8802-46cb-8d3f-cb1ce7daf029: patch_number=63 have been skipped.\n",
            "E83UE8JT4-b7add13d-8802-46cb-8d3f-cb1ce7daf029: patch_number=83 have been skipped.\n",
            "E83UE8JT4-b7add13d-8802-46cb-8d3f-cb1ce7daf029: patch_number=357 have been skipped.\n",
            "E83UE8JT4-b7add13d-8802-46cb-8d3f-cb1ce7daf029: patch_number=378 have been skipped.\n",
            "E83UE8JT4-b7add13d-8802-46cb-8d3f-cb1ce7daf029: patch_number=399 have been skipped.\n",
            "E83UE8JT4-b7add13d-8802-46cb-8d3f-cb1ce7daf029: patch_number=400 have been skipped.\n",
            "E83UE8JT4-b7add13d-8802-46cb-8d3f-cb1ce7daf029: patch_number=418 have been skipped.\n",
            "E83UE8JT4-b7add13d-8802-46cb-8d3f-cb1ce7daf029: patch_number=419 have been skipped.\n",
            "E83UE8JT4-b7add13d-8802-46cb-8d3f-cb1ce7daf029: patch_number=420 have been skipped.\n",
            "E83UE8JT4-b7add13d-8802-46cb-8d3f-cb1ce7daf029: patch_number=421 have been skipped.\n",
            "E83UE8JT4-b7add13d-8802-46cb-8d3f-cb1ce7daf029: patch_number=422 have been skipped.\n",
            "E83UE8JT4-b7add13d-8802-46cb-8d3f-cb1ce7daf029: patch_number=439 have been skipped.\n",
            "E83UE8JT4-b7add13d-8802-46cb-8d3f-cb1ce7daf029: patch_number=440 have been skipped.\n",
            "E83UE8JT4-b7add13d-8802-46cb-8d3f-cb1ce7daf029: patch_number=441 have been skipped.\n",
            "E83UE8JT4-b7add13d-8802-46cb-8d3f-cb1ce7daf029: patch_number=442 have been skipped.\n",
            "E83UE8JT4-b7add13d-8802-46cb-8d3f-cb1ce7daf029: patch_number=443 have been skipped.\n"
          ],
          "name": "stdout"
        },
        {
          "output_type": "stream",
          "text": [
            "\r 17%|█▋        | 5/30 [01:00<04:49, 11.56s/it]"
          ],
          "name": "stderr"
        },
        {
          "output_type": "stream",
          "text": [
            "E83UE8JT4-b7add13d-8802-46cb-8d3f-cb1ce7daf029: patch_number=460 have been skipped.\n",
            "E83UE8JT4-b7add13d-8802-46cb-8d3f-cb1ce7daf029: patch_number=461 have been skipped.\n",
            "b7add13d-8802-46cb-8d3f-cb1ce7daf029_E83UE8JT4: n=428 patches have been saved, original size=(4708, 4541, 3).\n"
          ],
          "name": "stdout"
        },
        {
          "output_type": "stream",
          "text": [
            "\r 20%|██        | 6/30 [01:11<04:31, 11.32s/it]"
          ],
          "name": "stderr"
        },
        {
          "output_type": "stream",
          "text": [
            "EB4KG2F6D-7e227290-9936-483e-90de-949c80f984d7: patch_number=344 have been skipped.\n",
            "EB4KG2F6D-7e227290-9936-483e-90de-949c80f984d7: patch_number=345 have been skipped.\n",
            "EB4KG2F6D-7e227290-9936-483e-90de-949c80f984d7: patch_number=346 have been skipped.\n",
            "EB4KG2F6D-7e227290-9936-483e-90de-949c80f984d7: patch_number=347 have been skipped.\n",
            "EB4KG2F6D-7e227290-9936-483e-90de-949c80f984d7: patch_number=348 have been skipped.\n",
            "EB4KG2F6D-7e227290-9936-483e-90de-949c80f984d7: patch_number=349 have been skipped.\n",
            "EB4KG2F6D-7e227290-9936-483e-90de-949c80f984d7: patch_number=354 have been skipped.\n",
            "EB4KG2F6D-7e227290-9936-483e-90de-949c80f984d7: patch_number=355 have been skipped.\n",
            "EB4KG2F6D-7e227290-9936-483e-90de-949c80f984d7: patch_number=356 have been skipped.\n",
            "EB4KG2F6D-7e227290-9936-483e-90de-949c80f984d7: patch_number=357 have been skipped.\n",
            "EB4KG2F6D-7e227290-9936-483e-90de-949c80f984d7: patch_number=358 have been skipped.\n",
            "EB4KG2F6D-7e227290-9936-483e-90de-949c80f984d7: patch_number=359 have been skipped.\n",
            "7e227290-9936-483e-90de-949c80f984d7_EB4KG2F6D: n=348 patches have been saved, original size=(7980, 2116, 3).\n",
            "EVTQTDFEJ-b7add13d-8802-46cb-8d3f-cb1ce7daf029: patch_number=0 have been skipped.\n",
            "EVTQTDFEJ-b7add13d-8802-46cb-8d3f-cb1ce7daf029: patch_number=1 have been skipped.\n",
            "EVTQTDFEJ-b7add13d-8802-46cb-8d3f-cb1ce7daf029: patch_number=2 have been skipped.\n",
            "EVTQTDFEJ-b7add13d-8802-46cb-8d3f-cb1ce7daf029: patch_number=16 have been skipped.\n",
            "EVTQTDFEJ-b7add13d-8802-46cb-8d3f-cb1ce7daf029: patch_number=17 have been skipped.\n",
            "EVTQTDFEJ-b7add13d-8802-46cb-8d3f-cb1ce7daf029: patch_number=18 have been skipped.\n",
            "EVTQTDFEJ-b7add13d-8802-46cb-8d3f-cb1ce7daf029: patch_number=19 have been skipped.\n",
            "EVTQTDFEJ-b7add13d-8802-46cb-8d3f-cb1ce7daf029: patch_number=20 have been skipped.\n",
            "EVTQTDFEJ-b7add13d-8802-46cb-8d3f-cb1ce7daf029: patch_number=21 have been skipped.\n",
            "EVTQTDFEJ-b7add13d-8802-46cb-8d3f-cb1ce7daf029: patch_number=37 have been skipped.\n",
            "EVTQTDFEJ-b7add13d-8802-46cb-8d3f-cb1ce7daf029: patch_number=38 have been skipped.\n",
            "EVTQTDFEJ-b7add13d-8802-46cb-8d3f-cb1ce7daf029: patch_number=39 have been skipped.\n",
            "EVTQTDFEJ-b7add13d-8802-46cb-8d3f-cb1ce7daf029: patch_number=40 have been skipped.\n",
            "EVTQTDFEJ-b7add13d-8802-46cb-8d3f-cb1ce7daf029: patch_number=58 have been skipped.\n",
            "EVTQTDFEJ-b7add13d-8802-46cb-8d3f-cb1ce7daf029: patch_number=59 have been skipped.\n"
          ],
          "name": "stdout"
        },
        {
          "output_type": "stream",
          "text": [
            "\r 23%|██▎       | 7/30 [01:21<04:12, 10.99s/it]"
          ],
          "name": "stderr"
        },
        {
          "output_type": "stream",
          "text": [
            "EVTQTDFEJ-b7add13d-8802-46cb-8d3f-cb1ce7daf029: patch_number=340 have been skipped.\n",
            "EVTQTDFEJ-b7add13d-8802-46cb-8d3f-cb1ce7daf029: patch_number=360 have been skipped.\n",
            "EVTQTDFEJ-b7add13d-8802-46cb-8d3f-cb1ce7daf029: patch_number=361 have been skipped.\n",
            "EVTQTDFEJ-b7add13d-8802-46cb-8d3f-cb1ce7daf029: patch_number=378 have been skipped.\n",
            "EVTQTDFEJ-b7add13d-8802-46cb-8d3f-cb1ce7daf029: patch_number=379 have been skipped.\n",
            "EVTQTDFEJ-b7add13d-8802-46cb-8d3f-cb1ce7daf029: patch_number=380 have been skipped.\n",
            "EVTQTDFEJ-b7add13d-8802-46cb-8d3f-cb1ce7daf029: patch_number=381 have been skipped.\n",
            "EVTQTDFEJ-b7add13d-8802-46cb-8d3f-cb1ce7daf029: patch_number=382 have been skipped.\n",
            "EVTQTDFEJ-b7add13d-8802-46cb-8d3f-cb1ce7daf029: patch_number=398 have been skipped.\n",
            "EVTQTDFEJ-b7add13d-8802-46cb-8d3f-cb1ce7daf029: patch_number=399 have been skipped.\n",
            "b7add13d-8802-46cb-8d3f-cb1ce7daf029_EVTQTDFEJ: n=375 patches have been saved, original size=(4451, 4291, 3).\n",
            "F98U2YA3K-b7add13d-8802-46cb-8d3f-cb1ce7daf029: patch_number=0 have been skipped.\n",
            "F98U2YA3K-b7add13d-8802-46cb-8d3f-cb1ce7daf029: patch_number=1 have been skipped.\n",
            "F98U2YA3K-b7add13d-8802-46cb-8d3f-cb1ce7daf029: patch_number=2 have been skipped.\n",
            "F98U2YA3K-b7add13d-8802-46cb-8d3f-cb1ce7daf029: patch_number=15 have been skipped.\n",
            "F98U2YA3K-b7add13d-8802-46cb-8d3f-cb1ce7daf029: patch_number=16 have been skipped.\n",
            "F98U2YA3K-b7add13d-8802-46cb-8d3f-cb1ce7daf029: patch_number=17 have been skipped.\n",
            "F98U2YA3K-b7add13d-8802-46cb-8d3f-cb1ce7daf029: patch_number=18 have been skipped.\n",
            "F98U2YA3K-b7add13d-8802-46cb-8d3f-cb1ce7daf029: patch_number=19 have been skipped.\n",
            "F98U2YA3K-b7add13d-8802-46cb-8d3f-cb1ce7daf029: patch_number=34 have been skipped.\n",
            "F98U2YA3K-b7add13d-8802-46cb-8d3f-cb1ce7daf029: patch_number=35 have been skipped.\n",
            "F98U2YA3K-b7add13d-8802-46cb-8d3f-cb1ce7daf029: patch_number=36 have been skipped.\n",
            "F98U2YA3K-b7add13d-8802-46cb-8d3f-cb1ce7daf029: patch_number=53 have been skipped.\n"
          ],
          "name": "stdout"
        },
        {
          "output_type": "stream",
          "text": [
            "\r 27%|██▋       | 8/30 [01:30<03:51, 10.53s/it]"
          ],
          "name": "stderr"
        },
        {
          "output_type": "stream",
          "text": [
            "F98U2YA3K-b7add13d-8802-46cb-8d3f-cb1ce7daf029: patch_number=270 have been skipped.\n",
            "F98U2YA3K-b7add13d-8802-46cb-8d3f-cb1ce7daf029: patch_number=288 have been skipped.\n",
            "F98U2YA3K-b7add13d-8802-46cb-8d3f-cb1ce7daf029: patch_number=289 have been skipped.\n",
            "F98U2YA3K-b7add13d-8802-46cb-8d3f-cb1ce7daf029: patch_number=305 have been skipped.\n",
            "F98U2YA3K-b7add13d-8802-46cb-8d3f-cb1ce7daf029: patch_number=306 have been skipped.\n",
            "F98U2YA3K-b7add13d-8802-46cb-8d3f-cb1ce7daf029: patch_number=307 have been skipped.\n",
            "F98U2YA3K-b7add13d-8802-46cb-8d3f-cb1ce7daf029: patch_number=308 have been skipped.\n",
            "F98U2YA3K-b7add13d-8802-46cb-8d3f-cb1ce7daf029: patch_number=323 have been skipped.\n",
            "b7add13d-8802-46cb-8d3f-cb1ce7daf029_F98U2YA3K: n=304 patches have been saved, original size=(3999, 4016, 3).\n",
            "FPG2L7UTK-b7add13d-8802-46cb-8d3f-cb1ce7daf029: patch_number=0 have been skipped.\n",
            "FPG2L7UTK-b7add13d-8802-46cb-8d3f-cb1ce7daf029: patch_number=1 have been skipped.\n",
            "FPG2L7UTK-b7add13d-8802-46cb-8d3f-cb1ce7daf029: patch_number=2 have been skipped.\n",
            "FPG2L7UTK-b7add13d-8802-46cb-8d3f-cb1ce7daf029: patch_number=15 have been skipped.\n",
            "FPG2L7UTK-b7add13d-8802-46cb-8d3f-cb1ce7daf029: patch_number=16 have been skipped.\n",
            "FPG2L7UTK-b7add13d-8802-46cb-8d3f-cb1ce7daf029: patch_number=17 have been skipped.\n",
            "FPG2L7UTK-b7add13d-8802-46cb-8d3f-cb1ce7daf029: patch_number=18 have been skipped.\n",
            "FPG2L7UTK-b7add13d-8802-46cb-8d3f-cb1ce7daf029: patch_number=19 have been skipped.\n",
            "FPG2L7UTK-b7add13d-8802-46cb-8d3f-cb1ce7daf029: patch_number=34 have been skipped.\n",
            "FPG2L7UTK-b7add13d-8802-46cb-8d3f-cb1ce7daf029: patch_number=35 have been skipped.\n",
            "FPG2L7UTK-b7add13d-8802-46cb-8d3f-cb1ce7daf029: patch_number=36 have been skipped.\n",
            "FPG2L7UTK-b7add13d-8802-46cb-8d3f-cb1ce7daf029: patch_number=53 have been skipped.\n"
          ],
          "name": "stdout"
        },
        {
          "output_type": "stream",
          "text": [
            "\r 30%|███       | 9/30 [01:39<03:30, 10.00s/it]"
          ],
          "name": "stderr"
        },
        {
          "output_type": "stream",
          "text": [
            "FPG2L7UTK-b7add13d-8802-46cb-8d3f-cb1ce7daf029: patch_number=270 have been skipped.\n",
            "FPG2L7UTK-b7add13d-8802-46cb-8d3f-cb1ce7daf029: patch_number=288 have been skipped.\n",
            "FPG2L7UTK-b7add13d-8802-46cb-8d3f-cb1ce7daf029: patch_number=289 have been skipped.\n",
            "FPG2L7UTK-b7add13d-8802-46cb-8d3f-cb1ce7daf029: patch_number=305 have been skipped.\n",
            "FPG2L7UTK-b7add13d-8802-46cb-8d3f-cb1ce7daf029: patch_number=306 have been skipped.\n",
            "FPG2L7UTK-b7add13d-8802-46cb-8d3f-cb1ce7daf029: patch_number=307 have been skipped.\n",
            "FPG2L7UTK-b7add13d-8802-46cb-8d3f-cb1ce7daf029: patch_number=308 have been skipped.\n",
            "FPG2L7UTK-b7add13d-8802-46cb-8d3f-cb1ce7daf029: patch_number=323 have been skipped.\n",
            "b7add13d-8802-46cb-8d3f-cb1ce7daf029_FPG2L7UTK: n=304 patches have been saved, original size=(3999, 4016, 3).\n"
          ],
          "name": "stdout"
        },
        {
          "output_type": "stream",
          "text": [
            "\r 33%|███▎      | 10/30 [01:50<03:23, 10.15s/it]"
          ],
          "name": "stderr"
        },
        {
          "output_type": "stream",
          "text": [
            "FVI8IQG1F-7e227290-9936-483e-90de-949c80f984d7: patch_number=344 have been skipped.\n",
            "FVI8IQG1F-7e227290-9936-483e-90de-949c80f984d7: patch_number=345 have been skipped.\n",
            "FVI8IQG1F-7e227290-9936-483e-90de-949c80f984d7: patch_number=346 have been skipped.\n",
            "FVI8IQG1F-7e227290-9936-483e-90de-949c80f984d7: patch_number=347 have been skipped.\n",
            "FVI8IQG1F-7e227290-9936-483e-90de-949c80f984d7: patch_number=348 have been skipped.\n",
            "FVI8IQG1F-7e227290-9936-483e-90de-949c80f984d7: patch_number=349 have been skipped.\n",
            "FVI8IQG1F-7e227290-9936-483e-90de-949c80f984d7: patch_number=354 have been skipped.\n",
            "FVI8IQG1F-7e227290-9936-483e-90de-949c80f984d7: patch_number=355 have been skipped.\n",
            "FVI8IQG1F-7e227290-9936-483e-90de-949c80f984d7: patch_number=356 have been skipped.\n",
            "FVI8IQG1F-7e227290-9936-483e-90de-949c80f984d7: patch_number=357 have been skipped.\n",
            "FVI8IQG1F-7e227290-9936-483e-90de-949c80f984d7: patch_number=358 have been skipped.\n",
            "FVI8IQG1F-7e227290-9936-483e-90de-949c80f984d7: patch_number=359 have been skipped.\n",
            "7e227290-9936-483e-90de-949c80f984d7_FVI8IQG1F: n=348 patches have been saved, original size=(7980, 2116, 3).\n",
            "FYXD9U983-b7add13d-8802-46cb-8d3f-cb1ce7daf029: patch_number=0 have been skipped.\n",
            "FYXD9U983-b7add13d-8802-46cb-8d3f-cb1ce7daf029: patch_number=1 have been skipped.\n",
            "FYXD9U983-b7add13d-8802-46cb-8d3f-cb1ce7daf029: patch_number=2 have been skipped.\n",
            "FYXD9U983-b7add13d-8802-46cb-8d3f-cb1ce7daf029: patch_number=15 have been skipped.\n",
            "FYXD9U983-b7add13d-8802-46cb-8d3f-cb1ce7daf029: patch_number=16 have been skipped.\n",
            "FYXD9U983-b7add13d-8802-46cb-8d3f-cb1ce7daf029: patch_number=17 have been skipped.\n",
            "FYXD9U983-b7add13d-8802-46cb-8d3f-cb1ce7daf029: patch_number=18 have been skipped.\n",
            "FYXD9U983-b7add13d-8802-46cb-8d3f-cb1ce7daf029: patch_number=19 have been skipped.\n",
            "FYXD9U983-b7add13d-8802-46cb-8d3f-cb1ce7daf029: patch_number=34 have been skipped.\n",
            "FYXD9U983-b7add13d-8802-46cb-8d3f-cb1ce7daf029: patch_number=35 have been skipped.\n",
            "FYXD9U983-b7add13d-8802-46cb-8d3f-cb1ce7daf029: patch_number=36 have been skipped.\n",
            "FYXD9U983-b7add13d-8802-46cb-8d3f-cb1ce7daf029: patch_number=53 have been skipped.\n"
          ],
          "name": "stdout"
        },
        {
          "output_type": "stream",
          "text": [
            "\r 37%|███▋      | 11/30 [01:59<03:06,  9.82s/it]"
          ],
          "name": "stderr"
        },
        {
          "output_type": "stream",
          "text": [
            "FYXD9U983-b7add13d-8802-46cb-8d3f-cb1ce7daf029: patch_number=270 have been skipped.\n",
            "FYXD9U983-b7add13d-8802-46cb-8d3f-cb1ce7daf029: patch_number=288 have been skipped.\n",
            "FYXD9U983-b7add13d-8802-46cb-8d3f-cb1ce7daf029: patch_number=289 have been skipped.\n",
            "FYXD9U983-b7add13d-8802-46cb-8d3f-cb1ce7daf029: patch_number=305 have been skipped.\n",
            "FYXD9U983-b7add13d-8802-46cb-8d3f-cb1ce7daf029: patch_number=306 have been skipped.\n",
            "FYXD9U983-b7add13d-8802-46cb-8d3f-cb1ce7daf029: patch_number=307 have been skipped.\n",
            "FYXD9U983-b7add13d-8802-46cb-8d3f-cb1ce7daf029: patch_number=308 have been skipped.\n",
            "FYXD9U983-b7add13d-8802-46cb-8d3f-cb1ce7daf029: patch_number=323 have been skipped.\n",
            "b7add13d-8802-46cb-8d3f-cb1ce7daf029_FYXD9U983: n=304 patches have been saved, original size=(3999, 4016, 3).\n"
          ],
          "name": "stdout"
        },
        {
          "output_type": "stream",
          "text": [
            "\r 40%|████      | 12/30 [02:14<03:26, 11.50s/it]"
          ],
          "name": "stderr"
        },
        {
          "output_type": "stream",
          "text": [
            "GP3VC3W6C-7e227290-9936-483e-90de-949c80f984d7: patch_number=508 have been skipped.\n",
            "GP3VC3W6C-7e227290-9936-483e-90de-949c80f984d7: patch_number=509 have been skipped.\n",
            "GP3VC3W6C-7e227290-9936-483e-90de-949c80f984d7: patch_number=510 have been skipped.\n",
            "GP3VC3W6C-7e227290-9936-483e-90de-949c80f984d7: patch_number=511 have been skipped.\n",
            "GP3VC3W6C-7e227290-9936-483e-90de-949c80f984d7: patch_number=512 have been skipped.\n",
            "GP3VC3W6C-7e227290-9936-483e-90de-949c80f984d7: patch_number=513 have been skipped.\n",
            "GP3VC3W6C-7e227290-9936-483e-90de-949c80f984d7: patch_number=514 have been skipped.\n",
            "GP3VC3W6C-7e227290-9936-483e-90de-949c80f984d7: patch_number=515 have been skipped.\n",
            "GP3VC3W6C-7e227290-9936-483e-90de-949c80f984d7: patch_number=516 have been skipped.\n",
            "GP3VC3W6C-7e227290-9936-483e-90de-949c80f984d7: patch_number=520 have been skipped.\n",
            "GP3VC3W6C-7e227290-9936-483e-90de-949c80f984d7: patch_number=521 have been skipped.\n",
            "GP3VC3W6C-7e227290-9936-483e-90de-949c80f984d7: patch_number=522 have been skipped.\n",
            "GP3VC3W6C-7e227290-9936-483e-90de-949c80f984d7: patch_number=523 have been skipped.\n",
            "GP3VC3W6C-7e227290-9936-483e-90de-949c80f984d7: patch_number=524 have been skipped.\n",
            "GP3VC3W6C-7e227290-9936-483e-90de-949c80f984d7: patch_number=525 have been skipped.\n",
            "GP3VC3W6C-7e227290-9936-483e-90de-949c80f984d7: patch_number=526 have been skipped.\n",
            "GP3VC3W6C-7e227290-9936-483e-90de-949c80f984d7: patch_number=527 have been skipped.\n",
            "GP3VC3W6C-7e227290-9936-483e-90de-949c80f984d7: patch_number=528 have been skipped.\n",
            "GP3VC3W6C-7e227290-9936-483e-90de-949c80f984d7: patch_number=532 have been skipped.\n",
            "GP3VC3W6C-7e227290-9936-483e-90de-949c80f984d7: patch_number=533 have been skipped.\n",
            "GP3VC3W6C-7e227290-9936-483e-90de-949c80f984d7: patch_number=534 have been skipped.\n",
            "GP3VC3W6C-7e227290-9936-483e-90de-949c80f984d7: patch_number=535 have been skipped.\n",
            "GP3VC3W6C-7e227290-9936-483e-90de-949c80f984d7: patch_number=536 have been skipped.\n",
            "GP3VC3W6C-7e227290-9936-483e-90de-949c80f984d7: patch_number=537 have been skipped.\n",
            "GP3VC3W6C-7e227290-9936-483e-90de-949c80f984d7: patch_number=538 have been skipped.\n",
            "GP3VC3W6C-7e227290-9936-483e-90de-949c80f984d7: patch_number=539 have been skipped.\n",
            "7e227290-9936-483e-90de-949c80f984d7_GP3VC3W6C: n=514 patches have been saved, original size=(9896, 2620, 3).\n"
          ],
          "name": "stdout"
        },
        {
          "output_type": "stream",
          "text": [
            "\r 43%|████▎     | 13/30 [02:24<03:08, 11.08s/it]"
          ],
          "name": "stderr"
        },
        {
          "output_type": "stream",
          "text": [
            "GU8YLRNEP-7e227290-9936-483e-90de-949c80f984d7: patch_number=344 have been skipped.\n",
            "GU8YLRNEP-7e227290-9936-483e-90de-949c80f984d7: patch_number=345 have been skipped.\n",
            "GU8YLRNEP-7e227290-9936-483e-90de-949c80f984d7: patch_number=346 have been skipped.\n",
            "GU8YLRNEP-7e227290-9936-483e-90de-949c80f984d7: patch_number=347 have been skipped.\n",
            "GU8YLRNEP-7e227290-9936-483e-90de-949c80f984d7: patch_number=348 have been skipped.\n",
            "GU8YLRNEP-7e227290-9936-483e-90de-949c80f984d7: patch_number=349 have been skipped.\n",
            "GU8YLRNEP-7e227290-9936-483e-90de-949c80f984d7: patch_number=354 have been skipped.\n",
            "GU8YLRNEP-7e227290-9936-483e-90de-949c80f984d7: patch_number=355 have been skipped.\n",
            "GU8YLRNEP-7e227290-9936-483e-90de-949c80f984d7: patch_number=356 have been skipped.\n",
            "GU8YLRNEP-7e227290-9936-483e-90de-949c80f984d7: patch_number=357 have been skipped.\n",
            "GU8YLRNEP-7e227290-9936-483e-90de-949c80f984d7: patch_number=358 have been skipped.\n",
            "GU8YLRNEP-7e227290-9936-483e-90de-949c80f984d7: patch_number=359 have been skipped.\n",
            "7e227290-9936-483e-90de-949c80f984d7_GU8YLRNEP: n=348 patches have been saved, original size=(7980, 2116, 3).\n",
            "GWWIAV2VV-b7add13d-8802-46cb-8d3f-cb1ce7daf029: patch_number=0 have been skipped.\n",
            "GWWIAV2VV-b7add13d-8802-46cb-8d3f-cb1ce7daf029: patch_number=1 have been skipped.\n",
            "GWWIAV2VV-b7add13d-8802-46cb-8d3f-cb1ce7daf029: patch_number=2 have been skipped.\n",
            "GWWIAV2VV-b7add13d-8802-46cb-8d3f-cb1ce7daf029: patch_number=15 have been skipped.\n",
            "GWWIAV2VV-b7add13d-8802-46cb-8d3f-cb1ce7daf029: patch_number=16 have been skipped.\n",
            "GWWIAV2VV-b7add13d-8802-46cb-8d3f-cb1ce7daf029: patch_number=17 have been skipped.\n",
            "GWWIAV2VV-b7add13d-8802-46cb-8d3f-cb1ce7daf029: patch_number=18 have been skipped.\n",
            "GWWIAV2VV-b7add13d-8802-46cb-8d3f-cb1ce7daf029: patch_number=19 have been skipped.\n",
            "GWWIAV2VV-b7add13d-8802-46cb-8d3f-cb1ce7daf029: patch_number=34 have been skipped.\n",
            "GWWIAV2VV-b7add13d-8802-46cb-8d3f-cb1ce7daf029: patch_number=35 have been skipped.\n",
            "GWWIAV2VV-b7add13d-8802-46cb-8d3f-cb1ce7daf029: patch_number=36 have been skipped.\n",
            "GWWIAV2VV-b7add13d-8802-46cb-8d3f-cb1ce7daf029: patch_number=53 have been skipped.\n"
          ],
          "name": "stdout"
        },
        {
          "output_type": "stream",
          "text": [
            "\r 47%|████▋     | 14/30 [02:33<02:47, 10.47s/it]"
          ],
          "name": "stderr"
        },
        {
          "output_type": "stream",
          "text": [
            "GWWIAV2VV-b7add13d-8802-46cb-8d3f-cb1ce7daf029: patch_number=270 have been skipped.\n",
            "GWWIAV2VV-b7add13d-8802-46cb-8d3f-cb1ce7daf029: patch_number=288 have been skipped.\n",
            "GWWIAV2VV-b7add13d-8802-46cb-8d3f-cb1ce7daf029: patch_number=289 have been skipped.\n",
            "GWWIAV2VV-b7add13d-8802-46cb-8d3f-cb1ce7daf029: patch_number=305 have been skipped.\n",
            "GWWIAV2VV-b7add13d-8802-46cb-8d3f-cb1ce7daf029: patch_number=306 have been skipped.\n",
            "GWWIAV2VV-b7add13d-8802-46cb-8d3f-cb1ce7daf029: patch_number=307 have been skipped.\n",
            "GWWIAV2VV-b7add13d-8802-46cb-8d3f-cb1ce7daf029: patch_number=308 have been skipped.\n",
            "GWWIAV2VV-b7add13d-8802-46cb-8d3f-cb1ce7daf029: patch_number=323 have been skipped.\n",
            "b7add13d-8802-46cb-8d3f-cb1ce7daf029_GWWIAV2VV: n=304 patches have been saved, original size=(3999, 4016, 3).\n"
          ],
          "name": "stdout"
        },
        {
          "output_type": "stream",
          "text": [
            "\r 50%|█████     | 15/30 [02:44<02:38, 10.55s/it]"
          ],
          "name": "stderr"
        },
        {
          "output_type": "stream",
          "text": [
            "J926FMUHU-7e227290-9936-483e-90de-949c80f984d7: patch_number=344 have been skipped.\n",
            "J926FMUHU-7e227290-9936-483e-90de-949c80f984d7: patch_number=345 have been skipped.\n",
            "J926FMUHU-7e227290-9936-483e-90de-949c80f984d7: patch_number=346 have been skipped.\n",
            "J926FMUHU-7e227290-9936-483e-90de-949c80f984d7: patch_number=347 have been skipped.\n",
            "J926FMUHU-7e227290-9936-483e-90de-949c80f984d7: patch_number=348 have been skipped.\n",
            "J926FMUHU-7e227290-9936-483e-90de-949c80f984d7: patch_number=349 have been skipped.\n",
            "J926FMUHU-7e227290-9936-483e-90de-949c80f984d7: patch_number=354 have been skipped.\n",
            "J926FMUHU-7e227290-9936-483e-90de-949c80f984d7: patch_number=355 have been skipped.\n",
            "J926FMUHU-7e227290-9936-483e-90de-949c80f984d7: patch_number=356 have been skipped.\n",
            "J926FMUHU-7e227290-9936-483e-90de-949c80f984d7: patch_number=357 have been skipped.\n",
            "J926FMUHU-7e227290-9936-483e-90de-949c80f984d7: patch_number=358 have been skipped.\n",
            "J926FMUHU-7e227290-9936-483e-90de-949c80f984d7: patch_number=359 have been skipped.\n",
            "7e227290-9936-483e-90de-949c80f984d7_J926FMUHU: n=348 patches have been saved, original size=(7980, 2116, 3).\n"
          ],
          "name": "stdout"
        },
        {
          "output_type": "stream",
          "text": [
            "\r 53%|█████▎    | 16/30 [02:54<02:26, 10.47s/it]"
          ],
          "name": "stderr"
        },
        {
          "output_type": "stream",
          "text": [
            "KQNQBAHEH-7e227290-9936-483e-90de-949c80f984d7: patch_number=344 have been skipped.\n",
            "KQNQBAHEH-7e227290-9936-483e-90de-949c80f984d7: patch_number=345 have been skipped.\n",
            "KQNQBAHEH-7e227290-9936-483e-90de-949c80f984d7: patch_number=346 have been skipped.\n",
            "KQNQBAHEH-7e227290-9936-483e-90de-949c80f984d7: patch_number=347 have been skipped.\n",
            "KQNQBAHEH-7e227290-9936-483e-90de-949c80f984d7: patch_number=348 have been skipped.\n",
            "KQNQBAHEH-7e227290-9936-483e-90de-949c80f984d7: patch_number=349 have been skipped.\n",
            "KQNQBAHEH-7e227290-9936-483e-90de-949c80f984d7: patch_number=354 have been skipped.\n",
            "KQNQBAHEH-7e227290-9936-483e-90de-949c80f984d7: patch_number=355 have been skipped.\n",
            "KQNQBAHEH-7e227290-9936-483e-90de-949c80f984d7: patch_number=356 have been skipped.\n",
            "KQNQBAHEH-7e227290-9936-483e-90de-949c80f984d7: patch_number=357 have been skipped.\n",
            "KQNQBAHEH-7e227290-9936-483e-90de-949c80f984d7: patch_number=358 have been skipped.\n",
            "KQNQBAHEH-7e227290-9936-483e-90de-949c80f984d7: patch_number=359 have been skipped.\n",
            "7e227290-9936-483e-90de-949c80f984d7_KQNQBAHEH: n=348 patches have been saved, original size=(7980, 2116, 3).\n",
            "KR4TV4KAT-b7add13d-8802-46cb-8d3f-cb1ce7daf029: patch_number=0 have been skipped.\n",
            "KR4TV4KAT-b7add13d-8802-46cb-8d3f-cb1ce7daf029: patch_number=1 have been skipped.\n",
            "KR4TV4KAT-b7add13d-8802-46cb-8d3f-cb1ce7daf029: patch_number=2 have been skipped.\n",
            "KR4TV4KAT-b7add13d-8802-46cb-8d3f-cb1ce7daf029: patch_number=15 have been skipped.\n",
            "KR4TV4KAT-b7add13d-8802-46cb-8d3f-cb1ce7daf029: patch_number=16 have been skipped.\n",
            "KR4TV4KAT-b7add13d-8802-46cb-8d3f-cb1ce7daf029: patch_number=17 have been skipped.\n",
            "KR4TV4KAT-b7add13d-8802-46cb-8d3f-cb1ce7daf029: patch_number=18 have been skipped.\n",
            "KR4TV4KAT-b7add13d-8802-46cb-8d3f-cb1ce7daf029: patch_number=19 have been skipped.\n",
            "KR4TV4KAT-b7add13d-8802-46cb-8d3f-cb1ce7daf029: patch_number=34 have been skipped.\n",
            "KR4TV4KAT-b7add13d-8802-46cb-8d3f-cb1ce7daf029: patch_number=35 have been skipped.\n",
            "KR4TV4KAT-b7add13d-8802-46cb-8d3f-cb1ce7daf029: patch_number=36 have been skipped.\n",
            "KR4TV4KAT-b7add13d-8802-46cb-8d3f-cb1ce7daf029: patch_number=53 have been skipped.\n"
          ],
          "name": "stdout"
        },
        {
          "output_type": "stream",
          "text": [
            "\r 57%|█████▋    | 17/30 [03:04<02:12, 10.20s/it]"
          ],
          "name": "stderr"
        },
        {
          "output_type": "stream",
          "text": [
            "KR4TV4KAT-b7add13d-8802-46cb-8d3f-cb1ce7daf029: patch_number=270 have been skipped.\n",
            "KR4TV4KAT-b7add13d-8802-46cb-8d3f-cb1ce7daf029: patch_number=288 have been skipped.\n",
            "KR4TV4KAT-b7add13d-8802-46cb-8d3f-cb1ce7daf029: patch_number=289 have been skipped.\n",
            "KR4TV4KAT-b7add13d-8802-46cb-8d3f-cb1ce7daf029: patch_number=305 have been skipped.\n",
            "KR4TV4KAT-b7add13d-8802-46cb-8d3f-cb1ce7daf029: patch_number=306 have been skipped.\n",
            "KR4TV4KAT-b7add13d-8802-46cb-8d3f-cb1ce7daf029: patch_number=307 have been skipped.\n",
            "KR4TV4KAT-b7add13d-8802-46cb-8d3f-cb1ce7daf029: patch_number=308 have been skipped.\n",
            "KR4TV4KAT-b7add13d-8802-46cb-8d3f-cb1ce7daf029: patch_number=323 have been skipped.\n",
            "b7add13d-8802-46cb-8d3f-cb1ce7daf029_KR4TV4KAT: n=304 patches have been saved, original size=(3999, 4016, 3).\n"
          ],
          "name": "stdout"
        },
        {
          "output_type": "stream",
          "text": [
            "\r 60%|██████    | 18/30 [03:11<01:53,  9.42s/it]"
          ],
          "name": "stderr"
        },
        {
          "output_type": "stream",
          "text": [
            "M1UED3JAF-7e227290-9936-483e-90de-949c80f984d7: patch_number=344 have been skipped.\n",
            "M1UED3JAF-7e227290-9936-483e-90de-949c80f984d7: patch_number=345 have been skipped.\n",
            "M1UED3JAF-7e227290-9936-483e-90de-949c80f984d7: patch_number=346 have been skipped.\n",
            "M1UED3JAF-7e227290-9936-483e-90de-949c80f984d7: patch_number=347 have been skipped.\n",
            "M1UED3JAF-7e227290-9936-483e-90de-949c80f984d7: patch_number=348 have been skipped.\n",
            "M1UED3JAF-7e227290-9936-483e-90de-949c80f984d7: patch_number=349 have been skipped.\n",
            "M1UED3JAF-7e227290-9936-483e-90de-949c80f984d7: patch_number=354 have been skipped.\n",
            "M1UED3JAF-7e227290-9936-483e-90de-949c80f984d7: patch_number=355 have been skipped.\n",
            "M1UED3JAF-7e227290-9936-483e-90de-949c80f984d7: patch_number=356 have been skipped.\n",
            "M1UED3JAF-7e227290-9936-483e-90de-949c80f984d7: patch_number=357 have been skipped.\n",
            "M1UED3JAF-7e227290-9936-483e-90de-949c80f984d7: patch_number=358 have been skipped.\n",
            "M1UED3JAF-7e227290-9936-483e-90de-949c80f984d7: patch_number=359 have been skipped.\n",
            "7e227290-9936-483e-90de-949c80f984d7_M1UED3JAF: n=348 patches have been saved, original size=(7980, 2116, 3).\n",
            "N7W26YIGK-b7add13d-8802-46cb-8d3f-cb1ce7daf029: patch_number=0 have been skipped.\n",
            "N7W26YIGK-b7add13d-8802-46cb-8d3f-cb1ce7daf029: patch_number=1 have been skipped.\n",
            "N7W26YIGK-b7add13d-8802-46cb-8d3f-cb1ce7daf029: patch_number=2 have been skipped.\n",
            "N7W26YIGK-b7add13d-8802-46cb-8d3f-cb1ce7daf029: patch_number=15 have been skipped.\n",
            "N7W26YIGK-b7add13d-8802-46cb-8d3f-cb1ce7daf029: patch_number=16 have been skipped.\n",
            "N7W26YIGK-b7add13d-8802-46cb-8d3f-cb1ce7daf029: patch_number=17 have been skipped.\n",
            "N7W26YIGK-b7add13d-8802-46cb-8d3f-cb1ce7daf029: patch_number=18 have been skipped.\n",
            "N7W26YIGK-b7add13d-8802-46cb-8d3f-cb1ce7daf029: patch_number=19 have been skipped.\n",
            "N7W26YIGK-b7add13d-8802-46cb-8d3f-cb1ce7daf029: patch_number=34 have been skipped.\n",
            "N7W26YIGK-b7add13d-8802-46cb-8d3f-cb1ce7daf029: patch_number=35 have been skipped.\n",
            "N7W26YIGK-b7add13d-8802-46cb-8d3f-cb1ce7daf029: patch_number=36 have been skipped.\n",
            "N7W26YIGK-b7add13d-8802-46cb-8d3f-cb1ce7daf029: patch_number=53 have been skipped.\n"
          ],
          "name": "stdout"
        },
        {
          "output_type": "stream",
          "text": [
            "\r 63%|██████▎   | 19/30 [03:20<01:41,  9.21s/it]"
          ],
          "name": "stderr"
        },
        {
          "output_type": "stream",
          "text": [
            "N7W26YIGK-b7add13d-8802-46cb-8d3f-cb1ce7daf029: patch_number=270 have been skipped.\n",
            "N7W26YIGK-b7add13d-8802-46cb-8d3f-cb1ce7daf029: patch_number=288 have been skipped.\n",
            "N7W26YIGK-b7add13d-8802-46cb-8d3f-cb1ce7daf029: patch_number=289 have been skipped.\n",
            "N7W26YIGK-b7add13d-8802-46cb-8d3f-cb1ce7daf029: patch_number=305 have been skipped.\n",
            "N7W26YIGK-b7add13d-8802-46cb-8d3f-cb1ce7daf029: patch_number=306 have been skipped.\n",
            "N7W26YIGK-b7add13d-8802-46cb-8d3f-cb1ce7daf029: patch_number=307 have been skipped.\n",
            "N7W26YIGK-b7add13d-8802-46cb-8d3f-cb1ce7daf029: patch_number=308 have been skipped.\n",
            "N7W26YIGK-b7add13d-8802-46cb-8d3f-cb1ce7daf029: patch_number=323 have been skipped.\n",
            "b7add13d-8802-46cb-8d3f-cb1ce7daf029_N7W26YIGK: n=304 patches have been saved, original size=(3999, 4016, 3).\n",
            "N9WCYFDNV-b7add13d-8802-46cb-8d3f-cb1ce7daf029: patch_number=0 have been skipped.\n",
            "N9WCYFDNV-b7add13d-8802-46cb-8d3f-cb1ce7daf029: patch_number=1 have been skipped.\n",
            "N9WCYFDNV-b7add13d-8802-46cb-8d3f-cb1ce7daf029: patch_number=2 have been skipped.\n",
            "N9WCYFDNV-b7add13d-8802-46cb-8d3f-cb1ce7daf029: patch_number=15 have been skipped.\n",
            "N9WCYFDNV-b7add13d-8802-46cb-8d3f-cb1ce7daf029: patch_number=16 have been skipped.\n",
            "N9WCYFDNV-b7add13d-8802-46cb-8d3f-cb1ce7daf029: patch_number=17 have been skipped.\n",
            "N9WCYFDNV-b7add13d-8802-46cb-8d3f-cb1ce7daf029: patch_number=18 have been skipped.\n",
            "N9WCYFDNV-b7add13d-8802-46cb-8d3f-cb1ce7daf029: patch_number=19 have been skipped.\n",
            "N9WCYFDNV-b7add13d-8802-46cb-8d3f-cb1ce7daf029: patch_number=34 have been skipped.\n",
            "N9WCYFDNV-b7add13d-8802-46cb-8d3f-cb1ce7daf029: patch_number=35 have been skipped.\n",
            "N9WCYFDNV-b7add13d-8802-46cb-8d3f-cb1ce7daf029: patch_number=36 have been skipped.\n",
            "N9WCYFDNV-b7add13d-8802-46cb-8d3f-cb1ce7daf029: patch_number=53 have been skipped.\n"
          ],
          "name": "stdout"
        },
        {
          "output_type": "stream",
          "text": [
            "\r 67%|██████▋   | 20/30 [03:29<01:31,  9.14s/it]"
          ],
          "name": "stderr"
        },
        {
          "output_type": "stream",
          "text": [
            "N9WCYFDNV-b7add13d-8802-46cb-8d3f-cb1ce7daf029: patch_number=270 have been skipped.\n",
            "N9WCYFDNV-b7add13d-8802-46cb-8d3f-cb1ce7daf029: patch_number=288 have been skipped.\n",
            "N9WCYFDNV-b7add13d-8802-46cb-8d3f-cb1ce7daf029: patch_number=289 have been skipped.\n",
            "N9WCYFDNV-b7add13d-8802-46cb-8d3f-cb1ce7daf029: patch_number=305 have been skipped.\n",
            "N9WCYFDNV-b7add13d-8802-46cb-8d3f-cb1ce7daf029: patch_number=306 have been skipped.\n",
            "N9WCYFDNV-b7add13d-8802-46cb-8d3f-cb1ce7daf029: patch_number=307 have been skipped.\n",
            "N9WCYFDNV-b7add13d-8802-46cb-8d3f-cb1ce7daf029: patch_number=308 have been skipped.\n",
            "N9WCYFDNV-b7add13d-8802-46cb-8d3f-cb1ce7daf029: patch_number=323 have been skipped.\n",
            "b7add13d-8802-46cb-8d3f-cb1ce7daf029_N9WCYFDNV: n=304 patches have been saved, original size=(3999, 4016, 3).\n"
          ],
          "name": "stdout"
        },
        {
          "output_type": "stream",
          "text": [
            "\r 70%|███████   | 21/30 [03:40<01:25,  9.53s/it]"
          ],
          "name": "stderr"
        },
        {
          "output_type": "stream",
          "text": [
            "NRI4TEP79-7e227290-9936-483e-90de-949c80f984d7: patch_number=344 have been skipped.\n",
            "NRI4TEP79-7e227290-9936-483e-90de-949c80f984d7: patch_number=345 have been skipped.\n",
            "NRI4TEP79-7e227290-9936-483e-90de-949c80f984d7: patch_number=346 have been skipped.\n",
            "NRI4TEP79-7e227290-9936-483e-90de-949c80f984d7: patch_number=347 have been skipped.\n",
            "NRI4TEP79-7e227290-9936-483e-90de-949c80f984d7: patch_number=348 have been skipped.\n",
            "NRI4TEP79-7e227290-9936-483e-90de-949c80f984d7: patch_number=349 have been skipped.\n",
            "NRI4TEP79-7e227290-9936-483e-90de-949c80f984d7: patch_number=354 have been skipped.\n",
            "NRI4TEP79-7e227290-9936-483e-90de-949c80f984d7: patch_number=355 have been skipped.\n",
            "NRI4TEP79-7e227290-9936-483e-90de-949c80f984d7: patch_number=356 have been skipped.\n",
            "NRI4TEP79-7e227290-9936-483e-90de-949c80f984d7: patch_number=357 have been skipped.\n",
            "NRI4TEP79-7e227290-9936-483e-90de-949c80f984d7: patch_number=358 have been skipped.\n",
            "NRI4TEP79-7e227290-9936-483e-90de-949c80f984d7: patch_number=359 have been skipped.\n",
            "7e227290-9936-483e-90de-949c80f984d7_NRI4TEP79: n=348 patches have been saved, original size=(7980, 2116, 3).\n"
          ],
          "name": "stdout"
        },
        {
          "output_type": "stream",
          "text": [
            "\r 73%|███████▎  | 22/30 [03:50<01:19,  9.93s/it]"
          ],
          "name": "stderr"
        },
        {
          "output_type": "stream",
          "text": [
            "P1VA9VFEP-7e227290-9936-483e-90de-949c80f984d7: patch_number=344 have been skipped.\n",
            "P1VA9VFEP-7e227290-9936-483e-90de-949c80f984d7: patch_number=345 have been skipped.\n",
            "P1VA9VFEP-7e227290-9936-483e-90de-949c80f984d7: patch_number=346 have been skipped.\n",
            "P1VA9VFEP-7e227290-9936-483e-90de-949c80f984d7: patch_number=347 have been skipped.\n",
            "P1VA9VFEP-7e227290-9936-483e-90de-949c80f984d7: patch_number=348 have been skipped.\n",
            "P1VA9VFEP-7e227290-9936-483e-90de-949c80f984d7: patch_number=349 have been skipped.\n",
            "P1VA9VFEP-7e227290-9936-483e-90de-949c80f984d7: patch_number=354 have been skipped.\n",
            "P1VA9VFEP-7e227290-9936-483e-90de-949c80f984d7: patch_number=355 have been skipped.\n",
            "P1VA9VFEP-7e227290-9936-483e-90de-949c80f984d7: patch_number=356 have been skipped.\n",
            "P1VA9VFEP-7e227290-9936-483e-90de-949c80f984d7: patch_number=357 have been skipped.\n",
            "P1VA9VFEP-7e227290-9936-483e-90de-949c80f984d7: patch_number=358 have been skipped.\n",
            "P1VA9VFEP-7e227290-9936-483e-90de-949c80f984d7: patch_number=359 have been skipped.\n",
            "7e227290-9936-483e-90de-949c80f984d7_P1VA9VFEP: n=348 patches have been saved, original size=(7980, 2116, 3).\n",
            "Q9ALKK7XZ-b7add13d-8802-46cb-8d3f-cb1ce7daf029: patch_number=0 have been skipped.\n",
            "Q9ALKK7XZ-b7add13d-8802-46cb-8d3f-cb1ce7daf029: patch_number=1 have been skipped.\n",
            "Q9ALKK7XZ-b7add13d-8802-46cb-8d3f-cb1ce7daf029: patch_number=2 have been skipped.\n",
            "Q9ALKK7XZ-b7add13d-8802-46cb-8d3f-cb1ce7daf029: patch_number=15 have been skipped.\n",
            "Q9ALKK7XZ-b7add13d-8802-46cb-8d3f-cb1ce7daf029: patch_number=16 have been skipped.\n",
            "Q9ALKK7XZ-b7add13d-8802-46cb-8d3f-cb1ce7daf029: patch_number=17 have been skipped.\n",
            "Q9ALKK7XZ-b7add13d-8802-46cb-8d3f-cb1ce7daf029: patch_number=18 have been skipped.\n",
            "Q9ALKK7XZ-b7add13d-8802-46cb-8d3f-cb1ce7daf029: patch_number=19 have been skipped.\n",
            "Q9ALKK7XZ-b7add13d-8802-46cb-8d3f-cb1ce7daf029: patch_number=34 have been skipped.\n",
            "Q9ALKK7XZ-b7add13d-8802-46cb-8d3f-cb1ce7daf029: patch_number=35 have been skipped.\n",
            "Q9ALKK7XZ-b7add13d-8802-46cb-8d3f-cb1ce7daf029: patch_number=36 have been skipped.\n",
            "Q9ALKK7XZ-b7add13d-8802-46cb-8d3f-cb1ce7daf029: patch_number=53 have been skipped.\n"
          ],
          "name": "stdout"
        },
        {
          "output_type": "stream",
          "text": [
            "\r 77%|███████▋  | 23/30 [03:59<01:07,  9.63s/it]"
          ],
          "name": "stderr"
        },
        {
          "output_type": "stream",
          "text": [
            "Q9ALKK7XZ-b7add13d-8802-46cb-8d3f-cb1ce7daf029: patch_number=270 have been skipped.\n",
            "Q9ALKK7XZ-b7add13d-8802-46cb-8d3f-cb1ce7daf029: patch_number=288 have been skipped.\n",
            "Q9ALKK7XZ-b7add13d-8802-46cb-8d3f-cb1ce7daf029: patch_number=289 have been skipped.\n",
            "Q9ALKK7XZ-b7add13d-8802-46cb-8d3f-cb1ce7daf029: patch_number=305 have been skipped.\n",
            "Q9ALKK7XZ-b7add13d-8802-46cb-8d3f-cb1ce7daf029: patch_number=306 have been skipped.\n",
            "Q9ALKK7XZ-b7add13d-8802-46cb-8d3f-cb1ce7daf029: patch_number=307 have been skipped.\n",
            "Q9ALKK7XZ-b7add13d-8802-46cb-8d3f-cb1ce7daf029: patch_number=308 have been skipped.\n",
            "Q9ALKK7XZ-b7add13d-8802-46cb-8d3f-cb1ce7daf029: patch_number=323 have been skipped.\n",
            "b7add13d-8802-46cb-8d3f-cb1ce7daf029_Q9ALKK7XZ: n=304 patches have been saved, original size=(3999, 4016, 3).\n",
            "UI4P3E22W-b7add13d-8802-46cb-8d3f-cb1ce7daf029: patch_number=0 have been skipped.\n",
            "UI4P3E22W-b7add13d-8802-46cb-8d3f-cb1ce7daf029: patch_number=1 have been skipped.\n",
            "UI4P3E22W-b7add13d-8802-46cb-8d3f-cb1ce7daf029: patch_number=2 have been skipped.\n",
            "UI4P3E22W-b7add13d-8802-46cb-8d3f-cb1ce7daf029: patch_number=15 have been skipped.\n",
            "UI4P3E22W-b7add13d-8802-46cb-8d3f-cb1ce7daf029: patch_number=16 have been skipped.\n",
            "UI4P3E22W-b7add13d-8802-46cb-8d3f-cb1ce7daf029: patch_number=17 have been skipped.\n",
            "UI4P3E22W-b7add13d-8802-46cb-8d3f-cb1ce7daf029: patch_number=18 have been skipped.\n",
            "UI4P3E22W-b7add13d-8802-46cb-8d3f-cb1ce7daf029: patch_number=19 have been skipped.\n",
            "UI4P3E22W-b7add13d-8802-46cb-8d3f-cb1ce7daf029: patch_number=34 have been skipped.\n",
            "UI4P3E22W-b7add13d-8802-46cb-8d3f-cb1ce7daf029: patch_number=35 have been skipped.\n",
            "UI4P3E22W-b7add13d-8802-46cb-8d3f-cb1ce7daf029: patch_number=36 have been skipped.\n",
            "UI4P3E22W-b7add13d-8802-46cb-8d3f-cb1ce7daf029: patch_number=53 have been skipped.\n"
          ],
          "name": "stdout"
        },
        {
          "output_type": "stream",
          "text": [
            "\r 80%|████████  | 24/30 [04:08<00:56,  9.43s/it]"
          ],
          "name": "stderr"
        },
        {
          "output_type": "stream",
          "text": [
            "UI4P3E22W-b7add13d-8802-46cb-8d3f-cb1ce7daf029: patch_number=270 have been skipped.\n",
            "UI4P3E22W-b7add13d-8802-46cb-8d3f-cb1ce7daf029: patch_number=288 have been skipped.\n",
            "UI4P3E22W-b7add13d-8802-46cb-8d3f-cb1ce7daf029: patch_number=289 have been skipped.\n",
            "UI4P3E22W-b7add13d-8802-46cb-8d3f-cb1ce7daf029: patch_number=305 have been skipped.\n",
            "UI4P3E22W-b7add13d-8802-46cb-8d3f-cb1ce7daf029: patch_number=306 have been skipped.\n",
            "UI4P3E22W-b7add13d-8802-46cb-8d3f-cb1ce7daf029: patch_number=307 have been skipped.\n",
            "UI4P3E22W-b7add13d-8802-46cb-8d3f-cb1ce7daf029: patch_number=308 have been skipped.\n",
            "UI4P3E22W-b7add13d-8802-46cb-8d3f-cb1ce7daf029: patch_number=323 have been skipped.\n",
            "b7add13d-8802-46cb-8d3f-cb1ce7daf029_UI4P3E22W: n=304 patches have been saved, original size=(3999, 4016, 3).\n"
          ],
          "name": "stdout"
        },
        {
          "output_type": "stream",
          "text": [
            "\r 83%|████████▎ | 25/30 [04:19<00:49,  9.83s/it]"
          ],
          "name": "stderr"
        },
        {
          "output_type": "stream",
          "text": [
            "VQY9V2E1Q-7e227290-9936-483e-90de-949c80f984d7: patch_number=344 have been skipped.\n",
            "VQY9V2E1Q-7e227290-9936-483e-90de-949c80f984d7: patch_number=345 have been skipped.\n",
            "VQY9V2E1Q-7e227290-9936-483e-90de-949c80f984d7: patch_number=346 have been skipped.\n",
            "VQY9V2E1Q-7e227290-9936-483e-90de-949c80f984d7: patch_number=347 have been skipped.\n",
            "VQY9V2E1Q-7e227290-9936-483e-90de-949c80f984d7: patch_number=348 have been skipped.\n",
            "VQY9V2E1Q-7e227290-9936-483e-90de-949c80f984d7: patch_number=349 have been skipped.\n",
            "VQY9V2E1Q-7e227290-9936-483e-90de-949c80f984d7: patch_number=354 have been skipped.\n",
            "VQY9V2E1Q-7e227290-9936-483e-90de-949c80f984d7: patch_number=355 have been skipped.\n",
            "VQY9V2E1Q-7e227290-9936-483e-90de-949c80f984d7: patch_number=356 have been skipped.\n",
            "VQY9V2E1Q-7e227290-9936-483e-90de-949c80f984d7: patch_number=357 have been skipped.\n",
            "VQY9V2E1Q-7e227290-9936-483e-90de-949c80f984d7: patch_number=358 have been skipped.\n",
            "VQY9V2E1Q-7e227290-9936-483e-90de-949c80f984d7: patch_number=359 have been skipped.\n",
            "7e227290-9936-483e-90de-949c80f984d7_VQY9V2E1Q: n=348 patches have been saved, original size=(7980, 2116, 3).\n"
          ],
          "name": "stdout"
        },
        {
          "output_type": "stream",
          "text": [
            "\r 87%|████████▋ | 26/30 [04:30<00:40, 10.16s/it]"
          ],
          "name": "stderr"
        },
        {
          "output_type": "stream",
          "text": [
            "VWYBY2FQY-7e227290-9936-483e-90de-949c80f984d7: patch_number=344 have been skipped.\n",
            "VWYBY2FQY-7e227290-9936-483e-90de-949c80f984d7: patch_number=345 have been skipped.\n",
            "VWYBY2FQY-7e227290-9936-483e-90de-949c80f984d7: patch_number=346 have been skipped.\n",
            "VWYBY2FQY-7e227290-9936-483e-90de-949c80f984d7: patch_number=347 have been skipped.\n",
            "VWYBY2FQY-7e227290-9936-483e-90de-949c80f984d7: patch_number=348 have been skipped.\n",
            "VWYBY2FQY-7e227290-9936-483e-90de-949c80f984d7: patch_number=349 have been skipped.\n",
            "VWYBY2FQY-7e227290-9936-483e-90de-949c80f984d7: patch_number=354 have been skipped.\n",
            "VWYBY2FQY-7e227290-9936-483e-90de-949c80f984d7: patch_number=355 have been skipped.\n",
            "VWYBY2FQY-7e227290-9936-483e-90de-949c80f984d7: patch_number=356 have been skipped.\n",
            "VWYBY2FQY-7e227290-9936-483e-90de-949c80f984d7: patch_number=357 have been skipped.\n",
            "VWYBY2FQY-7e227290-9936-483e-90de-949c80f984d7: patch_number=358 have been skipped.\n",
            "VWYBY2FQY-7e227290-9936-483e-90de-949c80f984d7: patch_number=359 have been skipped.\n",
            "7e227290-9936-483e-90de-949c80f984d7_VWYBY2FQY: n=348 patches have been saved, original size=(7980, 2116, 3).\n",
            "W7AADUXTW-b7add13d-8802-46cb-8d3f-cb1ce7daf029: patch_number=0 have been skipped.\n",
            "W7AADUXTW-b7add13d-8802-46cb-8d3f-cb1ce7daf029: patch_number=1 have been skipped.\n",
            "W7AADUXTW-b7add13d-8802-46cb-8d3f-cb1ce7daf029: patch_number=2 have been skipped.\n",
            "W7AADUXTW-b7add13d-8802-46cb-8d3f-cb1ce7daf029: patch_number=3 have been skipped.\n",
            "W7AADUXTW-b7add13d-8802-46cb-8d3f-cb1ce7daf029: patch_number=17 have been skipped.\n",
            "W7AADUXTW-b7add13d-8802-46cb-8d3f-cb1ce7daf029: patch_number=18 have been skipped.\n",
            "W7AADUXTW-b7add13d-8802-46cb-8d3f-cb1ce7daf029: patch_number=19 have been skipped.\n",
            "W7AADUXTW-b7add13d-8802-46cb-8d3f-cb1ce7daf029: patch_number=20 have been skipped.\n",
            "W7AADUXTW-b7add13d-8802-46cb-8d3f-cb1ce7daf029: patch_number=21 have been skipped.\n",
            "W7AADUXTW-b7add13d-8802-46cb-8d3f-cb1ce7daf029: patch_number=22 have been skipped.\n",
            "W7AADUXTW-b7add13d-8802-46cb-8d3f-cb1ce7daf029: patch_number=39 have been skipped.\n",
            "W7AADUXTW-b7add13d-8802-46cb-8d3f-cb1ce7daf029: patch_number=40 have been skipped.\n",
            "W7AADUXTW-b7add13d-8802-46cb-8d3f-cb1ce7daf029: patch_number=41 have been skipped.\n",
            "W7AADUXTW-b7add13d-8802-46cb-8d3f-cb1ce7daf029: patch_number=42 have been skipped.\n",
            "W7AADUXTW-b7add13d-8802-46cb-8d3f-cb1ce7daf029: patch_number=61 have been skipped.\n",
            "W7AADUXTW-b7add13d-8802-46cb-8d3f-cb1ce7daf029: patch_number=62 have been skipped.\n",
            "W7AADUXTW-b7add13d-8802-46cb-8d3f-cb1ce7daf029: patch_number=63 have been skipped.\n",
            "W7AADUXTW-b7add13d-8802-46cb-8d3f-cb1ce7daf029: patch_number=83 have been skipped.\n",
            "W7AADUXTW-b7add13d-8802-46cb-8d3f-cb1ce7daf029: patch_number=357 have been skipped.\n",
            "W7AADUXTW-b7add13d-8802-46cb-8d3f-cb1ce7daf029: patch_number=378 have been skipped.\n",
            "W7AADUXTW-b7add13d-8802-46cb-8d3f-cb1ce7daf029: patch_number=399 have been skipped.\n",
            "W7AADUXTW-b7add13d-8802-46cb-8d3f-cb1ce7daf029: patch_number=400 have been skipped.\n",
            "W7AADUXTW-b7add13d-8802-46cb-8d3f-cb1ce7daf029: patch_number=418 have been skipped.\n",
            "W7AADUXTW-b7add13d-8802-46cb-8d3f-cb1ce7daf029: patch_number=419 have been skipped.\n",
            "W7AADUXTW-b7add13d-8802-46cb-8d3f-cb1ce7daf029: patch_number=420 have been skipped.\n",
            "W7AADUXTW-b7add13d-8802-46cb-8d3f-cb1ce7daf029: patch_number=421 have been skipped.\n",
            "W7AADUXTW-b7add13d-8802-46cb-8d3f-cb1ce7daf029: patch_number=422 have been skipped.\n",
            "W7AADUXTW-b7add13d-8802-46cb-8d3f-cb1ce7daf029: patch_number=439 have been skipped.\n",
            "W7AADUXTW-b7add13d-8802-46cb-8d3f-cb1ce7daf029: patch_number=440 have been skipped.\n",
            "W7AADUXTW-b7add13d-8802-46cb-8d3f-cb1ce7daf029: patch_number=441 have been skipped.\n",
            "W7AADUXTW-b7add13d-8802-46cb-8d3f-cb1ce7daf029: patch_number=442 have been skipped.\n",
            "W7AADUXTW-b7add13d-8802-46cb-8d3f-cb1ce7daf029: patch_number=443 have been skipped.\n"
          ],
          "name": "stdout"
        },
        {
          "output_type": "stream",
          "text": [
            "\r 90%|█████████ | 27/30 [04:42<00:32, 10.74s/it]"
          ],
          "name": "stderr"
        },
        {
          "output_type": "stream",
          "text": [
            "W7AADUXTW-b7add13d-8802-46cb-8d3f-cb1ce7daf029: patch_number=460 have been skipped.\n",
            "W7AADUXTW-b7add13d-8802-46cb-8d3f-cb1ce7daf029: patch_number=461 have been skipped.\n",
            "b7add13d-8802-46cb-8d3f-cb1ce7daf029_W7AADUXTW: n=428 patches have been saved, original size=(4708, 4541, 3).\n",
            "YLTE7FRJW-b7add13d-8802-46cb-8d3f-cb1ce7daf029: patch_number=0 have been skipped.\n",
            "YLTE7FRJW-b7add13d-8802-46cb-8d3f-cb1ce7daf029: patch_number=1 have been skipped.\n",
            "YLTE7FRJW-b7add13d-8802-46cb-8d3f-cb1ce7daf029: patch_number=2 have been skipped.\n",
            "YLTE7FRJW-b7add13d-8802-46cb-8d3f-cb1ce7daf029: patch_number=15 have been skipped.\n",
            "YLTE7FRJW-b7add13d-8802-46cb-8d3f-cb1ce7daf029: patch_number=16 have been skipped.\n",
            "YLTE7FRJW-b7add13d-8802-46cb-8d3f-cb1ce7daf029: patch_number=17 have been skipped.\n",
            "YLTE7FRJW-b7add13d-8802-46cb-8d3f-cb1ce7daf029: patch_number=18 have been skipped.\n",
            "YLTE7FRJW-b7add13d-8802-46cb-8d3f-cb1ce7daf029: patch_number=19 have been skipped.\n",
            "YLTE7FRJW-b7add13d-8802-46cb-8d3f-cb1ce7daf029: patch_number=34 have been skipped.\n",
            "YLTE7FRJW-b7add13d-8802-46cb-8d3f-cb1ce7daf029: patch_number=35 have been skipped.\n",
            "YLTE7FRJW-b7add13d-8802-46cb-8d3f-cb1ce7daf029: patch_number=36 have been skipped.\n",
            "YLTE7FRJW-b7add13d-8802-46cb-8d3f-cb1ce7daf029: patch_number=53 have been skipped.\n"
          ],
          "name": "stdout"
        },
        {
          "output_type": "stream",
          "text": [
            "\r 93%|█████████▎| 28/30 [04:51<00:20, 10.09s/it]"
          ],
          "name": "stderr"
        },
        {
          "output_type": "stream",
          "text": [
            "YLTE7FRJW-b7add13d-8802-46cb-8d3f-cb1ce7daf029: patch_number=270 have been skipped.\n",
            "YLTE7FRJW-b7add13d-8802-46cb-8d3f-cb1ce7daf029: patch_number=288 have been skipped.\n",
            "YLTE7FRJW-b7add13d-8802-46cb-8d3f-cb1ce7daf029: patch_number=289 have been skipped.\n",
            "YLTE7FRJW-b7add13d-8802-46cb-8d3f-cb1ce7daf029: patch_number=305 have been skipped.\n",
            "YLTE7FRJW-b7add13d-8802-46cb-8d3f-cb1ce7daf029: patch_number=306 have been skipped.\n",
            "YLTE7FRJW-b7add13d-8802-46cb-8d3f-cb1ce7daf029: patch_number=307 have been skipped.\n",
            "YLTE7FRJW-b7add13d-8802-46cb-8d3f-cb1ce7daf029: patch_number=308 have been skipped.\n",
            "YLTE7FRJW-b7add13d-8802-46cb-8d3f-cb1ce7daf029: patch_number=323 have been skipped.\n",
            "b7add13d-8802-46cb-8d3f-cb1ce7daf029_YLTE7FRJW: n=304 patches have been saved, original size=(3999, 4016, 3).\n",
            "ZVDH6FY93-b7add13d-8802-46cb-8d3f-cb1ce7daf029: patch_number=0 have been skipped.\n",
            "ZVDH6FY93-b7add13d-8802-46cb-8d3f-cb1ce7daf029: patch_number=1 have been skipped.\n",
            "ZVDH6FY93-b7add13d-8802-46cb-8d3f-cb1ce7daf029: patch_number=2 have been skipped.\n",
            "ZVDH6FY93-b7add13d-8802-46cb-8d3f-cb1ce7daf029: patch_number=15 have been skipped.\n",
            "ZVDH6FY93-b7add13d-8802-46cb-8d3f-cb1ce7daf029: patch_number=16 have been skipped.\n",
            "ZVDH6FY93-b7add13d-8802-46cb-8d3f-cb1ce7daf029: patch_number=17 have been skipped.\n",
            "ZVDH6FY93-b7add13d-8802-46cb-8d3f-cb1ce7daf029: patch_number=18 have been skipped.\n",
            "ZVDH6FY93-b7add13d-8802-46cb-8d3f-cb1ce7daf029: patch_number=19 have been skipped.\n",
            "ZVDH6FY93-b7add13d-8802-46cb-8d3f-cb1ce7daf029: patch_number=34 have been skipped.\n",
            "ZVDH6FY93-b7add13d-8802-46cb-8d3f-cb1ce7daf029: patch_number=35 have been skipped.\n",
            "ZVDH6FY93-b7add13d-8802-46cb-8d3f-cb1ce7daf029: patch_number=36 have been skipped.\n",
            "ZVDH6FY93-b7add13d-8802-46cb-8d3f-cb1ce7daf029: patch_number=53 have been skipped.\n"
          ],
          "name": "stdout"
        },
        {
          "output_type": "stream",
          "text": [
            "\r 97%|█████████▋| 29/30 [05:00<00:09,  9.75s/it]"
          ],
          "name": "stderr"
        },
        {
          "output_type": "stream",
          "text": [
            "ZVDH6FY93-b7add13d-8802-46cb-8d3f-cb1ce7daf029: patch_number=270 have been skipped.\n",
            "ZVDH6FY93-b7add13d-8802-46cb-8d3f-cb1ce7daf029: patch_number=288 have been skipped.\n",
            "ZVDH6FY93-b7add13d-8802-46cb-8d3f-cb1ce7daf029: patch_number=289 have been skipped.\n",
            "ZVDH6FY93-b7add13d-8802-46cb-8d3f-cb1ce7daf029: patch_number=305 have been skipped.\n",
            "ZVDH6FY93-b7add13d-8802-46cb-8d3f-cb1ce7daf029: patch_number=306 have been skipped.\n",
            "ZVDH6FY93-b7add13d-8802-46cb-8d3f-cb1ce7daf029: patch_number=307 have been skipped.\n",
            "ZVDH6FY93-b7add13d-8802-46cb-8d3f-cb1ce7daf029: patch_number=308 have been skipped.\n",
            "ZVDH6FY93-b7add13d-8802-46cb-8d3f-cb1ce7daf029: patch_number=323 have been skipped.\n",
            "b7add13d-8802-46cb-8d3f-cb1ce7daf029_ZVDH6FY93: n=304 patches have been saved, original size=(3999, 4016, 3).\n"
          ],
          "name": "stdout"
        },
        {
          "output_type": "stream",
          "text": [
            "100%|██████████| 30/30 [05:10<00:00, 10.34s/it]"
          ],
          "name": "stderr"
        },
        {
          "output_type": "stream",
          "text": [
            "ZVFAN11AI-7e227290-9936-483e-90de-949c80f984d7: patch_number=344 have been skipped.\n",
            "ZVFAN11AI-7e227290-9936-483e-90de-949c80f984d7: patch_number=345 have been skipped.\n",
            "ZVFAN11AI-7e227290-9936-483e-90de-949c80f984d7: patch_number=346 have been skipped.\n",
            "ZVFAN11AI-7e227290-9936-483e-90de-949c80f984d7: patch_number=347 have been skipped.\n",
            "ZVFAN11AI-7e227290-9936-483e-90de-949c80f984d7: patch_number=348 have been skipped.\n",
            "ZVFAN11AI-7e227290-9936-483e-90de-949c80f984d7: patch_number=349 have been skipped.\n",
            "ZVFAN11AI-7e227290-9936-483e-90de-949c80f984d7: patch_number=354 have been skipped.\n",
            "ZVFAN11AI-7e227290-9936-483e-90de-949c80f984d7: patch_number=355 have been skipped.\n",
            "ZVFAN11AI-7e227290-9936-483e-90de-949c80f984d7: patch_number=356 have been skipped.\n",
            "ZVFAN11AI-7e227290-9936-483e-90de-949c80f984d7: patch_number=357 have been skipped.\n",
            "ZVFAN11AI-7e227290-9936-483e-90de-949c80f984d7: patch_number=358 have been skipped.\n",
            "ZVFAN11AI-7e227290-9936-483e-90de-949c80f984d7: patch_number=359 have been skipped.\n",
            "7e227290-9936-483e-90de-949c80f984d7_ZVFAN11AI: n=348 patches have been saved, original size=(7980, 2116, 3).\n"
          ],
          "name": "stdout"
        },
        {
          "output_type": "stream",
          "text": [
            "\n"
          ],
          "name": "stderr"
        }
      ]
    },
    {
      "cell_type": "code",
      "metadata": {
        "id": "ns9fK7qLkYoB"
      },
      "source": [
        "df.to_csv('image_data_224.csv')"
      ],
      "execution_count": null,
      "outputs": []
    },
    {
      "cell_type": "code",
      "metadata": {
        "colab": {
          "base_uri": "https://localhost:8080/",
          "height": 17
        },
        "id": "PeCvb5ZhLQpD",
        "outputId": "7ffc12f6-76e4-45d9-9585-ca1a1643a927"
      },
      "source": [
        "from google.colab import files\n",
        "files.download(\"/content/image_data_224.csv\")"
      ],
      "execution_count": null,
      "outputs": [
        {
          "output_type": "display_data",
          "data": {
            "application/javascript": [
              "\n",
              "    async function download(id, filename, size) {\n",
              "      if (!google.colab.kernel.accessAllowed) {\n",
              "        return;\n",
              "      }\n",
              "      const div = document.createElement('div');\n",
              "      const label = document.createElement('label');\n",
              "      label.textContent = `Downloading \"${filename}\": `;\n",
              "      div.appendChild(label);\n",
              "      const progress = document.createElement('progress');\n",
              "      progress.max = size;\n",
              "      div.appendChild(progress);\n",
              "      document.body.appendChild(div);\n",
              "\n",
              "      const buffers = [];\n",
              "      let downloaded = 0;\n",
              "\n",
              "      const channel = await google.colab.kernel.comms.open(id);\n",
              "      // Send a message to notify the kernel that we're ready.\n",
              "      channel.send({})\n",
              "\n",
              "      for await (const message of channel.messages) {\n",
              "        // Send a message to notify the kernel that we're ready.\n",
              "        channel.send({})\n",
              "        if (message.buffers) {\n",
              "          for (const buffer of message.buffers) {\n",
              "            buffers.push(buffer);\n",
              "            downloaded += buffer.byteLength;\n",
              "            progress.value = downloaded;\n",
              "          }\n",
              "        }\n",
              "      }\n",
              "      const blob = new Blob(buffers, {type: 'application/binary'});\n",
              "      const a = document.createElement('a');\n",
              "      a.href = window.URL.createObjectURL(blob);\n",
              "      a.download = filename;\n",
              "      div.appendChild(a);\n",
              "      a.click();\n",
              "      div.remove();\n",
              "    }\n",
              "  "
            ],
            "text/plain": [
              "<IPython.core.display.Javascript object>"
            ]
          },
          "metadata": {
            "tags": []
          }
        },
        {
          "output_type": "display_data",
          "data": {
            "application/javascript": [
              "download(\"download_6ea0acc8-e534-447c-9e4d-6e33d6ab365a\", \"image_data_224.csv\", 1724926)"
            ],
            "text/plain": [
              "<IPython.core.display.Javascript object>"
            ]
          },
          "metadata": {
            "tags": []
          }
        }
      ]
    },
    {
      "cell_type": "code",
      "metadata": {
        "cellView": "form",
        "id": "zUuavDvDyORC"
      },
      "source": [
        "#@markdown crop the images into (224,224) size and get 10437 images\n"
      ],
      "execution_count": null,
      "outputs": []
    },
    {
      "cell_type": "code",
      "metadata": {
        "colab": {
          "base_uri": "https://localhost:8080/",
          "height": 204
        },
        "id": "TU9ZIo3ZlnRm",
        "outputId": "4983ea77-592a-4bad-849c-9c4de3d00fbf"
      },
      "source": [
        "df.head()"
      ],
      "execution_count": null,
      "outputs": [
        {
          "output_type": "execute_result",
          "data": {
            "text/html": [
              "<div>\n",
              "<style scoped>\n",
              "    .dataframe tbody tr th:only-of-type {\n",
              "        vertical-align: middle;\n",
              "    }\n",
              "\n",
              "    .dataframe tbody tr th {\n",
              "        vertical-align: top;\n",
              "    }\n",
              "\n",
              "    .dataframe thead th {\n",
              "        text-align: right;\n",
              "    }\n",
              "</style>\n",
              "<table border=\"1\" class=\"dataframe\">\n",
              "  <thead>\n",
              "    <tr style=\"text-align: right;\">\n",
              "      <th></th>\n",
              "      <th>flight_code</th>\n",
              "      <th>field_token</th>\n",
              "      <th>class</th>\n",
              "      <th>flight_date</th>\n",
              "      <th>flight_number</th>\n",
              "      <th>tile_number</th>\n",
              "      <th>image_path</th>\n",
              "    </tr>\n",
              "  </thead>\n",
              "  <tbody>\n",
              "    <tr>\n",
              "      <th>0</th>\n",
              "      <td>1TJZT39WQ</td>\n",
              "      <td>b7add13d-8802-46cb-8d3f-cb1ce7daf029</td>\n",
              "      <td>False</td>\n",
              "      <td>2020-07-11</td>\n",
              "      <td>9</td>\n",
              "      <td>0</td>\n",
              "      <td>/content/final_image_data/b7add13d-8802-46cb-8...</td>\n",
              "    </tr>\n",
              "    <tr>\n",
              "      <th>1</th>\n",
              "      <td>1TJZT39WQ</td>\n",
              "      <td>b7add13d-8802-46cb-8d3f-cb1ce7daf029</td>\n",
              "      <td>False</td>\n",
              "      <td>2020-07-11</td>\n",
              "      <td>9</td>\n",
              "      <td>1</td>\n",
              "      <td>/content/final_image_data/b7add13d-8802-46cb-8...</td>\n",
              "    </tr>\n",
              "    <tr>\n",
              "      <th>2</th>\n",
              "      <td>1TJZT39WQ</td>\n",
              "      <td>b7add13d-8802-46cb-8d3f-cb1ce7daf029</td>\n",
              "      <td>False</td>\n",
              "      <td>2020-07-11</td>\n",
              "      <td>9</td>\n",
              "      <td>2</td>\n",
              "      <td>/content/final_image_data/b7add13d-8802-46cb-8...</td>\n",
              "    </tr>\n",
              "    <tr>\n",
              "      <th>3</th>\n",
              "      <td>1TJZT39WQ</td>\n",
              "      <td>b7add13d-8802-46cb-8d3f-cb1ce7daf029</td>\n",
              "      <td>False</td>\n",
              "      <td>2020-07-11</td>\n",
              "      <td>9</td>\n",
              "      <td>3</td>\n",
              "      <td>/content/final_image_data/b7add13d-8802-46cb-8...</td>\n",
              "    </tr>\n",
              "    <tr>\n",
              "      <th>4</th>\n",
              "      <td>1TJZT39WQ</td>\n",
              "      <td>b7add13d-8802-46cb-8d3f-cb1ce7daf029</td>\n",
              "      <td>False</td>\n",
              "      <td>2020-07-11</td>\n",
              "      <td>9</td>\n",
              "      <td>4</td>\n",
              "      <td>/content/final_image_data/b7add13d-8802-46cb-8...</td>\n",
              "    </tr>\n",
              "  </tbody>\n",
              "</table>\n",
              "</div>"
            ],
            "text/plain": [
              "  flight_code  ...                                         image_path\n",
              "0   1TJZT39WQ  ...  /content/final_image_data/b7add13d-8802-46cb-8...\n",
              "1   1TJZT39WQ  ...  /content/final_image_data/b7add13d-8802-46cb-8...\n",
              "2   1TJZT39WQ  ...  /content/final_image_data/b7add13d-8802-46cb-8...\n",
              "3   1TJZT39WQ  ...  /content/final_image_data/b7add13d-8802-46cb-8...\n",
              "4   1TJZT39WQ  ...  /content/final_image_data/b7add13d-8802-46cb-8...\n",
              "\n",
              "[5 rows x 7 columns]"
            ]
          },
          "metadata": {
            "tags": []
          },
          "execution_count": 16
        }
      ]
    },
    {
      "cell_type": "code",
      "metadata": {
        "colab": {
          "base_uri": "https://localhost:8080/"
        },
        "id": "_QmXVWAEsiOc",
        "outputId": "bc940bc2-140a-4e67-a50a-a9c75d829c14"
      },
      "source": [
        "df.shape"
      ],
      "execution_count": null,
      "outputs": [
        {
          "output_type": "execute_result",
          "data": {
            "text/plain": [
              "(10437, 7)"
            ]
          },
          "metadata": {
            "tags": []
          },
          "execution_count": 17
        }
      ]
    },
    {
      "cell_type": "code",
      "metadata": {
        "id": "pviF5nfqIXNY"
      },
      "source": [
        "# import pandas as pd\n",
        "# df=pd.read_csv(\"/content/image_data_224.csv\")"
      ],
      "execution_count": null,
      "outputs": []
    },
    {
      "cell_type": "code",
      "metadata": {
        "id": "WI4S1bvwzBhu",
        "cellView": "form"
      },
      "source": [
        "#@markdown split the data into train/validation/test sets, such that each set contains full images"
      ],
      "execution_count": null,
      "outputs": []
    },
    {
      "cell_type": "code",
      "metadata": {
        "id": "Ua9eikUG0Ce5"
      },
      "source": [
        "# from sklearn.utils import shuffle\n",
        "# flight_codes=list(set(df.flight_code))\n",
        "# flight_codes=shuffle(flight_codes, random_state=42)\n",
        "# train_ids = flight_codes[:20]\n",
        "# val_ids = flight_codes[20:25]\n",
        "# test_ids = flight_codes[25:]\n",
        "# train_data=df[df['flight_code'].isin(train_ids)]\n",
        "# val_data=df[df['flight_code'].isin(val_ids)]\n",
        "# test_data=df[df['flight_code'].isin(test_ids)]\n"
      ],
      "execution_count": null,
      "outputs": []
    },
    {
      "cell_type": "code",
      "metadata": {
        "id": "GCo2muh0ANS4"
      },
      "source": [
        "# from sklearn.model_selection import train_test_split\n",
        "# train_data, test_data, _, _,= train_test_split(df, df, test_size=0.15, random_state=42, shuffle=True)\n",
        "# train_data, val_data, _, _,= train_test_split(train_data, train_data, test_size=0.15, random_state=42, shuffle=True)\n"
      ],
      "execution_count": null,
      "outputs": []
    },
    {
      "cell_type": "code",
      "metadata": {
        "id": "28UMrKLDVCew"
      },
      "source": [
        "from sklearn.utils import shuffle\n",
        "false_ids = list(set(df[df['class'] == False]['flight_code']))\n",
        "false_ids = shuffle(false_ids)\n",
        "train_ids=false_ids[:int(np.floor(len(false_ids)*0.7))]\n",
        "val_ids=false_ids[int(np.floor(len(false_ids)*0.7)):(int(np.floor(len(false_ids)*0.7))+int(np.round(len(false_ids)*0.15,0)))]\n",
        "test_ids=false_ids[(int(np.floor(len(false_ids)*0.7))+int(np.round(len(false_ids)*0.15,0))):]\n",
        "true_ids = list(set(df[df['class'] == True]['flight_code']))\n",
        "true_ids = shuffle(true_ids)\n",
        "train_ids = train_ids + true_ids[:int(np.floor(len(true_ids)*0.7))]\n",
        "val_ids= val_ids+true_ids[int(np.floor(len(true_ids)*0.7)):(int(np.floor(len(true_ids)*0.7))+int(np.round(len(true_ids)*0.15,0)))]\n",
        "test_ids=test_ids + true_ids[(int(np.floor(len(true_ids)*0.7))+int(np.round(len(true_ids)*0.15,0))):]\n",
        "train_data=df[df['flight_code'].isin(train_ids)]\n",
        "val_data=df[df['flight_code'].isin(val_ids)]\n",
        "test_data=df[df['flight_code'].isin(test_ids)]"
      ],
      "execution_count": null,
      "outputs": []
    },
    {
      "cell_type": "code",
      "metadata": {
        "colab": {
          "base_uri": "https://localhost:8080/"
        },
        "id": "hg1-ItpQMbf3",
        "outputId": "b963e182-0c77-40ec-ffa5-cbafdf367d1b"
      },
      "source": [
        "print({'train_data' : len(train_data),  \n",
        "       'val_data' :   len(val_data),\n",
        "       'test_data' : len(test_data)})"
      ],
      "execution_count": null,
      "outputs": [
        {
          "output_type": "stream",
          "text": [
            "{'train_data': 7221, 'val_data': 1608, 'test_data': 1608}\n"
          ],
          "name": "stdout"
        }
      ]
    },
    {
      "cell_type": "code",
      "metadata": {
        "colab": {
          "base_uri": "https://localhost:8080/"
        },
        "id": "fglfpNpQQJWp",
        "outputId": "d1fc8763-3df0-413d-f15b-8e08dd3070e8"
      },
      "source": [
        "\n",
        "print({'train_classes' : train_data['class'].mean()})\n",
        "print({'val_classes' : val_data['class'].mean()})\n",
        "print({'test_classes' : test_data['class'].mean()})"
      ],
      "execution_count": null,
      "outputs": [
        {
          "output_type": "stream",
          "text": [
            "{'train_classes': 0.3629691178507132}\n",
            "{'val_classes': 0.4054726368159204}\n",
            "{'test_classes': 0.4054726368159204}\n"
          ],
          "name": "stdout"
        }
      ]
    },
    {
      "cell_type": "markdown",
      "metadata": {
        "id": "3EdsxoPiGoQi"
      },
      "source": [
        "The data is saved in '/content/final_image_data/' folder. You can find there also the \"tiles.CSV\" file which is the same dataframe in CSV format\n",
        "Dataframe contains image paths which you should use during training and the label - 'class', which is a boolean column, so you have binary \n",
        "classfication problem."
      ]
    },
    {
      "cell_type": "code",
      "metadata": {
        "id": "iJFAGskMG5Mi"
      },
      "source": [
        "# equal observation for  two classes\n",
        "train_data1=train_data[train_data['class']==True] \n",
        "train_data2=train_data[train_data['class']==False].iloc[:train_data1.shape[0],:]\n",
        "train_data=pd.concat((train_data1, train_data2))"
      ],
      "execution_count": null,
      "outputs": []
    },
    {
      "cell_type": "code",
      "metadata": {
        "colab": {
          "base_uri": "https://localhost:8080/"
        },
        "id": "oI55tQu_3cyP",
        "outputId": "af488c66-045e-47fc-88c4-b1eecc788ba8"
      },
      "source": [
        "train_data.shape"
      ],
      "execution_count": null,
      "outputs": [
        {
          "output_type": "execute_result",
          "data": {
            "text/plain": [
              "(5242, 8)"
            ]
          },
          "metadata": {
            "tags": []
          },
          "execution_count": 32
        }
      ]
    },
    {
      "cell_type": "code",
      "metadata": {
        "cellView": "form",
        "id": "VF9j9MLozZpc"
      },
      "source": [
        "#@markdown read images and get labels"
      ],
      "execution_count": null,
      "outputs": []
    },
    {
      "cell_type": "code",
      "metadata": {
        "id": "cqUBAwTo1B8u"
      },
      "source": [
        "def input_creation(data):\n",
        "  \"\"\"function for reading images using images' patch from data frame` df  and combine them in an array.\"\"\"\n",
        "  X=[]\n",
        "  Y=[]\n",
        "  for i in range(len(data)):\n",
        "    sample_image = read_image(data['image_path'].iloc[i])\n",
        "    #sample_image = cv2.resize(sample_image, dsize=(512, 512), interpolation=cv2.INTER_CUBIC)\n",
        "    sample_label = data['class'].iloc[i]\n",
        "    X.append(sample_image)\n",
        "    Y.append(sample_label)\n",
        "\n",
        "  return np.array(X), np.array(Y)\n",
        "\n"
      ],
      "execution_count": null,
      "outputs": []
    },
    {
      "cell_type": "code",
      "metadata": {
        "id": "wxmQMIWT64B_"
      },
      "source": [
        "X_train, y_train = input_creation(train_data)\n",
        "X_val, y_val = input_creation(val_data)\n",
        "X_test, y_test = input_creation(test_data)\n"
      ],
      "execution_count": null,
      "outputs": []
    },
    {
      "cell_type": "code",
      "metadata": {
        "colab": {
          "base_uri": "https://localhost:8080/"
        },
        "id": "ASkf7ZBA63v6",
        "outputId": "d4bf0600-be38-4863-8f5d-61534dab27d8"
      },
      "source": [
        "X_train.shape, y_train.shape"
      ],
      "execution_count": null,
      "outputs": [
        {
          "output_type": "execute_result",
          "data": {
            "text/plain": [
              "((5242, 224, 224, 3), (5242,))"
            ]
          },
          "metadata": {
            "tags": []
          },
          "execution_count": 35
        }
      ]
    },
    {
      "cell_type": "code",
      "metadata": {
        "colab": {
          "base_uri": "https://localhost:8080/",
          "height": 255
        },
        "id": "Zo6xTuy9B4MB",
        "outputId": "c1c4936b-a2d5-45bc-a891-d427c4da023a"
      },
      "source": [
        "cols = 8\n",
        "rows = 2\n",
        "fig = plt.figure(figsize=(2 * cols - 1, 2.5 * rows - 1))\n",
        "for i in range(cols):\n",
        "    for j in range(rows):\n",
        "        random_index = np.random.randint(0, len(y_train))\n",
        "        ax = fig.add_subplot(rows, cols, i * rows + j + 1)\n",
        "        ax.grid('off')\n",
        "        ax.axis('off')\n",
        "        ax.imshow(X_train[random_index, :])\n",
        "        ax.set_title(y_train[random_index])\n",
        "plt.show()"
      ],
      "execution_count": null,
      "outputs": [
        {
          "output_type": "display_data",
          "data": {
            "image/png": "[encoded data removed]",
            "text/plain": [
              "<Figure size 1080x288 with 16 Axes>"
            ]
          },
          "metadata": {
            "tags": []
          }
        }
      ]
    },
    {
      "cell_type": "code",
      "metadata": {
        "id": "CsEKPy-wm051"
      },
      "source": [
        "\n",
        "# import skimage\n",
        "# from skimage.measure import block_reduce"
      ],
      "execution_count": null,
      "outputs": []
    },
    {
      "cell_type": "code",
      "metadata": {
        "colab": {
          "base_uri": "https://localhost:8080/"
        },
        "id": "MLNIQzHM1Bbs",
        "outputId": "0ef48afc-0626-49f4-c36c-f16d67969fae"
      },
      "source": [
        "import tensorflow as tf\n",
        "from tensorflow import keras\n",
        "from keras.models import Sequential\n",
        "from keras.layers import Dense, Activation, Flatten, Dropout, BatchNormalization, Input"
      ],
      "execution_count": null,
      "outputs": [
        {
          "output_type": "stream",
          "text": [
            "/usr/local/lib/python3.7/dist-packages/requests/__init__.py:91: RequestsDependencyWarning: urllib3 (1.26.4) or chardet (3.0.4) doesn't match a supported version!\n",
            "  RequestsDependencyWarning)\n"
          ],
          "name": "stderr"
        }
      ]
    },
    {
      "cell_type": "code",
      "metadata": {
        "cellView": "form",
        "id": "2E6isKYvFfh-"
      },
      "source": [
        "#@markdown model architecture"
      ],
      "execution_count": null,
      "outputs": []
    },
    {
      "cell_type": "code",
      "metadata": {
        "colab": {
          "base_uri": "https://localhost:8080/"
        },
        "id": "fIWJgnysQ_oE",
        "outputId": "12678d11-82bf-42fb-a00e-fe47b72d5b8a"
      },
      "source": [
        "from keras.applications import vgg16\n",
        "vgg16_model = vgg16.VGG16(weights='imagenet', include_top=False, input_shape=(224,224,3))"
      ],
      "execution_count": null,
      "outputs": [
        {
          "output_type": "stream",
          "text": [
            "Downloading data from https://storage.googleapis.com/tensorflow/keras-applications/vgg16/vgg16_weights_tf_dim_ordering_tf_kernels_notop.h5\n",
            "58892288/58889256 [==============================] - 1s 0us/step\n"
          ],
          "name": "stdout"
        }
      ]
    },
    {
      "cell_type": "code",
      "metadata": {
        "colab": {
          "base_uri": "https://localhost:8080/"
        },
        "id": "1Byg2n1nQ_wk",
        "outputId": "e165ed8e-f2ae-453c-9468-37554e751eca"
      },
      "source": [
        "\n",
        "vgg16_model.summary()"
      ],
      "execution_count": null,
      "outputs": [
        {
          "output_type": "stream",
          "text": [
            "Model: \"vgg16\"\n",
            "_________________________________________________________________\n",
            "Layer (type)                 Output Shape              Param #   \n",
            "=================================================================\n",
            "input_1 (InputLayer)         [(None, 224, 224, 3)]     0         \n",
            "_________________________________________________________________\n",
            "block1_conv1 (Conv2D)        (None, 224, 224, 64)      1792      \n",
            "_________________________________________________________________\n",
            "block1_conv2 (Conv2D)        (None, 224, 224, 64)      36928     \n",
            "_________________________________________________________________\n",
            "block1_pool (MaxPooling2D)   (None, 112, 112, 64)      0         \n",
            "_________________________________________________________________\n",
            "block2_conv1 (Conv2D)        (None, 112, 112, 128)     73856     \n",
            "_________________________________________________________________\n",
            "block2_conv2 (Conv2D)        (None, 112, 112, 128)     147584    \n",
            "_________________________________________________________________\n",
            "block2_pool (MaxPooling2D)   (None, 56, 56, 128)       0         \n",
            "_________________________________________________________________\n",
            "block3_conv1 (Conv2D)        (None, 56, 56, 256)       295168    \n",
            "_________________________________________________________________\n",
            "block3_conv2 (Conv2D)        (None, 56, 56, 256)       590080    \n",
            "_________________________________________________________________\n",
            "block3_conv3 (Conv2D)        (None, 56, 56, 256)       590080    \n",
            "_________________________________________________________________\n",
            "block3_pool (MaxPooling2D)   (None, 28, 28, 256)       0         \n",
            "_________________________________________________________________\n",
            "block4_conv1 (Conv2D)        (None, 28, 28, 512)       1180160   \n",
            "_________________________________________________________________\n",
            "block4_conv2 (Conv2D)        (None, 28, 28, 512)       2359808   \n",
            "_________________________________________________________________\n",
            "block4_conv3 (Conv2D)        (None, 28, 28, 512)       2359808   \n",
            "_________________________________________________________________\n",
            "block4_pool (MaxPooling2D)   (None, 14, 14, 512)       0         \n",
            "_________________________________________________________________\n",
            "block5_conv1 (Conv2D)        (None, 14, 14, 512)       2359808   \n",
            "_________________________________________________________________\n",
            "block5_conv2 (Conv2D)        (None, 14, 14, 512)       2359808   \n",
            "_________________________________________________________________\n",
            "block5_conv3 (Conv2D)        (None, 14, 14, 512)       2359808   \n",
            "_________________________________________________________________\n",
            "block5_pool (MaxPooling2D)   (None, 7, 7, 512)         0         \n",
            "=================================================================\n",
            "Total params: 14,714,688\n",
            "Trainable params: 14,714,688\n",
            "Non-trainable params: 0\n",
            "_________________________________________________________________\n"
          ],
          "name": "stdout"
        }
      ]
    },
    {
      "cell_type": "code",
      "metadata": {
        "id": "eNuucSNeQ_4y"
      },
      "source": [
        "model=Sequential([Input(shape=(224,224,3)),\n",
        "                  keras.layers.experimental.preprocessing.Rescaling(scale= 1 / 255.0)\n",
        "])\n",
        "for layer in vgg16_model.layers:\n",
        "  layer.trainable=False\n",
        "  model.add(layer)"
      ],
      "execution_count": null,
      "outputs": []
    },
    {
      "cell_type": "code",
      "metadata": {
        "id": "WUL02vTkmDdt"
      },
      "source": [
        "model.add(Flatten())\n",
        "model.add(Dense(128, activation='relu'))\n",
        "model.add(BatchNormalization())\n",
        "model.add(Dropout(0.5))\n",
        "model.add(Dense(1, activation='sigmoid'))"
      ],
      "execution_count": null,
      "outputs": []
    },
    {
      "cell_type": "code",
      "metadata": {
        "colab": {
          "base_uri": "https://localhost:8080/"
        },
        "id": "7X29oOkPh6Q6",
        "outputId": "0f280709-9783-4633-9527-42e87a647889"
      },
      "source": [
        "model.summary()"
      ],
      "execution_count": null,
      "outputs": [
        {
          "output_type": "stream",
          "text": [
            "Model: \"sequential\"\n",
            "_________________________________________________________________\n",
            "Layer (type)                 Output Shape              Param #   \n",
            "=================================================================\n",
            "rescaling (Rescaling)        (None, 224, 224, 3)       0         \n",
            "_________________________________________________________________\n",
            "input_1 (InputLayer)         multiple                  0         \n",
            "_________________________________________________________________\n",
            "block1_conv1 (Conv2D)        (None, 224, 224, 64)      1792      \n",
            "_________________________________________________________________\n",
            "block1_conv2 (Conv2D)        (None, 224, 224, 64)      36928     \n",
            "_________________________________________________________________\n",
            "block1_pool (MaxPooling2D)   (None, 112, 112, 64)      0         \n",
            "_________________________________________________________________\n",
            "block2_conv1 (Conv2D)        (None, 112, 112, 128)     73856     \n",
            "_________________________________________________________________\n",
            "block2_conv2 (Conv2D)        (None, 112, 112, 128)     147584    \n",
            "_________________________________________________________________\n",
            "block2_pool (MaxPooling2D)   (None, 56, 56, 128)       0         \n",
            "_________________________________________________________________\n",
            "block3_conv1 (Conv2D)        (None, 56, 56, 256)       295168    \n",
            "_________________________________________________________________\n",
            "block3_conv2 (Conv2D)        (None, 56, 56, 256)       590080    \n",
            "_________________________________________________________________\n",
            "block3_conv3 (Conv2D)        (None, 56, 56, 256)       590080    \n",
            "_________________________________________________________________\n",
            "block3_pool (MaxPooling2D)   (None, 28, 28, 256)       0         \n",
            "_________________________________________________________________\n",
            "block4_conv1 (Conv2D)        (None, 28, 28, 512)       1180160   \n",
            "_________________________________________________________________\n",
            "block4_conv2 (Conv2D)        (None, 28, 28, 512)       2359808   \n",
            "_________________________________________________________________\n",
            "block4_conv3 (Conv2D)        (None, 28, 28, 512)       2359808   \n",
            "_________________________________________________________________\n",
            "block4_pool (MaxPooling2D)   (None, 14, 14, 512)       0         \n",
            "_________________________________________________________________\n",
            "block5_conv1 (Conv2D)        (None, 14, 14, 512)       2359808   \n",
            "_________________________________________________________________\n",
            "block5_conv2 (Conv2D)        (None, 14, 14, 512)       2359808   \n",
            "_________________________________________________________________\n",
            "block5_conv3 (Conv2D)        (None, 14, 14, 512)       2359808   \n",
            "_________________________________________________________________\n",
            "block5_pool (MaxPooling2D)   (None, 7, 7, 512)         0         \n",
            "_________________________________________________________________\n",
            "flatten (Flatten)            (None, 25088)             0         \n",
            "_________________________________________________________________\n",
            "dense (Dense)                (None, 128)               3211392   \n",
            "_________________________________________________________________\n",
            "batch_normalization (BatchNo (None, 128)               512       \n",
            "_________________________________________________________________\n",
            "dropout (Dropout)            (None, 128)               0         \n",
            "_________________________________________________________________\n",
            "dense_1 (Dense)              (None, 1)                 129       \n",
            "=================================================================\n",
            "Total params: 17,926,721\n",
            "Trainable params: 3,211,777\n",
            "Non-trainable params: 14,714,944\n",
            "_________________________________________________________________\n"
          ],
          "name": "stdout"
        }
      ]
    },
    {
      "cell_type": "code",
      "metadata": {
        "id": "Zun7p_YS7rp-"
      },
      "source": [
        "opt = keras.optimizers.SGD(lr=0.001, momentum=0.9)"
      ],
      "execution_count": null,
      "outputs": []
    },
    {
      "cell_type": "code",
      "metadata": {
        "cellView": "form",
        "id": "1auRJ8UT9J7R"
      },
      "source": [
        "#@markdown model training process"
      ],
      "execution_count": null,
      "outputs": []
    },
    {
      "cell_type": "code",
      "metadata": {
        "id": "Awaiv1fEnMaF"
      },
      "source": [
        "model.compile(loss='binary_crossentropy',\n",
        "              optimizer='adam',\n",
        "              metrics=['accuracy'])"
      ],
      "execution_count": null,
      "outputs": []
    },
    {
      "cell_type": "code",
      "metadata": {
        "colab": {
          "base_uri": "https://localhost:8080/"
        },
        "id": "pWR0RGw6mtNN",
        "outputId": "e5c97503-dcf6-46b3-c552-99457e1a2ce4"
      },
      "source": [
        "callback = tf.keras.callbacks.EarlyStopping(monitor='val_accuracy',mode='auto', patience=5, restore_best_weights=True)\n",
        "epochs=100\n",
        "batch_size=32\n",
        "history=model.fit(X_train, y_train,\n",
        "              batch_size=batch_size,\n",
        "          validation_data=(X_val, y_val),\n",
        "          callbacks=[callback],\n",
        "          epochs=epochs)"
      ],
      "execution_count": null,
      "outputs": [
        {
          "output_type": "stream",
          "text": [
            "Epoch 1/100\n",
            "164/164 [==============================] - 104s 391ms/step - loss: 0.3858 - accuracy: 0.8253 - val_loss: 1.2002 - val_accuracy: 0.6213\n",
            "Epoch 2/100\n",
            "164/164 [==============================] - 52s 317ms/step - loss: 0.2107 - accuracy: 0.9077 - val_loss: 0.7611 - val_accuracy: 0.7052\n",
            "Epoch 3/100\n",
            "164/164 [==============================] - 52s 317ms/step - loss: 0.1718 - accuracy: 0.9269 - val_loss: 1.8001 - val_accuracy: 0.5983\n",
            "Epoch 4/100\n",
            "164/164 [==============================] - 52s 316ms/step - loss: 0.1456 - accuracy: 0.9415 - val_loss: 1.4666 - val_accuracy: 0.6200\n",
            "Epoch 5/100\n",
            "164/164 [==============================] - 52s 316ms/step - loss: 0.1366 - accuracy: 0.9454 - val_loss: 1.2566 - val_accuracy: 0.6604\n",
            "Epoch 6/100\n",
            "164/164 [==============================] - 52s 316ms/step - loss: 0.1190 - accuracy: 0.9547 - val_loss: 0.9327 - val_accuracy: 0.7152\n",
            "Epoch 7/100\n",
            "164/164 [==============================] - 52s 317ms/step - loss: 0.1072 - accuracy: 0.9617 - val_loss: 1.1110 - val_accuracy: 0.6859\n",
            "Epoch 8/100\n",
            "164/164 [==============================] - 52s 317ms/step - loss: 0.0825 - accuracy: 0.9658 - val_loss: 0.5405 - val_accuracy: 0.7985\n",
            "Epoch 9/100\n",
            "164/164 [==============================] - 52s 317ms/step - loss: 0.1000 - accuracy: 0.9625 - val_loss: 1.1014 - val_accuracy: 0.7021\n",
            "Epoch 10/100\n",
            "164/164 [==============================] - 52s 317ms/step - loss: 0.0886 - accuracy: 0.9656 - val_loss: 0.8362 - val_accuracy: 0.7432\n",
            "Epoch 11/100\n",
            "164/164 [==============================] - 52s 317ms/step - loss: 0.0806 - accuracy: 0.9687 - val_loss: 1.7578 - val_accuracy: 0.6580\n",
            "Epoch 12/100\n",
            "164/164 [==============================] - 52s 317ms/step - loss: 0.0705 - accuracy: 0.9723 - val_loss: 1.5866 - val_accuracy: 0.6797\n",
            "Epoch 13/100\n",
            "164/164 [==============================] - 52s 317ms/step - loss: 0.0989 - accuracy: 0.9636 - val_loss: 1.4576 - val_accuracy: 0.6797\n"
          ],
          "name": "stdout"
        }
      ]
    },
    {
      "cell_type": "code",
      "metadata": {
        "cellView": "form",
        "id": "8_V2dSEl9P5i"
      },
      "source": [
        "#@markdown model history"
      ],
      "execution_count": null,
      "outputs": []
    },
    {
      "cell_type": "code",
      "metadata": {
        "colab": {
          "base_uri": "https://localhost:8080/",
          "height": 295
        },
        "id": "5l76Z_3_nwOH",
        "outputId": "1c5daa18-803a-4105-b611-0354dd3d2f97"
      },
      "source": [
        "plt.plot(history.history['accuracy'])\n",
        "plt.plot(history.history['val_accuracy'])\n",
        "plt.title('model accuracy')\n",
        "plt.ylabel('accuracy')\n",
        "plt.xlabel('epoch')\n",
        "plt.legend(['train', 'val'], loc='upper left')\n",
        "plt.show()"
      ],
      "execution_count": null,
      "outputs": [
        {
          "output_type": "display_data",
          "data": {
            "image/png": "[encoded data removed]",
            "text/plain": [
              "<Figure size 432x288 with 1 Axes>"
            ]
          },
          "metadata": {
            "tags": []
          }
        }
      ]
    },
    {
      "cell_type": "code",
      "metadata": {
        "colab": {
          "base_uri": "https://localhost:8080/",
          "height": 295
        },
        "id": "4qRUiv_QoAOT",
        "outputId": "125456dd-1432-4ed0-d840-fc8b6056cc1a"
      },
      "source": [
        "plt.plot(history.history['loss'])\n",
        "plt.plot(history.history['val_loss'])\n",
        "plt.title('model loss')\n",
        "plt.ylabel('loss')\n",
        "plt.xlabel('epoch')\n",
        "plt.legend(['train', 'val'], loc='upper left')\n",
        "plt.show()"
      ],
      "execution_count": null,
      "outputs": [
        {
          "output_type": "display_data",
          "data": {
            "image/png": "[encoded data removed]",
            "text/plain": [
              "<Figure size 432x288 with 1 Axes>"
            ]
          },
          "metadata": {
            "tags": []
          }
        }
      ]
    },
    {
      "cell_type": "code",
      "metadata": {
        "colab": {
          "base_uri": "https://localhost:8080/"
        },
        "id": "-AXc75Pw2-c6",
        "outputId": "07c112db-dd74-47f7-fb0e-4ac55f85c0fe"
      },
      "source": [
        "model.evaluate(X_train, y_train)"
      ],
      "execution_count": null,
      "outputs": [
        {
          "output_type": "stream",
          "text": [
            "164/164 [==============================] - 40s 241ms/step - loss: 0.0565 - accuracy: 0.9804\n"
          ],
          "name": "stdout"
        },
        {
          "output_type": "execute_result",
          "data": {
            "text/plain": [
              "[0.05645975470542908, 0.9803510308265686]"
            ]
          },
          "metadata": {
            "tags": []
          },
          "execution_count": 49
        }
      ]
    },
    {
      "cell_type": "code",
      "metadata": {
        "colab": {
          "base_uri": "https://localhost:8080/"
        },
        "id": "df5Kf_WF2_V6",
        "outputId": "3fb4c77e-d9ce-45bb-dd58-0aa045a1abd0"
      },
      "source": [
        "model.evaluate(X_val, y_val)"
      ],
      "execution_count": null,
      "outputs": [
        {
          "output_type": "stream",
          "text": [
            "51/51 [==============================] - 12s 239ms/step - loss: 0.5405 - accuracy: 0.7985\n"
          ],
          "name": "stdout"
        },
        {
          "output_type": "execute_result",
          "data": {
            "text/plain": [
              "[0.5405449271202087, 0.7985074520111084]"
            ]
          },
          "metadata": {
            "tags": []
          },
          "execution_count": 50
        }
      ]
    },
    {
      "cell_type": "code",
      "metadata": {
        "colab": {
          "base_uri": "https://localhost:8080/"
        },
        "id": "CnJdFCZW9Ryd",
        "outputId": "1c3989f8-cdad-4ccd-de7a-11bc49e5baab"
      },
      "source": [
        "model.evaluate(X_test, y_test)"
      ],
      "execution_count": null,
      "outputs": [
        {
          "output_type": "stream",
          "text": [
            "51/51 [==============================] - 12s 238ms/step - loss: 0.8463 - accuracy: 0.8172\n"
          ],
          "name": "stdout"
        },
        {
          "output_type": "execute_result",
          "data": {
            "text/plain": [
              "[0.8463020920753479, 0.8171641826629639]"
            ]
          },
          "metadata": {
            "tags": []
          },
          "execution_count": 51
        }
      ]
    },
    {
      "cell_type": "code",
      "metadata": {
        "cellView": "form",
        "id": "FYwXYjnK9XSr"
      },
      "source": [
        "#@markdown model evaluation: test set"
      ],
      "execution_count": null,
      "outputs": []
    },
    {
      "cell_type": "code",
      "metadata": {
        "colab": {
          "base_uri": "https://localhost:8080/"
        },
        "id": "i5CpoLT29YLN",
        "outputId": "2a871366-6125-48c3-823a-9a214d770e93"
      },
      "source": [
        "predictions=model.predict_classes(X_test)"
      ],
      "execution_count": null,
      "outputs": [
        {
          "output_type": "stream",
          "text": [
            "/usr/local/lib/python3.7/dist-packages/tensorflow/python/keras/engine/sequential.py:450: UserWarning: `model.predict_classes()` is deprecated and will be removed after 2021-01-01. Please use instead:* `np.argmax(model.predict(x), axis=-1)`,   if your model does multi-class classification   (e.g. if it uses a `softmax` last-layer activation).* `(model.predict(x) > 0.5).astype(\"int32\")`,   if your model does binary classification   (e.g. if it uses a `sigmoid` last-layer activation).\n",
            "  warnings.warn('`model.predict_classes()` is deprecated and '\n"
          ],
          "name": "stderr"
        }
      ]
    },
    {
      "cell_type": "code",
      "metadata": {
        "id": "aYyzZ6r0_8Zp"
      },
      "source": [
        "def plot_conf_matrix(cm, classes, normalize=True, title='confusion_matrix'):\n",
        "  plt.imshow(cm , interpolation='nearest')\n",
        "  plt.title(title)\n",
        "  plt.colorbar()\n",
        "  tick_marks=np.arange(len(classes))\n",
        "  plt.xticks(tick_marks, classes, rotation=25)\n",
        "  plt.yticks(tick_marks, classes)\n",
        "  if normalize:\n",
        "    cm=cm.astype('float32') / cm.sum(axis=1)[:, np.newaxis]\n",
        "  thresh = cm.max() / 2\n",
        "  for i, j in itertools.product(range(cm.shape[0]), range(cm.shape[1])):\n",
        "    plt.text(j, i, np.round(cm[i,j], 2))\n",
        "  plt.tight_layout()\n",
        "  plt.ylabel(\"True label\")\n",
        "  plt.xlabel(\"Predicted label\")\n"
      ],
      "execution_count": null,
      "outputs": []
    },
    {
      "cell_type": "code",
      "metadata": {
        "colab": {
          "base_uri": "https://localhost:8080/",
          "height": 311
        },
        "id": "Gqebf5yYCA-g",
        "outputId": "43527149-38fe-414f-ce4d-a1d0b7236f36"
      },
      "source": [
        "from sklearn.metrics import confusion_matrix\n",
        "cm=confusion_matrix(y_test, predictions)\n",
        "cm_class=['False', \"True\"]\n",
        "plot_conf_matrix(cm, cm_class, normalize=True)"
      ],
      "execution_count": null,
      "outputs": [
        {
          "output_type": "display_data",
          "data": {
            "image/png": "[encoded data removed]",
            "text/plain": [
              "<Figure size 432x288 with 2 Axes>"
            ]
          },
          "metadata": {
            "tags": []
          }
        }
      ]
    },
    {
      "cell_type": "code",
      "metadata": {
        "id": "J6rrz2Kf_Kg7"
      },
      "source": [
        "from sklearn.metrics import classification_report, f1_score, recall_score, precision_score, roc_auc_score, accuracy_score, roc_curve, auc\n",
        "def evaluation_matrics(y_test, predictions):\n",
        "  print({'accuracy for False class': accuracy_score(y_test[y_test==False], predictions[y_test==False].reshape(-1))})\n",
        "  print({'accuracy for True class': accuracy_score(y_test[y_test==True], predictions[y_test==True].reshape(-1))})\n",
        "  print({'accuracy ': accuracy_score(y_test, predictions.reshape(-1))})\n",
        "  # precision \n",
        "  precision = precision_score(y_test, predictions)\n",
        "  print('Precision: %f' % precision)\n",
        "  # recall:\n",
        "  recall = recall_score(y_test, predictions)\n",
        "  print('Recall: %f' % recall)\n",
        "  # f1 scorw:\n",
        "  f1 = f1_score(y_test, predictions)\n",
        "  print('F1 score: %f' % f1)"
      ],
      "execution_count": null,
      "outputs": []
    },
    {
      "cell_type": "code",
      "metadata": {
        "colab": {
          "base_uri": "https://localhost:8080/"
        },
        "id": "MwSifoDLpLML",
        "outputId": "a33e7aad-152e-44b2-f1a3-1d4153af2bbd"
      },
      "source": [
        "evaluation_matrics(y_test, predictions)"
      ],
      "execution_count": null,
      "outputs": [
        {
          "output_type": "stream",
          "text": [
            "{'accuracy for False class': 0.7039748953974896}\n",
            "{'accuracy for True class': 0.9831288343558282}\n",
            "{'accuracy ': 0.8171641791044776}\n",
            "Precision: 0.693723\n",
            "Recall: 0.983129\n",
            "F1 score: 0.813452\n"
          ],
          "name": "stdout"
        }
      ]
    },
    {
      "cell_type": "code",
      "metadata": {
        "colab": {
          "base_uri": "https://localhost:8080/"
        },
        "id": "PLqvIjEnqODo",
        "outputId": "8ecd85a2-5e5a-4d26-b98d-2dfce7655601"
      },
      "source": [
        "print(classification_report(y_test, predictions))"
      ],
      "execution_count": null,
      "outputs": [
        {
          "output_type": "stream",
          "text": [
            "              precision    recall  f1-score   support\n",
            "\n",
            "       False       0.98      0.70      0.82       956\n",
            "        True       0.69      0.98      0.81       652\n",
            "\n",
            "    accuracy                           0.82      1608\n",
            "   macro avg       0.84      0.84      0.82      1608\n",
            "weighted avg       0.87      0.82      0.82      1608\n",
            "\n"
          ],
          "name": "stdout"
        }
      ]
    },
    {
      "cell_type": "code",
      "metadata": {
        "colab": {
          "base_uri": "https://localhost:8080/"
        },
        "id": "RgdN3gl9otEp",
        "outputId": "f8a81976-8725-40ee-b757-f4fd2e03f118"
      },
      "source": [
        "prediction_proba=model.predict_proba(X_test)"
      ],
      "execution_count": null,
      "outputs": [
        {
          "output_type": "stream",
          "text": [
            "/usr/local/lib/python3.7/dist-packages/tensorflow/python/keras/engine/sequential.py:425: UserWarning: `model.predict_proba()` is deprecated and will be removed after 2021-01-01. Please use `model.predict()` instead.\n",
            "  warnings.warn('`model.predict_proba()` is deprecated and '\n"
          ],
          "name": "stderr"
        }
      ]
    },
    {
      "cell_type": "code",
      "metadata": {
        "colab": {
          "base_uri": "https://localhost:8080/",
          "height": 295
        },
        "id": "74TsAeamrNbu",
        "outputId": "ce4bb743-acf7-474f-9d03-592502ea1c80"
      },
      "source": [
        "fpr, tpr, threshold = roc_curve(y_test, prediction_proba.reshape(-1))\n",
        "roc_auc = auc(fpr, tpr)\n",
        "\n",
        "# method I: plt\n",
        "import matplotlib.pyplot as plt\n",
        "plt.title('Receiver Operating Characteristic')\n",
        "plt.plot(fpr, tpr, 'orange', label = 'AUC = %0.2f' % roc_auc)\n",
        "plt.legend(loc = 'lower right')\n",
        "plt.plot([0, 1], [0, 1],'r--')\n",
        "plt.xlim([0, 1])\n",
        "plt.ylim([0, 1])\n",
        "plt.ylabel('True Positive Rate')\n",
        "plt.xlabel('False Positive Rate')\n",
        "plt.show()\n"
      ],
      "execution_count": null,
      "outputs": [
        {
          "output_type": "display_data",
          "data": {
            "image/png": "[encoded data removed]",
            "text/plain": [
              "<Figure size 432x288 with 1 Axes>"
            ]
          },
          "metadata": {
            "tags": []
          }
        }
      ]
    },
    {
      "cell_type": "code",
      "metadata": {
        "id": "MZ1CIxi6qOQK"
      },
      "source": [
        "####There is an overfiting problem"
      ],
      "execution_count": null,
      "outputs": []
    },
    {
      "cell_type": "code",
      "metadata": {
        "id": "4owUFr8kuKwb"
      },
      "source": [
        "## use data augmentation"
      ],
      "execution_count": null,
      "outputs": []
    },
    {
      "cell_type": "code",
      "metadata": {
        "id": "Btaaa7eKvHCb"
      },
      "source": [
        "from keras.applications import vgg16\n",
        "vgg16_model = vgg16.VGG16(weights='imagenet', include_top=False, input_shape=(224,224,3), pooling='max')"
      ],
      "execution_count": null,
      "outputs": []
    },
    {
      "cell_type": "code",
      "metadata": {
        "id": "rCxquhant01d"
      },
      "source": [
        "from tensorflow.keras import layers\n",
        "data_augmentation = tf.keras.Sequential([\n",
        "  # layers.experimental.preprocessing.Rescaling(scale= 1 / 255.0),\n",
        "  layers.experimental.preprocessing.RandomFlip(\"horizontal_and_vertical\"),\n",
        "  layers.experimental.preprocessing.RandomRotation(0.3),\n",
        "  layers.experimental.preprocessing.RandomZoom(.3, .3)\n",
        "])"
      ],
      "execution_count": null,
      "outputs": []
    },
    {
      "cell_type": "code",
      "metadata": {
        "id": "ToLB8pSt-e-f"
      },
      "source": [
        "X_train=data_augmentation(X_train)"
      ],
      "execution_count": null,
      "outputs": []
    },
    {
      "cell_type": "code",
      "metadata": {
        "colab": {
          "base_uri": "https://localhost:8080/"
        },
        "id": "jmRvgkD4Byfo",
        "outputId": "99b36e35-e43d-47ec-aec6-8a6ccf7806ae"
      },
      "source": [
        "X_train.shape"
      ],
      "execution_count": null,
      "outputs": [
        {
          "output_type": "execute_result",
          "data": {
            "text/plain": [
              "TensorShape([5242, 224, 224, 3])"
            ]
          },
          "metadata": {
            "tags": []
          },
          "execution_count": 65
        }
      ]
    },
    {
      "cell_type": "code",
      "metadata": {
        "id": "QCJz-A9H2vi3"
      },
      "source": [
        "X_train=np.array(X_train)"
      ],
      "execution_count": null,
      "outputs": []
    },
    {
      "cell_type": "code",
      "metadata": {
        "id": "vMREtZiWt04B"
      },
      "source": [
        "model1=Sequential([Input(shape=(224,224,3)),\n",
        "                  keras.layers.experimental.preprocessing.Rescaling(scale= 1 / 255.0)\n",
        "])\n",
        "for layer in vgg16_model.layers:\n",
        "  layer.trainable=False\n",
        "  model1.add(layer)"
      ],
      "execution_count": null,
      "outputs": []
    },
    {
      "cell_type": "code",
      "metadata": {
        "id": "l-y96GgUumNu"
      },
      "source": [
        "# model1.add(Flatten())\n",
        "model1.add(Dense(128, activation='relu'))\n",
        "model1.add(BatchNormalization())\n",
        "model1.add(Dropout(0.5))\n",
        "model1.add(Dense(1, activation='sigmoid'))"
      ],
      "execution_count": null,
      "outputs": []
    },
    {
      "cell_type": "code",
      "metadata": {
        "colab": {
          "base_uri": "https://localhost:8080/"
        },
        "id": "gz6tB-tX3R78",
        "outputId": "7927a089-67f0-4976-ad5f-59aa2d18d5b8"
      },
      "source": [
        "model1.summary()"
      ],
      "execution_count": null,
      "outputs": [
        {
          "output_type": "stream",
          "text": [
            "Model: \"sequential_2\"\n",
            "_________________________________________________________________\n",
            "Layer (type)                 Output Shape              Param #   \n",
            "=================================================================\n",
            "rescaling_1 (Rescaling)      (None, 224, 224, 3)       0         \n",
            "_________________________________________________________________\n",
            "input_3 (InputLayer)         multiple                  0         \n",
            "_________________________________________________________________\n",
            "block1_conv1 (Conv2D)        (None, 224, 224, 64)      1792      \n",
            "_________________________________________________________________\n",
            "block1_conv2 (Conv2D)        (None, 224, 224, 64)      36928     \n",
            "_________________________________________________________________\n",
            "block1_pool (MaxPooling2D)   (None, 112, 112, 64)      0         \n",
            "_________________________________________________________________\n",
            "block2_conv1 (Conv2D)        (None, 112, 112, 128)     73856     \n",
            "_________________________________________________________________\n",
            "block2_conv2 (Conv2D)        (None, 112, 112, 128)     147584    \n",
            "_________________________________________________________________\n",
            "block2_pool (MaxPooling2D)   (None, 56, 56, 128)       0         \n",
            "_________________________________________________________________\n",
            "block3_conv1 (Conv2D)        (None, 56, 56, 256)       295168    \n",
            "_________________________________________________________________\n",
            "block3_conv2 (Conv2D)        (None, 56, 56, 256)       590080    \n",
            "_________________________________________________________________\n",
            "block3_conv3 (Conv2D)        (None, 56, 56, 256)       590080    \n",
            "_________________________________________________________________\n",
            "block3_pool (MaxPooling2D)   (None, 28, 28, 256)       0         \n",
            "_________________________________________________________________\n",
            "block4_conv1 (Conv2D)        (None, 28, 28, 512)       1180160   \n",
            "_________________________________________________________________\n",
            "block4_conv2 (Conv2D)        (None, 28, 28, 512)       2359808   \n",
            "_________________________________________________________________\n",
            "block4_conv3 (Conv2D)        (None, 28, 28, 512)       2359808   \n",
            "_________________________________________________________________\n",
            "block4_pool (MaxPooling2D)   (None, 14, 14, 512)       0         \n",
            "_________________________________________________________________\n",
            "block5_conv1 (Conv2D)        (None, 14, 14, 512)       2359808   \n",
            "_________________________________________________________________\n",
            "block5_conv2 (Conv2D)        (None, 14, 14, 512)       2359808   \n",
            "_________________________________________________________________\n",
            "block5_conv3 (Conv2D)        (None, 14, 14, 512)       2359808   \n",
            "_________________________________________________________________\n",
            "block5_pool (MaxPooling2D)   (None, 7, 7, 512)         0         \n",
            "_________________________________________________________________\n",
            "global_max_pooling2d (Global (None, 512)               0         \n",
            "_________________________________________________________________\n",
            "flatten_1 (Flatten)          (None, 512)               0         \n",
            "_________________________________________________________________\n",
            "dense_2 (Dense)              (None, 128)               65664     \n",
            "_________________________________________________________________\n",
            "batch_normalization_1 (Batch (None, 128)               512       \n",
            "_________________________________________________________________\n",
            "dropout_1 (Dropout)          (None, 128)               0         \n",
            "_________________________________________________________________\n",
            "dense_3 (Dense)              (None, 1)                 129       \n",
            "=================================================================\n",
            "Total params: 14,780,993\n",
            "Trainable params: 66,049\n",
            "Non-trainable params: 14,714,944\n",
            "_________________________________________________________________\n"
          ],
          "name": "stdout"
        }
      ]
    },
    {
      "cell_type": "code",
      "metadata": {
        "id": "crVQr1dUumQ0"
      },
      "source": [
        "opt = keras.optimizers.SGD(lr=0.01, momentum=0.99)"
      ],
      "execution_count": null,
      "outputs": []
    },
    {
      "cell_type": "code",
      "metadata": {
        "cellView": "form",
        "id": "pHAcnZHj-_Ba"
      },
      "source": [
        "#@markdown model training process"
      ],
      "execution_count": null,
      "outputs": []
    },
    {
      "cell_type": "code",
      "metadata": {
        "id": "wxdKL3dcumTK"
      },
      "source": [
        "model1.compile(loss='binary_crossentropy',\n",
        "              optimizer=opt,\n",
        "              metrics=['accuracy'])"
      ],
      "execution_count": null,
      "outputs": []
    },
    {
      "cell_type": "code",
      "metadata": {
        "colab": {
          "base_uri": "https://localhost:8080/"
        },
        "id": "RBOvHqqzumXO",
        "outputId": "d5b338dc-8e9d-49ff-fa3c-e25457b1d4f8"
      },
      "source": [
        "callback = tf.keras.callbacks.EarlyStopping(monitor='val_accuracy',mode='auto', patience=5, restore_best_weights=True)\n",
        "epochs=100\n",
        "batch_size=32\n",
        "history=model1.fit(X_train, y_train,\n",
        "              batch_size=batch_size,\n",
        "          validation_data=(X_val, y_val),\n",
        "          callbacks=[callback],\n",
        "          epochs=epochs)"
      ],
      "execution_count": null,
      "outputs": [
        {
          "output_type": "stream",
          "text": [
            "Epoch 1/100\n",
            "164/164 [==============================] - 52s 317ms/step - loss: 0.3316 - accuracy: 0.8539 - val_loss: 0.4885 - val_accuracy: 0.7873\n",
            "Epoch 2/100\n",
            "164/164 [==============================] - 52s 316ms/step - loss: 0.3194 - accuracy: 0.8567 - val_loss: 0.6046 - val_accuracy: 0.7444\n",
            "Epoch 3/100\n",
            "164/164 [==============================] - 52s 316ms/step - loss: 0.3069 - accuracy: 0.8655 - val_loss: 0.8380 - val_accuracy: 0.7009\n",
            "Epoch 4/100\n",
            "164/164 [==============================] - 52s 316ms/step - loss: 0.3064 - accuracy: 0.8676 - val_loss: 0.5100 - val_accuracy: 0.7761\n",
            "Epoch 5/100\n",
            "164/164 [==============================] - 52s 316ms/step - loss: 0.3135 - accuracy: 0.8626 - val_loss: 0.6342 - val_accuracy: 0.7332\n",
            "Epoch 6/100\n",
            "164/164 [==============================] - 52s 315ms/step - loss: 0.3133 - accuracy: 0.8651 - val_loss: 0.4239 - val_accuracy: 0.8215\n",
            "Epoch 7/100\n",
            "164/164 [==============================] - 52s 315ms/step - loss: 0.2984 - accuracy: 0.8722 - val_loss: 0.4921 - val_accuracy: 0.7935\n",
            "Epoch 8/100\n",
            "164/164 [==============================] - 52s 316ms/step - loss: 0.3114 - accuracy: 0.8649 - val_loss: 0.4269 - val_accuracy: 0.8109\n",
            "Epoch 9/100\n",
            "164/164 [==============================] - 52s 316ms/step - loss: 0.3016 - accuracy: 0.8672 - val_loss: 0.5189 - val_accuracy: 0.7861\n",
            "Epoch 10/100\n",
            "164/164 [==============================] - 52s 316ms/step - loss: 0.2991 - accuracy: 0.8691 - val_loss: 0.7814 - val_accuracy: 0.6947\n",
            "Epoch 11/100\n",
            "164/164 [==============================] - 52s 316ms/step - loss: 0.3004 - accuracy: 0.8701 - val_loss: 0.7231 - val_accuracy: 0.6828\n"
          ],
          "name": "stdout"
        }
      ]
    },
    {
      "cell_type": "code",
      "metadata": {
        "cellView": "form",
        "id": "gfj8i1Wr_Dr7"
      },
      "source": [
        "#@markdown model history"
      ],
      "execution_count": 1,
      "outputs": []
    },
    {
      "cell_type": "code",
      "metadata": {
        "colab": {
          "base_uri": "https://localhost:8080/"
        },
        "id": "s_DCCXJ85HZ6",
        "outputId": "d013724e-6a6d-4e97-c55e-9dcbdd0d7c2e"
      },
      "source": [
        "model1.evaluate(X_train, y_train)\n",
        "model1.evaluate(X_val, y_val)"
      ],
      "execution_count": null,
      "outputs": [
        {
          "output_type": "stream",
          "text": [
            "164/164 [==============================] - 39s 240ms/step - loss: 0.2633 - accuracy: 0.8766\n",
            "51/51 [==============================] - 12s 238ms/step - loss: 0.4239 - accuracy: 0.8215\n"
          ],
          "name": "stdout"
        },
        {
          "output_type": "execute_result",
          "data": {
            "text/plain": [
              "[0.42391693592071533, 0.8215174078941345]"
            ]
          },
          "metadata": {
            "tags": []
          },
          "execution_count": 88
        }
      ]
    },
    {
      "cell_type": "code",
      "metadata": {
        "colab": {
          "base_uri": "https://localhost:8080/"
        },
        "id": "IVHPWngFumZH",
        "outputId": "0f891245-5d88-415a-d5d9-ac710ef4f11f"
      },
      "source": [
        "model1.evaluate(X_test, y_test)"
      ],
      "execution_count": null,
      "outputs": [
        {
          "output_type": "stream",
          "text": [
            "51/51 [==============================] - 12s 238ms/step - loss: 0.4076 - accuracy: 0.8470\n"
          ],
          "name": "stdout"
        },
        {
          "output_type": "execute_result",
          "data": {
            "text/plain": [
              "[0.40762579441070557, 0.8470149040222168]"
            ]
          },
          "metadata": {
            "tags": []
          },
          "execution_count": 89
        }
      ]
    },
    {
      "cell_type": "code",
      "metadata": {
        "colab": {
          "base_uri": "https://localhost:8080/",
          "height": 295
        },
        "id": "9oIIbcBwumfd",
        "outputId": "9675c0c2-b7be-438b-d640-e4b5112c5c45"
      },
      "source": [
        "plt.plot(history.history['loss'])\n",
        "plt.plot(history.history['val_loss'])\n",
        "plt.title('model loss')\n",
        "plt.ylabel('loss')\n",
        "plt.xlabel('epoch')\n",
        "plt.legend(['train', 'val'], loc='upper left')\n",
        "plt.show()"
      ],
      "execution_count": null,
      "outputs": [
        {
          "output_type": "display_data",
          "data": {
            "image/png": "[encoded data removed]",
            "text/plain": [
              "<Figure size 432x288 with 1 Axes>"
            ]
          },
          "metadata": {
            "tags": []
          }
        }
      ]
    },
    {
      "cell_type": "code",
      "metadata": {
        "colab": {
          "base_uri": "https://localhost:8080/",
          "height": 295
        },
        "id": "ITpgxuvUt06g",
        "outputId": "dd39830e-2ae9-4ec2-b682-713ccb5d1980"
      },
      "source": [
        "plt.plot(history.history['accuracy'])\n",
        "plt.plot(history.history['val_accuracy'])\n",
        "plt.title('model accuracy')\n",
        "plt.ylabel('accuracy')\n",
        "plt.xlabel('epoch')\n",
        "plt.legend(['train', 'val'], loc='upper left')\n",
        "plt.show()"
      ],
      "execution_count": null,
      "outputs": [
        {
          "output_type": "display_data",
          "data": {
            "image/png": "[encoded data removed]",
            "text/plain": [
              "<Figure size 432x288 with 1 Axes>"
            ]
          },
          "metadata": {
            "tags": []
          }
        }
      ]
    },
    {
      "cell_type": "code",
      "metadata": {
        "cellView": "form",
        "id": "KRG9TuFo_Ig7"
      },
      "source": [
        "#@markdown model evaluation: test set"
      ],
      "execution_count": null,
      "outputs": []
    },
    {
      "cell_type": "code",
      "metadata": {
        "colab": {
          "base_uri": "https://localhost:8080/"
        },
        "id": "TGuadHhM6Qki",
        "outputId": "16583d16-24a3-4a15-9502-911afaa781ab"
      },
      "source": [
        "y_pred=model1.predict_classes(X_test)"
      ],
      "execution_count": null,
      "outputs": [
        {
          "output_type": "stream",
          "text": [
            "/usr/local/lib/python3.7/dist-packages/tensorflow/python/keras/engine/sequential.py:450: UserWarning: `model.predict_classes()` is deprecated and will be removed after 2021-01-01. Please use instead:* `np.argmax(model.predict(x), axis=-1)`,   if your model does multi-class classification   (e.g. if it uses a `softmax` last-layer activation).* `(model.predict(x) > 0.5).astype(\"int32\")`,   if your model does binary classification   (e.g. if it uses a `sigmoid` last-layer activation).\n",
            "  warnings.warn('`model.predict_classes()` is deprecated and '\n"
          ],
          "name": "stderr"
        }
      ]
    },
    {
      "cell_type": "code",
      "metadata": {
        "colab": {
          "base_uri": "https://localhost:8080/",
          "height": 311
        },
        "id": "VJKcSHYa3m5S",
        "outputId": "7e5b1534-3919-42dd-9595-4ea0b3954c77"
      },
      "source": [
        "from sklearn.metrics import confusion_matrix\n",
        "cm=confusion_matrix(y_test, y_pred)\n",
        "cm_class=['False', \"True\"]\n",
        "plot_conf_matrix(cm, cm_class, normalize=True)"
      ],
      "execution_count": null,
      "outputs": [
        {
          "output_type": "display_data",
          "data": {
            "image/png": "[encoded data removed]",
            "text/plain": [
              "<Figure size 432x288 with 2 Axes>"
            ]
          },
          "metadata": {
            "tags": []
          }
        }
      ]
    },
    {
      "cell_type": "code",
      "metadata": {
        "colab": {
          "base_uri": "https://localhost:8080/"
        },
        "id": "LhPuaJeY3nBR",
        "outputId": "b046ea38-28a4-4bec-93fc-2bb9dc4e3851"
      },
      "source": [
        "evaluation_matrics(y_test, y_pred)"
      ],
      "execution_count": null,
      "outputs": [
        {
          "output_type": "stream",
          "text": [
            "{'accuracy for False class': 0.8305439330543933}\n",
            "{'accuracy for True class': 0.8711656441717791}\n",
            "{'accuracy ': 0.8470149253731343}\n",
            "Precision: 0.778082\n",
            "Recall: 0.871166\n",
            "F1 score: 0.821997\n"
          ],
          "name": "stdout"
        }
      ]
    },
    {
      "cell_type": "code",
      "metadata": {
        "colab": {
          "base_uri": "https://localhost:8080/"
        },
        "id": "FUhiSxEz3nIZ",
        "outputId": "ac1d19ce-b1d5-4199-c395-2254db6be0fc"
      },
      "source": [
        "print(classification_report(y_test, y_pred))"
      ],
      "execution_count": null,
      "outputs": [
        {
          "output_type": "stream",
          "text": [
            "              precision    recall  f1-score   support\n",
            "\n",
            "       False       0.90      0.83      0.87       956\n",
            "        True       0.78      0.87      0.82       652\n",
            "\n",
            "    accuracy                           0.85      1608\n",
            "   macro avg       0.84      0.85      0.84      1608\n",
            "weighted avg       0.85      0.85      0.85      1608\n",
            "\n"
          ],
          "name": "stdout"
        }
      ]
    },
    {
      "cell_type": "code",
      "metadata": {
        "colab": {
          "base_uri": "https://localhost:8080/"
        },
        "id": "XXZSU2Wv7U9Z",
        "outputId": "a89ce331-ca16-4d47-fba7-4d13fb0c6276"
      },
      "source": [
        "y_pred_proba=model1.predict_proba(X_test)"
      ],
      "execution_count": null,
      "outputs": [
        {
          "output_type": "stream",
          "text": [
            "/usr/local/lib/python3.7/dist-packages/tensorflow/python/keras/engine/sequential.py:425: UserWarning: `model.predict_proba()` is deprecated and will be removed after 2021-01-01. Please use `model.predict()` instead.\n",
            "  warnings.warn('`model.predict_proba()` is deprecated and '\n"
          ],
          "name": "stderr"
        }
      ]
    },
    {
      "cell_type": "code",
      "metadata": {
        "colab": {
          "base_uri": "https://localhost:8080/",
          "height": 295
        },
        "id": "gYqF8DJQ3nRF",
        "outputId": "2cdef0d8-0202-4570-db43-94995de16da9"
      },
      "source": [
        "fpr, tpr, threshold = roc_curve(y_test, y_pred_proba.reshape(-1))\n",
        "roc_auc = auc(fpr, tpr)\n",
        "\n",
        "# method I: plt\n",
        "import matplotlib.pyplot as plt\n",
        "plt.title('Receiver Operating Characteristic')\n",
        "plt.plot(fpr, tpr, 'orange', label = 'AUC = %0.2f' % roc_auc)\n",
        "plt.legend(loc = 'lower right')\n",
        "plt.plot([0, 1], [0, 1],'r--')\n",
        "plt.xlim([0, 1])\n",
        "plt.ylim([0, 1])\n",
        "plt.ylabel('True Positive Rate')\n",
        "plt.xlabel('False Positive Rate')\n",
        "plt.show()"
      ],
      "execution_count": null,
      "outputs": [
        {
          "output_type": "display_data",
          "data": {
            "image/png": "[encoded data removed]",
            "text/plain": [
              "<Figure size 432x288 with 1 Axes>"
            ]
          },
          "metadata": {
            "tags": []
          }
        }
      ]
    },
    {
      "cell_type": "code",
      "metadata": {
        "id": "GoPG9q6DCFOJ"
      },
      "source": [
        "from keras.models import load_model\n",
        "\n",
        "model1.save('my_model.h5')  # creates a HDF5 file 'my_model.h5'"
      ],
      "execution_count": null,
      "outputs": []
    },
    {
      "cell_type": "code",
      "metadata": {
        "id": "21seQI9EE0hv"
      },
      "source": [
        "# model_new = load_model('my_model.h5')"
      ],
      "execution_count": null,
      "outputs": []
    },
    {
      "cell_type": "code",
      "metadata": {
        "id": "JHR8dG0DiFdd",
        "cellView": "form"
      },
      "source": [
        "#@markdown model evaluation using k-fold cross validation"
      ],
      "execution_count": null,
      "outputs": []
    },
    {
      "cell_type": "code",
      "metadata": {
        "id": "Rnm25vvlAtkQ"
      },
      "source": [
        "false_ids = shuffle(false_ids, random_state=0)\n",
        "part1_ids=false_ids[:6]\n",
        "part2_ids=false_ids[6:13]\n",
        "part3_ids=false_ids[13:]\n",
        "true_ids = shuffle(true_ids,random_state=0)\n",
        "part1_ids = part1_ids + true_ids[:4]\n",
        "part2_ids = part2_ids+true_ids[4:8]\n",
        "part3_ids=part3_ids + true_ids[8:]\n",
        "df1=df[df['flight_code'].isin(part1_ids)]\n",
        "df2=df[df['flight_code'].isin(part2_ids)]\n",
        "df3=df[df['flight_code'].isin(part3_ids)]"
      ],
      "execution_count": null,
      "outputs": []
    },
    {
      "cell_type": "code",
      "metadata": {
        "colab": {
          "base_uri": "https://localhost:8080/"
        },
        "id": "6_Uoo67VAtoe",
        "outputId": "e9ddb5d0-a02b-47c0-f6b8-57efe55e6ff2"
      },
      "source": [
        "df1.shape, df2.shape, df3.shape"
      ],
      "execution_count": null,
      "outputs": [
        {
          "output_type": "execute_result",
          "data": {
            "text/plain": [
              "((3556, 8), (3818, 8), (3063, 8))"
            ]
          },
          "metadata": {
            "tags": []
          },
          "execution_count": 104
        }
      ]
    },
    {
      "cell_type": "code",
      "metadata": {
        "colab": {
          "background_save": true,
          "base_uri": "https://localhost:8080/"
        },
        "id": "nWJQZUfyAtsz",
        "outputId": "12a82c04-cefd-48a0-f2e4-5a18bf3c50e8"
      },
      "source": [
        "k=3\n",
        "epochs=6\n",
        "batch_size=32\n",
        "test_acc=[]\n",
        "recall=[]\n",
        "precision=[]\n",
        "fscore=[]\n",
        "for data in  [df1, df2, df3]:\n",
        "  test_data=data\n",
        "  train_data=df[~df['flight_code'].isin(list(test_data['flight_code']))]\n",
        "  X_train, y_train = input_creation(train_data)\n",
        "  X_test, y_test = input_creation(test_data)\n",
        "  X_train=data_augmentation(X_train)\n",
        "  X_train=np.array(X_train)\n",
        "  model1.fit(X_train, y_train,\n",
        "              batch_size=batch_size,\n",
        "             epochs=epochs)\n",
        "  y_pred=model1.predict_classes(X_test)\n",
        "  test_acc.append(accuracy_score(y_test, y_pred))\n",
        "  recall.append(recall_score(y_test, y_pred))\n",
        "  precision.append(precision_score(y_test, y_pred))\n",
        "  fscore.append(f1_score(y_test, y_pred))\n",
        "  evaluation_matrics(y_test, y_pred)\n",
        "\n",
        "\n",
        "  "
      ],
      "execution_count": null,
      "outputs": [
        {
          "output_type": "stream",
          "text": [
            "Epoch 1/6\n",
            "216/216 [==============================] - 53s 245ms/step - loss: 0.3894 - accuracy: 0.8428\n",
            "Epoch 2/6\n",
            "216/216 [==============================] - 52s 241ms/step - loss: 0.3375 - accuracy: 0.8538\n",
            "Epoch 3/6\n",
            "216/216 [==============================] - 52s 241ms/step - loss: 0.2996 - accuracy: 0.8808\n",
            "Epoch 4/6\n",
            "216/216 [==============================] - 52s 241ms/step - loss: 0.2664 - accuracy: 0.9002\n",
            "Epoch 5/6\n",
            "216/216 [==============================] - 52s 241ms/step - loss: 0.2792 - accuracy: 0.8922\n",
            "Epoch 6/6\n",
            "216/216 [==============================] - 52s 241ms/step - loss: 0.2668 - accuracy: 0.8983\n"
          ],
          "name": "stdout"
        },
        {
          "output_type": "stream",
          "text": [
            "/usr/local/lib/python3.7/dist-packages/tensorflow/python/keras/engine/sequential.py:450: UserWarning: `model.predict_classes()` is deprecated and will be removed after 2021-01-01. Please use instead:* `np.argmax(model.predict(x), axis=-1)`,   if your model does multi-class classification   (e.g. if it uses a `softmax` last-layer activation).* `(model.predict(x) > 0.5).astype(\"int32\")`,   if your model does binary classification   (e.g. if it uses a `sigmoid` last-layer activation).\n",
            "  warnings.warn('`model.predict_classes()` is deprecated and '\n"
          ],
          "name": "stderr"
        },
        {
          "output_type": "stream",
          "text": [
            "{'accuracy for False class': 0.5963345864661654}\n",
            "{'accuracy for True class': 0.8445378151260504}\n",
            "{'accuracy ': 0.6960067491563554}\n",
            "Precision: 0.584019\n",
            "Recall: 0.844538\n",
            "F1 score: 0.690524\n",
            "Epoch 1/6\n",
            "207/207 [==============================] - 59s 286ms/step - loss: 0.4497 - accuracy: 0.7974\n",
            "Epoch 2/6\n",
            "207/207 [==============================] - 50s 242ms/step - loss: 0.4008 - accuracy: 0.8284\n",
            "Epoch 3/6\n",
            "207/207 [==============================] - 50s 242ms/step - loss: 0.3965 - accuracy: 0.8238\n",
            "Epoch 4/6\n",
            "207/207 [==============================] - 50s 242ms/step - loss: 0.3903 - accuracy: 0.8247\n",
            "Epoch 5/6\n",
            "207/207 [==============================] - 50s 242ms/step - loss: 0.3901 - accuracy: 0.8247\n",
            "Epoch 6/6\n",
            "207/207 [==============================] - 50s 242ms/step - loss: 0.3794 - accuracy: 0.8285\n",
            "{'accuracy for False class': 0.9484667802385008}\n",
            "{'accuracy for True class': 0.6870748299319728}\n",
            "{'accuracy ': 0.8478260869565217}\n",
            "Precision: 0.893015\n",
            "Recall: 0.687075\n",
            "F1 score: 0.776624\n",
            "Epoch 1/6\n",
            "231/231 [==============================] - 61s 263ms/step - loss: 0.3308 - accuracy: 0.8588\n",
            "Epoch 2/6\n",
            "231/231 [==============================] - 56s 241ms/step - loss: 0.2891 - accuracy: 0.8766\n",
            "Epoch 3/6\n",
            "231/231 [==============================] - 56s 241ms/step - loss: 0.2784 - accuracy: 0.8839\n",
            "Epoch 4/6\n",
            "231/231 [==============================] - 56s 242ms/step - loss: 0.2717 - accuracy: 0.8828\n",
            "Epoch 5/6\n",
            "231/231 [==============================] - 56s 242ms/step - loss: 0.2619 - accuracy: 0.8855\n",
            "Epoch 6/6\n",
            "231/231 [==============================] - 56s 242ms/step - loss: 0.2526 - accuracy: 0.8889\n",
            "{'accuracy for False class': 0.912573673870334}\n",
            "{'accuracy for True class': 0.3466407010710808}\n",
            "{'accuracy ': 0.722820763956905}\n",
            "Precision: 0.666667\n",
            "Recall: 0.346641\n",
            "F1 score: 0.456118\n"
          ],
          "name": "stdout"
        }
      ]
    },
    {
      "cell_type": "code",
      "metadata": {
        "cellView": "form",
        "id": "lsdvSmJY_ceR"
      },
      "source": [
        "#@markdown average value of evaluation metrics "
      ],
      "execution_count": null,
      "outputs": []
    },
    {
      "cell_type": "code",
      "metadata": {
        "id": "-lQelm8yAtyC",
        "colab": {
          "base_uri": "https://localhost:8080/"
        },
        "outputId": "57886bef-c6ea-409c-8470-1f87c9dcddc1"
      },
      "source": [
        "np.mean(test_acc)"
      ],
      "execution_count": null,
      "outputs": [
        {
          "output_type": "execute_result",
          "data": {
            "text/plain": [
              "0.7555512000232607"
            ]
          },
          "metadata": {
            "tags": []
          },
          "execution_count": 116
        }
      ]
    },
    {
      "cell_type": "code",
      "metadata": {
        "colab": {
          "base_uri": "https://localhost:8080/"
        },
        "id": "TlOOk8YZMgTk",
        "outputId": "278216c3-e1e7-495c-c89f-c998445c6b10"
      },
      "source": [
        "np.mean(recall)"
      ],
      "execution_count": null,
      "outputs": [
        {
          "output_type": "execute_result",
          "data": {
            "text/plain": [
              "0.6260844487097014"
            ]
          },
          "metadata": {
            "tags": []
          },
          "execution_count": 119
        }
      ]
    },
    {
      "cell_type": "code",
      "metadata": {
        "colab": {
          "base_uri": "https://localhost:8080/"
        },
        "id": "g6cOK1LQMm81",
        "outputId": "104257f1-b1a0-4528-e40e-afb94472b861"
      },
      "source": [
        "np.mean(precision)"
      ],
      "execution_count": null,
      "outputs": [
        {
          "output_type": "execute_result",
          "data": {
            "text/plain": [
              "0.7145670226909268"
            ]
          },
          "metadata": {
            "tags": []
          },
          "execution_count": 120
        }
      ]
    },
    {
      "cell_type": "code",
      "metadata": {
        "id": "nfAIXlghAt2G",
        "colab": {
          "base_uri": "https://localhost:8080/"
        },
        "outputId": "ce6ee73a-c7fe-4b22-9d07-31c89056a5a2"
      },
      "source": [
        "np.mean(fscore)"
      ],
      "execution_count": null,
      "outputs": [
        {
          "output_type": "execute_result",
          "data": {
            "text/plain": [
              "0.6410887177837622"
            ]
          },
          "metadata": {
            "tags": []
          },
          "execution_count": 121
        }
      ]
    },
    {
      "cell_type": "code",
      "metadata": {
        "id": "0i79rSGpA6k8"
      },
      "source": [
        ""
      ],
      "execution_count": null,
      "outputs": []
    },
    {
      "cell_type": "code",
      "metadata": {
        "cellView": "form",
        "id": "OuNMlMh6A6q-"
      },
      "source": [
        "#@markdown Second approach"
      ],
      "execution_count": 2,
      "outputs": []
    },
    {
      "cell_type": "code",
      "metadata": {
        "cellView": "form",
        "id": "4DTnzzkHA-2P"
      },
      "source": [
        "#@markdown split data into train/test sets, such that each set contains full images\n",
        "\n"
      ],
      "execution_count": null,
      "outputs": []
    },
    {
      "cell_type": "code",
      "metadata": {
        "id": "DuLW5br7h_S4"
      },
      "source": [
        "from sklearn.utils import shuffle\n",
        "false_ids = list(set(df[df['class'] == False]['flight_code']))\n",
        "false_ids = shuffle(false_ids, random_state=42)\n",
        "train_ids=false_ids[:16]\n",
        "test_ids=false_ids[16:]\n",
        "true_ids = list(set(df[df['class'] == True]['flight_code']))\n",
        "true_ids = shuffle(true_ids,random_state=42)\n",
        "train_ids = train_ids + true_ids[:9]\n",
        "test_ids=test_ids + true_ids[9:]\n",
        "train_data=df[df['flight_code'].isin(train_ids)]\n",
        "test_data=df[df['flight_code'].isin(test_ids)]"
      ],
      "execution_count": null,
      "outputs": []
    },
    {
      "cell_type": "code",
      "metadata": {
        "colab": {
          "base_uri": "https://localhost:8080/"
        },
        "id": "ceIGNTvKx9HW",
        "outputId": "129cf5ec-c0fa-4cb8-8c4f-fa74f13bf54a"
      },
      "source": [
        "np.unique(train_data['flight_code'])"
      ],
      "execution_count": null,
      "outputs": [
        {
          "output_type": "execute_result",
          "data": {
            "text/plain": [
              "array(['1TJZT39WQ', '2HHWV1DD4', '3KR1212BR', '42T73AQE8', 'E83UE8JT4',\n",
              "       'EB4KG2F6D', 'F98U2YA3K', 'FPG2L7UTK', 'GP3VC3W6C', 'GU8YLRNEP',\n",
              "       'GWWIAV2VV', 'J926FMUHU', 'KQNQBAHEH', 'KR4TV4KAT', 'M1UED3JAF',\n",
              "       'N9WCYFDNV', 'NRI4TEP79', 'P1VA9VFEP', 'Q9ALKK7XZ', 'UI4P3E22W',\n",
              "       'VQY9V2E1Q', 'VWYBY2FQY', 'W7AADUXTW', 'ZVDH6FY93', 'ZVFAN11AI'],\n",
              "      dtype=object)"
            ]
          },
          "metadata": {
            "tags": []
          },
          "execution_count": 19
        }
      ]
    },
    {
      "cell_type": "code",
      "metadata": {
        "colab": {
          "base_uri": "https://localhost:8080/"
        },
        "id": "ShVJCZJxyHRH",
        "outputId": "bb56f432-07e0-4afe-a214-e636c40ab93c"
      },
      "source": [
        "np.unique(test_data['flight_code'])"
      ],
      "execution_count": null,
      "outputs": [
        {
          "output_type": "execute_result",
          "data": {
            "text/plain": [
              "array(['EVTQTDFEJ', 'FVI8IQG1F', 'FYXD9U983', 'N7W26YIGK', 'YLTE7FRJW'],\n",
              "      dtype=object)"
            ]
          },
          "metadata": {
            "tags": []
          },
          "execution_count": 20
        }
      ]
    },
    {
      "cell_type": "code",
      "metadata": {
        "colab": {
          "base_uri": "https://localhost:8080/"
        },
        "id": "ceUUPTIkh_Xl",
        "outputId": "deff3f81-98e3-4ccb-c46d-7e7d0de89a13"
      },
      "source": [
        "print({'train_data' : len(train_data),  \n",
        "       'test_data' : len(test_data)})"
      ],
      "execution_count": null,
      "outputs": [
        {
          "output_type": "stream",
          "text": [
            "{'train_data': 8802, 'test_data': 1635}\n"
          ],
          "name": "stdout"
        }
      ]
    },
    {
      "cell_type": "code",
      "metadata": {
        "colab": {
          "base_uri": "https://localhost:8080/"
        },
        "id": "q_riC4wBh_b5",
        "outputId": "f0cbb00d-4fc3-486f-8601-b3a72fcd32d9"
      },
      "source": [
        "print({'train_classes' : train_data['class'].mean()})\n",
        "print({'test_classes' : test_data['class'].mean()})"
      ],
      "execution_count": null,
      "outputs": [
        {
          "output_type": "stream",
          "text": [
            "{'train_classes': 0.36877982276755283}\n",
            "{'test_classes': 0.41529051987767585}\n"
          ],
          "name": "stdout"
        }
      ]
    },
    {
      "cell_type": "code",
      "metadata": {
        "id": "MLsDMWLojglx"
      },
      "source": [
        "##balanced training set\n",
        "train_data1=train_data[train_data['class']==True] \n",
        "train_data2=train_data[train_data['class']==False].iloc[:train_data1.shape[0],:]\n",
        "train_data=pd.concat((train_data1, train_data2))"
      ],
      "execution_count": null,
      "outputs": []
    },
    {
      "cell_type": "code",
      "metadata": {
        "colab": {
          "base_uri": "https://localhost:8080/"
        },
        "id": "AxPwrg8jjgqA",
        "outputId": "1da006d5-eacc-4fcf-a41c-a6cb7170cafb"
      },
      "source": [
        "train_data.shape"
      ],
      "execution_count": null,
      "outputs": [
        {
          "output_type": "execute_result",
          "data": {
            "text/plain": [
              "(6492, 7)"
            ]
          },
          "metadata": {
            "tags": []
          },
          "execution_count": 24
        }
      ]
    },
    {
      "cell_type": "code",
      "metadata": {
        "cellView": "form",
        "id": "PWW_gWi_BOHd"
      },
      "source": [
        "#@markdown get images and labels"
      ],
      "execution_count": null,
      "outputs": []
    },
    {
      "cell_type": "code",
      "metadata": {
        "id": "jbvTaSuJh_gp"
      },
      "source": [
        "X_train, y_train = input_creation(train_data)\n",
        "X_test, y_test = input_creation(test_data)"
      ],
      "execution_count": null,
      "outputs": []
    },
    {
      "cell_type": "code",
      "metadata": {
        "colab": {
          "base_uri": "https://localhost:8080/"
        },
        "id": "EnnG1AP9lNxg",
        "outputId": "74b86257-277b-4652-b5c6-36f53bce8c10"
      },
      "source": [
        "X_train.shape"
      ],
      "execution_count": null,
      "outputs": [
        {
          "output_type": "execute_result",
          "data": {
            "text/plain": [
              "(6492, 224, 224, 3)"
            ]
          },
          "metadata": {
            "tags": []
          },
          "execution_count": 31
        }
      ]
    },
    {
      "cell_type": "code",
      "metadata": {
        "cellView": "form",
        "id": "RxFKt4UOBV8A"
      },
      "source": [
        "#@markdown using vgg16 pretrained model for feature extraction "
      ],
      "execution_count": null,
      "outputs": []
    },
    {
      "cell_type": "code",
      "metadata": {
        "id": "LFfGkMz2H6iS",
        "colab": {
          "base_uri": "https://localhost:8080/"
        },
        "outputId": "7fadb109-5eaf-422c-d4c6-c1645b737290"
      },
      "source": [
        "from keras.applications import vgg16\n",
        "VGG_model = vgg16.VGG16(weights='imagenet', include_top=False, input_shape=(224,224,3), pooling='max')"
      ],
      "execution_count": null,
      "outputs": [
        {
          "output_type": "stream",
          "text": [
            "/usr/local/lib/python3.7/dist-packages/requests/__init__.py:91: RequestsDependencyWarning: urllib3 (1.26.4) or chardet (3.0.4) doesn't match a supported version!\n",
            "  RequestsDependencyWarning)\n"
          ],
          "name": "stderr"
        },
        {
          "output_type": "stream",
          "text": [
            "Downloading data from https://storage.googleapis.com/tensorflow/keras-applications/vgg16/vgg16_weights_tf_dim_ordering_tf_kernels_notop.h5\n",
            "58892288/58889256 [==============================] - 0s 0us/step\n"
          ],
          "name": "stdout"
        }
      ]
    },
    {
      "cell_type": "code",
      "metadata": {
        "colab": {
          "base_uri": "https://localhost:8080/"
        },
        "id": "Vc8EEQXkH6oE",
        "outputId": "8f75eb04-9d7d-4eae-9f60-900774110183"
      },
      "source": [
        "VGG_model.summary()"
      ],
      "execution_count": null,
      "outputs": [
        {
          "output_type": "stream",
          "text": [
            "Model: \"vgg16\"\n",
            "_________________________________________________________________\n",
            "Layer (type)                 Output Shape              Param #   \n",
            "=================================================================\n",
            "input_1 (InputLayer)         [(None, 224, 224, 3)]     0         \n",
            "_________________________________________________________________\n",
            "block1_conv1 (Conv2D)        (None, 224, 224, 64)      1792      \n",
            "_________________________________________________________________\n",
            "block1_conv2 (Conv2D)        (None, 224, 224, 64)      36928     \n",
            "_________________________________________________________________\n",
            "block1_pool (MaxPooling2D)   (None, 112, 112, 64)      0         \n",
            "_________________________________________________________________\n",
            "block2_conv1 (Conv2D)        (None, 112, 112, 128)     73856     \n",
            "_________________________________________________________________\n",
            "block2_conv2 (Conv2D)        (None, 112, 112, 128)     147584    \n",
            "_________________________________________________________________\n",
            "block2_pool (MaxPooling2D)   (None, 56, 56, 128)       0         \n",
            "_________________________________________________________________\n",
            "block3_conv1 (Conv2D)        (None, 56, 56, 256)       295168    \n",
            "_________________________________________________________________\n",
            "block3_conv2 (Conv2D)        (None, 56, 56, 256)       590080    \n",
            "_________________________________________________________________\n",
            "block3_conv3 (Conv2D)        (None, 56, 56, 256)       590080    \n",
            "_________________________________________________________________\n",
            "block3_pool (MaxPooling2D)   (None, 28, 28, 256)       0         \n",
            "_________________________________________________________________\n",
            "block4_conv1 (Conv2D)        (None, 28, 28, 512)       1180160   \n",
            "_________________________________________________________________\n",
            "block4_conv2 (Conv2D)        (None, 28, 28, 512)       2359808   \n",
            "_________________________________________________________________\n",
            "block4_conv3 (Conv2D)        (None, 28, 28, 512)       2359808   \n",
            "_________________________________________________________________\n",
            "block4_pool (MaxPooling2D)   (None, 14, 14, 512)       0         \n",
            "_________________________________________________________________\n",
            "block5_conv1 (Conv2D)        (None, 14, 14, 512)       2359808   \n",
            "_________________________________________________________________\n",
            "block5_conv2 (Conv2D)        (None, 14, 14, 512)       2359808   \n",
            "_________________________________________________________________\n",
            "block5_conv3 (Conv2D)        (None, 14, 14, 512)       2359808   \n",
            "_________________________________________________________________\n",
            "block5_pool (MaxPooling2D)   (None, 7, 7, 512)         0         \n",
            "_________________________________________________________________\n",
            "global_max_pooling2d (Global (None, 512)               0         \n",
            "=================================================================\n",
            "Total params: 14,714,688\n",
            "Trainable params: 14,714,688\n",
            "Non-trainable params: 0\n",
            "_________________________________________________________________\n"
          ],
          "name": "stdout"
        }
      ]
    },
    {
      "cell_type": "code",
      "metadata": {
        "cellView": "form",
        "id": "KsUgColcBx0A"
      },
      "source": [
        "#@markdown  get new features set: (6492, 512)"
      ],
      "execution_count": null,
      "outputs": []
    },
    {
      "cell_type": "code",
      "metadata": {
        "id": "tuFTfH1GH6rR"
      },
      "source": [
        "feature_ectractor=VGG_model.predict(X_train)\n",
        "# features=feature_ectractor.reshape(feature_ectractor.shape[0], -1)"
      ],
      "execution_count": null,
      "outputs": []
    },
    {
      "cell_type": "code",
      "metadata": {
        "id": "FXfH6-s00_eA",
        "colab": {
          "base_uri": "https://localhost:8080/"
        },
        "outputId": "43caf3de-3a2a-4c1b-9f42-05ca6e6919b3"
      },
      "source": [
        "feature_ectractor.shape"
      ],
      "execution_count": null,
      "outputs": [
        {
          "output_type": "execute_result",
          "data": {
            "text/plain": [
              "(6492, 512)"
            ]
          },
          "metadata": {
            "tags": []
          },
          "execution_count": 35
        }
      ]
    },
    {
      "cell_type": "code",
      "metadata": {
        "colab": {
          "base_uri": "https://localhost:8080/"
        },
        "id": "XTntMyJgCiPw",
        "outputId": "4f14a24e-71b7-4d91-ff2f-cf13093123c6"
      },
      "source": [
        "feature_ectractor.max(), feature_ectractor.min()"
      ],
      "execution_count": null,
      "outputs": [
        {
          "output_type": "execute_result",
          "data": {
            "text/plain": [
              "(225.897, 0.0)"
            ]
          },
          "metadata": {
            "tags": []
          },
          "execution_count": 36
        }
      ]
    },
    {
      "cell_type": "code",
      "metadata": {
        "cellView": "form",
        "id": "FTVt8CyWB9rS"
      },
      "source": [
        "#@markdown feature preprocessin: log transformation and standard scaling"
      ],
      "execution_count": null,
      "outputs": []
    },
    {
      "cell_type": "code",
      "metadata": {
        "colab": {
          "base_uri": "https://localhost:8080/"
        },
        "id": "PQSEZL5112rb",
        "outputId": "c3055f3f-d965-4d80-ba09-d8484f1d366f"
      },
      "source": [
        "features=np.where(feature_ectractor==0,  0.0001, feature_ectractor)\n",
        "features.min(), features.max()"
      ],
      "execution_count": null,
      "outputs": [
        {
          "output_type": "execute_result",
          "data": {
            "text/plain": [
              "(1.1771917e-06, 225.897)"
            ]
          },
          "metadata": {
            "tags": []
          },
          "execution_count": 37
        }
      ]
    },
    {
      "cell_type": "code",
      "metadata": {
        "id": "MixsI0nN2F0H"
      },
      "source": [
        "features=np.log(features)"
      ],
      "execution_count": null,
      "outputs": []
    },
    {
      "cell_type": "code",
      "metadata": {
        "colab": {
          "base_uri": "https://localhost:8080/"
        },
        "id": "RHAhLTRbgajV",
        "outputId": "cd117267-226e-4d9a-bb56-3148dd02a71f"
      },
      "source": [
        "features.max(), features.min()"
      ],
      "execution_count": null,
      "outputs": [
        {
          "output_type": "execute_result",
          "data": {
            "text/plain": [
              "(5.420079, -13.652379)"
            ]
          },
          "metadata": {
            "tags": []
          },
          "execution_count": 39
        }
      ]
    },
    {
      "cell_type": "code",
      "metadata": {
        "id": "wuW-vf7Zp_jg"
      },
      "source": [
        "from sklearn.preprocessing import StandardScaler\n",
        "# define scaler\n",
        "scaler = StandardScaler()\n",
        "# fit and transform data\n",
        "scaler.fit(features)\n",
        "Xtrain=scaler.transform(features)\n"
      ],
      "execution_count": null,
      "outputs": []
    },
    {
      "cell_type": "code",
      "metadata": {
        "colab": {
          "base_uri": "https://localhost:8080/"
        },
        "id": "JYYLOiB5yjZ_",
        "outputId": "d0821360-12d6-4e7c-e643-038b46287627"
      },
      "source": [
        "Xtrain.min(), Xtrain.max()"
      ],
      "execution_count": null,
      "outputs": [
        {
          "output_type": "execute_result",
          "data": {
            "text/plain": [
              "(-20.497831, 21.849575)"
            ]
          },
          "metadata": {
            "tags": []
          },
          "execution_count": 41
        }
      ]
    },
    {
      "cell_type": "code",
      "metadata": {
        "id": "xoqICWrNmvSW"
      },
      "source": [
        "from datetime import datetime\n",
        "from sklearn.model_selection import RandomizedSearchCV, GridSearchCV\n",
        "from sklearn.metrics import roc_auc_score\n",
        "from sklearn.model_selection import StratifiedKFold\n",
        "from xgboost import XGBClassifier"
      ],
      "execution_count": null,
      "outputs": []
    },
    {
      "cell_type": "code",
      "metadata": {
        "cellView": "form",
        "id": "BLNiJwsxCPGu"
      },
      "source": [
        "#@markdown XGBoost Classifier: hyperparameters tuning"
      ],
      "execution_count": null,
      "outputs": []
    },
    {
      "cell_type": "code",
      "metadata": {
        "id": "9F2OkEgqWI6Z"
      },
      "source": [
        "params = {\n",
        "        'min_child_weight': [1, 5, 10],\n",
        "        'gamma': [0.5, 1, 1.5, 2, 5],\n",
        "        'subsample': [0.6, 0.8, 1.0],\n",
        "        'colsample_bytree': [0.6, 0.8, 1.0],\n",
        "        'max_depth': [3, 4, 5]\n",
        "        }"
      ],
      "execution_count": null,
      "outputs": []
    },
    {
      "cell_type": "code",
      "metadata": {
        "colab": {
          "base_uri": "https://localhost:8080/"
        },
        "id": "ch7PFDWVWI9B",
        "outputId": "959df8c2-5040-4b1d-e004-36e090b4a91c"
      },
      "source": [
        "xgb = XGBClassifier(learning_rate=0.01, n_estimators=600)\n",
        "param_comb = 10\n",
        "\n",
        "\n",
        "random_search = RandomizedSearchCV(xgb, param_distributions=params, n_iter=param_comb, scoring='roc_auc',  cv=3, verbose=3, random_state=1001)\n",
        "\n",
        "random_search.fit(Xtrain, y_train)\n"
      ],
      "execution_count": null,
      "outputs": [
        {
          "output_type": "stream",
          "text": [
            "Fitting 3 folds for each of 10 candidates, totalling 30 fits\n",
            "[CV] subsample=1.0, min_child_weight=5, max_depth=3, gamma=5, colsample_bytree=1.0 \n"
          ],
          "name": "stdout"
        },
        {
          "output_type": "stream",
          "text": [
            "[Parallel(n_jobs=1)]: Using backend SequentialBackend with 1 concurrent workers.\n"
          ],
          "name": "stderr"
        },
        {
          "output_type": "stream",
          "text": [
            "[CV]  subsample=1.0, min_child_weight=5, max_depth=3, gamma=5, colsample_bytree=1.0, score=0.725, total=  43.1s\n",
            "[CV] subsample=1.0, min_child_weight=5, max_depth=3, gamma=5, colsample_bytree=1.0 \n"
          ],
          "name": "stdout"
        },
        {
          "output_type": "stream",
          "text": [
            "[Parallel(n_jobs=1)]: Done   1 out of   1 | elapsed:   43.1s remaining:    0.0s\n"
          ],
          "name": "stderr"
        },
        {
          "output_type": "stream",
          "text": [
            "[CV]  subsample=1.0, min_child_weight=5, max_depth=3, gamma=5, colsample_bytree=1.0, score=0.811, total=  42.7s\n",
            "[CV] subsample=1.0, min_child_weight=5, max_depth=3, gamma=5, colsample_bytree=1.0 \n"
          ],
          "name": "stdout"
        },
        {
          "output_type": "stream",
          "text": [
            "[Parallel(n_jobs=1)]: Done   2 out of   2 | elapsed:  1.4min remaining:    0.0s\n"
          ],
          "name": "stderr"
        },
        {
          "output_type": "stream",
          "text": [
            "[CV]  subsample=1.0, min_child_weight=5, max_depth=3, gamma=5, colsample_bytree=1.0, score=0.992, total=  43.5s\n",
            "[CV] subsample=0.6, min_child_weight=1, max_depth=5, gamma=1.5, colsample_bytree=0.8 \n",
            "[CV]  subsample=0.6, min_child_weight=1, max_depth=5, gamma=1.5, colsample_bytree=0.8, score=0.719, total=  59.5s\n",
            "[CV] subsample=0.6, min_child_weight=1, max_depth=5, gamma=1.5, colsample_bytree=0.8 \n",
            "[CV]  subsample=0.6, min_child_weight=1, max_depth=5, gamma=1.5, colsample_bytree=0.8, score=0.810, total=  59.8s\n",
            "[CV] subsample=0.6, min_child_weight=1, max_depth=5, gamma=1.5, colsample_bytree=0.8 \n",
            "[CV]  subsample=0.6, min_child_weight=1, max_depth=5, gamma=1.5, colsample_bytree=0.8, score=0.995, total= 1.0min\n",
            "[CV] subsample=0.8, min_child_weight=5, max_depth=5, gamma=1, colsample_bytree=0.8 \n",
            "[CV]  subsample=0.8, min_child_weight=5, max_depth=5, gamma=1, colsample_bytree=0.8, score=0.719, total=  53.1s\n",
            "[CV] subsample=0.8, min_child_weight=5, max_depth=5, gamma=1, colsample_bytree=0.8 \n",
            "[CV]  subsample=0.8, min_child_weight=5, max_depth=5, gamma=1, colsample_bytree=0.8, score=0.804, total=  55.0s\n",
            "[CV] subsample=0.8, min_child_weight=5, max_depth=5, gamma=1, colsample_bytree=0.8 \n",
            "[CV]  subsample=0.8, min_child_weight=5, max_depth=5, gamma=1, colsample_bytree=0.8, score=0.994, total=  57.2s\n",
            "[CV] subsample=1.0, min_child_weight=5, max_depth=5, gamma=5, colsample_bytree=0.6 \n",
            "[CV]  subsample=1.0, min_child_weight=5, max_depth=5, gamma=5, colsample_bytree=0.6, score=0.716, total=  41.4s\n",
            "[CV] subsample=1.0, min_child_weight=5, max_depth=5, gamma=5, colsample_bytree=0.6 \n",
            "[CV]  subsample=1.0, min_child_weight=5, max_depth=5, gamma=5, colsample_bytree=0.6, score=0.799, total=  42.2s\n",
            "[CV] subsample=1.0, min_child_weight=5, max_depth=5, gamma=5, colsample_bytree=0.6 \n",
            "[CV]  subsample=1.0, min_child_weight=5, max_depth=5, gamma=5, colsample_bytree=0.6, score=0.994, total=  43.3s\n",
            "[CV] subsample=0.8, min_child_weight=1, max_depth=4, gamma=1, colsample_bytree=1.0 \n",
            "[CV]  subsample=0.8, min_child_weight=1, max_depth=4, gamma=1, colsample_bytree=1.0, score=0.713, total=  58.9s\n",
            "[CV] subsample=0.8, min_child_weight=1, max_depth=4, gamma=1, colsample_bytree=1.0 \n",
            "[CV]  subsample=0.8, min_child_weight=1, max_depth=4, gamma=1, colsample_bytree=1.0, score=0.805, total=  58.5s\n",
            "[CV] subsample=0.8, min_child_weight=1, max_depth=4, gamma=1, colsample_bytree=1.0 \n",
            "[CV]  subsample=0.8, min_child_weight=1, max_depth=4, gamma=1, colsample_bytree=1.0, score=0.994, total=  59.0s\n",
            "[CV] subsample=1.0, min_child_weight=10, max_depth=4, gamma=1.5, colsample_bytree=0.6 \n",
            "[CV]  subsample=1.0, min_child_weight=10, max_depth=4, gamma=1.5, colsample_bytree=0.6, score=0.714, total=  33.1s\n",
            "[CV] subsample=1.0, min_child_weight=10, max_depth=4, gamma=1.5, colsample_bytree=0.6 \n",
            "[CV]  subsample=1.0, min_child_weight=10, max_depth=4, gamma=1.5, colsample_bytree=0.6, score=0.807, total=  33.3s\n",
            "[CV] subsample=1.0, min_child_weight=10, max_depth=4, gamma=1.5, colsample_bytree=0.6 \n",
            "[CV]  subsample=1.0, min_child_weight=10, max_depth=4, gamma=1.5, colsample_bytree=0.6, score=0.994, total=  35.3s\n",
            "[CV] subsample=1.0, min_child_weight=1, max_depth=5, gamma=5, colsample_bytree=0.6 \n",
            "[CV]  subsample=1.0, min_child_weight=1, max_depth=5, gamma=5, colsample_bytree=0.6, score=0.716, total=  43.8s\n",
            "[CV] subsample=1.0, min_child_weight=1, max_depth=5, gamma=5, colsample_bytree=0.6 \n",
            "[CV]  subsample=1.0, min_child_weight=1, max_depth=5, gamma=5, colsample_bytree=0.6, score=0.796, total=  44.3s\n",
            "[CV] subsample=1.0, min_child_weight=1, max_depth=5, gamma=5, colsample_bytree=0.6 \n",
            "[CV]  subsample=1.0, min_child_weight=1, max_depth=5, gamma=5, colsample_bytree=0.6, score=0.994, total=  45.7s\n",
            "[CV] subsample=0.8, min_child_weight=1, max_depth=3, gamma=2, colsample_bytree=0.8 \n",
            "[CV]  subsample=0.8, min_child_weight=1, max_depth=3, gamma=2, colsample_bytree=0.8, score=0.720, total=  36.6s\n",
            "[CV] subsample=0.8, min_child_weight=1, max_depth=3, gamma=2, colsample_bytree=0.8 \n",
            "[CV]  subsample=0.8, min_child_weight=1, max_depth=3, gamma=2, colsample_bytree=0.8, score=0.816, total=  36.5s\n",
            "[CV] subsample=0.8, min_child_weight=1, max_depth=3, gamma=2, colsample_bytree=0.8 \n",
            "[CV]  subsample=0.8, min_child_weight=1, max_depth=3, gamma=2, colsample_bytree=0.8, score=0.993, total=  36.8s\n",
            "[CV] subsample=0.8, min_child_weight=1, max_depth=5, gamma=0.5, colsample_bytree=0.6 \n",
            "[CV]  subsample=0.8, min_child_weight=1, max_depth=5, gamma=0.5, colsample_bytree=0.6, score=0.712, total=  44.5s\n",
            "[CV] subsample=0.8, min_child_weight=1, max_depth=5, gamma=0.5, colsample_bytree=0.6 \n",
            "[CV]  subsample=0.8, min_child_weight=1, max_depth=5, gamma=0.5, colsample_bytree=0.6, score=0.805, total=  45.2s\n",
            "[CV] subsample=0.8, min_child_weight=1, max_depth=5, gamma=0.5, colsample_bytree=0.6 \n",
            "[CV]  subsample=0.8, min_child_weight=1, max_depth=5, gamma=0.5, colsample_bytree=0.6, score=0.995, total=  45.8s\n",
            "[CV] subsample=0.8, min_child_weight=1, max_depth=4, gamma=1.5, colsample_bytree=0.6 \n",
            "[CV]  subsample=0.8, min_child_weight=1, max_depth=4, gamma=1.5, colsample_bytree=0.6, score=0.716, total=  36.5s\n",
            "[CV] subsample=0.8, min_child_weight=1, max_depth=4, gamma=1.5, colsample_bytree=0.6 \n",
            "[CV]  subsample=0.8, min_child_weight=1, max_depth=4, gamma=1.5, colsample_bytree=0.6, score=0.811, total=  37.0s\n",
            "[CV] subsample=0.8, min_child_weight=1, max_depth=4, gamma=1.5, colsample_bytree=0.6 \n",
            "[CV]  subsample=0.8, min_child_weight=1, max_depth=4, gamma=1.5, colsample_bytree=0.6, score=0.994, total=  37.3s\n"
          ],
          "name": "stdout"
        },
        {
          "output_type": "stream",
          "text": [
            "[Parallel(n_jobs=1)]: Done  30 out of  30 | elapsed: 22.8min finished\n"
          ],
          "name": "stderr"
        },
        {
          "output_type": "execute_result",
          "data": {
            "text/plain": [
              "RandomizedSearchCV(cv=3, error_score=nan,\n",
              "                   estimator=XGBClassifier(base_score=0.5, booster='gbtree',\n",
              "                                           colsample_bylevel=1,\n",
              "                                           colsample_bynode=1,\n",
              "                                           colsample_bytree=1, gamma=0,\n",
              "                                           learning_rate=0.01, max_delta_step=0,\n",
              "                                           max_depth=3, min_child_weight=1,\n",
              "                                           missing=None, n_estimators=600,\n",
              "                                           n_jobs=1, nthread=None,\n",
              "                                           objective='binary:logistic',\n",
              "                                           random_state=0, reg_alpha=0,\n",
              "                                           reg_lambda=1, s...ht=1,\n",
              "                                           seed=None, silent=None, subsample=1,\n",
              "                                           verbosity=1),\n",
              "                   iid='deprecated', n_iter=10, n_jobs=None,\n",
              "                   param_distributions={'colsample_bytree': [0.6, 0.8, 1.0],\n",
              "                                        'gamma': [0.5, 1, 1.5, 2, 5],\n",
              "                                        'max_depth': [3, 4, 5],\n",
              "                                        'min_child_weight': [1, 5, 10],\n",
              "                                        'subsample': [0.6, 0.8, 1.0]},\n",
              "                   pre_dispatch='2*n_jobs', random_state=1001, refit=True,\n",
              "                   return_train_score=False, scoring='roc_auc', verbose=3)"
            ]
          },
          "metadata": {
            "tags": []
          },
          "execution_count": 44
        }
      ]
    },
    {
      "cell_type": "code",
      "metadata": {
        "colab": {
          "base_uri": "https://localhost:8080/"
        },
        "id": "We30ckL_rn4F",
        "outputId": "9d4d38e7-1630-41cf-f65e-7379a3102641"
      },
      "source": [
        "random_search.best_params_"
      ],
      "execution_count": null,
      "outputs": [
        {
          "output_type": "execute_result",
          "data": {
            "text/plain": [
              "{'colsample_bytree': 0.8,\n",
              " 'gamma': 2,\n",
              " 'max_depth': 3,\n",
              " 'min_child_weight': 1,\n",
              " 'subsample': 0.8}"
            ]
          },
          "metadata": {
            "tags": []
          },
          "execution_count": 45
        }
      ]
    },
    {
      "cell_type": "code",
      "metadata": {
        "id": "_XejhYzSk6-1"
      },
      "source": [
        "xgb = XGBClassifier(learning_rate=0.01, n_estimators=600, min_child_weight=1, max_depth=3, gamma=2, colsample_bytree=0.8, subsample=0.8)"
      ],
      "execution_count": null,
      "outputs": []
    },
    {
      "cell_type": "code",
      "metadata": {
        "id": "EsY4lwVonYzb"
      },
      "source": [
        "# xgb = XGBClassifier(learning_rate=0.01, n_estimators=600, min_child_weight=1, max_depth=5, gamma=0.5, colsample_bytree=0.6, subsample=0.8)"
      ],
      "execution_count": null,
      "outputs": []
    },
    {
      "cell_type": "code",
      "metadata": {
        "colab": {
          "base_uri": "https://localhost:8080/"
        },
        "id": "YUM9KQ2JWJAD",
        "outputId": "1d22f4d5-898a-4c12-aa6a-a68d467f3a90"
      },
      "source": [
        "xgb.fit(Xtrain, y_train)"
      ],
      "execution_count": null,
      "outputs": [
        {
          "output_type": "execute_result",
          "data": {
            "text/plain": [
              "XGBClassifier(base_score=0.5, booster='gbtree', colsample_bylevel=1,\n",
              "              colsample_bynode=1, colsample_bytree=0.8, gamma=2,\n",
              "              learning_rate=0.01, max_delta_step=0, max_depth=3,\n",
              "              min_child_weight=1, missing=None, n_estimators=600, n_jobs=1,\n",
              "              nthread=None, objective='binary:logistic', random_state=0,\n",
              "              reg_alpha=0, reg_lambda=1, scale_pos_weight=1, seed=None,\n",
              "              silent=None, subsample=0.8, verbosity=1)"
            ]
          },
          "metadata": {
            "tags": []
          },
          "execution_count": 78
        }
      ]
    },
    {
      "cell_type": "code",
      "metadata": {
        "id": "ZCeNpZLv7v8G"
      },
      "source": [
        "feature_ectractor_test=VGG_model.predict(X_test)\n",
        "# features_test=feature_ectractor_test.reshape(feature_ectractor_test.shape[0], -1)\n",
        "features_test=np.where(feature_ectractor_test==0,  0.0001, feature_ectractor_test)\n",
        "features_test=np.log(features_test)\n",
        "Xtest=scaler.transform(features_test)"
      ],
      "execution_count": null,
      "outputs": []
    },
    {
      "cell_type": "code",
      "metadata": {
        "colab": {
          "base_uri": "https://localhost:8080/"
        },
        "id": "PTWRtleCziFz",
        "outputId": "06dbc04f-6159-4040-d3d5-9df1698262a6"
      },
      "source": [
        "Xtest.min(), Xtest.max()"
      ],
      "execution_count": null,
      "outputs": [
        {
          "output_type": "execute_result",
          "data": {
            "text/plain": [
              "(-15.397625, 21.083878)"
            ]
          },
          "metadata": {
            "tags": []
          },
          "execution_count": 80
        }
      ]
    },
    {
      "cell_type": "code",
      "metadata": {
        "cellView": "form",
        "id": "WdvGGXpODcWm"
      },
      "source": [
        "#@markdown model evaluation: testing set"
      ],
      "execution_count": null,
      "outputs": []
    },
    {
      "cell_type": "code",
      "metadata": {
        "id": "gJTdFYrx3FGw"
      },
      "source": [
        "y_pred=xgb.predict(Xtest)\n",
        "y_pred_train=xgb.predict(Xtrain)"
      ],
      "execution_count": null,
      "outputs": []
    },
    {
      "cell_type": "code",
      "metadata": {
        "colab": {
          "base_uri": "https://localhost:8080/"
        },
        "id": "R0kl6Vad3iPk",
        "outputId": "a1d0ef60-1727-45cc-b829-5b30c61a78e9"
      },
      "source": [
        "print({\"train accuracy\" : accuracy_score(y_train, y_pred_train)})\n",
        "print({'test accuracy': accuracy_score(y_test, y_pred)})\n"
      ],
      "execution_count": null,
      "outputs": [
        {
          "output_type": "stream",
          "text": [
            "{'train accuracy': 0.9819778188539742}\n",
            "{'test accuracy': 0.944954128440367}\n"
          ],
          "name": "stdout"
        }
      ]
    },
    {
      "cell_type": "code",
      "metadata": {
        "id": "aRKH4lSDH6tt"
      },
      "source": [
        "y_pred_proba=xgb.predict_proba(Xtest).T[1]"
      ],
      "execution_count": null,
      "outputs": []
    },
    {
      "cell_type": "code",
      "metadata": {
        "colab": {
          "base_uri": "https://localhost:8080/",
          "height": 295
        },
        "id": "PdoibqxdFLo7",
        "outputId": "60c9efba-0c9f-44eb-e4d5-18673dce57e9"
      },
      "source": [
        "fpr, tpr, threshold = roc_curve(y_test, y_pred_proba)\n",
        "roc_auc = auc(fpr, tpr)\n",
        "\n",
        "# method I: plt\n",
        "import matplotlib.pyplot as plt\n",
        "plt.title('Receiver Operating Characteristic')\n",
        "plt.plot(fpr, tpr, 'orange', label = 'AUC = %0.2f' % roc_auc)\n",
        "plt.legend(loc = 'lower right')\n",
        "plt.plot([0, 1], [0, 1],'r--')\n",
        "plt.xlim([0, 1])\n",
        "plt.ylim([0, 1])\n",
        "plt.ylabel('True Positive Rate')\n",
        "plt.xlabel('False Positive Rate')\n",
        "plt.show()"
      ],
      "execution_count": null,
      "outputs": [
        {
          "output_type": "display_data",
          "data": {
            "image/png": "[encoded data removed]",
            "text/plain": [
              "<Figure size 432x288 with 1 Axes>"
            ]
          },
          "metadata": {
            "tags": [],
            "needs_background": "light"
          }
        }
      ]
    },
    {
      "cell_type": "code",
      "metadata": {
        "id": "COx7eKH-FLtW"
      },
      "source": [
        "def optimal_treshold(y_test, y_pred_proba):\n",
        "  acc=0\n",
        "  treshold=0\n",
        "  for i in range(1, 100, 1):\n",
        "    y_pred=np.where(y_pred_proba > i/100, 1, 0)\n",
        "    score=accuracy_score(y_test, y_pred)\n",
        "    if score > acc:\n",
        "      acc=score\n",
        "      treshold=i/100\n",
        "      \n",
        "  return treshold, acc\n"
      ],
      "execution_count": null,
      "outputs": []
    },
    {
      "cell_type": "code",
      "metadata": {
        "id": "9cWKtSnqFLwt"
      },
      "source": [
        "treshold, acc = optimal_treshold(y_test, y_pred_proba)"
      ],
      "execution_count": null,
      "outputs": []
    },
    {
      "cell_type": "code",
      "metadata": {
        "colab": {
          "base_uri": "https://localhost:8080/"
        },
        "id": "UQumI8-tFL0u",
        "outputId": "9ab62933-2e29-480f-b47e-49bc31427eb0"
      },
      "source": [
        "y_pred_new=np.where(y_pred_proba > treshold, 1, 0)\n",
        "accuracy_score(y_test, y_pred_new)"
      ],
      "execution_count": null,
      "outputs": [
        {
          "output_type": "execute_result",
          "data": {
            "text/plain": [
              "0.9712538226299694"
            ]
          },
          "metadata": {
            "tags": []
          },
          "execution_count": 87
        }
      ]
    },
    {
      "cell_type": "code",
      "metadata": {
        "colab": {
          "base_uri": "https://localhost:8080/",
          "height": 311
        },
        "id": "BVTy4EZ-7wCV",
        "outputId": "798a5837-b9c7-4240-ae4d-8b67ba017459"
      },
      "source": [
        "from sklearn.metrics import confusion_matrix\n",
        "cm=confusion_matrix(y_test, y_pred)\n",
        "cm_class=['False', \"True\"]\n",
        "plot_conf_matrix(cm, cm_class, normalize=True)"
      ],
      "execution_count": null,
      "outputs": [
        {
          "output_type": "display_data",
          "data": {
            "image/png": "[encoded data removed]",
            "text/plain": [
              "<Figure size 432x288 with 2 Axes>"
            ]
          },
          "metadata": {
            "tags": [],
            "needs_background": "light"
          }
        }
      ]
    },
    {
      "cell_type": "code",
      "metadata": {
        "colab": {
          "base_uri": "https://localhost:8080/"
        },
        "id": "vj4Dy1gbFL5t",
        "outputId": "28d23c08-fd8a-4da9-8ac6-1ea8ed734ed1"
      },
      "source": [
        "evaluation_matrics(y_test, y_pred)"
      ],
      "execution_count": null,
      "outputs": [
        {
          "output_type": "stream",
          "text": [
            "{'accuracy for False class': 0.9989539748953975}\n",
            "{'accuracy for True class': 0.8689248895434463}\n",
            "{'accuracy ': 0.944954128440367}\n",
            "Precision: 0.998308\n",
            "Recall: 0.868925\n",
            "F1 score: 0.929134\n"
          ],
          "name": "stdout"
        }
      ]
    },
    {
      "cell_type": "code",
      "metadata": {
        "colab": {
          "base_uri": "https://localhost:8080/"
        },
        "id": "ICDGbukL0NQt",
        "outputId": "bde1d6be-d28b-43df-b90f-a01941e61389"
      },
      "source": [
        "print(classification_report(y_test, y_pred))"
      ],
      "execution_count": null,
      "outputs": [
        {
          "output_type": "stream",
          "text": [
            "              precision    recall  f1-score   support\n",
            "\n",
            "       False       0.91      1.00      0.95       956\n",
            "        True       1.00      0.87      0.93       679\n",
            "\n",
            "    accuracy                           0.94      1635\n",
            "   macro avg       0.96      0.93      0.94      1635\n",
            "weighted avg       0.95      0.94      0.94      1635\n",
            "\n"
          ],
          "name": "stdout"
        }
      ]
    },
    {
      "cell_type": "code",
      "metadata": {
        "cellView": "form",
        "id": "arKmRvyxDnyO"
      },
      "source": [
        "#@markdown cross validation"
      ],
      "execution_count": null,
      "outputs": []
    },
    {
      "cell_type": "code",
      "metadata": {
        "id": "-IlYLkQE0NUs"
      },
      "source": [
        "false_ids = shuffle(false_ids, random_state=0)\n",
        "part1_ids=false_ids[:6]\n",
        "part2_ids=false_ids[6:13]\n",
        "part3_ids=false_ids[13:]\n",
        "true_ids = shuffle(true_ids,random_state=0)\n",
        "part1_ids = part1_ids + true_ids[:4]\n",
        "part2_ids = part2_ids+true_ids[4:8]\n",
        "part3_ids=part3_ids + true_ids[8:]\n",
        "df1=df[df['flight_code'].isin(part1_ids)]\n",
        "df2=df[df['flight_code'].isin(part2_ids)]\n",
        "df3=df[df['flight_code'].isin(part3_ids)]"
      ],
      "execution_count": null,
      "outputs": []
    },
    {
      "cell_type": "code",
      "metadata": {
        "colab": {
          "base_uri": "https://localhost:8080/"
        },
        "id": "YvXQMNFRrugp",
        "outputId": "c00a078a-a946-44f1-cafa-e832b9c58202"
      },
      "source": [
        "df1.shape, df2.shape, df3.shape"
      ],
      "execution_count": null,
      "outputs": [
        {
          "output_type": "execute_result",
          "data": {
            "text/plain": [
              "((3331, 7), (3984, 7), (3122, 7))"
            ]
          },
          "metadata": {
            "tags": []
          },
          "execution_count": 111
        }
      ]
    },
    {
      "cell_type": "code",
      "metadata": {
        "colab": {
          "base_uri": "https://localhost:8080/"
        },
        "id": "fo_GEvNrs4p9",
        "outputId": "43018549-ba14-4e02-deb9-fddc7dfdff01"
      },
      "source": [
        "df1['class'].mean(), df2['class'].mean(), df3['class'].mean()"
      ],
      "execution_count": null,
      "outputs": [
        {
          "output_type": "execute_result",
          "data": {
            "text/plain": [
              "(0.41278895226658663, 0.35843373493975905, 0.35938500960922487)"
            ]
          },
          "metadata": {
            "tags": []
          },
          "execution_count": 112
        }
      ]
    },
    {
      "cell_type": "code",
      "metadata": {
        "id": "sXh8lUTDtPM9"
      },
      "source": [
        "k=3\n",
        "test_acc=[]\n",
        "recall=[]\n",
        "precision=[]\n",
        "fscore=[]\n",
        "for data in  [df1, df2, df3]:\n",
        "  test_data=data\n",
        "  train_data=df[~df['flight_code'].isin(list(test_data['flight_code']))]\n",
        "  X_train, y_train = input_creation(train_data)\n",
        "  X_test, y_test = input_creation(test_data)\n",
        "  train_features=VGG_model.predict(X_train)\n",
        "  features=np.where(train_features==0,  0.0001, train_features)\n",
        "  features=np.log(features)\n",
        "  scaler = StandardScaler()\n",
        "  scaler.fit(features)\n",
        "  Xtrain=scaler.transform(features)\n",
        "  test_features=VGG_model.predict(X_test)\n",
        "  features_test=np.where(test_features==0,  0.0001, test_features)\n",
        "  features_test=np.log(features_test)\n",
        "  Xtest=scaler.transform(features_test)\n",
        "  xgb = XGBClassifier(learning_rate=0.01, n_estimators=600, min_child_weight=1, max_depth=3, gamma=2, colsample_bytree=0.8, subsample=0.8)\n",
        "  xgb.fit(Xtrain, y_train)\n",
        "  y_pred=xgb.predict(Xtest)\n",
        "  test_acc.append(accuracy_score(y_test, y_pred))\n",
        "  recall.append(recall_score(y_test, y_pred))\n",
        "  precision.append(precision_score(y_test, y_pred))\n",
        "  fscore.append(f1_score(y_test, y_pred))\n",
        "  "
      ],
      "execution_count": null,
      "outputs": []
    },
    {
      "cell_type": "code",
      "metadata": {
        "cellView": "form",
        "id": "E6zKL_tRDugS"
      },
      "source": [
        "#@markdown average values of evaluation metrics"
      ],
      "execution_count": null,
      "outputs": []
    },
    {
      "cell_type": "code",
      "metadata": {
        "colab": {
          "base_uri": "https://localhost:8080/"
        },
        "id": "mQaUhyPsy29M",
        "outputId": "b52f8d84-a1a7-4df9-e32b-9815cfb313af"
      },
      "source": [
        "np.mean(test_acc)"
      ],
      "execution_count": null,
      "outputs": [
        {
          "output_type": "execute_result",
          "data": {
            "text/plain": [
              "0.8379997001898097"
            ]
          },
          "metadata": {
            "tags": []
          },
          "execution_count": 115
        }
      ]
    },
    {
      "cell_type": "code",
      "metadata": {
        "colab": {
          "base_uri": "https://localhost:8080/"
        },
        "id": "gPdIxNG4r-Au",
        "outputId": "a43a6dc2-05ca-42b8-da54-f2400a769b75"
      },
      "source": [
        "np.mean(recall)"
      ],
      "execution_count": null,
      "outputs": [
        {
          "output_type": "execute_result",
          "data": {
            "text/plain": [
              "0.8364396910279264"
            ]
          },
          "metadata": {
            "tags": []
          },
          "execution_count": 119
        }
      ]
    },
    {
      "cell_type": "code",
      "metadata": {
        "colab": {
          "base_uri": "https://localhost:8080/"
        },
        "id": "hh5u0b1tr-M4",
        "outputId": "9d61fee6-0662-401d-f10f-72a18dae600b"
      },
      "source": [
        "np.mean(precision)"
      ],
      "execution_count": null,
      "outputs": [
        {
          "output_type": "execute_result",
          "data": {
            "text/plain": [
              "0.8144466613157914"
            ]
          },
          "metadata": {
            "tags": []
          },
          "execution_count": 117
        }
      ]
    },
    {
      "cell_type": "code",
      "metadata": {
        "colab": {
          "base_uri": "https://localhost:8080/"
        },
        "id": "A06mivlPsP4z",
        "outputId": "2c2554b1-2753-449d-825d-d54f22a30a58"
      },
      "source": [
        "np.mean(fscore)"
      ],
      "execution_count": null,
      "outputs": [
        {
          "output_type": "execute_result",
          "data": {
            "text/plain": [
              "0.808602724759651"
            ]
          },
          "metadata": {
            "tags": []
          },
          "execution_count": 118
        }
      ]
    },
    {
      "cell_type": "code",
      "metadata": {
        "id": "PGSZfIwaLxfn"
      },
      "source": [
        ""
      ],
      "execution_count": null,
      "outputs": []
    }
  ]
}